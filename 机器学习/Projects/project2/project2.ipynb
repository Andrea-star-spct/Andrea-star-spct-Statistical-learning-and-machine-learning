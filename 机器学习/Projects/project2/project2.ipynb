{
 "cells": [
  {
   "cell_type": "markdown",
   "metadata": {},
   "source": [
    "### 导入工具包"
   ]
  },
  {
   "cell_type": "code",
   "execution_count": 1,
   "metadata": {},
   "outputs": [],
   "source": [
    "import os\n",
    "import pandas as pd\n",
    "import numpy as np\n",
    "import datetime\n",
    "import random\n",
    "from sklearn.metrics import classification_report\n",
    "import matplotlib.pyplot as plt\n",
    "from sklearn.feature_extraction.text import TfidfVectorizer as TFIDF\n",
    "from sklearn.model_selection import train_test_split\n",
    "from sklearn.naive_bayes import MultinomialNB,ComplementNB,BernoulliNB#多项式、补集和伯努利的贝叶斯\n",
    "from time import time\n",
    "import warnings\n",
    "warnings.filterwarnings(\"ignore\")"
   ]
  },
  {
   "cell_type": "markdown",
   "metadata": {},
   "source": [
    "### 导入下载的mini_newsgroups，但由于是文本，需要把它处理成.csv"
   ]
  },
  {
   "cell_type": "code",
   "execution_count": 3,
   "metadata": {},
   "outputs": [],
   "source": [
    "path = 'mini_newsgroups/'\n",
    "file_names = os.listdir(path)"
   ]
  },
  {
   "cell_type": "code",
   "execution_count": 4,
   "metadata": {},
   "outputs": [
    {
     "data": {
      "text/plain": [
       "20"
      ]
     },
     "execution_count": 4,
     "metadata": {},
     "output_type": "execute_result"
    }
   ],
   "source": [
    "len(file_names)"
   ]
  },
  {
   "cell_type": "code",
   "execution_count": 5,
   "metadata": {},
   "outputs": [
    {
     "data": {
      "text/plain": [
       "['alt.atheism',\n",
       " 'comp.graphics',\n",
       " 'comp.os.ms-windows.misc',\n",
       " 'comp.sys.ibm.pc.hardware',\n",
       " 'comp.sys.mac.hardware',\n",
       " 'comp.windows.x',\n",
       " 'misc.forsale',\n",
       " 'rec.autos',\n",
       " 'rec.motorcycles',\n",
       " 'rec.sport.baseball',\n",
       " 'rec.sport.hockey',\n",
       " 'sci.crypt',\n",
       " 'sci.electronics',\n",
       " 'sci.med',\n",
       " 'sci.space',\n",
       " 'soc.religion.christian',\n",
       " 'talk.politics.guns',\n",
       " 'talk.politics.mideast',\n",
       " 'talk.politics.misc',\n",
       " 'talk.religion.misc']"
      ]
     },
     "execution_count": 5,
     "metadata": {},
     "output_type": "execute_result"
    }
   ],
   "source": [
    "file_names"
   ]
  },
  {
   "cell_type": "code",
   "execution_count": 8,
   "metadata": {},
   "outputs": [],
   "source": [
    "target=[]\n",
    "data=[]\n",
    "for file_name in file_names:\n",
    "    path_ = 'mini_newsgroups/{}'.format(file_name)\n",
    "    file_names_ = os.listdir(path_)\n",
    "    for file in file_names_:\n",
    "        if file !='.ipynb_checkpoints':\n",
    "            path__='mini_newsgroups/{}/{}'.format(file_name,file)\n",
    "            text = open(path__, encoding=\"utf8\", errors='ignore')\n",
    "            text=text.read()\n",
    "#             print(text)\n",
    "            data.append(text)\n",
    "            target.append(file_name)"
   ]
  },
  {
   "cell_type": "code",
   "execution_count": 9,
   "metadata": {},
   "outputs": [],
   "source": [
    "df = pd.DataFrame({'data': data,'target': target}, columns=['data', 'target'])\n",
    "df.to_csv('./mini_newsgroups.csv')"
   ]
  },
  {
   "cell_type": "markdown",
   "metadata": {},
   "source": [
    "## 探索文本数据"
   ]
  },
  {
   "cell_type": "code",
   "execution_count": 2,
   "metadata": {},
   "outputs": [],
   "source": [
    "df=pd.read_csv('mini_newsgroups.csv')"
   ]
  },
  {
   "cell_type": "code",
   "execution_count": 3,
   "metadata": {},
   "outputs": [
    {
     "data": {
      "text/html": [
       "<div>\n",
       "<style scoped>\n",
       "    .dataframe tbody tr th:only-of-type {\n",
       "        vertical-align: middle;\n",
       "    }\n",
       "\n",
       "    .dataframe tbody tr th {\n",
       "        vertical-align: top;\n",
       "    }\n",
       "\n",
       "    .dataframe thead th {\n",
       "        text-align: right;\n",
       "    }\n",
       "</style>\n",
       "<table border=\"1\" class=\"dataframe\">\n",
       "  <thead>\n",
       "    <tr style=\"text-align: right;\">\n",
       "      <th></th>\n",
       "      <th>Unnamed: 0</th>\n",
       "      <th>data</th>\n",
       "      <th>target</th>\n",
       "    </tr>\n",
       "  </thead>\n",
       "  <tbody>\n",
       "    <tr>\n",
       "      <th>0</th>\n",
       "      <td>0</td>\n",
       "      <td>Xref: cantaloupe.srv.cs.cmu.edu alt.atheism:51...</td>\n",
       "      <td>alt.atheism</td>\n",
       "    </tr>\n",
       "    <tr>\n",
       "      <th>1</th>\n",
       "      <td>1</td>\n",
       "      <td>Path: cantaloupe.srv.cs.cmu.edu!crabapple.srv....</td>\n",
       "      <td>alt.atheism</td>\n",
       "    </tr>\n",
       "    <tr>\n",
       "      <th>2</th>\n",
       "      <td>2</td>\n",
       "      <td>Path: cantaloupe.srv.cs.cmu.edu!crabapple.srv....</td>\n",
       "      <td>alt.atheism</td>\n",
       "    </tr>\n",
       "    <tr>\n",
       "      <th>3</th>\n",
       "      <td>3</td>\n",
       "      <td>Path: cantaloupe.srv.cs.cmu.edu!crabapple.srv....</td>\n",
       "      <td>alt.atheism</td>\n",
       "    </tr>\n",
       "    <tr>\n",
       "      <th>4</th>\n",
       "      <td>4</td>\n",
       "      <td>Path: cantaloupe.srv.cs.cmu.edu!das-news.harva...</td>\n",
       "      <td>alt.atheism</td>\n",
       "    </tr>\n",
       "    <tr>\n",
       "      <th>...</th>\n",
       "      <td>...</td>\n",
       "      <td>...</td>\n",
       "      <td>...</td>\n",
       "    </tr>\n",
       "    <tr>\n",
       "      <th>1995</th>\n",
       "      <td>1995</td>\n",
       "      <td>Xref: cantaloupe.srv.cs.cmu.edu alt.atheism:54...</td>\n",
       "      <td>talk.religion.misc</td>\n",
       "    </tr>\n",
       "    <tr>\n",
       "      <th>1996</th>\n",
       "      <td>1996</td>\n",
       "      <td>Xref: cantaloupe.srv.cs.cmu.edu alt.atheism:54...</td>\n",
       "      <td>talk.religion.misc</td>\n",
       "    </tr>\n",
       "    <tr>\n",
       "      <th>1997</th>\n",
       "      <td>1997</td>\n",
       "      <td>Path: cantaloupe.srv.cs.cmu.edu!magnesium.club...</td>\n",
       "      <td>talk.religion.misc</td>\n",
       "    </tr>\n",
       "    <tr>\n",
       "      <th>1998</th>\n",
       "      <td>1998</td>\n",
       "      <td>Path: cantaloupe.srv.cs.cmu.edu!magnesium.club...</td>\n",
       "      <td>talk.religion.misc</td>\n",
       "    </tr>\n",
       "    <tr>\n",
       "      <th>1999</th>\n",
       "      <td>1999</td>\n",
       "      <td>Xref: cantaloupe.srv.cs.cmu.edu alt.atheism:54...</td>\n",
       "      <td>talk.religion.misc</td>\n",
       "    </tr>\n",
       "  </tbody>\n",
       "</table>\n",
       "<p>2000 rows × 3 columns</p>\n",
       "</div>"
      ],
      "text/plain": [
       "      Unnamed: 0                                               data  \\\n",
       "0              0  Xref: cantaloupe.srv.cs.cmu.edu alt.atheism:51...   \n",
       "1              1  Path: cantaloupe.srv.cs.cmu.edu!crabapple.srv....   \n",
       "2              2  Path: cantaloupe.srv.cs.cmu.edu!crabapple.srv....   \n",
       "3              3  Path: cantaloupe.srv.cs.cmu.edu!crabapple.srv....   \n",
       "4              4  Path: cantaloupe.srv.cs.cmu.edu!das-news.harva...   \n",
       "...          ...                                                ...   \n",
       "1995        1995  Xref: cantaloupe.srv.cs.cmu.edu alt.atheism:54...   \n",
       "1996        1996  Xref: cantaloupe.srv.cs.cmu.edu alt.atheism:54...   \n",
       "1997        1997  Path: cantaloupe.srv.cs.cmu.edu!magnesium.club...   \n",
       "1998        1998  Path: cantaloupe.srv.cs.cmu.edu!magnesium.club...   \n",
       "1999        1999  Xref: cantaloupe.srv.cs.cmu.edu alt.atheism:54...   \n",
       "\n",
       "                  target  \n",
       "0            alt.atheism  \n",
       "1            alt.atheism  \n",
       "2            alt.atheism  \n",
       "3            alt.atheism  \n",
       "4            alt.atheism  \n",
       "...                  ...  \n",
       "1995  talk.religion.misc  \n",
       "1996  talk.religion.misc  \n",
       "1997  talk.religion.misc  \n",
       "1998  talk.religion.misc  \n",
       "1999  talk.religion.misc  \n",
       "\n",
       "[2000 rows x 3 columns]"
      ]
     },
     "execution_count": 3,
     "metadata": {},
     "output_type": "execute_result"
    }
   ],
   "source": [
    "df"
   ]
  },
  {
   "cell_type": "code",
   "execution_count": 4,
   "metadata": {},
   "outputs": [
    {
     "data": {
      "text/plain": [
       "'Xref: cantaloupe.srv.cs.cmu.edu alt.atheism:51121 soc.motss:139944 rec.scouting:5318\\nNewsgroups: alt.atheism,soc.motss,rec.scouting\\nPath: cantaloupe.srv.cs.cmu.edu!crabapple.srv.cs.cmu.edu!fs7.ece.cmu.edu!europa.eng.gtefsd.com!howland.reston.ans.net!wupost!uunet!newsgate.watson.ibm.com!yktnews.watson.ibm.com!watson!Watson.Ibm.Com!strom\\nFrom: strom@Watson.Ibm.Com (Rob Strom)\\nSubject: Re: [soc.motss, et al.] \"Princeton axes matching funds for Boy Scouts\"\\nSender: @watson.ibm.com\\nMessage-ID: <1993Apr05.180116.43346@watson.ibm.com>\\nDate: Mon, 05 Apr 93 18:01:16 GMT\\nDistribution: usa\\nReferences: <C47EFs.3q47@austin.ibm.com> <1993Mar22.033150.17345@cbnewsl.cb.att.com> <N4HY.93Apr5120934@harder.ccr-p.ida.org>\\nOrganization: IBM Research\\nLines: 15\\n\\nIn article <N4HY.93Apr5120934@harder.ccr-p.ida.org>, n4hy@harder.ccr-p.ida.org (Bob McGwier) writes:\\n\\n|> [1] HOWEVER, I hate economic terrorism and political correctness\\n|> worse than I hate this policy.  \\n\\n\\n|> [2] A more effective approach is to stop donating\\n|> to ANY organizating that directly or indirectly supports gay rights issues\\n|> until they end the boycott on funding of scouts.  \\n\\nCan somebody reconcile the apparent contradiction between [1] and [2]?\\n\\n-- \\nRob Strom, strom@watson.ibm.com, (914) 784-7641\\nIBM Research, 30 Saw Mill River Road, P.O. Box 704, Yorktown Heights, NY  10598\\n'"
      ]
     },
     "execution_count": 4,
     "metadata": {},
     "output_type": "execute_result"
    }
   ],
   "source": [
    "df['data'][0]"
   ]
  },
  {
   "cell_type": "code",
   "execution_count": 5,
   "metadata": {},
   "outputs": [
    {
     "data": {
      "text/plain": [
       "array(['alt.atheism', 'comp.graphics', 'comp.os.ms-windows.misc',\n",
       "       'comp.sys.ibm.pc.hardware', 'comp.sys.mac.hardware',\n",
       "       'comp.windows.x', 'misc.forsale', 'rec.autos', 'rec.motorcycles',\n",
       "       'rec.sport.baseball', 'rec.sport.hockey', 'sci.crypt',\n",
       "       'sci.electronics', 'sci.med', 'sci.space',\n",
       "       'soc.religion.christian', 'talk.politics.guns',\n",
       "       'talk.politics.mideast', 'talk.politics.misc',\n",
       "       'talk.religion.misc'], dtype=object)"
      ]
     },
     "execution_count": 5,
     "metadata": {},
     "output_type": "execute_result"
    }
   ],
   "source": [
    "np.unique(df.target)"
   ]
  },
  {
   "cell_type": "code",
   "execution_count": 6,
   "metadata": {},
   "outputs": [
    {
     "name": "stdout",
     "output_type": "stream",
     "text": [
      "alt.atheism 0.05\n",
      "comp.graphics 0.05\n",
      "comp.os.ms-windows.misc 0.05\n",
      "comp.sys.ibm.pc.hardware 0.05\n",
      "comp.sys.mac.hardware 0.05\n",
      "comp.windows.x 0.05\n",
      "misc.forsale 0.05\n",
      "rec.autos 0.05\n",
      "rec.motorcycles 0.05\n",
      "rec.sport.baseball 0.05\n",
      "rec.sport.hockey 0.05\n",
      "sci.crypt 0.05\n",
      "sci.electronics 0.05\n",
      "sci.med 0.05\n",
      "sci.space 0.05\n",
      "soc.religion.christian 0.05\n",
      "talk.politics.guns 0.05\n",
      "talk.politics.mideast 0.05\n",
      "talk.politics.misc 0.05\n",
      "talk.religion.misc 0.05\n"
     ]
    }
   ],
   "source": [
    "for i in ['alt.atheism', 'comp.graphics', 'comp.os.ms-windows.misc',\n",
    "       'comp.sys.ibm.pc.hardware', 'comp.sys.mac.hardware',\n",
    "       'comp.windows.x', 'misc.forsale', 'rec.autos', 'rec.motorcycles',\n",
    "       'rec.sport.baseball', 'rec.sport.hockey', 'sci.crypt',\n",
    "       'sci.electronics', 'sci.med', 'sci.space',\n",
    "       'soc.religion.christian', 'talk.politics.guns',\n",
    "       'talk.politics.mideast', 'talk.politics.misc',\n",
    "       'talk.religion.misc']:\n",
    "    print(i,(df.target==i).sum()/len(df.target))"
   ]
  },
  {
   "cell_type": "markdown",
   "metadata": {},
   "source": [
    "#### 看样本均不均衡，看每个类占总共类别的百分之多少，可以看到总体是比较均衡"
   ]
  },
  {
   "cell_type": "code",
   "execution_count": 7,
   "metadata": {},
   "outputs": [],
   "source": [
    "x_train, x_test, y_train, y_test = train_test_split(df.data,df.target,test_size=0.25,random_state=3)"
   ]
  },
  {
   "cell_type": "markdown",
   "metadata": {},
   "source": [
    "## 文本特征提取\n",
    "\n",
    "#### 使用TF-IDF向量计数"
   ]
  },
  {
   "cell_type": "code",
   "execution_count": 8,
   "metadata": {},
   "outputs": [],
   "source": [
    "tfidf=TFIDF().fit(x_train)\n",
    "Xtrain_=tfidf.transform(x_train)\n",
    "Xtest_=tfidf.transform(x_test)"
   ]
  },
  {
   "cell_type": "markdown",
   "metadata": {},
   "source": [
    "### 使用三种不同分布的朴素贝叶斯模型先进行预测，分别是Multinomial，Complement，Bernuolli"
   ]
  },
  {
   "cell_type": "markdown",
   "metadata": {},
   "source": [
    "高斯朴素贝叶斯是不接受稀疏矩阵的，而这里恰恰就是稀疏矩阵，所以就不能用这个"
   ]
  },
  {
   "cell_type": "code",
   "execution_count": 9,
   "metadata": {},
   "outputs": [
    {
     "name": "stdout",
     "output_type": "stream",
     "text": [
      "Multinomial\n",
      "\tAccuracy:0.692\n",
      "                          precision    recall  f1-score   support\n",
      "\n",
      "             alt.atheism       0.79      0.66      0.72        29\n",
      "           comp.graphics       1.00      0.23      0.37        31\n",
      " comp.os.ms-windows.misc       0.83      0.66      0.73        29\n",
      "comp.sys.ibm.pc.hardware       0.64      0.56      0.60        25\n",
      "   comp.sys.mac.hardware       0.49      0.95      0.64        20\n",
      "          comp.windows.x       0.72      0.59      0.65        22\n",
      "            misc.forsale       0.80      0.70      0.74        23\n",
      "               rec.autos       0.90      0.75      0.82        24\n",
      "         rec.motorcycles       1.00      0.42      0.59        31\n",
      "      rec.sport.baseball       0.82      0.78      0.80        23\n",
      "        rec.sport.hockey       0.85      0.96      0.90        23\n",
      "               sci.crypt       0.86      0.96      0.91        26\n",
      "         sci.electronics       0.71      0.55      0.62        22\n",
      "                 sci.med       0.71      0.89      0.79        19\n",
      "               sci.space       0.88      0.88      0.88        24\n",
      "  soc.religion.christian       0.40      1.00      0.57        24\n",
      "      talk.politics.guns       0.47      0.96      0.63        23\n",
      "   talk.politics.mideast       0.96      0.80      0.87        30\n",
      "      talk.politics.misc       0.71      0.36      0.48        28\n",
      "      talk.religion.misc       0.50      0.54      0.52        24\n",
      "\n",
      "                accuracy                           0.69       500\n",
      "               macro avg       0.75      0.71      0.69       500\n",
      "            weighted avg       0.76      0.69      0.69       500\n",
      "\n",
      "00:00:071227\n",
      "Complement\n",
      "\tAccuracy:0.808\n",
      "                          precision    recall  f1-score   support\n",
      "\n",
      "             alt.atheism       0.74      0.79      0.77        29\n",
      "           comp.graphics       0.85      0.71      0.77        31\n",
      " comp.os.ms-windows.misc       0.78      0.86      0.82        29\n",
      "comp.sys.ibm.pc.hardware       0.77      0.68      0.72        25\n",
      "   comp.sys.mac.hardware       0.84      0.80      0.82        20\n",
      "          comp.windows.x       0.94      0.68      0.79        22\n",
      "            misc.forsale       0.90      0.83      0.86        23\n",
      "               rec.autos       1.00      0.92      0.96        24\n",
      "         rec.motorcycles       0.87      0.87      0.87        31\n",
      "      rec.sport.baseball       0.79      0.83      0.81        23\n",
      "        rec.sport.hockey       0.77      1.00      0.87        23\n",
      "               sci.crypt       0.87      1.00      0.93        26\n",
      "         sci.electronics       0.88      0.68      0.77        22\n",
      "                 sci.med       0.86      0.95      0.90        19\n",
      "               sci.space       0.92      0.92      0.92        24\n",
      "  soc.religion.christian       0.80      1.00      0.89        24\n",
      "      talk.politics.guns       0.70      0.91      0.79        23\n",
      "   talk.politics.mideast       0.93      0.93      0.93        30\n",
      "      talk.politics.misc       0.65      0.39      0.49        28\n",
      "      talk.religion.misc       0.41      0.46      0.43        24\n",
      "\n",
      "                accuracy                           0.81       500\n",
      "               macro avg       0.81      0.81      0.81       500\n",
      "            weighted avg       0.81      0.81      0.80       500\n",
      "\n",
      "00:00:042216\n",
      "Bernuolli\n",
      "\tAccuracy:0.476\n",
      "                          precision    recall  f1-score   support\n",
      "\n",
      "             alt.atheism       0.87      0.45      0.59        29\n",
      "           comp.graphics       0.50      0.03      0.06        31\n",
      " comp.os.ms-windows.misc       0.00      0.00      0.00        29\n",
      "comp.sys.ibm.pc.hardware       1.00      0.12      0.21        25\n",
      "   comp.sys.mac.hardware       0.14      1.00      0.25        20\n",
      "          comp.windows.x       0.35      0.73      0.47        22\n",
      "            misc.forsale       0.26      0.91      0.41        23\n",
      "               rec.autos       0.67      0.67      0.67        24\n",
      "         rec.motorcycles       1.00      0.06      0.12        31\n",
      "      rec.sport.baseball       0.74      0.87      0.80        23\n",
      "        rec.sport.hockey       0.88      0.91      0.89        23\n",
      "               sci.crypt       0.92      0.42      0.58        26\n",
      "         sci.electronics       1.00      0.50      0.67        22\n",
      "                 sci.med       0.92      0.58      0.71        19\n",
      "               sci.space       1.00      0.38      0.55        24\n",
      "  soc.religion.christian       0.94      0.71      0.81        24\n",
      "      talk.politics.guns       0.60      0.78      0.68        23\n",
      "   talk.politics.mideast       1.00      0.27      0.42        30\n",
      "      talk.politics.misc       0.75      0.11      0.19        28\n",
      "      talk.religion.misc       0.52      0.71      0.60        24\n",
      "\n",
      "                accuracy                           0.48       500\n",
      "               macro avg       0.70      0.51      0.48       500\n",
      "            weighted avg       0.71      0.48      0.46       500\n",
      "\n",
      "00:00:101940\n"
     ]
    }
   ],
   "source": [
    "name=['Multinomial','Complement','Bernuolli']\n",
    "models=[MultinomialNB(),ComplementNB(),BernoulliNB()]\n",
    "for name,mod in zip(name,models):#zip整合函数\n",
    "    times=time()\n",
    "    mod.fit(Xtrain_,y_train)\n",
    "    y_pred=mod.predict(Xtest_)\n",
    "    score=mod.score(Xtest_,y_test)\n",
    "    \n",
    "    print(name)\n",
    "    print(\"\\tAccuracy:{:.3f}\".format(score))\n",
    "    print(classification_report(y_test, y_pred, target_names=np.unique(df.target)))\n",
    "    print(datetime.datetime.fromtimestamp(time()-times).strftime(\"%M:%S:%f\"))"
   ]
  },
  {
   "cell_type": "markdown",
   "metadata": {},
   "source": [
    "在还没有选择超参数的值的情况下，Complement不仅Accuracy最高而且用时最短，表现最好"
   ]
  },
  {
   "cell_type": "markdown",
   "metadata": {},
   "source": [
    "### 分别在这三种模型下通过交叉验证，选择最优超参数"
   ]
  },
  {
   "cell_type": "code",
   "execution_count": 10,
   "metadata": {},
   "outputs": [
    {
     "name": "stdout",
     "output_type": "stream",
     "text": [
      "alpha: 1e-05\n",
      "-------------fold0.0------------\n",
      "1 val_accuracy1: 0.7125\n",
      "1 val_accuracy2: 0.7025\n",
      "1 val_accuracy3: 0.8025\n",
      "-------------fold1.0------------\n",
      "2 val_accuracy1: 0.7325\n",
      "2 val_accuracy2: 0.7025\n",
      "2 val_accuracy3: 0.825\n",
      "-------------fold2.0------------\n",
      "3 val_accuracy1: 0.72\n",
      "3 val_accuracy2: 0.6725\n",
      "3 val_accuracy3: 0.7925\n",
      "-------------fold3.0------------\n",
      "4 val_accuracy1: 0.7475\n",
      "4 val_accuracy2: 0.73\n",
      "4 val_accuracy3: 0.805\n",
      "-------------fold4.0------------\n",
      "5 val_accuracy1: 0.715\n",
      "5 val_accuracy2: 0.655\n",
      "5 val_accuracy3: 0.81\n",
      "alpha: 1e-05 accuracy1: 0.7255\n",
      "alpha: 1e-05 accuracy2: 0.6925000000000001\n",
      "alpha: 1e-05 accuracy3: 0.807\n",
      "\n",
      "\n",
      "alpha: 0.0001\n",
      "-------------fold0.0------------\n",
      "1 val_accuracy1: 0.755\n",
      "1 val_accuracy2: 0.6925\n",
      "1 val_accuracy3: 0.825\n",
      "-------------fold1.0------------\n",
      "2 val_accuracy1: 0.74\n",
      "2 val_accuracy2: 0.695\n",
      "2 val_accuracy3: 0.8025\n",
      "-------------fold2.0------------\n",
      "3 val_accuracy1: 0.7125\n",
      "3 val_accuracy2: 0.7275\n",
      "3 val_accuracy3: 0.825\n",
      "-------------fold3.0------------\n",
      "4 val_accuracy1: 0.7675\n",
      "4 val_accuracy2: 0.7225\n",
      "4 val_accuracy3: 0.82\n",
      "-------------fold4.0------------\n",
      "5 val_accuracy1: 0.7225\n",
      "5 val_accuracy2: 0.6875\n",
      "5 val_accuracy3: 0.82\n",
      "alpha: 0.0001 accuracy1: 0.7395\n",
      "alpha: 0.0001 accuracy2: 0.7050000000000001\n",
      "alpha: 0.0001 accuracy3: 0.8184999999999999\n",
      "\n",
      "\n",
      "alpha: 0.0005\n",
      "-------------fold0.0------------\n",
      "1 val_accuracy1: 0.77\n",
      "1 val_accuracy2: 0.7475\n",
      "1 val_accuracy3: 0.8125\n",
      "-------------fold1.0------------\n",
      "2 val_accuracy1: 0.735\n",
      "2 val_accuracy2: 0.7\n",
      "2 val_accuracy3: 0.805\n",
      "-------------fold2.0------------\n",
      "3 val_accuracy1: 0.7775\n",
      "3 val_accuracy2: 0.755\n",
      "3 val_accuracy3: 0.84\n",
      "-------------fold3.0------------\n",
      "4 val_accuracy1: 0.75\n",
      "4 val_accuracy2: 0.73\n",
      "4 val_accuracy3: 0.84\n",
      "-------------fold4.0------------\n",
      "5 val_accuracy1: 0.7725\n",
      "5 val_accuracy2: 0.7475\n",
      "5 val_accuracy3: 0.83\n",
      "alpha: 0.0005 accuracy1: 0.7609999999999999\n",
      "alpha: 0.0005 accuracy2: 0.736\n",
      "alpha: 0.0005 accuracy3: 0.8254999999999999\n",
      "\n",
      "\n",
      "alpha: 0.001\n",
      "-------------fold0.0------------\n",
      "1 val_accuracy1: 0.7525\n",
      "1 val_accuracy2: 0.7375\n",
      "1 val_accuracy3: 0.8275\n",
      "-------------fold1.0------------\n",
      "2 val_accuracy1: 0.7525\n",
      "2 val_accuracy2: 0.745\n",
      "2 val_accuracy3: 0.82\n",
      "-------------fold2.0------------\n",
      "3 val_accuracy1: 0.75\n",
      "3 val_accuracy2: 0.735\n",
      "3 val_accuracy3: 0.805\n",
      "-------------fold3.0------------\n",
      "4 val_accuracy1: 0.7675\n",
      "4 val_accuracy2: 0.74\n",
      "4 val_accuracy3: 0.815\n",
      "-------------fold4.0------------\n",
      "5 val_accuracy1: 0.785\n",
      "5 val_accuracy2: 0.74\n",
      "5 val_accuracy3: 0.8\n",
      "alpha: 0.001 accuracy1: 0.7615000000000001\n",
      "alpha: 0.001 accuracy2: 0.7394999999999999\n",
      "alpha: 0.001 accuracy3: 0.8135\n",
      "\n",
      "\n",
      "alpha: 0.005\n",
      "-------------fold0.0------------\n",
      "1 val_accuracy1: 0.77\n",
      "1 val_accuracy2: 0.78\n",
      "1 val_accuracy3: 0.825\n",
      "-------------fold1.0------------\n",
      "2 val_accuracy1: 0.78\n",
      "2 val_accuracy2: 0.7525\n",
      "2 val_accuracy3: 0.8575\n",
      "-------------fold2.0------------\n",
      "3 val_accuracy1: 0.75\n",
      "3 val_accuracy2: 0.73\n",
      "3 val_accuracy3: 0.81\n",
      "-------------fold3.0------------\n",
      "4 val_accuracy1: 0.7675\n",
      "4 val_accuracy2: 0.7725\n",
      "4 val_accuracy3: 0.805\n",
      "-------------fold4.0------------\n",
      "5 val_accuracy1: 0.77\n",
      "5 val_accuracy2: 0.76\n",
      "5 val_accuracy3: 0.8125\n",
      "alpha: 0.005 accuracy1: 0.7675\n",
      "alpha: 0.005 accuracy2: 0.759\n",
      "alpha: 0.005 accuracy3: 0.8220000000000001\n",
      "\n",
      "\n",
      "alpha: 0.01\n",
      "-------------fold0.0------------\n",
      "1 val_accuracy1: 0.74\n",
      "1 val_accuracy2: 0.7475\n",
      "1 val_accuracy3: 0.8075\n",
      "-------------fold1.0------------\n",
      "2 val_accuracy1: 0.7925\n",
      "2 val_accuracy2: 0.7825\n",
      "2 val_accuracy3: 0.835\n",
      "-------------fold2.0------------\n",
      "3 val_accuracy1: 0.76\n",
      "3 val_accuracy2: 0.7475\n",
      "3 val_accuracy3: 0.815\n",
      "-------------fold3.0------------\n",
      "4 val_accuracy1: 0.775\n",
      "4 val_accuracy2: 0.78\n",
      "4 val_accuracy3: 0.83\n",
      "-------------fold4.0------------\n",
      "5 val_accuracy1: 0.7675\n",
      "5 val_accuracy2: 0.78\n",
      "5 val_accuracy3: 0.83\n",
      "alpha: 0.01 accuracy1: 0.767\n",
      "alpha: 0.01 accuracy2: 0.7675000000000001\n",
      "alpha: 0.01 accuracy3: 0.8234999999999999\n",
      "\n",
      "\n",
      "alpha: 0.05\n",
      "-------------fold0.0------------\n",
      "1 val_accuracy1: 0.7775\n",
      "1 val_accuracy2: 0.81\n",
      "1 val_accuracy3: 0.7975\n",
      "-------------fold1.0------------\n",
      "2 val_accuracy1: 0.7875\n",
      "2 val_accuracy2: 0.8025\n",
      "2 val_accuracy3: 0.8225\n",
      "-------------fold2.0------------\n",
      "3 val_accuracy1: 0.755\n",
      "3 val_accuracy2: 0.8\n",
      "3 val_accuracy3: 0.7725\n",
      "-------------fold3.0------------\n",
      "4 val_accuracy1: 0.7675\n",
      "4 val_accuracy2: 0.8\n",
      "4 val_accuracy3: 0.78\n",
      "-------------fold4.0------------\n",
      "5 val_accuracy1: 0.8075\n",
      "5 val_accuracy2: 0.805\n",
      "5 val_accuracy3: 0.8225\n",
      "alpha: 0.05 accuracy1: 0.779\n",
      "alpha: 0.05 accuracy2: 0.8035\n",
      "alpha: 0.05 accuracy3: 0.799\n",
      "\n",
      "\n",
      "alpha: 0.1\n",
      "-------------fold0.0------------\n",
      "1 val_accuracy1: 0.805\n",
      "1 val_accuracy2: 0.845\n",
      "1 val_accuracy3: 0.785\n",
      "-------------fold1.0------------\n",
      "2 val_accuracy1: 0.775\n",
      "2 val_accuracy2: 0.8125\n",
      "2 val_accuracy3: 0.7875\n",
      "-------------fold2.0------------\n",
      "3 val_accuracy1: 0.745\n",
      "3 val_accuracy2: 0.7875\n",
      "3 val_accuracy3: 0.8\n",
      "-------------fold3.0------------\n",
      "4 val_accuracy1: 0.7775\n",
      "4 val_accuracy2: 0.82\n",
      "4 val_accuracy3: 0.79\n",
      "-------------fold4.0------------\n",
      "5 val_accuracy1: 0.7575\n",
      "5 val_accuracy2: 0.8125\n",
      "5 val_accuracy3: 0.77\n",
      "alpha: 0.1 accuracy1: 0.772\n",
      "alpha: 0.1 accuracy2: 0.8154999999999999\n",
      "alpha: 0.1 accuracy3: 0.7865\n",
      "\n",
      "\n",
      "alpha: 0.2\n",
      "-------------fold0.0------------\n",
      "1 val_accuracy1: 0.7525\n",
      "1 val_accuracy2: 0.7925\n",
      "1 val_accuracy3: 0.7225\n",
      "-------------fold1.0------------\n",
      "2 val_accuracy1: 0.7925\n",
      "2 val_accuracy2: 0.8375\n",
      "2 val_accuracy3: 0.7625\n",
      "-------------fold2.0------------\n",
      "3 val_accuracy1: 0.76\n",
      "3 val_accuracy2: 0.835\n",
      "3 val_accuracy3: 0.725\n",
      "-------------fold3.0------------\n",
      "4 val_accuracy1: 0.7825\n",
      "4 val_accuracy2: 0.81\n",
      "4 val_accuracy3: 0.76\n",
      "-------------fold4.0------------\n",
      "5 val_accuracy1: 0.7275\n",
      "5 val_accuracy2: 0.7775\n",
      "5 val_accuracy3: 0.7675\n",
      "alpha: 0.2 accuracy1: 0.7629999999999999\n",
      "alpha: 0.2 accuracy2: 0.8105\n",
      "alpha: 0.2 accuracy3: 0.7474999999999999\n",
      "\n",
      "\n",
      "alpha: 0.5\n",
      "-------------fold0.0------------\n",
      "1 val_accuracy1: 0.7275\n",
      "1 val_accuracy2: 0.825\n",
      "1 val_accuracy3: 0.6125\n",
      "-------------fold1.0------------\n",
      "2 val_accuracy1: 0.7225\n",
      "2 val_accuracy2: 0.82\n",
      "2 val_accuracy3: 0.7175\n",
      "-------------fold2.0------------\n",
      "3 val_accuracy1: 0.7475\n",
      "3 val_accuracy2: 0.8525\n",
      "3 val_accuracy3: 0.6\n",
      "-------------fold3.0------------\n",
      "4 val_accuracy1: 0.76\n",
      "4 val_accuracy2: 0.8125\n",
      "4 val_accuracy3: 0.7425\n",
      "-------------fold4.0------------\n",
      "5 val_accuracy1: 0.6925\n",
      "5 val_accuracy2: 0.78\n",
      "5 val_accuracy3: 0.6475\n",
      "alpha: 0.5 accuracy1: 0.7300000000000001\n",
      "alpha: 0.5 accuracy2: 0.818\n",
      "alpha: 0.5 accuracy3: 0.664\n",
      "\n",
      "\n",
      "alpha: 0.7\n",
      "-------------fold0.0------------\n",
      "1 val_accuracy1: 0.755\n",
      "1 val_accuracy2: 0.8375\n",
      "1 val_accuracy3: 0.62\n",
      "-------------fold1.0------------\n",
      "2 val_accuracy1: 0.725\n",
      "2 val_accuracy2: 0.83\n",
      "2 val_accuracy3: 0.5325\n",
      "-------------fold2.0------------\n",
      "3 val_accuracy1: 0.7625\n",
      "3 val_accuracy2: 0.845\n",
      "3 val_accuracy3: 0.6275\n",
      "-------------fold3.0------------\n",
      "4 val_accuracy1: 0.77\n",
      "4 val_accuracy2: 0.8575\n",
      "4 val_accuracy3: 0.5475\n",
      "-------------fold4.0------------\n",
      "5 val_accuracy1: 0.75\n",
      "5 val_accuracy2: 0.8275\n",
      "5 val_accuracy3: 0.555\n",
      "alpha: 0.7 accuracy1: 0.7525\n",
      "alpha: 0.7 accuracy2: 0.8394999999999999\n",
      "alpha: 0.7 accuracy3: 0.5765\n",
      "\n",
      "\n",
      "alpha: 0.9\n",
      "-------------fold0.0------------\n",
      "1 val_accuracy1: 0.745\n",
      "1 val_accuracy2: 0.815\n",
      "1 val_accuracy3: 0.5175\n",
      "-------------fold1.0------------\n",
      "2 val_accuracy1: 0.705\n",
      "2 val_accuracy2: 0.8225\n",
      "2 val_accuracy3: 0.5175\n",
      "-------------fold2.0------------\n",
      "3 val_accuracy1: 0.765\n",
      "3 val_accuracy2: 0.8275\n",
      "3 val_accuracy3: 0.4725\n",
      "-------------fold3.0------------\n",
      "4 val_accuracy1: 0.6625\n",
      "4 val_accuracy2: 0.8525\n",
      "4 val_accuracy3: 0.4575\n",
      "-------------fold4.0------------\n",
      "5 val_accuracy1: 0.695\n",
      "5 val_accuracy2: 0.81\n",
      "5 val_accuracy3: 0.43\n",
      "alpha: 0.9 accuracy1: 0.7144999999999999\n",
      "alpha: 0.9 accuracy2: 0.8254999999999999\n",
      "alpha: 0.9 accuracy3: 0.479\n",
      "\n",
      "\n",
      "alpha: 1\n",
      "-------------fold0.0------------\n",
      "1 val_accuracy1: 0.69\n",
      "1 val_accuracy2: 0.8025\n",
      "1 val_accuracy3: 0.4975\n",
      "-------------fold1.0------------\n",
      "2 val_accuracy1: 0.7375\n",
      "2 val_accuracy2: 0.8375\n",
      "2 val_accuracy3: 0.48\n",
      "-------------fold2.0------------\n",
      "3 val_accuracy1: 0.695\n",
      "3 val_accuracy2: 0.8725\n",
      "3 val_accuracy3: 0.55\n",
      "-------------fold3.0------------\n",
      "4 val_accuracy1: 0.6775\n",
      "4 val_accuracy2: 0.8325\n",
      "4 val_accuracy3: 0.5125\n",
      "-------------fold4.0------------\n",
      "5 val_accuracy1: 0.725\n",
      "5 val_accuracy2: 0.8275\n",
      "5 val_accuracy3: 0.545\n",
      "alpha: 1 accuracy1: 0.705\n",
      "alpha: 1 accuracy2: 0.8345\n",
      "alpha: 1 accuracy3: 0.517\n",
      "\n",
      "\n"
     ]
    }
   ],
   "source": [
    "# 交叉验证\n",
    "cv1= []\n",
    "cv2= []\n",
    "cv3= []\n",
    "mean1=[] \n",
    "mean2=[]\n",
    "mean3=[]\n",
    "search_list = [0.00001,0.0001,0.0005,0.001,0.005,0.01,0.05,0.1,0.2,0.5,0.7,0.9,1] \n",
    "for i in search_list:\n",
    "    accuracy1 = []\n",
    "    accuracy2 = []\n",
    "    accuracy3 = []\n",
    "    print(\"alpha:\",i)\n",
    "    for j in range(5):\n",
    "        print(\"-------------fold{:.1f}------------\".format(j))\n",
    "        x_train, x_test, y_train, y_test = train_test_split(df.data,df.target,test_size=0.2,random_state=random.randrange(0,1000))\n",
    "        \n",
    "        tfidf=TFIDF().fit(x_train)\n",
    "        Xtrain_=tfidf.transform(x_train)\n",
    "        Xtest_=tfidf.transform(x_test)\n",
    "\n",
    "        model1 = MultinomialNB(alpha=i)\n",
    "        model1.fit(Xtrain_, y_train)\n",
    "        val_accuracy1= model1.score(Xtest_, y_test)\n",
    "        \n",
    "        model2 = ComplementNB(alpha=i)\n",
    "        model2.fit(Xtrain_, y_train)\n",
    "        val_accuracy2= model2.score(Xtest_, y_test)\n",
    "        \n",
    "        model3 = BernoulliNB(alpha=i)\n",
    "        model3.fit(Xtrain_, y_train)\n",
    "        val_accuracy3= model3.score(Xtest_, y_test)\n",
    "        \n",
    "        print(j+1,\"val_accuracy1:\", val_accuracy1)\n",
    "        print(j+1,\"val_accuracy2:\", val_accuracy2)\n",
    "        print(j+1,\"val_accuracy3:\", val_accuracy3)\n",
    "        accuracy1.append(val_accuracy1)\n",
    "        accuracy2.append(val_accuracy2)\n",
    "        accuracy3.append(val_accuracy3)\n",
    "    acc_sum=0\n",
    "    for t in range(len(accuracy1)):\n",
    "        acc_sum=acc_sum+accuracy1[t]\n",
    "    print(\"alpha:\",i,\"accuracy1:\",acc_sum/5)\n",
    "    acc_sum=0\n",
    "    for t in range(len(accuracy2)):\n",
    "        acc_sum=acc_sum+accuracy2[t]\n",
    "    print(\"alpha:\",i,\"accuracy2:\",acc_sum/5)\n",
    "    acc_sum=0\n",
    "    for t in range(len(accuracy3)):\n",
    "        acc_sum=acc_sum+accuracy3[t]\n",
    "    print(\"alpha:\",i,\"accuracy3:\",acc_sum/5)\n",
    "    print(\"\\n\")\n",
    "    cv1.append(accuracy1)\n",
    "    cv2.append(accuracy2)\n",
    "    cv3.append(accuracy3)\n",
    "for i in cv1:\n",
    "    mean1.append(np.mean(i))\n",
    "for i in cv2:\n",
    "    mean2.append(np.mean(i))\n",
    "for i in cv3:\n",
    "    mean3.append(np.mean(i))"
   ]
  },
  {
   "cell_type": "markdown",
   "metadata": {},
   "source": [
    "### 绘图"
   ]
  },
  {
   "cell_type": "code",
   "execution_count": 11,
   "metadata": {},
   "outputs": [
    {
     "data": {
      "image/png": "[encoded data removed]",
      "text/plain": [
       "<Figure size 432x288 with 1 Axes>"
      ]
     },
     "metadata": {
      "needs_background": "light"
     },
     "output_type": "display_data"
    }
   ],
   "source": [
    "import seaborn as sns\n",
    "df_plot = pd.DataFrame()\n",
    "df_plot['alpha'] = search_list\n",
    "df_plot['Multinomial Classification Accuracy'] = mean1\n",
    "df_plot['Complement Classification Accuracy'] = mean2\n",
    "df_plot['Bernuolli Classification Accuracy'] = mean3\n",
    "df_plot = pd.DataFrame(df_plot).set_index('alpha')\n",
    "sns.lineplot(data=df_plot)\n",
    "plt.title(\"comparison of classification accuracy\")\n",
    "plt.show()"
   ]
  },
  {
   "cell_type": "markdown",
   "metadata": {},
   "source": [
    "由此可以看到，Multinomial和Bernuolli的classification accuracy均是先升高再下降，但是这两种方法的最大值要小于complement的最大值，complement的classification accuracy是明显要高于Multinomial和Bernuolli，所以接下来用complement最好的模型参数来看看最后的结果"
   ]
  },
  {
   "cell_type": "markdown",
   "metadata": {},
   "source": [
    "### 首先绘制随着alpha的变化，交叉验证误差图，选取平均准确率最高且方差较小的alpha作为最后模型的参数"
   ]
  },
  {
   "cell_type": "code",
   "execution_count": 14,
   "metadata": {},
   "outputs": [
    {
     "data": {
      "image/png": "[encoded data removed]",
      "text/plain": [
       "<Figure size 432x288 with 1 Axes>"
      ]
     },
     "metadata": {
      "needs_background": "light"
     },
     "output_type": "display_data"
    }
   ],
   "source": [
    "dict_=dict(zip(search_list,cv2))\n",
    "accu_mean=[]\n",
    "accu_std=[]\n",
    "for i,j in dict_.items():\n",
    "    accu_mean.append(np.mean(j))\n",
    "    accu_std.append(np.std(j))\n",
    "for i in search_list:\n",
    "    accus = dict_[i]\n",
    "    plt.scatter([i] * len(accus), accus)\n",
    "plt.errorbar(search_list, accu_mean, accu_std,ecolor='green')\n",
    "plt.title('5-Fold Cross validation')\n",
    "plt.xlabel('alpha')\n",
    "plt.ylabel('Cross validation accuracy')\n",
    "plt.show()"
   ]
  },
  {
   "cell_type": "markdown",
   "metadata": {},
   "source": [
    "### 最后达到的效果："
   ]
  },
  {
   "cell_type": "code",
   "execution_count": 15,
   "metadata": {},
   "outputs": [
    {
     "data": {
      "text/plain": [
       "0.7"
      ]
     },
     "execution_count": 15,
     "metadata": {},
     "output_type": "execute_result"
    }
   ],
   "source": [
    "alpha_best=search_list[np.argmax(mean2)]\n",
    "alpha_best"
   ]
  },
  {
   "cell_type": "code",
   "execution_count": 16,
   "metadata": {},
   "outputs": [
    {
     "name": "stdout",
     "output_type": "stream",
     "text": [
      "                          precision    recall  f1-score   support\n",
      "\n",
      "             alt.atheism       0.85      0.65      0.73        17\n",
      "           comp.graphics       0.85      0.77      0.81        22\n",
      " comp.os.ms-windows.misc       0.78      0.91      0.84        23\n",
      "comp.sys.ibm.pc.hardware       0.88      0.75      0.81        20\n",
      "   comp.sys.mac.hardware       0.81      0.94      0.87        18\n",
      "          comp.windows.x       0.93      0.65      0.76        20\n",
      "            misc.forsale       0.82      0.90      0.86        20\n",
      "               rec.autos       0.96      0.92      0.94        24\n",
      "         rec.motorcycles       0.94      1.00      0.97        15\n",
      "      rec.sport.baseball       1.00      0.82      0.90        17\n",
      "        rec.sport.hockey       0.89      0.96      0.93        26\n",
      "               sci.crypt       0.91      1.00      0.95        20\n",
      "         sci.electronics       0.93      0.87      0.90        15\n",
      "                 sci.med       0.90      1.00      0.95        19\n",
      "               sci.space       0.82      0.82      0.82        17\n",
      "  soc.religion.christian       0.74      0.94      0.83        18\n",
      "      talk.politics.guns       0.61      0.89      0.72        19\n",
      "   talk.politics.mideast       0.92      1.00      0.96        22\n",
      "      talk.politics.misc       0.75      0.46      0.57        26\n",
      "      talk.religion.misc       0.55      0.50      0.52        22\n",
      "\n",
      "                accuracy                           0.83       400\n",
      "               macro avg       0.84      0.84      0.83       400\n",
      "            weighted avg       0.84      0.83      0.83       400\n",
      "\n"
     ]
    }
   ],
   "source": [
    "model = ComplementNB(alpha=alpha_best)\n",
    "model.fit(Xtrain_, y_train)\n",
    "y_pred=model.predict(Xtest_)\n",
    "val_accuracy= model.score(Xtest_, y_test)\n",
    "print(classification_report(y_test, y_pred, target_names=np.unique(df.target)))"
   ]
  },
  {
   "cell_type": "markdown",
   "metadata": {},
   "source": [
    "最后达到83%的准确率，效果还不错。"
   ]
  },
  {
   "cell_type": "code",
   "execution_count": null,
   "metadata": {},
   "outputs": [],
   "source": []
  }
 ],
 "metadata": {
  "kernelspec": {
   "display_name": "Python 3",
   "language": "python",
   "name": "python3"
  },
  "language_info": {
   "codemirror_mode": {
    "name": "ipython",
    "version": 3
   },
   "file_extension": ".py",
   "mimetype": "text/x-python",
   "name": "python",
   "nbconvert_exporter": "python",
   "pygments_lexer": "ipython3",
   "version": "3.8.5"
  }
 },
 "nbformat": 4,
 "nbformat_minor": 4
}

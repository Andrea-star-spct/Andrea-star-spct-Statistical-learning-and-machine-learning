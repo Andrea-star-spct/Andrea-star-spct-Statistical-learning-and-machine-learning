{
 "cells": [
  {
   "cell_type": "markdown",
   "metadata": {},
   "source": [
    "## 导入工具包"
   ]
  },
  {
   "cell_type": "code",
   "execution_count": 1,
   "metadata": {},
   "outputs": [],
   "source": [
    "import os\n",
    "import pandas as pd\n",
    "import numpy as np\n",
    "import datetime\n",
    "import random\n",
    "from sklearn.metrics import classification_report\n",
    "import matplotlib.pyplot as plt\n",
    "from time import time\n",
    "from PIL import Image\n",
    "from sklearn import cluster\n",
    "import tensorflow as tf\n",
    "import keras\n",
    "from keras.models import Sequential\n",
    "from keras.layers import Dense\n",
    "from keras import optimizers\n",
    "from sklearn.model_selection import GridSearchCV\n",
    "from sklearn.svm import SVC\n",
    "import warnings\n",
    "warnings.filterwarnings(\"ignore\")"
   ]
  },
  {
   "cell_type": "markdown",
   "metadata": {},
   "source": [
    "## 数据预处理"
   ]
  },
  {
   "cell_type": "markdown",
   "metadata": {},
   "source": [
    "得到paths"
   ]
  },
  {
   "cell_type": "code",
   "execution_count": 2,
   "metadata": {},
   "outputs": [],
   "source": [
    "paths = []\n",
    "file_names = os.listdir('faces_4/')\n",
    "#分类类别\n",
    "direction,name,wear_sunglasses,expression=[],[],[],[]\n",
    "for file in file_names:\n",
    "    images = os.listdir('faces_4/' + file + '/' )\n",
    "    for image in images:\n",
    "        #通过文件名中的_区分人名、方向、表情、有没有戴sunglasses\n",
    "        str_list = image.split('_')\n",
    "        if str_list[0] not in name:\n",
    "            name.append(str_list[0])\n",
    "        if str_list[1] not in direction:\n",
    "            direction.append(str_list[1])\n",
    "        if str_list[2] not in expression:\n",
    "            expression.append(str_list[2])\n",
    "        if str_list[3] not in wear_sunglasses:\n",
    "            wear_sunglasses.append(str_list[3])\n",
    "        paths.append('faces_4/' + file + '/'  + image)"
   ]
  },
  {
   "cell_type": "code",
   "execution_count": 3,
   "metadata": {},
   "outputs": [
    {
     "name": "stdout",
     "output_type": "stream",
     "text": [
      "['an2i', 'at33', 'boland', 'bpm', 'ch4f', 'cheyer', 'choon', 'danieln', 'glickman', 'karyadi', 'kawamura', 'kk49', 'megak', 'mitchell', 'night', 'phoebe', 'saavik', 'steffi', 'sz24', 'tammo']\n",
      "['left', 'right', 'straight', 'up']\n",
      "['angry', 'happy', 'neutral', 'sad']\n",
      "['open', 'sunglasses']\n"
     ]
    }
   ],
   "source": [
    "print(name)\n",
    "print(direction)\n",
    "print(expression)\n",
    "print(wear_sunglasses)"
   ]
  },
  {
   "cell_type": "code",
   "execution_count": 4,
   "metadata": {},
   "outputs": [],
   "source": [
    "def construct_data(path): \n",
    "    im,names,directions,expressions,sunglasses = [],[],[],[],[]\n",
    "    for file in path:\n",
    "        #构造data\n",
    "        image = Image.open(file).convert(\"L\")\n",
    "        #如果图像的模式是“1”，“L”，“P”等模式，因为这些模式是8bit表示一个像素，\n",
    "        #所以这些模式的颜色值的范围是在0~255，所以getdata（）的返回值的元素就不是上述的（R,G,B）的形式了，而是0~255中的任意一个数\n",
    "        im.append(np.array(list(image.getdata())))\n",
    "        #im.getdata()函数的返回值是一个sequence对象，sequence对象的每一个元素对应一个像素点R、G、B值\n",
    "        #可以用list（）将sequence对象转为普通的sequence对象\n",
    "        str1 = file.split('_')\n",
    "        #因为这里包括了faces_4/，所以要把\"/\"分割开\n",
    "        str2=str1[1].split('/')\n",
    "#         print(str2)\n",
    "        a=0\n",
    "        for i in range(len(name)):\n",
    "            if name[i]==str2[2]:\n",
    "                a=i      \n",
    "        b=0\n",
    "        for i in range(len(direction)):\n",
    "            if direction[i]==str1[2]:\n",
    "                b=i\n",
    "        c=0\n",
    "        for i in range(len(expression)):\n",
    "            if expression[i]==str1[3]:\n",
    "                c=i\n",
    "        d=0\n",
    "        for i in range(len(wear_sunglasses)):\n",
    "            if wear_sunglasses[i]==str1[4]:\n",
    "                d=i\n",
    "\n",
    "        names.append(a)\n",
    "        directions.append(b)\n",
    "        expressions.append(c)\n",
    "        sunglasses.append(d)\n",
    "\n",
    "    return {'data': np.array(im), 'name': np.array(names), 'direction': np.array(directions), 'expression': np.array(expressions),'wear_sunglasses': np.array(sunglasses)}"
   ]
  },
  {
   "cell_type": "code",
   "execution_count": 5,
   "metadata": {},
   "outputs": [],
   "source": [
    "random.shuffle(paths)#原来的paths是按照顺序的，先要打乱顺序，然后选择前305个为训练集，剩下的图片为测试集\n",
    "train = construct_data(paths[:305])\n",
    "test = construct_data(paths[305:])"
   ]
  },
  {
   "cell_type": "code",
   "execution_count": 6,
   "metadata": {},
   "outputs": [
    {
     "data": {
      "text/plain": [
       "{'data': array([[46, 45, 43, ...,  0,  0,  0],\n",
       "        [41, 39, 37, ..., 20, 45, 45],\n",
       "        [34, 33, 31, ..., 50, 49, 49],\n",
       "        ...,\n",
       "        [38, 35, 33, ...,  3, 12,  0],\n",
       "        [37, 38, 40, ..., 22,  3,  0],\n",
       "        [ 6,  0, 28, ..., 19, 19, 17]]),\n",
       " 'name': array([10,  6,  2,  9,  4,  4,  1,  0,  4, 18,  0,  0, 14,  4,  4,  7,  1,\n",
       "         2,  6, 16, 11, 12,  1, 16,  1,  9,  7, 10,  3, 13,  5, 11,  6, 14,\n",
       "         1, 18, 14,  3,  2,  1, 14, 14, 19,  6,  3,  8,  8,  0,  2,  6, 13,\n",
       "         8, 15, 16, 19,  4, 18,  1, 19, 11, 16,  2,  1,  9,  3, 13, 17, 15,\n",
       "         5,  3, 16, 16,  3,  7,  7,  2,  6,  6, 17, 10,  1, 17, 15,  2, 11,\n",
       "         1,  6,  8,  9, 16, 15,  2, 19,  7, 11, 19, 17,  9, 13, 18, 12, 13,\n",
       "         8, 17, 15, 14, 11, 19, 10, 16, 10,  0, 18,  5,  3,  0,  4,  8,  5,\n",
       "        15, 18,  6, 10,  2, 12, 11, 13,  6,  1, 15,  1,  3, 13, 15,  7,  5,\n",
       "        13,  3, 15,  3, 16, 10, 12,  6,  7, 16,  3,  2, 18,  2,  6,  9,  1,\n",
       "        18, 16, 19, 13,  8,  0,  9,  7,  7, 17,  3,  4, 18,  5,  4,  4, 19,\n",
       "         7, 15, 13,  0,  8, 12, 19, 12,  5, 17,  9, 10, 11, 15, 18,  6,  7,\n",
       "         5, 13, 16, 14, 16, 14, 12, 11, 13,  3, 12,  0,  7,  9,  9, 17, 15,\n",
       "         1,  0,  8,  5, 10,  2,  9,  6, 11, 12, 14, 14, 12,  9,  9, 12, 13,\n",
       "         8,  5, 18, 10,  2,  3, 19, 13, 12,  2,  0, 17, 16,  3, 14, 14, 14,\n",
       "        15,  9, 19,  0,  1, 18,  7,  6,  7, 17,  8, 17, 19, 13,  3,  2, 12,\n",
       "        17,  0, 17, 16, 17,  2,  8, 17, 14,  4, 15,  3, 15, 15, 19,  4,  5,\n",
       "        15, 11, 17, 11,  0, 16,  4, 16, 16,  8,  2,  6, 17,  4,  7, 16, 19,\n",
       "         7, 11,  4,  4, 10, 10, 19,  6,  7,  0,  5,  9, 17, 12,  8, 16]),\n",
       " 'direction': array([1, 0, 1, 0, 3, 0, 1, 0, 2, 2, 1, 0, 1, 3, 2, 1, 2, 3, 3, 0, 2, 3,\n",
       "        0, 3, 2, 2, 0, 2, 1, 2, 1, 2, 2, 0, 0, 3, 3, 3, 0, 1, 1, 1, 3, 3,\n",
       "        0, 2, 3, 2, 3, 2, 0, 2, 0, 3, 2, 1, 1, 3, 3, 0, 0, 3, 3, 0, 2, 0,\n",
       "        3, 3, 1, 2, 2, 2, 0, 3, 2, 0, 3, 2, 1, 1, 1, 3, 0, 0, 2, 0, 3, 3,\n",
       "        3, 0, 1, 2, 0, 1, 2, 2, 3, 2, 0, 1, 1, 3, 1, 3, 2, 3, 3, 2, 0, 1,\n",
       "        0, 3, 2, 3, 3, 0, 2, 1, 3, 1, 3, 2, 1, 0, 2, 2, 0, 3, 1, 0, 3, 1,\n",
       "        1, 3, 2, 0, 0, 1, 3, 0, 1, 0, 2, 1, 1, 2, 2, 0, 2, 3, 1, 0, 2, 2,\n",
       "        0, 3, 3, 3, 2, 1, 1, 1, 3, 2, 2, 0, 2, 0, 3, 2, 3, 2, 2, 1, 0, 3,\n",
       "        0, 2, 0, 2, 3, 2, 0, 1, 1, 3, 2, 3, 2, 3, 3, 1, 0, 0, 1, 2, 0, 2,\n",
       "        0, 2, 1, 0, 0, 2, 3, 1, 2, 0, 2, 2, 0, 0, 2, 2, 1, 3, 1, 2, 0, 1,\n",
       "        3, 1, 0, 0, 3, 3, 2, 0, 2, 0, 0, 2, 2, 3, 0, 3, 3, 1, 3, 3, 3, 2,\n",
       "        2, 3, 0, 1, 1, 2, 1, 1, 0, 0, 1, 1, 0, 0, 3, 2, 2, 1, 2, 0, 1, 2,\n",
       "        1, 0, 3, 1, 1, 3, 3, 2, 2, 0, 3, 0, 2, 3, 0, 1, 2, 2, 2, 0, 1, 1,\n",
       "        1, 2, 1, 0, 3, 3, 3, 2, 1, 3, 2, 2, 3, 3, 2, 1, 1, 3, 3]),\n",
       " 'expression': array([2, 2, 0, 0, 2, 1, 3, 1, 2, 1, 2, 3, 3, 1, 3, 0, 1, 3, 2, 2, 3, 1,\n",
       "        1, 1, 3, 1, 1, 1, 2, 3, 3, 0, 2, 3, 2, 0, 1, 0, 3, 0, 0, 1, 2, 1,\n",
       "        3, 0, 0, 1, 0, 0, 0, 3, 2, 0, 1, 2, 2, 3, 0, 1, 3, 2, 3, 1, 0, 1,\n",
       "        0, 2, 1, 1, 0, 0, 1, 1, 3, 2, 0, 2, 0, 3, 0, 1, 2, 3, 2, 0, 3, 2,\n",
       "        1, 0, 1, 0, 2, 2, 3, 1, 2, 0, 1, 1, 0, 0, 3, 0, 2, 3, 1, 3, 1, 1,\n",
       "        3, 0, 1, 2, 3, 3, 0, 0, 0, 0, 0, 1, 3, 1, 1, 1, 2, 2, 1, 3, 0, 1,\n",
       "        1, 1, 0, 2, 3, 0, 0, 3, 0, 2, 0, 2, 1, 3, 2, 0, 2, 0, 3, 2, 3, 2,\n",
       "        0, 1, 3, 3, 3, 2, 3, 3, 3, 3, 1, 3, 0, 0, 3, 0, 3, 1, 0, 2, 0, 2,\n",
       "        3, 3, 0, 2, 3, 2, 3, 1, 0, 3, 2, 2, 1, 1, 1, 2, 1, 0, 1, 3, 1, 2,\n",
       "        1, 0, 3, 3, 2, 3, 2, 3, 2, 1, 0, 3, 3, 0, 1, 2, 2, 2, 3, 0, 1, 2,\n",
       "        0, 1, 2, 1, 2, 2, 3, 1, 1, 3, 1, 2, 0, 3, 2, 0, 0, 1, 0, 3, 0, 0,\n",
       "        0, 1, 3, 1, 0, 0, 2, 3, 1, 3, 3, 3, 1, 1, 1, 2, 2, 1, 1, 2, 1, 1,\n",
       "        3, 1, 1, 3, 2, 3, 0, 0, 0, 2, 2, 1, 3, 2, 3, 3, 1, 3, 3, 1, 3, 2,\n",
       "        1, 1, 0, 2, 3, 1, 2, 0, 1, 2, 3, 3, 2, 3, 2, 0, 2, 1, 3]),\n",
       " 'wear_sunglasses': array([1, 1, 0, 1, 1, 0, 0, 1, 0, 1, 0, 0, 1, 1, 0, 0, 0, 1, 1, 1, 1, 1,\n",
       "        1, 0, 1, 0, 0, 0, 0, 0, 1, 0, 1, 0, 0, 1, 1, 0, 1, 0, 0, 0, 0, 0,\n",
       "        1, 1, 1, 0, 1, 1, 0, 0, 1, 1, 0, 1, 1, 0, 1, 0, 1, 0, 1, 0, 0, 1,\n",
       "        1, 0, 0, 1, 0, 1, 1, 0, 1, 0, 0, 0, 1, 0, 1, 1, 0, 0, 0, 1, 1, 1,\n",
       "        1, 0, 0, 1, 0, 0, 0, 1, 1, 0, 0, 0, 1, 0, 1, 0, 1, 0, 1, 1, 0, 0,\n",
       "        1, 1, 0, 0, 0, 1, 1, 1, 0, 1, 0, 0, 1, 0, 1, 0, 0, 0, 0, 0, 1, 1,\n",
       "        1, 0, 0, 0, 0, 1, 1, 0, 0, 1, 0, 0, 1, 0, 0, 1, 0, 0, 0, 0, 0, 1,\n",
       "        1, 0, 1, 1, 0, 1, 0, 1, 1, 1, 1, 1, 1, 1, 1, 0, 0, 0, 1, 1, 1, 0,\n",
       "        1, 0, 1, 1, 1, 0, 1, 1, 0, 0, 0, 1, 0, 1, 0, 0, 1, 1, 0, 1, 0, 1,\n",
       "        0, 1, 0, 1, 0, 1, 0, 0, 0, 1, 1, 0, 0, 0, 1, 0, 1, 1, 0, 1, 1, 1,\n",
       "        1, 1, 1, 1, 1, 1, 0, 0, 1, 1, 1, 1, 1, 0, 0, 0, 1, 1, 0, 0, 0, 1,\n",
       "        0, 0, 0, 1, 1, 0, 1, 0, 1, 1, 1, 0, 0, 0, 1, 0, 1, 0, 1, 0, 1, 0,\n",
       "        0, 1, 0, 1, 1, 1, 1, 0, 0, 0, 0, 1, 1, 1, 1, 1, 0, 1, 1, 0, 1, 0,\n",
       "        0, 1, 1, 1, 0, 0, 0, 0, 1, 1, 0, 0, 1, 0, 1, 0, 0, 1, 1])}"
      ]
     },
     "execution_count": 6,
     "metadata": {},
     "output_type": "execute_result"
    }
   ],
   "source": [
    "train"
   ]
  },
  {
   "cell_type": "code",
   "execution_count": 7,
   "metadata": {},
   "outputs": [
    {
     "data": {
      "text/plain": [
       "(319, 960)"
      ]
     },
     "execution_count": 7,
     "metadata": {},
     "output_type": "execute_result"
    }
   ],
   "source": [
    "test['data'].shape"
   ]
  },
  {
   "cell_type": "code",
   "execution_count": 8,
   "metadata": {},
   "outputs": [
    {
     "data": {
      "text/plain": [
       "(305, 960)"
      ]
     },
     "execution_count": 8,
     "metadata": {},
     "output_type": "execute_result"
    }
   ],
   "source": [
    "train['data'].shape"
   ]
  },
  {
   "cell_type": "markdown",
   "metadata": {},
   "source": [
    "## 任务一：人脸识别（区分人脸名称）"
   ]
  },
  {
   "cell_type": "markdown",
   "metadata": {},
   "source": [
    "### 法一：SVM"
   ]
  },
  {
   "cell_type": "code",
   "execution_count": 9,
   "metadata": {},
   "outputs": [
    {
     "data": {
      "text/plain": [
       "SVC(C=1)"
      ]
     },
     "execution_count": 9,
     "metadata": {},
     "output_type": "execute_result"
    }
   ],
   "source": [
    "param_grid = {'C': [0.1,1,10,1e2]}\n",
    "svm = GridSearchCV(\n",
    "    SVC(kernel='rbf'), param_grid\n",
    ")\n",
    "svm = svm.fit(train['data'],train['name'])\n",
    "svm.best_estimator_"
   ]
  },
  {
   "cell_type": "code",
   "execution_count": 10,
   "metadata": {},
   "outputs": [
    {
     "name": "stdout",
     "output_type": "stream",
     "text": [
      "              precision    recall  f1-score   support\n",
      "\n",
      "        an2i       1.00      1.00      1.00        17\n",
      "        at33       1.00      0.88      0.94        17\n",
      "      boland       0.94      1.00      0.97        15\n",
      "         bpm       0.88      1.00      0.94        15\n",
      "        ch4f       1.00      1.00      1.00        16\n",
      "      cheyer       1.00      1.00      1.00        20\n",
      "       choon       1.00      1.00      1.00        14\n",
      "     danieln       1.00      1.00      1.00        14\n",
      "    glickman       1.00      1.00      1.00        16\n",
      "     karyadi       1.00      1.00      1.00        16\n",
      "    kawamura       1.00      1.00      1.00        19\n",
      "        kk49       1.00      0.95      0.97        19\n",
      "       megak       1.00      1.00      1.00        16\n",
      "    mitchell       1.00      1.00      1.00        13\n",
      "       night       1.00      1.00      1.00        18\n",
      "      phoebe       1.00      1.00      1.00        14\n",
      "      saavik       1.00      1.00      1.00        12\n",
      "      steffi       1.00      1.00      1.00        14\n",
      "        sz24       1.00      1.00      1.00        19\n",
      "       tammo       1.00      1.00      1.00        15\n",
      "\n",
      "    accuracy                           0.99       319\n",
      "   macro avg       0.99      0.99      0.99       319\n",
      "weighted avg       0.99      0.99      0.99       319\n",
      "\n"
     ]
    }
   ],
   "source": [
    "y_pred_svm = svm.predict(test['data'])\n",
    "print(classification_report(test['name'], y_pred_svm, target_names=name))"
   ]
  },
  {
   "cell_type": "markdown",
   "metadata": {},
   "source": [
    "最终准确率达到0.99，效果不错"
   ]
  },
  {
   "cell_type": "markdown",
   "metadata": {},
   "source": [
    "### 法二：神经网络"
   ]
  },
  {
   "cell_type": "code",
   "execution_count": 11,
   "metadata": {},
   "outputs": [
    {
     "name": "stdout",
     "output_type": "stream",
     "text": [
      "Epoch 1/200\n",
      "4/4 [==============================] - 0s 53ms/step - loss: 1717.3986 - accuracy: 0.0984 - val_loss: 3965.0913 - val_accuracy: 0.0656\n",
      "Epoch 2/200\n",
      "4/4 [==============================] - 0s 10ms/step - loss: 4845.0298 - accuracy: 0.1311 - val_loss: 3377.0330 - val_accuracy: 0.2295\n",
      "Epoch 3/200\n",
      "4/4 [==============================] - 0s 9ms/step - loss: 4696.6606 - accuracy: 0.2008 - val_loss: 3863.6926 - val_accuracy: 0.3443\n",
      "Epoch 4/200\n",
      "4/4 [==============================] - 0s 7ms/step - loss: 3851.8452 - accuracy: 0.2254 - val_loss: 2917.7673 - val_accuracy: 0.3443\n",
      "Epoch 5/200\n",
      "4/4 [==============================] - 0s 7ms/step - loss: 2724.8682 - accuracy: 0.3361 - val_loss: 1269.5687 - val_accuracy: 0.4262\n",
      "Epoch 6/200\n",
      "4/4 [==============================] - 0s 7ms/step - loss: 683.9223 - accuracy: 0.5615 - val_loss: 218.7901 - val_accuracy: 0.6557\n",
      "Epoch 7/200\n",
      "4/4 [==============================] - 0s 8ms/step - loss: 98.5399 - accuracy: 0.8238 - val_loss: 122.6422 - val_accuracy: 0.7705\n",
      "Epoch 8/200\n",
      "4/4 [==============================] - 0s 7ms/step - loss: 22.1375 - accuracy: 0.9549 - val_loss: 55.2426 - val_accuracy: 0.8525\n",
      "Epoch 9/200\n",
      "4/4 [==============================] - 0s 8ms/step - loss: 5.2240 - accuracy: 0.9877 - val_loss: 72.2271 - val_accuracy: 0.8689\n",
      "Epoch 10/200\n",
      "4/4 [==============================] - 0s 8ms/step - loss: 5.9771 - accuracy: 0.9877 - val_loss: 31.1907 - val_accuracy: 0.9016\n",
      "Epoch 11/200\n",
      "4/4 [==============================] - 0s 7ms/step - loss: 6.8363 - accuracy: 0.9877 - val_loss: 37.6424 - val_accuracy: 0.8525\n",
      "Epoch 12/200\n",
      "4/4 [==============================] - 0s 8ms/step - loss: 31.5261 - accuracy: 0.9590 - val_loss: 346.7698 - val_accuracy: 0.5410\n",
      "Epoch 13/200\n",
      "4/4 [==============================] - 0s 7ms/step - loss: 635.4516 - accuracy: 0.7418 - val_loss: 306.3379 - val_accuracy: 0.7213\n",
      "Epoch 14/200\n",
      "4/4 [==============================] - 0s 7ms/step - loss: 131.1248 - accuracy: 0.8770 - val_loss: 147.4798 - val_accuracy: 0.8033\n",
      "Epoch 15/200\n",
      "4/4 [==============================] - 0s 9ms/step - loss: 36.0123 - accuracy: 0.9385 - val_loss: 42.7041 - val_accuracy: 0.8525\n",
      "Epoch 16/200\n",
      "4/4 [==============================] - 0s 8ms/step - loss: 4.7097 - accuracy: 0.9959 - val_loss: 34.0739 - val_accuracy: 0.9016\n",
      "Epoch 17/200\n",
      "4/4 [==============================] - 0s 7ms/step - loss: 4.7543 - accuracy: 0.9918 - val_loss: 34.0492 - val_accuracy: 0.9016\n",
      "Epoch 18/200\n",
      "4/4 [==============================] - 0s 7ms/step - loss: 5.9617 - accuracy: 0.9877 - val_loss: 37.6151 - val_accuracy: 0.8852\n",
      "Epoch 19/200\n",
      "4/4 [==============================] - 0s 7ms/step - loss: 4.8309 - accuracy: 0.9959 - val_loss: 33.9982 - val_accuracy: 0.9016\n",
      "Epoch 20/200\n",
      "4/4 [==============================] - 0s 7ms/step - loss: 4.6666 - accuracy: 0.9918 - val_loss: 33.9736 - val_accuracy: 0.9016\n",
      "Epoch 21/200\n",
      "4/4 [==============================] - 0s 7ms/step - loss: 3.8770 - accuracy: 0.9959 - val_loss: 33.9476 - val_accuracy: 0.9016\n",
      "Epoch 22/200\n",
      "4/4 [==============================] - 0s 7ms/step - loss: 3.8145 - accuracy: 1.0000 - val_loss: 33.9204 - val_accuracy: 0.9016\n",
      "Epoch 23/200\n",
      "4/4 [==============================] - 0s 7ms/step - loss: 3.8090 - accuracy: 1.0000 - val_loss: 33.8933 - val_accuracy: 0.9016\n",
      "Epoch 24/200\n",
      "4/4 [==============================] - 0s 7ms/step - loss: 3.8035 - accuracy: 1.0000 - val_loss: 33.8662 - val_accuracy: 0.9016\n",
      "Epoch 25/200\n",
      "4/4 [==============================] - 0s 8ms/step - loss: 3.7980 - accuracy: 1.0000 - val_loss: 33.8391 - val_accuracy: 0.9016\n",
      "Epoch 26/200\n",
      "4/4 [==============================] - 0s 7ms/step - loss: 3.7926 - accuracy: 1.0000 - val_loss: 33.8120 - val_accuracy: 0.9016\n",
      "Epoch 27/200\n",
      "4/4 [==============================] - 0s 7ms/step - loss: 3.7871 - accuracy: 1.0000 - val_loss: 33.7849 - val_accuracy: 0.9016\n",
      "Epoch 28/200\n",
      "4/4 [==============================] - 0s 7ms/step - loss: 3.7817 - accuracy: 1.0000 - val_loss: 33.7579 - val_accuracy: 0.9016\n",
      "Epoch 29/200\n",
      "4/4 [==============================] - 0s 8ms/step - loss: 3.7762 - accuracy: 1.0000 - val_loss: 33.7308 - val_accuracy: 0.9016\n",
      "Epoch 30/200\n",
      "4/4 [==============================] - 0s 8ms/step - loss: 3.7708 - accuracy: 1.0000 - val_loss: 33.7039 - val_accuracy: 0.9016\n",
      "Epoch 31/200\n",
      "4/4 [==============================] - 0s 8ms/step - loss: 3.7654 - accuracy: 1.0000 - val_loss: 33.6769 - val_accuracy: 0.9016\n",
      "Epoch 32/200\n",
      "4/4 [==============================] - 0s 7ms/step - loss: 3.7599 - accuracy: 1.0000 - val_loss: 33.6499 - val_accuracy: 0.9016\n",
      "Epoch 33/200\n",
      "4/4 [==============================] - 0s 7ms/step - loss: 3.7545 - accuracy: 1.0000 - val_loss: 33.6230 - val_accuracy: 0.9016\n",
      "Epoch 34/200\n",
      "4/4 [==============================] - 0s 7ms/step - loss: 3.7491 - accuracy: 1.0000 - val_loss: 33.5961 - val_accuracy: 0.9016\n",
      "Epoch 35/200\n",
      "4/4 [==============================] - 0s 8ms/step - loss: 3.7437 - accuracy: 1.0000 - val_loss: 33.5692 - val_accuracy: 0.9016\n",
      "Epoch 36/200\n",
      "4/4 [==============================] - 0s 7ms/step - loss: 3.7383 - accuracy: 1.0000 - val_loss: 33.5424 - val_accuracy: 0.9016\n",
      "Epoch 37/200\n",
      "4/4 [==============================] - 0s 8ms/step - loss: 3.7330 - accuracy: 1.0000 - val_loss: 33.5156 - val_accuracy: 0.9016\n",
      "Epoch 38/200\n",
      "4/4 [==============================] - 0s 7ms/step - loss: 3.7276 - accuracy: 1.0000 - val_loss: 33.4888 - val_accuracy: 0.9016\n",
      "Epoch 39/200\n",
      "4/4 [==============================] - 0s 8ms/step - loss: 3.7222 - accuracy: 1.0000 - val_loss: 33.4620 - val_accuracy: 0.9016\n",
      "Epoch 40/200\n",
      "4/4 [==============================] - 0s 8ms/step - loss: 3.7169 - accuracy: 1.0000 - val_loss: 33.4352 - val_accuracy: 0.9016\n",
      "Epoch 41/200\n",
      "4/4 [==============================] - 0s 8ms/step - loss: 3.7115 - accuracy: 1.0000 - val_loss: 33.4085 - val_accuracy: 0.9016\n",
      "Epoch 42/200\n",
      "4/4 [==============================] - 0s 8ms/step - loss: 3.7062 - accuracy: 1.0000 - val_loss: 33.3818 - val_accuracy: 0.9016\n",
      "Epoch 43/200\n",
      "4/4 [==============================] - 0s 7ms/step - loss: 3.7008 - accuracy: 1.0000 - val_loss: 33.3551 - val_accuracy: 0.9016\n",
      "Epoch 44/200\n",
      "4/4 [==============================] - 0s 7ms/step - loss: 3.6955 - accuracy: 1.0000 - val_loss: 33.3284 - val_accuracy: 0.9016\n",
      "Epoch 45/200\n",
      "4/4 [==============================] - 0s 7ms/step - loss: 3.6902 - accuracy: 1.0000 - val_loss: 33.3017 - val_accuracy: 0.9016\n",
      "Epoch 46/200\n",
      "4/4 [==============================] - 0s 8ms/step - loss: 3.6849 - accuracy: 1.0000 - val_loss: 33.2751 - val_accuracy: 0.9016\n",
      "Epoch 47/200\n",
      "4/4 [==============================] - 0s 7ms/step - loss: 3.6796 - accuracy: 1.0000 - val_loss: 33.2485 - val_accuracy: 0.9016\n",
      "Epoch 48/200\n",
      "4/4 [==============================] - 0s 8ms/step - loss: 3.6743 - accuracy: 1.0000 - val_loss: 33.2219 - val_accuracy: 0.9016\n",
      "Epoch 49/200\n",
      "4/4 [==============================] - 0s 7ms/step - loss: 3.6690 - accuracy: 1.0000 - val_loss: 33.1954 - val_accuracy: 0.9016\n",
      "Epoch 50/200\n",
      "4/4 [==============================] - 0s 7ms/step - loss: 3.6637 - accuracy: 1.0000 - val_loss: 33.1689 - val_accuracy: 0.9016\n",
      "Epoch 51/200\n",
      "4/4 [==============================] - 0s 7ms/step - loss: 3.6584 - accuracy: 1.0000 - val_loss: 33.1423 - val_accuracy: 0.9016\n",
      "Epoch 52/200\n",
      "4/4 [==============================] - 0s 9ms/step - loss: 3.6532 - accuracy: 1.0000 - val_loss: 33.1159 - val_accuracy: 0.9016\n",
      "Epoch 53/200\n",
      "4/4 [==============================] - 0s 7ms/step - loss: 3.6479 - accuracy: 1.0000 - val_loss: 33.0894 - val_accuracy: 0.9016\n",
      "Epoch 54/200\n",
      "4/4 [==============================] - 0s 7ms/step - loss: 3.6427 - accuracy: 1.0000 - val_loss: 33.0630 - val_accuracy: 0.9016\n",
      "Epoch 55/200\n",
      "4/4 [==============================] - 0s 7ms/step - loss: 3.6374 - accuracy: 1.0000 - val_loss: 33.0365 - val_accuracy: 0.9016\n",
      "Epoch 56/200\n",
      "4/4 [==============================] - 0s 7ms/step - loss: 3.6322 - accuracy: 1.0000 - val_loss: 33.0101 - val_accuracy: 0.9016\n",
      "Epoch 57/200\n",
      "4/4 [==============================] - 0s 8ms/step - loss: 3.6270 - accuracy: 1.0000 - val_loss: 32.9838 - val_accuracy: 0.9016\n",
      "Epoch 58/200\n",
      "4/4 [==============================] - 0s 7ms/step - loss: 3.6217 - accuracy: 1.0000 - val_loss: 32.9574 - val_accuracy: 0.9016\n",
      "Epoch 59/200\n",
      "4/4 [==============================] - 0s 7ms/step - loss: 3.6165 - accuracy: 1.0000 - val_loss: 32.9311 - val_accuracy: 0.9016\n",
      "Epoch 60/200\n",
      "4/4 [==============================] - 0s 8ms/step - loss: 3.6113 - accuracy: 1.0000 - val_loss: 32.9048 - val_accuracy: 0.9016\n",
      "Epoch 61/200\n",
      "4/4 [==============================] - 0s 8ms/step - loss: 3.6061 - accuracy: 1.0000 - val_loss: 32.8785 - val_accuracy: 0.9016\n",
      "Epoch 62/200\n",
      "4/4 [==============================] - 0s 9ms/step - loss: 3.6009 - accuracy: 1.0000 - val_loss: 32.8523 - val_accuracy: 0.9016\n",
      "Epoch 63/200\n",
      "4/4 [==============================] - 0s 7ms/step - loss: 3.5958 - accuracy: 1.0000 - val_loss: 32.8260 - val_accuracy: 0.9016\n",
      "Epoch 64/200\n",
      "4/4 [==============================] - 0s 8ms/step - loss: 3.5906 - accuracy: 1.0000 - val_loss: 32.7998 - val_accuracy: 0.9016\n",
      "Epoch 65/200\n",
      "4/4 [==============================] - 0s 7ms/step - loss: 3.5854 - accuracy: 1.0000 - val_loss: 32.7736 - val_accuracy: 0.9016\n",
      "Epoch 66/200\n",
      "4/4 [==============================] - 0s 6ms/step - loss: 3.5803 - accuracy: 1.0000 - val_loss: 32.7475 - val_accuracy: 0.9016\n",
      "Epoch 67/200\n",
      "4/4 [==============================] - 0s 13ms/step - loss: 3.5751 - accuracy: 1.0000 - val_loss: 32.7213 - val_accuracy: 0.9016\n",
      "Epoch 68/200\n",
      "4/4 [==============================] - 0s 7ms/step - loss: 3.5700 - accuracy: 1.0000 - val_loss: 32.6952 - val_accuracy: 0.9016\n",
      "Epoch 69/200\n",
      "4/4 [==============================] - 0s 9ms/step - loss: 3.5648 - accuracy: 1.0000 - val_loss: 32.6691 - val_accuracy: 0.9016\n",
      "Epoch 70/200\n",
      "4/4 [==============================] - 0s 7ms/step - loss: 3.5597 - accuracy: 1.0000 - val_loss: 32.6430 - val_accuracy: 0.9016\n",
      "Epoch 71/200\n",
      "4/4 [==============================] - 0s 7ms/step - loss: 3.5546 - accuracy: 1.0000 - val_loss: 32.6170 - val_accuracy: 0.9016\n",
      "Epoch 72/200\n",
      "4/4 [==============================] - 0s 7ms/step - loss: 3.5495 - accuracy: 1.0000 - val_loss: 32.5909 - val_accuracy: 0.9016\n",
      "Epoch 73/200\n",
      "4/4 [==============================] - 0s 8ms/step - loss: 3.5444 - accuracy: 1.0000 - val_loss: 32.5649 - val_accuracy: 0.9016\n",
      "Epoch 74/200\n",
      "4/4 [==============================] - 0s 8ms/step - loss: 3.5393 - accuracy: 1.0000 - val_loss: 32.5389 - val_accuracy: 0.9016\n",
      "Epoch 75/200\n",
      "4/4 [==============================] - 0s 7ms/step - loss: 3.5342 - accuracy: 1.0000 - val_loss: 32.5130 - val_accuracy: 0.9016\n",
      "Epoch 76/200\n",
      "4/4 [==============================] - 0s 10ms/step - loss: 3.5291 - accuracy: 1.0000 - val_loss: 32.4870 - val_accuracy: 0.9016\n",
      "Epoch 77/200\n",
      "4/4 [==============================] - 0s 7ms/step - loss: 3.5240 - accuracy: 1.0000 - val_loss: 32.4611 - val_accuracy: 0.9016\n",
      "Epoch 78/200\n",
      "4/4 [==============================] - 0s 7ms/step - loss: 3.5189 - accuracy: 1.0000 - val_loss: 32.4352 - val_accuracy: 0.9016\n",
      "Epoch 79/200\n",
      "4/4 [==============================] - 0s 7ms/step - loss: 3.5139 - accuracy: 1.0000 - val_loss: 32.4093 - val_accuracy: 0.9016\n",
      "Epoch 80/200\n",
      "4/4 [==============================] - 0s 7ms/step - loss: 3.5088 - accuracy: 1.0000 - val_loss: 32.3835 - val_accuracy: 0.9016\n",
      "Epoch 81/200\n",
      "4/4 [==============================] - 0s 7ms/step - loss: 3.5038 - accuracy: 1.0000 - val_loss: 32.3577 - val_accuracy: 0.9016\n",
      "Epoch 82/200\n",
      "4/4 [==============================] - 0s 8ms/step - loss: 3.4987 - accuracy: 1.0000 - val_loss: 32.3318 - val_accuracy: 0.9016\n",
      "Epoch 83/200\n",
      "4/4 [==============================] - 0s 8ms/step - loss: 3.4937 - accuracy: 1.0000 - val_loss: 32.3061 - val_accuracy: 0.9016\n",
      "Epoch 84/200\n",
      "4/4 [==============================] - 0s 8ms/step - loss: 3.4886 - accuracy: 1.0000 - val_loss: 32.2803 - val_accuracy: 0.9016\n",
      "Epoch 85/200\n",
      "4/4 [==============================] - 0s 7ms/step - loss: 3.4836 - accuracy: 1.0000 - val_loss: 32.2545 - val_accuracy: 0.9016\n",
      "Epoch 86/200\n",
      "4/4 [==============================] - 0s 8ms/step - loss: 3.4786 - accuracy: 1.0000 - val_loss: 32.2288 - val_accuracy: 0.9016\n",
      "Epoch 87/200\n",
      "4/4 [==============================] - 0s 6ms/step - loss: 3.4736 - accuracy: 1.0000 - val_loss: 32.2031 - val_accuracy: 0.9016\n",
      "Epoch 88/200\n",
      "4/4 [==============================] - 0s 7ms/step - loss: 3.4686 - accuracy: 1.0000 - val_loss: 32.1775 - val_accuracy: 0.9016\n",
      "Epoch 89/200\n",
      "4/4 [==============================] - 0s 6ms/step - loss: 3.4636 - accuracy: 1.0000 - val_loss: 32.1518 - val_accuracy: 0.9016\n",
      "Epoch 90/200\n",
      "4/4 [==============================] - 0s 7ms/step - loss: 3.4586 - accuracy: 1.0000 - val_loss: 32.1261 - val_accuracy: 0.9016\n",
      "Epoch 91/200\n",
      "4/4 [==============================] - 0s 7ms/step - loss: 3.4537 - accuracy: 1.0000 - val_loss: 32.1006 - val_accuracy: 0.9016\n",
      "Epoch 92/200\n",
      "4/4 [==============================] - 0s 7ms/step - loss: 3.4487 - accuracy: 1.0000 - val_loss: 32.0750 - val_accuracy: 0.9016\n",
      "Epoch 93/200\n",
      "4/4 [==============================] - 0s 8ms/step - loss: 3.4437 - accuracy: 1.0000 - val_loss: 32.0494 - val_accuracy: 0.9016\n",
      "Epoch 94/200\n",
      "4/4 [==============================] - 0s 6ms/step - loss: 3.4388 - accuracy: 1.0000 - val_loss: 32.0239 - val_accuracy: 0.9016\n",
      "Epoch 95/200\n",
      "4/4 [==============================] - 0s 7ms/step - loss: 3.4338 - accuracy: 1.0000 - val_loss: 31.9983 - val_accuracy: 0.9016\n",
      "Epoch 96/200\n",
      "4/4 [==============================] - 0s 7ms/step - loss: 3.4289 - accuracy: 1.0000 - val_loss: 31.9728 - val_accuracy: 0.9016\n",
      "Epoch 97/200\n",
      "4/4 [==============================] - 0s 7ms/step - loss: 3.4239 - accuracy: 1.0000 - val_loss: 31.9474 - val_accuracy: 0.9016\n",
      "Epoch 98/200\n",
      "4/4 [==============================] - 0s 7ms/step - loss: 3.4190 - accuracy: 1.0000 - val_loss: 31.9219 - val_accuracy: 0.9016\n",
      "Epoch 99/200\n",
      "4/4 [==============================] - 0s 7ms/step - loss: 3.4141 - accuracy: 1.0000 - val_loss: 31.8965 - val_accuracy: 0.9016\n",
      "Epoch 100/200\n",
      "4/4 [==============================] - 0s 7ms/step - loss: 3.4092 - accuracy: 1.0000 - val_loss: 31.8711 - val_accuracy: 0.9016\n",
      "Epoch 101/200\n",
      "4/4 [==============================] - 0s 7ms/step - loss: 3.4043 - accuracy: 1.0000 - val_loss: 31.8457 - val_accuracy: 0.9016\n",
      "Epoch 102/200\n",
      "4/4 [==============================] - 0s 7ms/step - loss: 3.3994 - accuracy: 1.0000 - val_loss: 31.8203 - val_accuracy: 0.9016\n",
      "Epoch 103/200\n",
      "4/4 [==============================] - 0s 8ms/step - loss: 3.3945 - accuracy: 1.0000 - val_loss: 31.7949 - val_accuracy: 0.9016\n",
      "Epoch 104/200\n",
      "4/4 [==============================] - 0s 8ms/step - loss: 3.3896 - accuracy: 1.0000 - val_loss: 31.7696 - val_accuracy: 0.9016\n",
      "Epoch 105/200\n",
      "4/4 [==============================] - 0s 7ms/step - loss: 3.3847 - accuracy: 1.0000 - val_loss: 31.7443 - val_accuracy: 0.9016\n",
      "Epoch 106/200\n",
      "4/4 [==============================] - 0s 7ms/step - loss: 3.3798 - accuracy: 1.0000 - val_loss: 31.7190 - val_accuracy: 0.9016\n",
      "Epoch 107/200\n",
      "4/4 [==============================] - 0s 8ms/step - loss: 3.3750 - accuracy: 1.0000 - val_loss: 31.6938 - val_accuracy: 0.9016\n",
      "Epoch 108/200\n",
      "4/4 [==============================] - 0s 8ms/step - loss: 3.3701 - accuracy: 1.0000 - val_loss: 31.6685 - val_accuracy: 0.9016\n",
      "Epoch 109/200\n",
      "4/4 [==============================] - 0s 8ms/step - loss: 3.3653 - accuracy: 1.0000 - val_loss: 31.6433 - val_accuracy: 0.9016\n",
      "Epoch 110/200\n",
      "4/4 [==============================] - 0s 8ms/step - loss: 3.3604 - accuracy: 1.0000 - val_loss: 31.6181 - val_accuracy: 0.9016\n",
      "Epoch 111/200\n",
      "4/4 [==============================] - 0s 7ms/step - loss: 3.3556 - accuracy: 1.0000 - val_loss: 31.5929 - val_accuracy: 0.9016\n",
      "Epoch 112/200\n",
      "4/4 [==============================] - 0s 9ms/step - loss: 3.3508 - accuracy: 1.0000 - val_loss: 31.5678 - val_accuracy: 0.9016\n",
      "Epoch 113/200\n",
      "4/4 [==============================] - 0s 8ms/step - loss: 3.3459 - accuracy: 1.0000 - val_loss: 31.5427 - val_accuracy: 0.9016\n",
      "Epoch 114/200\n",
      "4/4 [==============================] - 0s 7ms/step - loss: 3.3411 - accuracy: 1.0000 - val_loss: 31.5176 - val_accuracy: 0.9016\n",
      "Epoch 115/200\n",
      "4/4 [==============================] - 0s 9ms/step - loss: 3.3363 - accuracy: 1.0000 - val_loss: 31.4925 - val_accuracy: 0.9016\n",
      "Epoch 116/200\n",
      "4/4 [==============================] - 0s 6ms/step - loss: 3.3315 - accuracy: 1.0000 - val_loss: 31.4674 - val_accuracy: 0.9016\n",
      "Epoch 117/200\n",
      "4/4 [==============================] - 0s 7ms/step - loss: 3.3267 - accuracy: 1.0000 - val_loss: 31.4424 - val_accuracy: 0.9016\n",
      "Epoch 118/200\n",
      "4/4 [==============================] - 0s 9ms/step - loss: 3.3219 - accuracy: 1.0000 - val_loss: 31.4173 - val_accuracy: 0.9016\n",
      "Epoch 119/200\n",
      "4/4 [==============================] - 0s 8ms/step - loss: 3.3172 - accuracy: 1.0000 - val_loss: 31.3923 - val_accuracy: 0.9016\n",
      "Epoch 120/200\n",
      "4/4 [==============================] - 0s 7ms/step - loss: 3.3124 - accuracy: 1.0000 - val_loss: 31.3674 - val_accuracy: 0.9016\n",
      "Epoch 121/200\n",
      "4/4 [==============================] - 0s 7ms/step - loss: 3.3076 - accuracy: 1.0000 - val_loss: 31.3424 - val_accuracy: 0.9016\n",
      "Epoch 122/200\n",
      "4/4 [==============================] - 0s 9ms/step - loss: 3.3029 - accuracy: 1.0000 - val_loss: 31.3175 - val_accuracy: 0.9016\n",
      "Epoch 123/200\n",
      "4/4 [==============================] - 0s 7ms/step - loss: 3.2981 - accuracy: 1.0000 - val_loss: 31.2925 - val_accuracy: 0.9016\n",
      "Epoch 124/200\n",
      "4/4 [==============================] - 0s 8ms/step - loss: 3.2934 - accuracy: 1.0000 - val_loss: 31.2676 - val_accuracy: 0.9016\n",
      "Epoch 125/200\n",
      "4/4 [==============================] - 0s 9ms/step - loss: 3.2886 - accuracy: 1.0000 - val_loss: 31.2428 - val_accuracy: 0.9016\n",
      "Epoch 126/200\n",
      "4/4 [==============================] - 0s 10ms/step - loss: 3.2839 - accuracy: 1.0000 - val_loss: 31.2179 - val_accuracy: 0.9016\n",
      "Epoch 127/200\n",
      "4/4 [==============================] - 0s 8ms/step - loss: 3.2792 - accuracy: 1.0000 - val_loss: 31.1931 - val_accuracy: 0.9016\n",
      "Epoch 128/200\n",
      "4/4 [==============================] - 0s 7ms/step - loss: 3.2744 - accuracy: 1.0000 - val_loss: 31.1683 - val_accuracy: 0.9016\n",
      "Epoch 129/200\n",
      "4/4 [==============================] - 0s 8ms/step - loss: 3.2697 - accuracy: 1.0000 - val_loss: 31.1435 - val_accuracy: 0.9016\n",
      "Epoch 130/200\n",
      "4/4 [==============================] - 0s 7ms/step - loss: 3.2650 - accuracy: 1.0000 - val_loss: 31.1187 - val_accuracy: 0.9016\n",
      "Epoch 131/200\n",
      "4/4 [==============================] - 0s 8ms/step - loss: 3.2603 - accuracy: 1.0000 - val_loss: 31.0940 - val_accuracy: 0.9016\n",
      "Epoch 132/200\n",
      "4/4 [==============================] - 0s 6ms/step - loss: 3.2556 - accuracy: 1.0000 - val_loss: 31.0692 - val_accuracy: 0.9016\n",
      "Epoch 133/200\n",
      "4/4 [==============================] - 0s 8ms/step - loss: 3.2510 - accuracy: 1.0000 - val_loss: 31.0446 - val_accuracy: 0.9016\n",
      "Epoch 134/200\n",
      "4/4 [==============================] - 0s 9ms/step - loss: 3.2463 - accuracy: 1.0000 - val_loss: 31.0199 - val_accuracy: 0.9016\n",
      "Epoch 135/200\n",
      "4/4 [==============================] - 0s 6ms/step - loss: 3.2416 - accuracy: 1.0000 - val_loss: 30.9952 - val_accuracy: 0.9016\n",
      "Epoch 136/200\n",
      "4/4 [==============================] - 0s 7ms/step - loss: 3.2369 - accuracy: 1.0000 - val_loss: 30.9706 - val_accuracy: 0.9016\n",
      "Epoch 137/200\n",
      "4/4 [==============================] - 0s 7ms/step - loss: 3.2323 - accuracy: 1.0000 - val_loss: 30.9459 - val_accuracy: 0.9016\n",
      "Epoch 138/200\n",
      "4/4 [==============================] - 0s 8ms/step - loss: 3.2276 - accuracy: 1.0000 - val_loss: 30.9214 - val_accuracy: 0.9016\n",
      "Epoch 139/200\n",
      "4/4 [==============================] - 0s 6ms/step - loss: 3.2230 - accuracy: 1.0000 - val_loss: 30.8968 - val_accuracy: 0.9016\n",
      "Epoch 140/200\n",
      "4/4 [==============================] - 0s 7ms/step - loss: 3.2183 - accuracy: 1.0000 - val_loss: 30.8722 - val_accuracy: 0.9016\n",
      "Epoch 141/200\n",
      "4/4 [==============================] - 0s 7ms/step - loss: 3.2137 - accuracy: 1.0000 - val_loss: 30.8477 - val_accuracy: 0.9016\n",
      "Epoch 142/200\n",
      "4/4 [==============================] - 0s 7ms/step - loss: 3.2091 - accuracy: 1.0000 - val_loss: 30.8232 - val_accuracy: 0.9016\n",
      "Epoch 143/200\n",
      "4/4 [==============================] - 0s 9ms/step - loss: 3.2045 - accuracy: 1.0000 - val_loss: 30.7987 - val_accuracy: 0.9016\n",
      "Epoch 144/200\n",
      "4/4 [==============================] - 0s 7ms/step - loss: 3.1999 - accuracy: 1.0000 - val_loss: 30.7742 - val_accuracy: 0.9016\n",
      "Epoch 145/200\n",
      "4/4 [==============================] - 0s 7ms/step - loss: 3.1953 - accuracy: 1.0000 - val_loss: 30.7498 - val_accuracy: 0.9016\n",
      "Epoch 146/200\n",
      "4/4 [==============================] - 0s 7ms/step - loss: 3.1907 - accuracy: 1.0000 - val_loss: 30.7253 - val_accuracy: 0.9016\n",
      "Epoch 147/200\n",
      "4/4 [==============================] - 0s 6ms/step - loss: 3.1861 - accuracy: 1.0000 - val_loss: 30.7009 - val_accuracy: 0.9016\n",
      "Epoch 148/200\n",
      "4/4 [==============================] - 0s 7ms/step - loss: 3.1815 - accuracy: 1.0000 - val_loss: 30.6765 - val_accuracy: 0.9016\n",
      "Epoch 149/200\n",
      "4/4 [==============================] - 0s 7ms/step - loss: 3.1769 - accuracy: 1.0000 - val_loss: 30.6522 - val_accuracy: 0.9016\n",
      "Epoch 150/200\n",
      "4/4 [==============================] - 0s 6ms/step - loss: 3.1723 - accuracy: 1.0000 - val_loss: 30.6278 - val_accuracy: 0.9016\n",
      "Epoch 151/200\n",
      "4/4 [==============================] - 0s 7ms/step - loss: 3.1678 - accuracy: 1.0000 - val_loss: 30.6035 - val_accuracy: 0.9016\n",
      "Epoch 152/200\n",
      "4/4 [==============================] - 0s 7ms/step - loss: 3.1632 - accuracy: 1.0000 - val_loss: 30.5792 - val_accuracy: 0.9016\n",
      "Epoch 153/200\n",
      "4/4 [==============================] - 0s 7ms/step - loss: 3.1587 - accuracy: 1.0000 - val_loss: 30.5549 - val_accuracy: 0.9016\n",
      "Epoch 154/200\n",
      "4/4 [==============================] - 0s 7ms/step - loss: 3.1541 - accuracy: 1.0000 - val_loss: 30.5306 - val_accuracy: 0.9016\n",
      "Epoch 155/200\n",
      "4/4 [==============================] - 0s 8ms/step - loss: 3.1496 - accuracy: 1.0000 - val_loss: 30.5064 - val_accuracy: 0.9016\n",
      "Epoch 156/200\n",
      "4/4 [==============================] - 0s 6ms/step - loss: 3.1450 - accuracy: 1.0000 - val_loss: 30.4822 - val_accuracy: 0.9016\n",
      "Epoch 157/200\n",
      "4/4 [==============================] - 0s 7ms/step - loss: 3.1405 - accuracy: 1.0000 - val_loss: 30.4580 - val_accuracy: 0.9016\n",
      "Epoch 158/200\n",
      "4/4 [==============================] - 0s 8ms/step - loss: 3.1360 - accuracy: 1.0000 - val_loss: 30.4338 - val_accuracy: 0.9016\n",
      "Epoch 159/200\n",
      "4/4 [==============================] - 0s 7ms/step - loss: 3.1315 - accuracy: 1.0000 - val_loss: 30.4096 - val_accuracy: 0.9016\n",
      "Epoch 160/200\n",
      "4/4 [==============================] - 0s 8ms/step - loss: 3.1270 - accuracy: 1.0000 - val_loss: 30.3855 - val_accuracy: 0.9016\n",
      "Epoch 161/200\n",
      "4/4 [==============================] - 0s 7ms/step - loss: 3.1225 - accuracy: 1.0000 - val_loss: 30.3614 - val_accuracy: 0.9016\n",
      "Epoch 162/200\n",
      "4/4 [==============================] - 0s 7ms/step - loss: 3.1180 - accuracy: 1.0000 - val_loss: 30.3373 - val_accuracy: 0.9016\n",
      "Epoch 163/200\n",
      "4/4 [==============================] - 0s 7ms/step - loss: 3.1135 - accuracy: 1.0000 - val_loss: 30.3132 - val_accuracy: 0.9016\n",
      "Epoch 164/200\n",
      "4/4 [==============================] - 0s 7ms/step - loss: 3.1090 - accuracy: 1.0000 - val_loss: 30.2892 - val_accuracy: 0.9016\n",
      "Epoch 165/200\n",
      "4/4 [==============================] - 0s 7ms/step - loss: 3.1045 - accuracy: 1.0000 - val_loss: 30.2651 - val_accuracy: 0.9016\n",
      "Epoch 166/200\n",
      "4/4 [==============================] - 0s 8ms/step - loss: 3.1001 - accuracy: 1.0000 - val_loss: 30.2411 - val_accuracy: 0.9016\n",
      "Epoch 167/200\n",
      "4/4 [==============================] - 0s 7ms/step - loss: 3.0956 - accuracy: 1.0000 - val_loss: 30.2171 - val_accuracy: 0.9016\n",
      "Epoch 168/200\n",
      "4/4 [==============================] - 0s 9ms/step - loss: 3.0911 - accuracy: 1.0000 - val_loss: 30.1931 - val_accuracy: 0.9016\n",
      "Epoch 169/200\n",
      "4/4 [==============================] - 0s 7ms/step - loss: 3.0867 - accuracy: 1.0000 - val_loss: 30.1692 - val_accuracy: 0.9016\n",
      "Epoch 170/200\n",
      "4/4 [==============================] - 0s 7ms/step - loss: 3.0823 - accuracy: 1.0000 - val_loss: 30.1452 - val_accuracy: 0.9016\n",
      "Epoch 171/200\n",
      "4/4 [==============================] - 0s 7ms/step - loss: 3.0778 - accuracy: 1.0000 - val_loss: 30.1213 - val_accuracy: 0.9016\n",
      "Epoch 172/200\n",
      "4/4 [==============================] - 0s 7ms/step - loss: 3.0734 - accuracy: 1.0000 - val_loss: 30.0974 - val_accuracy: 0.9016\n",
      "Epoch 173/200\n",
      "4/4 [==============================] - 0s 7ms/step - loss: 3.0690 - accuracy: 1.0000 - val_loss: 30.0735 - val_accuracy: 0.9016\n",
      "Epoch 174/200\n",
      "4/4 [==============================] - 0s 7ms/step - loss: 3.0646 - accuracy: 1.0000 - val_loss: 30.0497 - val_accuracy: 0.9016\n",
      "Epoch 175/200\n",
      "4/4 [==============================] - 0s 7ms/step - loss: 3.0601 - accuracy: 1.0000 - val_loss: 30.0259 - val_accuracy: 0.9016\n",
      "Epoch 176/200\n",
      "4/4 [==============================] - 0s 7ms/step - loss: 3.0557 - accuracy: 1.0000 - val_loss: 30.0020 - val_accuracy: 0.9016\n",
      "Epoch 177/200\n",
      "4/4 [==============================] - 0s 7ms/step - loss: 3.0513 - accuracy: 1.0000 - val_loss: 29.9782 - val_accuracy: 0.9016\n",
      "Epoch 178/200\n",
      "4/4 [==============================] - 0s 7ms/step - loss: 3.0470 - accuracy: 1.0000 - val_loss: 29.9545 - val_accuracy: 0.9016\n",
      "Epoch 179/200\n",
      "4/4 [==============================] - 0s 8ms/step - loss: 3.0426 - accuracy: 1.0000 - val_loss: 29.9307 - val_accuracy: 0.9016\n",
      "Epoch 180/200\n",
      "4/4 [==============================] - 0s 7ms/step - loss: 3.0382 - accuracy: 1.0000 - val_loss: 29.9070 - val_accuracy: 0.9016\n",
      "Epoch 181/200\n",
      "4/4 [==============================] - 0s 7ms/step - loss: 3.0338 - accuracy: 1.0000 - val_loss: 29.8833 - val_accuracy: 0.9016\n",
      "Epoch 182/200\n",
      "4/4 [==============================] - 0s 7ms/step - loss: 3.0295 - accuracy: 1.0000 - val_loss: 29.8596 - val_accuracy: 0.9016\n",
      "Epoch 183/200\n",
      "4/4 [==============================] - 0s 7ms/step - loss: 3.0251 - accuracy: 1.0000 - val_loss: 29.8359 - val_accuracy: 0.9016\n",
      "Epoch 184/200\n",
      "4/4 [==============================] - 0s 7ms/step - loss: 3.0207 - accuracy: 1.0000 - val_loss: 29.8123 - val_accuracy: 0.9016\n",
      "Epoch 185/200\n",
      "4/4 [==============================] - 0s 8ms/step - loss: 3.0164 - accuracy: 1.0000 - val_loss: 29.7887 - val_accuracy: 0.9016\n",
      "Epoch 186/200\n",
      "4/4 [==============================] - 0s 7ms/step - loss: 3.0120 - accuracy: 1.0000 - val_loss: 29.7650 - val_accuracy: 0.9016\n",
      "Epoch 187/200\n",
      "4/4 [==============================] - 0s 7ms/step - loss: 3.0077 - accuracy: 1.0000 - val_loss: 29.7415 - val_accuracy: 0.9016\n",
      "Epoch 188/200\n",
      "4/4 [==============================] - 0s 8ms/step - loss: 3.0034 - accuracy: 1.0000 - val_loss: 29.7179 - val_accuracy: 0.9016\n",
      "Epoch 189/200\n",
      "4/4 [==============================] - 0s 8ms/step - loss: 2.9991 - accuracy: 1.0000 - val_loss: 29.6943 - val_accuracy: 0.9016\n",
      "Epoch 190/200\n",
      "4/4 [==============================] - 0s 9ms/step - loss: 2.9947 - accuracy: 1.0000 - val_loss: 29.6708 - val_accuracy: 0.9016\n",
      "Epoch 191/200\n",
      "4/4 [==============================] - 0s 6ms/step - loss: 2.9904 - accuracy: 1.0000 - val_loss: 29.6473 - val_accuracy: 0.9016\n",
      "Epoch 192/200\n",
      "4/4 [==============================] - 0s 7ms/step - loss: 2.9861 - accuracy: 1.0000 - val_loss: 29.6238 - val_accuracy: 0.9016\n",
      "Epoch 193/200\n",
      "4/4 [==============================] - 0s 8ms/step - loss: 2.9818 - accuracy: 1.0000 - val_loss: 29.6003 - val_accuracy: 0.9016\n",
      "Epoch 194/200\n",
      "4/4 [==============================] - 0s 7ms/step - loss: 2.9775 - accuracy: 1.0000 - val_loss: 29.5769 - val_accuracy: 0.9016\n",
      "Epoch 195/200\n",
      "4/4 [==============================] - 0s 7ms/step - loss: 2.9733 - accuracy: 1.0000 - val_loss: 29.5535 - val_accuracy: 0.9016\n",
      "Epoch 196/200\n",
      "4/4 [==============================] - 0s 7ms/step - loss: 2.9690 - accuracy: 1.0000 - val_loss: 29.5301 - val_accuracy: 0.9016\n",
      "Epoch 197/200\n",
      "4/4 [==============================] - 0s 7ms/step - loss: 2.9647 - accuracy: 1.0000 - val_loss: 29.5066 - val_accuracy: 0.9016\n",
      "Epoch 198/200\n",
      "4/4 [==============================] - 0s 8ms/step - loss: 2.9604 - accuracy: 1.0000 - val_loss: 29.4833 - val_accuracy: 0.9016\n",
      "Epoch 199/200\n",
      "4/4 [==============================] - 0s 7ms/step - loss: 2.9562 - accuracy: 1.0000 - val_loss: 29.4599 - val_accuracy: 0.9016\n",
      "Epoch 200/200\n",
      "4/4 [==============================] - 0s 7ms/step - loss: 2.9519 - accuracy: 1.0000 - val_loss: 29.4366 - val_accuracy: 0.9016\n",
      "Model: \"sequential\"\n",
      "_________________________________________________________________\n",
      "Layer (type)                 Output Shape              Param #   \n",
      "=================================================================\n",
      "dense (Dense)                (None, 20)                19220     \n",
      "=================================================================\n",
      "Total params: 19,220\n",
      "Trainable params: 19,220\n",
      "Non-trainable params: 0\n",
      "_________________________________________________________________\n"
     ]
    }
   ],
   "source": [
    "model = tf.keras.models.Sequential([tf.keras.layers.Dense(20, activation = \"softmax\", kernel_regularizer = tf.keras.regularizers.l2()) ])\n",
    "model.compile(  \n",
    "    optimizer = tf.keras.optimizers.SGD(lr = 0.009), \n",
    "    loss = tf.keras.losses.SparseCategoricalCrossentropy(from_logits = False), \n",
    "    metrics = ['accuracy'] \n",
    ")\n",
    "history=model.fit( \n",
    "    train['data'], train['name'], \n",
    "    batch_size = 64, \n",
    "    epochs = 200, \n",
    "    validation_split = 0.2\n",
    ")\n",
    "model.summary() "
   ]
  },
  {
   "cell_type": "code",
   "execution_count": 12,
   "metadata": {},
   "outputs": [],
   "source": [
    "y_pred=model.predict(test['data'])"
   ]
  },
  {
   "cell_type": "code",
   "execution_count": 13,
   "metadata": {},
   "outputs": [
    {
     "data": {
      "text/plain": [
       "5"
      ]
     },
     "execution_count": 13,
     "metadata": {},
     "output_type": "execute_result"
    }
   ],
   "source": [
    "np.argmax(y_pred[1])"
   ]
  },
  {
   "cell_type": "code",
   "execution_count": 14,
   "metadata": {},
   "outputs": [
    {
     "data": {
      "text/plain": [
       "array([0., 0., 0., 0., 0., 1., 0., 0., 0., 0., 0., 0., 0., 0., 0., 0., 0.,\n",
       "       0., 0., 0.], dtype=float32)"
      ]
     },
     "execution_count": 14,
     "metadata": {},
     "output_type": "execute_result"
    }
   ],
   "source": [
    "y_pred[1]"
   ]
  },
  {
   "cell_type": "markdown",
   "metadata": {},
   "source": [
    "由于人名有20类，最后网络输出的是独热向量编码，需要将它转变成对应的第几类"
   ]
  },
  {
   "cell_type": "code",
   "execution_count": 15,
   "metadata": {},
   "outputs": [],
   "source": [
    "y_pred_keras=[]\n",
    "for x in y_pred:\n",
    "    y_pred_keras.append(np.argmax(x))\n",
    "    "
   ]
  },
  {
   "cell_type": "code",
   "execution_count": 16,
   "metadata": {},
   "outputs": [
    {
     "data": {
      "image/png": "[encoded data removed]",
      "text/plain": [
       "<Figure size 432x288 with 2 Axes>"
      ]
     },
     "metadata": {
      "needs_background": "light"
     },
     "output_type": "display_data"
    }
   ],
   "source": [
    "# Plot the loss function and train / validation accuracies\n",
    "plt.subplot(2, 1, 1)\n",
    "plt.plot(history.history['loss'])\n",
    "plt.title('Loss history')\n",
    "# plt.xlabel('epoch')\n",
    "plt.ylabel('Loss')\n",
    "\n",
    "plt.subplot(2, 1, 2)\n",
    "plt.plot(history.history['accuracy'], label='train')\n",
    "plt.plot(history.history['val_accuracy'], label='val')\n",
    "# plt.title('Classification accuracy history')\n",
    "plt.xlabel('Epoch')\n",
    "plt.ylabel('Classification accuracy')\n",
    "plt.legend()\n",
    "plt.show()"
   ]
  },
  {
   "cell_type": "code",
   "execution_count": 17,
   "metadata": {},
   "outputs": [
    {
     "name": "stdout",
     "output_type": "stream",
     "text": [
      "              precision    recall  f1-score   support\n",
      "\n",
      "        an2i       1.00      1.00      1.00        17\n",
      "        at33       0.94      1.00      0.97        17\n",
      "      boland       0.79      1.00      0.88        15\n",
      "         bpm       1.00      1.00      1.00        15\n",
      "        ch4f       1.00      1.00      1.00        16\n",
      "      cheyer       1.00      0.95      0.97        20\n",
      "       choon       0.93      1.00      0.97        14\n",
      "     danieln       0.93      1.00      0.97        14\n",
      "    glickman       1.00      1.00      1.00        16\n",
      "     karyadi       1.00      1.00      1.00        16\n",
      "    kawamura       1.00      1.00      1.00        19\n",
      "        kk49       1.00      0.84      0.91        19\n",
      "       megak       1.00      1.00      1.00        16\n",
      "    mitchell       0.93      1.00      0.96        13\n",
      "       night       1.00      1.00      1.00        18\n",
      "      phoebe       1.00      0.86      0.92        14\n",
      "      saavik       1.00      1.00      1.00        12\n",
      "      steffi       1.00      0.86      0.92        14\n",
      "        sz24       0.95      1.00      0.97        19\n",
      "       tammo       1.00      0.93      0.97        15\n",
      "\n",
      "    accuracy                           0.97       319\n",
      "   macro avg       0.97      0.97      0.97       319\n",
      "weighted avg       0.98      0.97      0.97       319\n",
      "\n"
     ]
    }
   ],
   "source": [
    "print(classification_report(test['name'], y_pred_keras, target_names=name))"
   ]
  },
  {
   "cell_type": "markdown",
   "metadata": {},
   "source": [
    "最后达到97%的准确率，效果不错"
   ]
  },
  {
   "cell_type": "markdown",
   "metadata": {},
   "source": [
    "### 区分人脸朝向"
   ]
  },
  {
   "cell_type": "code",
   "execution_count": 20,
   "metadata": {},
   "outputs": [
    {
     "data": {
      "text/plain": [
       "SVC(C=10)"
      ]
     },
     "execution_count": 20,
     "metadata": {},
     "output_type": "execute_result"
    }
   ],
   "source": [
    "param_grid = {'C': [0.1,0.5,1,10,20,50,1e2]}\n",
    "svm_1 = GridSearchCV(\n",
    "    SVC(kernel='rbf'), param_grid\n",
    ")\n",
    "svm_1 = svm_1.fit(train['data'],train['direction'])\n",
    "svm_1.best_estimator_"
   ]
  },
  {
   "cell_type": "code",
   "execution_count": 21,
   "metadata": {},
   "outputs": [
    {
     "name": "stdout",
     "output_type": "stream",
     "text": [
      "              precision    recall  f1-score   support\n",
      "\n",
      "        left       0.99      0.95      0.97        84\n",
      "       right       1.00      1.00      1.00        87\n",
      "    straight       0.93      0.97      0.95        71\n",
      "          up       0.96      0.96      0.96        77\n",
      "\n",
      "    accuracy                           0.97       319\n",
      "   macro avg       0.97      0.97      0.97       319\n",
      "weighted avg       0.97      0.97      0.97       319\n",
      "\n"
     ]
    }
   ],
   "source": [
    "y_pred_svm_1 = svm_1.predict(test['data'])\n",
    "print(classification_report(test['direction'], y_pred_svm_1, target_names=direction))"
   ]
  },
  {
   "cell_type": "markdown",
   "metadata": {},
   "source": [
    "最后准确率达到97%，效果不错"
   ]
  },
  {
   "cell_type": "code",
   "execution_count": 45,
   "metadata": {},
   "outputs": [],
   "source": [
    "left = []\n",
    "right=[]\n",
    "straight=[]\n",
    "up=[]\n",
    "for i in range(0,319):\n",
    "    if y_pred_svm_1[i]==0:\n",
    "        left.append(i)\n",
    "    elif y_pred_svm_1[i]==1:\n",
    "        right.append(i)\n",
    "    elif y_pred_svm_1[i]==2:\n",
    "        straight.append(i)\n",
    "    else:\n",
    "        up.append(i)"
   ]
  },
  {
   "cell_type": "code",
   "execution_count": 46,
   "metadata": {},
   "outputs": [
    {
     "data": {
      "image/png": "[encoded data removed]",
      "text/plain": [
       "<Figure size 720x720 with 5 Axes>"
      ]
     },
     "metadata": {
      "needs_background": "light"
     },
     "output_type": "display_data"
    }
   ],
   "source": [
    "plt.figure(figsize=(10,10))\n",
    "cnt = 0\n",
    "for j in left:\n",
    "    plt.subplot(5,5,cnt+1)\n",
    "    plt.imshow(test['data'][j].reshape(30,32),cmap = 'gray')\n",
    "    cnt+=1\n",
    "    if cnt == 5:\n",
    "        break"
   ]
  },
  {
   "cell_type": "code",
   "execution_count": 47,
   "metadata": {},
   "outputs": [
    {
     "data": {
      "image/png": "[encoded data removed]",
      "text/plain": [
       "<Figure size 720x720 with 5 Axes>"
      ]
     },
     "metadata": {
      "needs_background": "light"
     },
     "output_type": "display_data"
    }
   ],
   "source": [
    "plt.figure(figsize=(10,10))\n",
    "cnt = 0\n",
    "for j in right:\n",
    "    plt.subplot(5,5,cnt+1)\n",
    "    plt.imshow(test['data'][j].reshape(30,32),cmap = 'gray')\n",
    "    cnt+=1\n",
    "    if cnt == 5:\n",
    "        break"
   ]
  },
  {
   "cell_type": "code",
   "execution_count": 48,
   "metadata": {},
   "outputs": [
    {
     "data": {
      "image/png": "[encoded data removed]",
      "text/plain": [
       "<Figure size 720x720 with 5 Axes>"
      ]
     },
     "metadata": {
      "needs_background": "light"
     },
     "output_type": "display_data"
    }
   ],
   "source": [
    "plt.figure(figsize=(10,10))\n",
    "cnt = 0\n",
    "for j in straight:\n",
    "    plt.subplot(5,5,cnt+1)\n",
    "    plt.imshow(test['data'][j].reshape(30,32),cmap = 'gray')\n",
    "    cnt+=1\n",
    "    if cnt == 5:\n",
    "        break"
   ]
  },
  {
   "cell_type": "code",
   "execution_count": 43,
   "metadata": {},
   "outputs": [
    {
     "data": {
      "image/png": "[encoded data removed]",
      "text/plain": [
       "<Figure size 720x720 with 5 Axes>"
      ]
     },
     "metadata": {
      "needs_background": "light"
     },
     "output_type": "display_data"
    }
   ],
   "source": [
    "plt.figure(figsize=(10,10))\n",
    "cnt = 0\n",
    "for j in up:\n",
    "    plt.subplot(5,5,cnt+1)\n",
    "    plt.imshow(test['data'][j].reshape(30,32),cmap = 'gray')\n",
    "    cnt+=1\n",
    "    if cnt == 5:\n",
    "        break"
   ]
  },
  {
   "cell_type": "markdown",
   "metadata": {},
   "source": [
    "### 区分人脸是否戴sunglasses"
   ]
  },
  {
   "cell_type": "code",
   "execution_count": 22,
   "metadata": {},
   "outputs": [
    {
     "name": "stdout",
     "output_type": "stream",
     "text": [
      "              precision    recall  f1-score   support\n",
      "\n",
      "        open       0.90      0.92      0.91       162\n",
      "  sunglasses       0.92      0.89      0.90       157\n",
      "\n",
      "    accuracy                           0.91       319\n",
      "   macro avg       0.91      0.91      0.91       319\n",
      "weighted avg       0.91      0.91      0.91       319\n",
      "\n"
     ]
    }
   ],
   "source": [
    "param_grid = {'C': [0.1,0.5,1,10,20,50,1e2]}\n",
    "svm_2 = GridSearchCV(\n",
    "    SVC(kernel='rbf'), param_grid\n",
    ")\n",
    "svm_2.fit(train['data'],train['wear_sunglasses'])\n",
    "y_pred_svm_2 = svm_2.predict(test['data'])\n",
    "print(classification_report(test['wear_sunglasses'], y_pred_svm_2, target_names=wear_sunglasses))"
   ]
  },
  {
   "cell_type": "markdown",
   "metadata": {},
   "source": [
    "准确率达到91%，效果不错"
   ]
  },
  {
   "cell_type": "code",
   "execution_count": 35,
   "metadata": {},
   "outputs": [],
   "source": [
    "wearing_sunglasses = []\n",
    "not_wearing_sunglasses=[]\n",
    "for i in range(0,319):\n",
    "    if y_pred_svm_2[i]==1:\n",
    "        wearing_sunglasses.append(i)\n",
    "    else:\n",
    "        not_wearing_sunglasses.append(i)"
   ]
  },
  {
   "cell_type": "code",
   "execution_count": 36,
   "metadata": {},
   "outputs": [
    {
     "data": {
      "image/png": "[encoded data removed]",
      "text/plain": [
       "<Figure size 720x720 with 5 Axes>"
      ]
     },
     "metadata": {
      "needs_background": "light"
     },
     "output_type": "display_data"
    }
   ],
   "source": [
    "plt.figure(figsize=(10,10))\n",
    "cnt = 0\n",
    "for j in wearing_sunglasses:\n",
    "    plt.subplot(5,5,cnt+1)\n",
    "    plt.imshow(test['data'][j].reshape(30,32),cmap = 'gray')\n",
    "    cnt+=1\n",
    "    if cnt == 5:\n",
    "        break"
   ]
  },
  {
   "cell_type": "code",
   "execution_count": 37,
   "metadata": {},
   "outputs": [
    {
     "data": {
      "image/png": "[encoded data removed]",
      "text/plain": [
       "<Figure size 720x720 with 5 Axes>"
      ]
     },
     "metadata": {
      "needs_background": "light"
     },
     "output_type": "display_data"
    }
   ],
   "source": [
    "plt.figure(figsize=(10,10))\n",
    "cnt = 0\n",
    "for j in not_wearing_sunglasses:\n",
    "    plt.subplot(5,5,cnt+1)\n",
    "    plt.imshow(test['data'][j].reshape(30,32),cmap = 'gray')\n",
    "    cnt+=1\n",
    "    if cnt == 5:\n",
    "        break"
   ]
  },
  {
   "cell_type": "markdown",
   "metadata": {},
   "source": [
    "可视化查看前5个样本后的效果也不错"
   ]
  },
  {
   "cell_type": "markdown",
   "metadata": {},
   "source": [
    "## 任务二：发现表情相似的图(区分表情)"
   ]
  },
  {
   "cell_type": "markdown",
   "metadata": {},
   "source": [
    "### 法一：SVM"
   ]
  },
  {
   "cell_type": "code",
   "execution_count": 25,
   "metadata": {},
   "outputs": [
    {
     "data": {
      "text/plain": [
       "SVC(C=0.1)"
      ]
     },
     "execution_count": 25,
     "metadata": {},
     "output_type": "execute_result"
    }
   ],
   "source": [
    "param_grid = {'C': [0.1,0.5,1,10,1e2]}\n",
    "svm_3 = GridSearchCV(\n",
    "    SVC(kernel='rbf'), param_grid\n",
    ")\n",
    "svm_3 = svm_3.fit(train['data'],train['expression'])\n",
    "svm_3.best_estimator_"
   ]
  },
  {
   "cell_type": "code",
   "execution_count": 26,
   "metadata": {},
   "outputs": [
    {
     "name": "stdout",
     "output_type": "stream",
     "text": [
      "              precision    recall  f1-score   support\n",
      "\n",
      "       angry       0.00      0.00      0.00        83\n",
      "       happy       0.23      1.00      0.37        73\n",
      "     neutral       0.00      0.00      0.00        87\n",
      "         sad       0.00      0.00      0.00        76\n",
      "\n",
      "    accuracy                           0.23       319\n",
      "   macro avg       0.06      0.25      0.09       319\n",
      "weighted avg       0.05      0.23      0.09       319\n",
      "\n"
     ]
    }
   ],
   "source": [
    "y_pred_svm_3 = svm_3.predict(test['data'])\n",
    "print(classification_report(test['expression'], y_pred_svm_3, target_names=expression))"
   ]
  },
  {
   "cell_type": "markdown",
   "metadata": {},
   "source": [
    "最后准确率才23%,效果不佳，基本上就等于盲猜了"
   ]
  },
  {
   "cell_type": "markdown",
   "metadata": {},
   "source": [
    "### 使用神经网络发现表情相似的图"
   ]
  },
  {
   "cell_type": "code",
   "execution_count": 27,
   "metadata": {},
   "outputs": [
    {
     "name": "stdout",
     "output_type": "stream",
     "text": [
      "Epoch 1/300\n",
      "4/4 [==============================] - 1s 81ms/step - loss: 6557.1299 - accuracy: 0.2787 - val_loss: 793.6417 - val_accuracy: 0.2459\n",
      "Epoch 2/300\n",
      "4/4 [==============================] - 0s 8ms/step - loss: 4142.5859 - accuracy: 0.2746 - val_loss: 7613.0078 - val_accuracy: 0.3115\n",
      "Epoch 3/300\n",
      "4/4 [==============================] - 0s 8ms/step - loss: 7457.6401 - accuracy: 0.2418 - val_loss: 8011.5161 - val_accuracy: 0.3115\n",
      "Epoch 4/300\n",
      "4/4 [==============================] - 0s 7ms/step - loss: 7329.0635 - accuracy: 0.2582 - val_loss: 8152.4526 - val_accuracy: 0.3115\n",
      "Epoch 5/300\n",
      "4/4 [==============================] - 0s 8ms/step - loss: 7359.2407 - accuracy: 0.2418 - val_loss: 8654.7012 - val_accuracy: 0.3115\n",
      "Epoch 6/300\n",
      "4/4 [==============================] - 0s 8ms/step - loss: 7157.1260 - accuracy: 0.2705 - val_loss: 7775.9404 - val_accuracy: 0.3115\n",
      "Epoch 7/300\n",
      "4/4 [==============================] - 0s 8ms/step - loss: 7965.5073 - accuracy: 0.2336 - val_loss: 8150.3154 - val_accuracy: 0.3115\n",
      "Epoch 8/300\n",
      "4/4 [==============================] - 0s 7ms/step - loss: 7387.4268 - accuracy: 0.2705 - val_loss: 5732.7998 - val_accuracy: 0.1311\n",
      "Epoch 9/300\n",
      "4/4 [==============================] - 0s 8ms/step - loss: 7162.7480 - accuracy: 0.2582 - val_loss: 7280.9390 - val_accuracy: 0.1311\n",
      "Epoch 10/300\n",
      "4/4 [==============================] - 0s 7ms/step - loss: 5863.5010 - accuracy: 0.2664 - val_loss: 8106.9941 - val_accuracy: 0.1311\n",
      "Epoch 11/300\n",
      "4/4 [==============================] - 0s 7ms/step - loss: 5371.2583 - accuracy: 0.3279 - val_loss: 6563.9951 - val_accuracy: 0.2295\n",
      "Epoch 12/300\n",
      "4/4 [==============================] - 0s 8ms/step - loss: 7462.3115 - accuracy: 0.2336 - val_loss: 5968.1782 - val_accuracy: 0.2131\n",
      "Epoch 13/300\n",
      "4/4 [==============================] - 0s 7ms/step - loss: 4228.4292 - accuracy: 0.2910 - val_loss: 5846.6758 - val_accuracy: 0.2459\n",
      "Epoch 14/300\n",
      "4/4 [==============================] - 0s 7ms/step - loss: 7109.6021 - accuracy: 0.2705 - val_loss: 4383.0142 - val_accuracy: 0.3115\n",
      "Epoch 15/300\n",
      "4/4 [==============================] - 0s 7ms/step - loss: 5245.5635 - accuracy: 0.2746 - val_loss: 7429.8076 - val_accuracy: 0.1803\n",
      "Epoch 16/300\n",
      "4/4 [==============================] - 0s 8ms/step - loss: 3720.5869 - accuracy: 0.3443 - val_loss: 3151.5603 - val_accuracy: 0.2623\n",
      "Epoch 17/300\n",
      "4/4 [==============================] - 0s 8ms/step - loss: 4726.9985 - accuracy: 0.3279 - val_loss: 10489.2969 - val_accuracy: 0.1311\n",
      "Epoch 18/300\n",
      "4/4 [==============================] - 0s 8ms/step - loss: 6082.8193 - accuracy: 0.3484 - val_loss: 1760.7117 - val_accuracy: 0.2459\n",
      "Epoch 19/300\n",
      "4/4 [==============================] - 0s 8ms/step - loss: 3644.3967 - accuracy: 0.3361 - val_loss: 4177.1333 - val_accuracy: 0.3115\n",
      "Epoch 20/300\n",
      "4/4 [==============================] - 0s 8ms/step - loss: 3993.8816 - accuracy: 0.3648 - val_loss: 2337.7632 - val_accuracy: 0.2295\n",
      "Epoch 21/300\n",
      "4/4 [==============================] - 0s 8ms/step - loss: 3046.8013 - accuracy: 0.3525 - val_loss: 6449.0034 - val_accuracy: 0.2787\n",
      "Epoch 22/300\n",
      "4/4 [==============================] - 0s 8ms/step - loss: 6453.6519 - accuracy: 0.2910 - val_loss: 6251.6621 - val_accuracy: 0.3279\n",
      "Epoch 23/300\n",
      "4/4 [==============================] - 0s 9ms/step - loss: 6563.4233 - accuracy: 0.2828 - val_loss: 6117.5103 - val_accuracy: 0.3443\n",
      "Epoch 24/300\n",
      "4/4 [==============================] - 0s 8ms/step - loss: 7644.0625 - accuracy: 0.2295 - val_loss: 6517.3130 - val_accuracy: 0.3279\n",
      "Epoch 25/300\n",
      "4/4 [==============================] - 0s 7ms/step - loss: 5439.0640 - accuracy: 0.3279 - val_loss: 3954.6152 - val_accuracy: 0.1311\n",
      "Epoch 26/300\n",
      "4/4 [==============================] - 0s 8ms/step - loss: 4566.5205 - accuracy: 0.3320 - val_loss: 9435.0293 - val_accuracy: 0.1311\n",
      "Epoch 27/300\n",
      "4/4 [==============================] - 0s 7ms/step - loss: 4673.0645 - accuracy: 0.3361 - val_loss: 5543.4502 - val_accuracy: 0.1803\n",
      "Epoch 28/300\n",
      "4/4 [==============================] - 0s 7ms/step - loss: 4433.4473 - accuracy: 0.3238 - val_loss: 6206.4771 - val_accuracy: 0.2459\n",
      "Epoch 29/300\n",
      "4/4 [==============================] - 0s 7ms/step - loss: 3439.9031 - accuracy: 0.3402 - val_loss: 7781.3101 - val_accuracy: 0.1311\n",
      "Epoch 30/300\n",
      "4/4 [==============================] - 0s 8ms/step - loss: 6414.2109 - accuracy: 0.2992 - val_loss: 4403.7217 - val_accuracy: 0.1639\n",
      "Epoch 31/300\n",
      "4/4 [==============================] - 0s 8ms/step - loss: 4220.1479 - accuracy: 0.3279 - val_loss: 3765.6052 - val_accuracy: 0.2459\n",
      "Epoch 32/300\n",
      "4/4 [==============================] - 0s 8ms/step - loss: 2715.1829 - accuracy: 0.4016 - val_loss: 6372.4658 - val_accuracy: 0.3115\n",
      "Epoch 33/300\n",
      "4/4 [==============================] - 0s 7ms/step - loss: 5367.2432 - accuracy: 0.3279 - val_loss: 6988.8242 - val_accuracy: 0.3115\n",
      "Epoch 34/300\n",
      "4/4 [==============================] - 0s 7ms/step - loss: 6438.1465 - accuracy: 0.2664 - val_loss: 7028.9302 - val_accuracy: 0.2787\n",
      "Epoch 35/300\n",
      "4/4 [==============================] - 0s 7ms/step - loss: 5566.6958 - accuracy: 0.2828 - val_loss: 5317.2900 - val_accuracy: 0.2951\n",
      "Epoch 36/300\n",
      "4/4 [==============================] - 0s 7ms/step - loss: 4183.7026 - accuracy: 0.3238 - val_loss: 7150.5264 - val_accuracy: 0.1803\n",
      "Epoch 37/300\n",
      "4/4 [==============================] - 0s 7ms/step - loss: 6013.7666 - accuracy: 0.2623 - val_loss: 10345.7705 - val_accuracy: 0.3115\n",
      "Epoch 38/300\n",
      "4/4 [==============================] - 0s 7ms/step - loss: 6368.2388 - accuracy: 0.2459 - val_loss: 7275.9146 - val_accuracy: 0.2459\n",
      "Epoch 39/300\n",
      "4/4 [==============================] - 0s 7ms/step - loss: 4617.9404 - accuracy: 0.3566 - val_loss: 7151.7227 - val_accuracy: 0.2295\n",
      "Epoch 40/300\n",
      "4/4 [==============================] - 0s 8ms/step - loss: 6149.9873 - accuracy: 0.2910 - val_loss: 5011.3003 - val_accuracy: 0.2787\n",
      "Epoch 41/300\n",
      "4/4 [==============================] - 0s 8ms/step - loss: 4234.1138 - accuracy: 0.2910 - val_loss: 8347.9199 - val_accuracy: 0.2623\n",
      "Epoch 42/300\n",
      "4/4 [==============================] - 0s 7ms/step - loss: 7311.1938 - accuracy: 0.2172 - val_loss: 6993.9053 - val_accuracy: 0.3115\n",
      "Epoch 43/300\n",
      "4/4 [==============================] - 0s 8ms/step - loss: 5045.6211 - accuracy: 0.2992 - val_loss: 6422.5132 - val_accuracy: 0.2295\n",
      "Epoch 44/300\n",
      "4/4 [==============================] - 0s 8ms/step - loss: 5077.8457 - accuracy: 0.3238 - val_loss: 5211.9629 - val_accuracy: 0.1311\n",
      "Epoch 45/300\n",
      "4/4 [==============================] - 0s 7ms/step - loss: 3792.1450 - accuracy: 0.3689 - val_loss: 4429.1479 - val_accuracy: 0.2131\n",
      "Epoch 46/300\n",
      "4/4 [==============================] - 0s 8ms/step - loss: 2661.6880 - accuracy: 0.4098 - val_loss: 5340.3677 - val_accuracy: 0.2623\n",
      "Epoch 47/300\n",
      "4/4 [==============================] - 0s 8ms/step - loss: 4485.3735 - accuracy: 0.3115 - val_loss: 5985.5127 - val_accuracy: 0.1311\n",
      "Epoch 48/300\n",
      "4/4 [==============================] - 0s 7ms/step - loss: 4613.6782 - accuracy: 0.3320 - val_loss: 6314.5142 - val_accuracy: 0.2951\n",
      "Epoch 49/300\n",
      "4/4 [==============================] - 0s 7ms/step - loss: 3981.6875 - accuracy: 0.3033 - val_loss: 6669.6440 - val_accuracy: 0.3115\n",
      "Epoch 50/300\n",
      "4/4 [==============================] - 0s 7ms/step - loss: 4685.9165 - accuracy: 0.3033 - val_loss: 6145.8159 - val_accuracy: 0.2951\n",
      "Epoch 51/300\n",
      "4/4 [==============================] - 0s 7ms/step - loss: 3655.7053 - accuracy: 0.3607 - val_loss: 5688.7090 - val_accuracy: 0.2623\n",
      "Epoch 52/300\n",
      "4/4 [==============================] - 0s 7ms/step - loss: 3500.9412 - accuracy: 0.4262 - val_loss: 3455.2388 - val_accuracy: 0.1311\n",
      "Epoch 53/300\n",
      "4/4 [==============================] - 0s 7ms/step - loss: 3115.5322 - accuracy: 0.3361 - val_loss: 3618.0847 - val_accuracy: 0.2787\n",
      "Epoch 54/300\n",
      "4/4 [==============================] - 0s 8ms/step - loss: 4682.4077 - accuracy: 0.3238 - val_loss: 5259.7173 - val_accuracy: 0.2787\n",
      "Epoch 55/300\n",
      "4/4 [==============================] - 0s 8ms/step - loss: 6797.9448 - accuracy: 0.2623 - val_loss: 4793.1626 - val_accuracy: 0.2787\n",
      "Epoch 56/300\n",
      "4/4 [==============================] - 0s 7ms/step - loss: 3389.9939 - accuracy: 0.3975 - val_loss: 5735.5928 - val_accuracy: 0.1148\n",
      "Epoch 57/300\n",
      "4/4 [==============================] - 0s 8ms/step - loss: 4382.8442 - accuracy: 0.3074 - val_loss: 3761.3770 - val_accuracy: 0.1311\n",
      "Epoch 58/300\n",
      "4/4 [==============================] - 0s 8ms/step - loss: 3742.2798 - accuracy: 0.3811 - val_loss: 3513.7603 - val_accuracy: 0.2951\n",
      "Epoch 59/300\n",
      "4/4 [==============================] - 0s 8ms/step - loss: 3051.6270 - accuracy: 0.3893 - val_loss: 4047.4924 - val_accuracy: 0.1475\n",
      "Epoch 60/300\n",
      "4/4 [==============================] - 0s 8ms/step - loss: 2728.5537 - accuracy: 0.3566 - val_loss: 7488.2051 - val_accuracy: 0.1475\n",
      "Epoch 61/300\n",
      "4/4 [==============================] - 0s 8ms/step - loss: 4560.4585 - accuracy: 0.3320 - val_loss: 4914.7002 - val_accuracy: 0.2459\n",
      "Epoch 62/300\n",
      "4/4 [==============================] - 0s 7ms/step - loss: 3357.0422 - accuracy: 0.3770 - val_loss: 4085.4268 - val_accuracy: 0.1803\n",
      "Epoch 63/300\n",
      "4/4 [==============================] - 0s 8ms/step - loss: 2620.7229 - accuracy: 0.4303 - val_loss: 5335.5474 - val_accuracy: 0.0984\n",
      "Epoch 64/300\n",
      "4/4 [==============================] - 0s 6ms/step - loss: 5156.6812 - accuracy: 0.2910 - val_loss: 9149.7012 - val_accuracy: 0.1311\n",
      "Epoch 65/300\n",
      "4/4 [==============================] - 0s 7ms/step - loss: 4904.9224 - accuracy: 0.2828 - val_loss: 4001.0862 - val_accuracy: 0.2131\n",
      "Epoch 66/300\n",
      "4/4 [==============================] - 0s 6ms/step - loss: 3348.6316 - accuracy: 0.3975 - val_loss: 7103.2017 - val_accuracy: 0.1311\n",
      "Epoch 67/300\n",
      "4/4 [==============================] - 0s 7ms/step - loss: 5088.9517 - accuracy: 0.3033 - val_loss: 7670.4014 - val_accuracy: 0.1311\n",
      "Epoch 68/300\n",
      "4/4 [==============================] - 0s 7ms/step - loss: 4665.1763 - accuracy: 0.3320 - val_loss: 6506.3311 - val_accuracy: 0.1475\n",
      "Epoch 69/300\n",
      "4/4 [==============================] - 0s 7ms/step - loss: 5667.0166 - accuracy: 0.2418 - val_loss: 10894.0850 - val_accuracy: 0.1311\n",
      "Epoch 70/300\n",
      "4/4 [==============================] - 0s 8ms/step - loss: 6412.7817 - accuracy: 0.2500 - val_loss: 11602.0781 - val_accuracy: 0.1311\n",
      "Epoch 71/300\n",
      "4/4 [==============================] - 0s 8ms/step - loss: 4848.4150 - accuracy: 0.3156 - val_loss: 3447.2239 - val_accuracy: 0.2131\n",
      "Epoch 72/300\n",
      "4/4 [==============================] - 0s 8ms/step - loss: 3262.5974 - accuracy: 0.3689 - val_loss: 2962.6858 - val_accuracy: 0.2623\n",
      "Epoch 73/300\n",
      "4/4 [==============================] - 0s 7ms/step - loss: 3489.7437 - accuracy: 0.3484 - val_loss: 3985.3401 - val_accuracy: 0.2951\n",
      "Epoch 74/300\n",
      "4/4 [==============================] - 0s 7ms/step - loss: 3463.6482 - accuracy: 0.4344 - val_loss: 6879.8945 - val_accuracy: 0.1148\n",
      "Epoch 75/300\n",
      "4/4 [==============================] - 0s 7ms/step - loss: 2228.7207 - accuracy: 0.4426 - val_loss: 4578.6387 - val_accuracy: 0.2131\n",
      "Epoch 76/300\n",
      "4/4 [==============================] - 0s 6ms/step - loss: 3816.3765 - accuracy: 0.3361 - val_loss: 9972.7793 - val_accuracy: 0.2295\n",
      "Epoch 77/300\n",
      "4/4 [==============================] - 0s 7ms/step - loss: 5383.8604 - accuracy: 0.3361 - val_loss: 5378.9858 - val_accuracy: 0.2459\n",
      "Epoch 78/300\n",
      "4/4 [==============================] - 0s 8ms/step - loss: 2836.2524 - accuracy: 0.4344 - val_loss: 3594.9265 - val_accuracy: 0.2787\n",
      "Epoch 79/300\n",
      "4/4 [==============================] - 0s 7ms/step - loss: 3425.9407 - accuracy: 0.3934 - val_loss: 3944.7048 - val_accuracy: 0.2131\n",
      "Epoch 80/300\n",
      "4/4 [==============================] - 0s 7ms/step - loss: 2870.3662 - accuracy: 0.3975 - val_loss: 4260.5898 - val_accuracy: 0.0984\n",
      "Epoch 81/300\n",
      "4/4 [==============================] - 0s 8ms/step - loss: 2329.4622 - accuracy: 0.4303 - val_loss: 3324.9878 - val_accuracy: 0.1967\n",
      "Epoch 82/300\n",
      "4/4 [==============================] - 0s 7ms/step - loss: 4852.5312 - accuracy: 0.3443 - val_loss: 2670.9729 - val_accuracy: 0.2459\n",
      "Epoch 83/300\n",
      "4/4 [==============================] - 0s 7ms/step - loss: 3120.8792 - accuracy: 0.3525 - val_loss: 4245.2988 - val_accuracy: 0.2131\n",
      "Epoch 84/300\n",
      "4/4 [==============================] - 0s 7ms/step - loss: 4023.0945 - accuracy: 0.3566 - val_loss: 6175.1172 - val_accuracy: 0.1148\n",
      "Epoch 85/300\n",
      "4/4 [==============================] - 0s 8ms/step - loss: 5361.2510 - accuracy: 0.2746 - val_loss: 7584.4707 - val_accuracy: 0.1639\n",
      "Epoch 86/300\n",
      "4/4 [==============================] - 0s 7ms/step - loss: 4395.7207 - accuracy: 0.3443 - val_loss: 6674.0371 - val_accuracy: 0.2787\n",
      "Epoch 87/300\n",
      "4/4 [==============================] - 0s 8ms/step - loss: 5328.1729 - accuracy: 0.3197 - val_loss: 7056.1328 - val_accuracy: 0.1803\n",
      "Epoch 88/300\n",
      "4/4 [==============================] - 0s 6ms/step - loss: 5175.5566 - accuracy: 0.3156 - val_loss: 8269.0898 - val_accuracy: 0.3115\n",
      "Epoch 89/300\n",
      "4/4 [==============================] - 0s 7ms/step - loss: 4397.4297 - accuracy: 0.3443 - val_loss: 6791.3940 - val_accuracy: 0.1803\n",
      "Epoch 90/300\n",
      "4/4 [==============================] - 0s 6ms/step - loss: 3167.8433 - accuracy: 0.3893 - val_loss: 6528.1138 - val_accuracy: 0.1148\n",
      "Epoch 91/300\n",
      "4/4 [==============================] - 0s 5ms/step - loss: 5133.4033 - accuracy: 0.3156 - val_loss: 3345.9683 - val_accuracy: 0.1803\n",
      "Epoch 92/300\n",
      "4/4 [==============================] - 0s 7ms/step - loss: 1569.3527 - accuracy: 0.4713 - val_loss: 4720.3706 - val_accuracy: 0.1803\n",
      "Epoch 93/300\n",
      "4/4 [==============================] - 0s 6ms/step - loss: 1793.1835 - accuracy: 0.4549 - val_loss: 4176.1655 - val_accuracy: 0.1639\n",
      "Epoch 94/300\n",
      "4/4 [==============================] - 0s 7ms/step - loss: 3159.1199 - accuracy: 0.3770 - val_loss: 5918.5757 - val_accuracy: 0.1639\n",
      "Epoch 95/300\n",
      "4/4 [==============================] - 0s 7ms/step - loss: 5470.4487 - accuracy: 0.2705 - val_loss: 6551.1924 - val_accuracy: 0.1475\n",
      "Epoch 96/300\n",
      "4/4 [==============================] - 0s 7ms/step - loss: 3828.5413 - accuracy: 0.4016 - val_loss: 7138.2964 - val_accuracy: 0.1311\n",
      "Epoch 97/300\n",
      "4/4 [==============================] - 0s 7ms/step - loss: 4585.4058 - accuracy: 0.3525 - val_loss: 4897.0693 - val_accuracy: 0.1311\n",
      "Epoch 98/300\n",
      "4/4 [==============================] - 0s 8ms/step - loss: 3123.0627 - accuracy: 0.4180 - val_loss: 4890.4702 - val_accuracy: 0.1639\n",
      "Epoch 99/300\n",
      "4/4 [==============================] - 0s 7ms/step - loss: 2617.6311 - accuracy: 0.4631 - val_loss: 4150.6372 - val_accuracy: 0.2459\n",
      "Epoch 100/300\n",
      "4/4 [==============================] - 0s 7ms/step - loss: 2369.1199 - accuracy: 0.4098 - val_loss: 6385.8677 - val_accuracy: 0.0820\n",
      "Epoch 101/300\n",
      "4/4 [==============================] - 0s 7ms/step - loss: 3007.4949 - accuracy: 0.4221 - val_loss: 4004.6714 - val_accuracy: 0.1639\n",
      "Epoch 102/300\n",
      "4/4 [==============================] - 0s 7ms/step - loss: 3069.7715 - accuracy: 0.3566 - val_loss: 5673.1157 - val_accuracy: 0.1967\n",
      "Epoch 103/300\n",
      "4/4 [==============================] - 0s 7ms/step - loss: 3380.6326 - accuracy: 0.4139 - val_loss: 6412.7183 - val_accuracy: 0.1475\n",
      "Epoch 104/300\n",
      "4/4 [==============================] - 0s 7ms/step - loss: 3855.2900 - accuracy: 0.3238 - val_loss: 6306.3745 - val_accuracy: 0.1475\n",
      "Epoch 105/300\n",
      "4/4 [==============================] - 0s 10ms/step - loss: 3952.4097 - accuracy: 0.3279 - val_loss: 6566.4829 - val_accuracy: 0.1639\n",
      "Epoch 106/300\n",
      "4/4 [==============================] - 0s 9ms/step - loss: 2787.0779 - accuracy: 0.4344 - val_loss: 4296.2329 - val_accuracy: 0.2459\n",
      "Epoch 107/300\n",
      "4/4 [==============================] - 0s 8ms/step - loss: 3044.3738 - accuracy: 0.4057 - val_loss: 6264.7773 - val_accuracy: 0.0984\n",
      "Epoch 108/300\n",
      "4/4 [==============================] - 0s 8ms/step - loss: 3712.2417 - accuracy: 0.3852 - val_loss: 6487.8843 - val_accuracy: 0.0984\n",
      "Epoch 109/300\n",
      "4/4 [==============================] - 0s 7ms/step - loss: 3210.4692 - accuracy: 0.4057 - val_loss: 5046.6533 - val_accuracy: 0.2787\n",
      "Epoch 110/300\n",
      "4/4 [==============================] - 0s 7ms/step - loss: 3103.4565 - accuracy: 0.4508 - val_loss: 4202.6875 - val_accuracy: 0.1475\n",
      "Epoch 111/300\n",
      "4/4 [==============================] - 0s 7ms/step - loss: 1847.4060 - accuracy: 0.4672 - val_loss: 4095.9229 - val_accuracy: 0.2951\n",
      "Epoch 112/300\n",
      "4/4 [==============================] - 0s 6ms/step - loss: 4024.3042 - accuracy: 0.3484 - val_loss: 5256.3604 - val_accuracy: 0.3279\n",
      "Epoch 113/300\n",
      "4/4 [==============================] - 0s 7ms/step - loss: 5126.8574 - accuracy: 0.3320 - val_loss: 3911.2332 - val_accuracy: 0.2787\n",
      "Epoch 114/300\n",
      "4/4 [==============================] - 0s 8ms/step - loss: 2589.1377 - accuracy: 0.4385 - val_loss: 5867.7163 - val_accuracy: 0.2623\n",
      "Epoch 115/300\n",
      "4/4 [==============================] - 0s 6ms/step - loss: 5078.2681 - accuracy: 0.3238 - val_loss: 5755.6978 - val_accuracy: 0.3115\n",
      "Epoch 116/300\n",
      "4/4 [==============================] - 0s 8ms/step - loss: 4986.9609 - accuracy: 0.2951 - val_loss: 5530.2056 - val_accuracy: 0.3279\n",
      "Epoch 117/300\n",
      "4/4 [==============================] - 0s 7ms/step - loss: 4604.0415 - accuracy: 0.2910 - val_loss: 5945.3735 - val_accuracy: 0.2459\n",
      "Epoch 118/300\n",
      "4/4 [==============================] - 0s 7ms/step - loss: 3284.1580 - accuracy: 0.4426 - val_loss: 3807.4507 - val_accuracy: 0.2131\n",
      "Epoch 119/300\n",
      "4/4 [==============================] - 0s 5ms/step - loss: 1785.3348 - accuracy: 0.4713 - val_loss: 5260.4702 - val_accuracy: 0.2295\n",
      "Epoch 120/300\n",
      "4/4 [==============================] - 0s 8ms/step - loss: 3251.1631 - accuracy: 0.3648 - val_loss: 5446.7842 - val_accuracy: 0.1967\n",
      "Epoch 121/300\n",
      "4/4 [==============================] - 0s 8ms/step - loss: 3827.7148 - accuracy: 0.4098 - val_loss: 4033.6982 - val_accuracy: 0.2951\n",
      "Epoch 122/300\n",
      "4/4 [==============================] - 0s 7ms/step - loss: 4545.6455 - accuracy: 0.3156 - val_loss: 5140.4883 - val_accuracy: 0.2951\n",
      "Epoch 123/300\n",
      "4/4 [==============================] - 0s 8ms/step - loss: 2781.7751 - accuracy: 0.4549 - val_loss: 4890.1919 - val_accuracy: 0.0984\n",
      "Epoch 124/300\n",
      "4/4 [==============================] - 0s 8ms/step - loss: 2834.7407 - accuracy: 0.3934 - val_loss: 5143.4810 - val_accuracy: 0.2623\n",
      "Epoch 125/300\n",
      "4/4 [==============================] - 0s 7ms/step - loss: 2725.6697 - accuracy: 0.4590 - val_loss: 6720.6982 - val_accuracy: 0.0984\n",
      "Epoch 126/300\n",
      "4/4 [==============================] - 0s 7ms/step - loss: 3107.5071 - accuracy: 0.4180 - val_loss: 3009.4282 - val_accuracy: 0.2295\n",
      "Epoch 127/300\n",
      "4/4 [==============================] - 0s 7ms/step - loss: 1680.1714 - accuracy: 0.4754 - val_loss: 5306.4224 - val_accuracy: 0.2295\n",
      "Epoch 128/300\n",
      "4/4 [==============================] - 0s 7ms/step - loss: 3119.4138 - accuracy: 0.4262 - val_loss: 6968.0391 - val_accuracy: 0.1148\n",
      "Epoch 129/300\n",
      "4/4 [==============================] - 0s 7ms/step - loss: 3511.5686 - accuracy: 0.3730 - val_loss: 8190.0498 - val_accuracy: 0.1803\n",
      "Epoch 130/300\n",
      "4/4 [==============================] - 0s 6ms/step - loss: 2936.0447 - accuracy: 0.4467 - val_loss: 5484.8462 - val_accuracy: 0.1311\n",
      "Epoch 131/300\n",
      "4/4 [==============================] - 0s 6ms/step - loss: 3163.5359 - accuracy: 0.4139 - val_loss: 5256.4146 - val_accuracy: 0.1311\n",
      "Epoch 132/300\n",
      "4/4 [==============================] - 0s 7ms/step - loss: 3411.1743 - accuracy: 0.4016 - val_loss: 4386.4746 - val_accuracy: 0.1639\n",
      "Epoch 133/300\n",
      "4/4 [==============================] - 0s 7ms/step - loss: 2773.2822 - accuracy: 0.4057 - val_loss: 6370.5591 - val_accuracy: 0.2623\n",
      "Epoch 134/300\n",
      "4/4 [==============================] - 0s 7ms/step - loss: 3284.9426 - accuracy: 0.4631 - val_loss: 4899.1714 - val_accuracy: 0.1475\n",
      "Epoch 135/300\n",
      "4/4 [==============================] - 0s 7ms/step - loss: 2686.9663 - accuracy: 0.4139 - val_loss: 5077.3149 - val_accuracy: 0.2459\n",
      "Epoch 136/300\n",
      "4/4 [==============================] - 0s 8ms/step - loss: 2596.4846 - accuracy: 0.4344 - val_loss: 3676.6414 - val_accuracy: 0.1967\n",
      "Epoch 137/300\n",
      "4/4 [==============================] - 0s 7ms/step - loss: 2167.5757 - accuracy: 0.4754 - val_loss: 3668.1687 - val_accuracy: 0.1639\n",
      "Epoch 138/300\n",
      "4/4 [==============================] - 0s 7ms/step - loss: 3708.3713 - accuracy: 0.3320 - val_loss: 6570.1611 - val_accuracy: 0.2131\n",
      "Epoch 139/300\n",
      "4/4 [==============================] - 0s 7ms/step - loss: 3131.0774 - accuracy: 0.4549 - val_loss: 3862.1216 - val_accuracy: 0.2459\n",
      "Epoch 140/300\n",
      "4/4 [==============================] - 0s 6ms/step - loss: 2776.3535 - accuracy: 0.3893 - val_loss: 5844.7036 - val_accuracy: 0.2787\n",
      "Epoch 141/300\n",
      "4/4 [==============================] - 0s 7ms/step - loss: 4708.2729 - accuracy: 0.3484 - val_loss: 6707.8789 - val_accuracy: 0.1148\n",
      "Epoch 142/300\n",
      "4/4 [==============================] - 0s 6ms/step - loss: 3694.9805 - accuracy: 0.3648 - val_loss: 3994.1694 - val_accuracy: 0.2131\n",
      "Epoch 143/300\n",
      "4/4 [==============================] - 0s 7ms/step - loss: 1974.4839 - accuracy: 0.5000 - val_loss: 2938.8638 - val_accuracy: 0.2459\n",
      "Epoch 144/300\n",
      "4/4 [==============================] - 0s 6ms/step - loss: 3348.8376 - accuracy: 0.3811 - val_loss: 3620.2715 - val_accuracy: 0.2295\n",
      "Epoch 145/300\n",
      "4/4 [==============================] - 0s 6ms/step - loss: 2038.5872 - accuracy: 0.4918 - val_loss: 3589.3645 - val_accuracy: 0.1148\n",
      "Epoch 146/300\n",
      "4/4 [==============================] - 0s 7ms/step - loss: 4062.0649 - accuracy: 0.3279 - val_loss: 5948.4243 - val_accuracy: 0.2295\n",
      "Epoch 147/300\n",
      "4/4 [==============================] - 0s 6ms/step - loss: 5253.5625 - accuracy: 0.3320 - val_loss: 3848.4492 - val_accuracy: 0.2623\n",
      "Epoch 148/300\n",
      "4/4 [==============================] - 0s 9ms/step - loss: 949.6566 - accuracy: 0.5902 - val_loss: 3530.2617 - val_accuracy: 0.2787\n",
      "Epoch 149/300\n",
      "4/4 [==============================] - 0s 7ms/step - loss: 2864.3525 - accuracy: 0.4139 - val_loss: 7298.1885 - val_accuracy: 0.1148\n",
      "Epoch 150/300\n",
      "4/4 [==============================] - 0s 7ms/step - loss: 4048.2542 - accuracy: 0.3566 - val_loss: 4484.7681 - val_accuracy: 0.2295\n",
      "Epoch 151/300\n",
      "4/4 [==============================] - 0s 7ms/step - loss: 2734.4519 - accuracy: 0.4467 - val_loss: 4102.6084 - val_accuracy: 0.1639\n",
      "Epoch 152/300\n",
      "4/4 [==============================] - 0s 7ms/step - loss: 2520.2017 - accuracy: 0.4549 - val_loss: 8084.7651 - val_accuracy: 0.1311\n",
      "Epoch 153/300\n",
      "4/4 [==============================] - 0s 7ms/step - loss: 2536.9307 - accuracy: 0.4918 - val_loss: 4344.4976 - val_accuracy: 0.1803\n",
      "Epoch 154/300\n",
      "4/4 [==============================] - 0s 8ms/step - loss: 3265.6526 - accuracy: 0.3852 - val_loss: 5037.0449 - val_accuracy: 0.2787\n",
      "Epoch 155/300\n",
      "4/4 [==============================] - 0s 6ms/step - loss: 3157.6975 - accuracy: 0.4221 - val_loss: 4741.8535 - val_accuracy: 0.2459\n",
      "Epoch 156/300\n",
      "4/4 [==============================] - 0s 7ms/step - loss: 3577.3320 - accuracy: 0.4098 - val_loss: 4214.1328 - val_accuracy: 0.2623\n",
      "Epoch 157/300\n",
      "4/4 [==============================] - 0s 6ms/step - loss: 2556.7490 - accuracy: 0.4303 - val_loss: 4886.1128 - val_accuracy: 0.1311\n",
      "Epoch 158/300\n",
      "4/4 [==============================] - 0s 7ms/step - loss: 2198.1624 - accuracy: 0.4549 - val_loss: 6158.9561 - val_accuracy: 0.1803\n",
      "Epoch 159/300\n",
      "4/4 [==============================] - 0s 7ms/step - loss: 2604.9744 - accuracy: 0.4426 - val_loss: 3250.6636 - val_accuracy: 0.2459\n",
      "Epoch 160/300\n",
      "4/4 [==============================] - 0s 7ms/step - loss: 4058.7119 - accuracy: 0.3238 - val_loss: 6880.0464 - val_accuracy: 0.1148\n",
      "Epoch 161/300\n",
      "4/4 [==============================] - 0s 8ms/step - loss: 4829.4199 - accuracy: 0.3525 - val_loss: 3539.5872 - val_accuracy: 0.2459\n",
      "Epoch 162/300\n",
      "4/4 [==============================] - 0s 7ms/step - loss: 1602.7188 - accuracy: 0.5369 - val_loss: 3213.6936 - val_accuracy: 0.1803\n",
      "Epoch 163/300\n",
      "4/4 [==============================] - 0s 7ms/step - loss: 2467.9902 - accuracy: 0.4467 - val_loss: 3247.7505 - val_accuracy: 0.2131\n",
      "Epoch 164/300\n",
      "4/4 [==============================] - 0s 6ms/step - loss: 2972.6191 - accuracy: 0.4467 - val_loss: 3491.4233 - val_accuracy: 0.1475\n",
      "Epoch 165/300\n",
      "4/4 [==============================] - 0s 7ms/step - loss: 1941.7024 - accuracy: 0.4836 - val_loss: 5300.4463 - val_accuracy: 0.2131\n",
      "Epoch 166/300\n",
      "4/4 [==============================] - 0s 8ms/step - loss: 2498.5671 - accuracy: 0.4754 - val_loss: 4981.7593 - val_accuracy: 0.1148\n",
      "Epoch 167/300\n",
      "4/4 [==============================] - 0s 8ms/step - loss: 3852.4534 - accuracy: 0.3852 - val_loss: 3747.9351 - val_accuracy: 0.1475\n",
      "Epoch 168/300\n",
      "4/4 [==============================] - 0s 7ms/step - loss: 2591.6174 - accuracy: 0.4139 - val_loss: 7069.4834 - val_accuracy: 0.1475\n",
      "Epoch 169/300\n",
      "4/4 [==============================] - 0s 7ms/step - loss: 3858.6460 - accuracy: 0.4221 - val_loss: 4462.5127 - val_accuracy: 0.2623\n",
      "Epoch 170/300\n",
      "4/4 [==============================] - 0s 7ms/step - loss: 3402.2139 - accuracy: 0.4344 - val_loss: 3694.4836 - val_accuracy: 0.2131\n",
      "Epoch 171/300\n",
      "4/4 [==============================] - 0s 7ms/step - loss: 2379.6868 - accuracy: 0.4672 - val_loss: 3107.6003 - val_accuracy: 0.1803\n",
      "Epoch 172/300\n",
      "4/4 [==============================] - 0s 8ms/step - loss: 2660.3115 - accuracy: 0.4098 - val_loss: 8835.2354 - val_accuracy: 0.1148\n",
      "Epoch 173/300\n",
      "4/4 [==============================] - 0s 7ms/step - loss: 2424.8599 - accuracy: 0.4754 - val_loss: 4413.1016 - val_accuracy: 0.1803\n",
      "Epoch 174/300\n",
      "4/4 [==============================] - 0s 8ms/step - loss: 2507.2607 - accuracy: 0.4631 - val_loss: 5826.4521 - val_accuracy: 0.2131\n",
      "Epoch 175/300\n",
      "4/4 [==============================] - 0s 6ms/step - loss: 2631.3503 - accuracy: 0.4221 - val_loss: 5189.4126 - val_accuracy: 0.2131\n",
      "Epoch 176/300\n",
      "4/4 [==============================] - 0s 7ms/step - loss: 3662.5813 - accuracy: 0.3730 - val_loss: 3515.9380 - val_accuracy: 0.1148\n",
      "Epoch 177/300\n",
      "4/4 [==============================] - 0s 7ms/step - loss: 2164.5642 - accuracy: 0.4590 - val_loss: 3821.0254 - val_accuracy: 0.1639\n",
      "Epoch 178/300\n",
      "4/4 [==============================] - 0s 8ms/step - loss: 2530.1670 - accuracy: 0.4385 - val_loss: 4484.5361 - val_accuracy: 0.2787\n",
      "Epoch 179/300\n",
      "4/4 [==============================] - 0s 7ms/step - loss: 3937.7280 - accuracy: 0.3361 - val_loss: 6954.3184 - val_accuracy: 0.1639\n",
      "Epoch 180/300\n",
      "4/4 [==============================] - 0s 7ms/step - loss: 3528.1592 - accuracy: 0.4098 - val_loss: 3653.3901 - val_accuracy: 0.2295\n",
      "Epoch 181/300\n",
      "4/4 [==============================] - 0s 6ms/step - loss: 2388.2712 - accuracy: 0.4549 - val_loss: 6334.1689 - val_accuracy: 0.2787\n",
      "Epoch 182/300\n",
      "4/4 [==============================] - 0s 6ms/step - loss: 3974.6667 - accuracy: 0.3525 - val_loss: 6888.9390 - val_accuracy: 0.1311\n",
      "Epoch 183/300\n",
      "4/4 [==============================] - 0s 6ms/step - loss: 3168.6973 - accuracy: 0.3934 - val_loss: 6584.9941 - val_accuracy: 0.1311\n",
      "Epoch 184/300\n",
      "4/4 [==============================] - 0s 7ms/step - loss: 3838.9688 - accuracy: 0.3852 - val_loss: 4999.7949 - val_accuracy: 0.1148\n",
      "Epoch 185/300\n",
      "4/4 [==============================] - 0s 7ms/step - loss: 1969.1216 - accuracy: 0.5000 - val_loss: 3823.1565 - val_accuracy: 0.1967\n",
      "Epoch 186/300\n",
      "4/4 [==============================] - 0s 7ms/step - loss: 3378.1753 - accuracy: 0.3852 - val_loss: 4527.7798 - val_accuracy: 0.1803\n",
      "Epoch 187/300\n",
      "4/4 [==============================] - 0s 7ms/step - loss: 3008.7927 - accuracy: 0.3730 - val_loss: 8451.2852 - val_accuracy: 0.1148\n",
      "Epoch 188/300\n",
      "4/4 [==============================] - 0s 7ms/step - loss: 3219.3328 - accuracy: 0.4057 - val_loss: 3979.9868 - val_accuracy: 0.1475\n",
      "Epoch 189/300\n",
      "4/4 [==============================] - 0s 7ms/step - loss: 3261.5374 - accuracy: 0.3811 - val_loss: 5713.9688 - val_accuracy: 0.2623\n",
      "Epoch 190/300\n",
      "4/4 [==============================] - 0s 7ms/step - loss: 4419.0752 - accuracy: 0.4098 - val_loss: 6280.0083 - val_accuracy: 0.1639\n",
      "Epoch 191/300\n",
      "4/4 [==============================] - 0s 6ms/step - loss: 2565.2444 - accuracy: 0.4426 - val_loss: 4239.9194 - val_accuracy: 0.2295\n",
      "Epoch 192/300\n",
      "4/4 [==============================] - 0s 7ms/step - loss: 2675.3469 - accuracy: 0.4549 - val_loss: 4477.3032 - val_accuracy: 0.2295\n",
      "Epoch 193/300\n",
      "4/4 [==============================] - 0s 6ms/step - loss: 2676.5847 - accuracy: 0.4508 - val_loss: 4835.2534 - val_accuracy: 0.3115\n",
      "Epoch 194/300\n",
      "4/4 [==============================] - 0s 6ms/step - loss: 1749.1191 - accuracy: 0.5574 - val_loss: 2828.4255 - val_accuracy: 0.1148\n",
      "Epoch 195/300\n",
      "4/4 [==============================] - 0s 6ms/step - loss: 2036.7062 - accuracy: 0.4713 - val_loss: 6202.7749 - val_accuracy: 0.0984\n",
      "Epoch 196/300\n",
      "4/4 [==============================] - 0s 5ms/step - loss: 2568.0161 - accuracy: 0.4918 - val_loss: 6222.1670 - val_accuracy: 0.1475\n",
      "Epoch 197/300\n",
      "4/4 [==============================] - 0s 7ms/step - loss: 4205.6392 - accuracy: 0.3607 - val_loss: 6139.7451 - val_accuracy: 0.1148\n",
      "Epoch 198/300\n",
      "4/4 [==============================] - 0s 7ms/step - loss: 2479.0498 - accuracy: 0.4344 - val_loss: 4537.3960 - val_accuracy: 0.1639\n",
      "Epoch 199/300\n",
      "4/4 [==============================] - 0s 7ms/step - loss: 1660.7177 - accuracy: 0.5451 - val_loss: 4746.7690 - val_accuracy: 0.1967\n",
      "Epoch 200/300\n",
      "4/4 [==============================] - 0s 9ms/step - loss: 1662.9036 - accuracy: 0.4877 - val_loss: 3519.4573 - val_accuracy: 0.2295\n",
      "Epoch 201/300\n",
      "4/4 [==============================] - 0s 7ms/step - loss: 2112.8652 - accuracy: 0.4959 - val_loss: 3484.6780 - val_accuracy: 0.2623\n",
      "Epoch 202/300\n",
      "4/4 [==============================] - 0s 8ms/step - loss: 1666.3516 - accuracy: 0.5246 - val_loss: 4576.8989 - val_accuracy: 0.1475\n",
      "Epoch 203/300\n",
      "4/4 [==============================] - 0s 7ms/step - loss: 2447.2537 - accuracy: 0.4467 - val_loss: 5706.5869 - val_accuracy: 0.1475\n",
      "Epoch 204/300\n",
      "4/4 [==============================] - 0s 7ms/step - loss: 2885.7888 - accuracy: 0.4549 - val_loss: 8157.6826 - val_accuracy: 0.1311\n",
      "Epoch 205/300\n",
      "4/4 [==============================] - 0s 7ms/step - loss: 3116.9780 - accuracy: 0.4426 - val_loss: 4960.5059 - val_accuracy: 0.1475\n",
      "Epoch 206/300\n",
      "4/4 [==============================] - 0s 9ms/step - loss: 2181.6606 - accuracy: 0.4344 - val_loss: 3654.5420 - val_accuracy: 0.2295\n",
      "Epoch 207/300\n",
      "4/4 [==============================] - 0s 8ms/step - loss: 1930.6102 - accuracy: 0.5164 - val_loss: 2607.9045 - val_accuracy: 0.1475\n",
      "Epoch 208/300\n",
      "4/4 [==============================] - 0s 7ms/step - loss: 970.3043 - accuracy: 0.5779 - val_loss: 5768.7119 - val_accuracy: 0.1148\n",
      "Epoch 209/300\n",
      "4/4 [==============================] - 0s 7ms/step - loss: 2758.4866 - accuracy: 0.4139 - val_loss: 3797.0789 - val_accuracy: 0.2131\n",
      "Epoch 210/300\n",
      "4/4 [==============================] - 0s 6ms/step - loss: 4280.4756 - accuracy: 0.3566 - val_loss: 4864.6401 - val_accuracy: 0.2623\n",
      "Epoch 211/300\n",
      "4/4 [==============================] - 0s 6ms/step - loss: 2589.7817 - accuracy: 0.4795 - val_loss: 4349.9077 - val_accuracy: 0.1803\n",
      "Epoch 212/300\n",
      "4/4 [==============================] - 0s 7ms/step - loss: 2194.1965 - accuracy: 0.4877 - val_loss: 3533.1711 - val_accuracy: 0.2459\n",
      "Epoch 213/300\n",
      "4/4 [==============================] - 0s 8ms/step - loss: 3663.1353 - accuracy: 0.3566 - val_loss: 3860.1499 - val_accuracy: 0.1639\n",
      "Epoch 214/300\n",
      "4/4 [==============================] - 0s 8ms/step - loss: 2439.7610 - accuracy: 0.4713 - val_loss: 4135.9155 - val_accuracy: 0.1967\n",
      "Epoch 215/300\n",
      "4/4 [==============================] - 0s 8ms/step - loss: 2342.0378 - accuracy: 0.4426 - val_loss: 6098.2271 - val_accuracy: 0.3115\n",
      "Epoch 216/300\n",
      "4/4 [==============================] - 0s 7ms/step - loss: 3618.6182 - accuracy: 0.3689 - val_loss: 5092.7690 - val_accuracy: 0.0984\n",
      "Epoch 217/300\n",
      "4/4 [==============================] - 0s 7ms/step - loss: 1621.3722 - accuracy: 0.5615 - val_loss: 5161.0474 - val_accuracy: 0.1639\n",
      "Epoch 218/300\n",
      "4/4 [==============================] - 0s 7ms/step - loss: 1983.9840 - accuracy: 0.5123 - val_loss: 5172.2817 - val_accuracy: 0.2131\n",
      "Epoch 219/300\n",
      "4/4 [==============================] - 0s 8ms/step - loss: 3248.1428 - accuracy: 0.3730 - val_loss: 4186.7427 - val_accuracy: 0.2623\n",
      "Epoch 220/300\n",
      "4/4 [==============================] - 0s 7ms/step - loss: 2876.4856 - accuracy: 0.4303 - val_loss: 3163.4390 - val_accuracy: 0.1803\n",
      "Epoch 221/300\n",
      "4/4 [==============================] - 0s 6ms/step - loss: 2930.0432 - accuracy: 0.4549 - val_loss: 4321.5566 - val_accuracy: 0.1475\n",
      "Epoch 222/300\n",
      "4/4 [==============================] - 0s 6ms/step - loss: 1819.3047 - accuracy: 0.5246 - val_loss: 6814.1348 - val_accuracy: 0.1803\n",
      "Epoch 223/300\n",
      "4/4 [==============================] - 0s 7ms/step - loss: 2084.8494 - accuracy: 0.5533 - val_loss: 4750.0542 - val_accuracy: 0.1803\n",
      "Epoch 224/300\n",
      "4/4 [==============================] - 0s 7ms/step - loss: 1679.9342 - accuracy: 0.5123 - val_loss: 3332.4231 - val_accuracy: 0.1803\n",
      "Epoch 225/300\n",
      "4/4 [==============================] - 0s 6ms/step - loss: 2062.2795 - accuracy: 0.5041 - val_loss: 5185.2544 - val_accuracy: 0.2131\n",
      "Epoch 226/300\n",
      "4/4 [==============================] - 0s 7ms/step - loss: 2289.0930 - accuracy: 0.4262 - val_loss: 3755.3733 - val_accuracy: 0.1475\n",
      "Epoch 227/300\n",
      "4/4 [==============================] - 0s 7ms/step - loss: 2490.9048 - accuracy: 0.4344 - val_loss: 5768.9414 - val_accuracy: 0.1639\n",
      "Epoch 228/300\n",
      "4/4 [==============================] - 0s 8ms/step - loss: 2574.0569 - accuracy: 0.4549 - val_loss: 5633.9424 - val_accuracy: 0.1475\n",
      "Epoch 229/300\n",
      "4/4 [==============================] - ETA: 0s - loss: 2148.5225 - accuracy: 0.531 - 0s 8ms/step - loss: 2197.8826 - accuracy: 0.4836 - val_loss: 6506.1504 - val_accuracy: 0.1475\n",
      "Epoch 230/300\n",
      "4/4 [==============================] - 0s 7ms/step - loss: 2803.1113 - accuracy: 0.4303 - val_loss: 5651.1763 - val_accuracy: 0.1311\n",
      "Epoch 231/300\n",
      "4/4 [==============================] - 0s 9ms/step - loss: 2661.4707 - accuracy: 0.4221 - val_loss: 10124.1475 - val_accuracy: 0.1311\n",
      "Epoch 232/300\n",
      "4/4 [==============================] - 0s 7ms/step - loss: 4758.6436 - accuracy: 0.3443 - val_loss: 8152.9805 - val_accuracy: 0.1311\n",
      "Epoch 233/300\n",
      "4/4 [==============================] - 0s 6ms/step - loss: 2539.7864 - accuracy: 0.4672 - val_loss: 4755.6992 - val_accuracy: 0.2623\n",
      "Epoch 234/300\n",
      "4/4 [==============================] - 0s 6ms/step - loss: 2855.8538 - accuracy: 0.4139 - val_loss: 6018.2261 - val_accuracy: 0.2623\n",
      "Epoch 235/300\n",
      "4/4 [==============================] - 0s 6ms/step - loss: 2011.4540 - accuracy: 0.5369 - val_loss: 4325.5142 - val_accuracy: 0.2459\n",
      "Epoch 236/300\n",
      "4/4 [==============================] - 0s 6ms/step - loss: 2441.5005 - accuracy: 0.4754 - val_loss: 8355.9766 - val_accuracy: 0.1803\n",
      "Epoch 237/300\n",
      "4/4 [==============================] - 0s 7ms/step - loss: 4909.2686 - accuracy: 0.3484 - val_loss: 3743.0225 - val_accuracy: 0.1803\n",
      "Epoch 238/300\n",
      "4/4 [==============================] - 0s 7ms/step - loss: 1930.8385 - accuracy: 0.4590 - val_loss: 4261.1274 - val_accuracy: 0.1639\n",
      "Epoch 239/300\n",
      "4/4 [==============================] - 0s 8ms/step - loss: 3505.4478 - accuracy: 0.4385 - val_loss: 8312.2227 - val_accuracy: 0.1311\n",
      "Epoch 240/300\n",
      "4/4 [==============================] - 0s 7ms/step - loss: 3410.8101 - accuracy: 0.4098 - val_loss: 3966.3416 - val_accuracy: 0.2295\n",
      "Epoch 241/300\n",
      "4/4 [==============================] - 0s 6ms/step - loss: 2412.1423 - accuracy: 0.5082 - val_loss: 2870.9485 - val_accuracy: 0.1148\n",
      "Epoch 242/300\n",
      "4/4 [==============================] - 0s 7ms/step - loss: 1729.0946 - accuracy: 0.4877 - val_loss: 3511.0967 - val_accuracy: 0.1475\n",
      "Epoch 243/300\n",
      "4/4 [==============================] - 0s 6ms/step - loss: 3259.5259 - accuracy: 0.4221 - val_loss: 4319.1172 - val_accuracy: 0.1967\n",
      "Epoch 244/300\n",
      "4/4 [==============================] - 0s 10ms/step - loss: 1627.9265 - accuracy: 0.5328 - val_loss: 6016.5361 - val_accuracy: 0.1475\n",
      "Epoch 245/300\n",
      "4/4 [==============================] - 0s 6ms/step - loss: 2378.3020 - accuracy: 0.5410 - val_loss: 2812.7847 - val_accuracy: 0.2459\n",
      "Epoch 246/300\n",
      "4/4 [==============================] - 0s 7ms/step - loss: 1877.6240 - accuracy: 0.4959 - val_loss: 2923.7717 - val_accuracy: 0.1967\n",
      "Epoch 247/300\n",
      "4/4 [==============================] - 0s 7ms/step - loss: 2440.2642 - accuracy: 0.4139 - val_loss: 6100.3354 - val_accuracy: 0.1803\n",
      "Epoch 248/300\n",
      "4/4 [==============================] - 0s 8ms/step - loss: 2534.5820 - accuracy: 0.4590 - val_loss: 4360.4761 - val_accuracy: 0.2623\n",
      "Epoch 249/300\n",
      "4/4 [==============================] - 0s 7ms/step - loss: 2532.8652 - accuracy: 0.4180 - val_loss: 6904.7144 - val_accuracy: 0.1475\n",
      "Epoch 250/300\n",
      "4/4 [==============================] - 0s 8ms/step - loss: 1856.4498 - accuracy: 0.5533 - val_loss: 4442.0464 - val_accuracy: 0.1475\n",
      "Epoch 251/300\n",
      "4/4 [==============================] - 0s 7ms/step - loss: 3082.8782 - accuracy: 0.4139 - val_loss: 4016.8186 - val_accuracy: 0.2459\n",
      "Epoch 252/300\n",
      "4/4 [==============================] - 0s 7ms/step - loss: 2137.7676 - accuracy: 0.4754 - val_loss: 5747.0693 - val_accuracy: 0.3115\n",
      "Epoch 253/300\n",
      "4/4 [==============================] - 0s 7ms/step - loss: 3972.7388 - accuracy: 0.3648 - val_loss: 5562.7437 - val_accuracy: 0.1639\n",
      "Epoch 254/300\n",
      "4/4 [==============================] - 0s 6ms/step - loss: 2914.2295 - accuracy: 0.4221 - val_loss: 5645.2217 - val_accuracy: 0.0820\n",
      "Epoch 255/300\n",
      "4/4 [==============================] - 0s 7ms/step - loss: 1924.9318 - accuracy: 0.5000 - val_loss: 3547.0640 - val_accuracy: 0.1967\n",
      "Epoch 256/300\n",
      "4/4 [==============================] - 0s 8ms/step - loss: 1880.6731 - accuracy: 0.5000 - val_loss: 4199.4648 - val_accuracy: 0.2787\n",
      "Epoch 257/300\n",
      "4/4 [==============================] - 0s 7ms/step - loss: 3544.1025 - accuracy: 0.3893 - val_loss: 5870.4307 - val_accuracy: 0.2623\n",
      "Epoch 258/300\n",
      "4/4 [==============================] - 0s 7ms/step - loss: 3151.7900 - accuracy: 0.4303 - val_loss: 7422.8271 - val_accuracy: 0.2951\n",
      "Epoch 259/300\n",
      "4/4 [==============================] - 0s 7ms/step - loss: 4237.0869 - accuracy: 0.3689 - val_loss: 5291.6445 - val_accuracy: 0.1311\n",
      "Epoch 260/300\n",
      "4/4 [==============================] - 0s 7ms/step - loss: 2178.6514 - accuracy: 0.5164 - val_loss: 5580.1641 - val_accuracy: 0.1639\n",
      "Epoch 261/300\n",
      "4/4 [==============================] - 0s 7ms/step - loss: 2323.5579 - accuracy: 0.4795 - val_loss: 6372.3994 - val_accuracy: 0.1639\n",
      "Epoch 262/300\n",
      "4/4 [==============================] - 0s 8ms/step - loss: 3219.9138 - accuracy: 0.4139 - val_loss: 5897.2388 - val_accuracy: 0.2459\n",
      "Epoch 263/300\n",
      "4/4 [==============================] - 0s 8ms/step - loss: 3933.8064 - accuracy: 0.3770 - val_loss: 3110.4321 - val_accuracy: 0.1967\n",
      "Epoch 264/300\n",
      "4/4 [==============================] - 0s 8ms/step - loss: 1548.8976 - accuracy: 0.5205 - val_loss: 3467.3022 - val_accuracy: 0.2459\n",
      "Epoch 265/300\n",
      "4/4 [==============================] - 0s 8ms/step - loss: 1892.2919 - accuracy: 0.4918 - val_loss: 3641.1978 - val_accuracy: 0.2131\n",
      "Epoch 266/300\n",
      "4/4 [==============================] - 0s 7ms/step - loss: 2335.6326 - accuracy: 0.4754 - val_loss: 4625.6631 - val_accuracy: 0.0984\n",
      "Epoch 267/300\n",
      "4/4 [==============================] - 0s 8ms/step - loss: 1756.8340 - accuracy: 0.4836 - val_loss: 5976.8076 - val_accuracy: 0.2787\n",
      "Epoch 268/300\n",
      "4/4 [==============================] - 0s 7ms/step - loss: 4580.2183 - accuracy: 0.3238 - val_loss: 3868.4551 - val_accuracy: 0.2131\n",
      "Epoch 269/300\n",
      "4/4 [==============================] - 0s 8ms/step - loss: 2914.5493 - accuracy: 0.4221 - val_loss: 5858.5854 - val_accuracy: 0.2951\n",
      "Epoch 270/300\n",
      "4/4 [==============================] - 0s 7ms/step - loss: 3295.6831 - accuracy: 0.4385 - val_loss: 3065.9092 - val_accuracy: 0.1639\n",
      "Epoch 271/300\n",
      "4/4 [==============================] - 0s 6ms/step - loss: 880.0822 - accuracy: 0.6066 - val_loss: 5382.2529 - val_accuracy: 0.0984\n",
      "Epoch 272/300\n",
      "4/4 [==============================] - 0s 6ms/step - loss: 2266.2795 - accuracy: 0.4385 - val_loss: 3940.6997 - val_accuracy: 0.2459\n",
      "Epoch 273/300\n",
      "4/4 [==============================] - 0s 7ms/step - loss: 4167.8481 - accuracy: 0.3443 - val_loss: 8365.2148 - val_accuracy: 0.1311\n",
      "Epoch 274/300\n",
      "4/4 [==============================] - 0s 8ms/step - loss: 3976.6436 - accuracy: 0.3402 - val_loss: 6610.6250 - val_accuracy: 0.1475\n",
      "Epoch 275/300\n",
      "4/4 [==============================] - 0s 7ms/step - loss: 1865.3766 - accuracy: 0.5533 - val_loss: 3314.2207 - val_accuracy: 0.2295\n",
      "Epoch 276/300\n",
      "4/4 [==============================] - 0s 7ms/step - loss: 1167.4567 - accuracy: 0.5574 - val_loss: 5711.1846 - val_accuracy: 0.2459\n",
      "Epoch 277/300\n",
      "4/4 [==============================] - 0s 7ms/step - loss: 2494.2939 - accuracy: 0.5287 - val_loss: 4727.9136 - val_accuracy: 0.1803\n",
      "Epoch 278/300\n",
      "4/4 [==============================] - 0s 6ms/step - loss: 2359.5271 - accuracy: 0.4672 - val_loss: 6320.6299 - val_accuracy: 0.2295\n",
      "Epoch 279/300\n",
      "4/4 [==============================] - 0s 6ms/step - loss: 2651.9529 - accuracy: 0.4959 - val_loss: 4345.4790 - val_accuracy: 0.1639\n",
      "Epoch 280/300\n",
      "4/4 [==============================] - 0s 6ms/step - loss: 1813.9916 - accuracy: 0.4877 - val_loss: 4323.9277 - val_accuracy: 0.2295\n",
      "Epoch 281/300\n",
      "4/4 [==============================] - 0s 6ms/step - loss: 2525.9241 - accuracy: 0.4262 - val_loss: 4325.5068 - val_accuracy: 0.1639\n",
      "Epoch 282/300\n",
      "4/4 [==============================] - 0s 8ms/step - loss: 1834.2451 - accuracy: 0.5123 - val_loss: 4402.4126 - val_accuracy: 0.2787\n",
      "Epoch 283/300\n",
      "4/4 [==============================] - 0s 7ms/step - loss: 1204.5653 - accuracy: 0.6107 - val_loss: 3009.8926 - val_accuracy: 0.2459\n",
      "Epoch 284/300\n",
      "4/4 [==============================] - 0s 6ms/step - loss: 2098.0862 - accuracy: 0.4754 - val_loss: 4131.7329 - val_accuracy: 0.2295\n",
      "Epoch 285/300\n",
      "4/4 [==============================] - 0s 7ms/step - loss: 2402.4211 - accuracy: 0.4590 - val_loss: 4400.1772 - val_accuracy: 0.2131\n",
      "Epoch 286/300\n",
      "4/4 [==============================] - 0s 7ms/step - loss: 1458.2948 - accuracy: 0.5287 - val_loss: 5257.1514 - val_accuracy: 0.1803\n",
      "Epoch 287/300\n",
      "4/4 [==============================] - 0s 7ms/step - loss: 1989.4332 - accuracy: 0.4713 - val_loss: 5129.1753 - val_accuracy: 0.1639\n",
      "Epoch 288/300\n",
      "4/4 [==============================] - 0s 7ms/step - loss: 2988.9519 - accuracy: 0.3975 - val_loss: 5651.4092 - val_accuracy: 0.2131\n",
      "Epoch 289/300\n",
      "4/4 [==============================] - 0s 7ms/step - loss: 2851.5803 - accuracy: 0.4549 - val_loss: 6083.6025 - val_accuracy: 0.1148\n",
      "Epoch 290/300\n",
      "4/4 [==============================] - 0s 7ms/step - loss: 3406.6399 - accuracy: 0.4467 - val_loss: 3344.2217 - val_accuracy: 0.2295\n",
      "Epoch 291/300\n",
      "4/4 [==============================] - 0s 7ms/step - loss: 1867.1227 - accuracy: 0.5369 - val_loss: 5507.8394 - val_accuracy: 0.0984\n",
      "Epoch 292/300\n",
      "4/4 [==============================] - 0s 8ms/step - loss: 2687.8279 - accuracy: 0.4467 - val_loss: 3346.5310 - val_accuracy: 0.2131\n",
      "Epoch 293/300\n",
      "4/4 [==============================] - 0s 7ms/step - loss: 2388.3796 - accuracy: 0.4672 - val_loss: 7030.0913 - val_accuracy: 0.1803\n",
      "Epoch 294/300\n",
      "4/4 [==============================] - 0s 8ms/step - loss: 4831.5845 - accuracy: 0.3484 - val_loss: 4023.4634 - val_accuracy: 0.2459\n",
      "Epoch 295/300\n",
      "4/4 [==============================] - 0s 7ms/step - loss: 1437.3312 - accuracy: 0.5451 - val_loss: 3549.6252 - val_accuracy: 0.1311\n",
      "Epoch 296/300\n",
      "4/4 [==============================] - 0s 8ms/step - loss: 1022.2769 - accuracy: 0.6311 - val_loss: 3775.3757 - val_accuracy: 0.2623\n",
      "Epoch 297/300\n",
      "4/4 [==============================] - 0s 7ms/step - loss: 1259.6113 - accuracy: 0.5656 - val_loss: 4331.4448 - val_accuracy: 0.1475\n",
      "Epoch 298/300\n",
      "4/4 [==============================] - 0s 8ms/step - loss: 2988.8340 - accuracy: 0.4262 - val_loss: 6209.1528 - val_accuracy: 0.1148\n",
      "Epoch 299/300\n",
      "4/4 [==============================] - 0s 7ms/step - loss: 2990.3826 - accuracy: 0.4590 - val_loss: 4511.0464 - val_accuracy: 0.2623\n",
      "Epoch 300/300\n",
      "4/4 [==============================] - 0s 6ms/step - loss: 1738.8254 - accuracy: 0.5287 - val_loss: 4475.5278 - val_accuracy: 0.2459\n",
      "Model: \"sequential_1\"\n",
      "_________________________________________________________________\n",
      "Layer (type)                 Output Shape              Param #   \n",
      "=================================================================\n",
      "dense_1 (Dense)              (None, 4)                 3844      \n",
      "=================================================================\n",
      "Total params: 3,844\n",
      "Trainable params: 3,844\n",
      "Non-trainable params: 0\n",
      "_________________________________________________________________\n"
     ]
    }
   ],
   "source": [
    "model = tf.keras.models.Sequential([ tf.keras.layers.Dense(4, activation = \"softmax\", kernel_regularizer = tf.keras.regularizers.l2()) #全连接层，三个神经元，激活函数为softmax,使用l2正则化])\n",
    "model.compile( \n",
    "    optimizer = tf.keras.optimizers.SGD(lr = 0.01),\n",
    "    loss = tf.keras.losses.SparseCategoricalCrossentropy(from_logits = False), \n",
    "    metrics = ['accuracy']\n",
    ")\n",
    "history=model.fit( \n",
    "    train['data'], train['expression'],\n",
    "    batch_size = 64,\n",
    "    epochs = 300, \n",
    "    validation_split = 0.2,\n",
    ")\n",
    "model.summary() "
   ]
  },
  {
   "cell_type": "code",
   "execution_count": 28,
   "metadata": {},
   "outputs": [],
   "source": [
    "y_pred=model.predict(test['data'])"
   ]
  },
  {
   "cell_type": "code",
   "execution_count": 29,
   "metadata": {},
   "outputs": [
    {
     "data": {
      "text/plain": [
       "(319, 4)"
      ]
     },
     "execution_count": 29,
     "metadata": {},
     "output_type": "execute_result"
    }
   ],
   "source": [
    "y_pred.shape"
   ]
  },
  {
   "cell_type": "code",
   "execution_count": 30,
   "metadata": {},
   "outputs": [],
   "source": [
    "y_pred_expre=[]\n",
    "for x in y_pred:\n",
    "    y_pred_expre.append(np.argmax(x))"
   ]
  },
  {
   "cell_type": "code",
   "execution_count": 31,
   "metadata": {},
   "outputs": [
    {
     "data": {
      "image/png": "[encoded data removed]",
      "text/plain": [
       "<Figure size 432x288 with 2 Axes>"
      ]
     },
     "metadata": {
      "needs_background": "light"
     },
     "output_type": "display_data"
    }
   ],
   "source": [
    "# Plot the loss function and train / validation accuracies\n",
    "plt.subplot(2, 1, 1)\n",
    "plt.plot(history.history['loss'])\n",
    "plt.title('Loss history')\n",
    "# plt.xlabel('epoch')\n",
    "plt.ylabel('Loss')\n",
    "\n",
    "plt.subplot(2, 1, 2)\n",
    "plt.plot(history.history['accuracy'], label='train')\n",
    "plt.plot(history.history['val_accuracy'], label='val')\n",
    "# plt.title('Classification accuracy history')\n",
    "plt.xlabel('Epoch')\n",
    "plt.ylabel('Classification accuracy')\n",
    "plt.legend()\n",
    "plt.show()"
   ]
  },
  {
   "cell_type": "code",
   "execution_count": 32,
   "metadata": {},
   "outputs": [
    {
     "name": "stdout",
     "output_type": "stream",
     "text": [
      "              precision    recall  f1-score   support\n",
      "\n",
      "       angry       0.26      0.18      0.21        83\n",
      "       happy       0.16      0.37      0.22        73\n",
      "     neutral       0.18      0.18      0.18        87\n",
      "         sad       0.00      0.00      0.00        76\n",
      "\n",
      "    accuracy                           0.18       319\n",
      "   macro avg       0.15      0.18      0.15       319\n",
      "weighted avg       0.15      0.18      0.16       319\n",
      "\n"
     ]
    }
   ],
   "source": [
    "print(classification_report(test['expression'], y_pred_expre, target_names=expression))"
   ]
  },
  {
   "cell_type": "markdown",
   "metadata": {},
   "source": [
    "最后效果很差，才0.18"
   ]
  },
  {
   "cell_type": "markdown",
   "metadata": {},
   "source": [
    "### 法三：kmeas聚类算法"
   ]
  },
  {
   "cell_type": "code",
   "execution_count": 33,
   "metadata": {},
   "outputs": [
    {
     "name": "stdout",
     "output_type": "stream",
     "text": [
      "              precision    recall  f1-score   support\n",
      "\n",
      "       angry       0.26      0.17      0.21        83\n",
      "       happy       0.21      0.42      0.28        73\n",
      "     neutral       0.24      0.15      0.18        87\n",
      "         sad       0.26      0.22      0.24        76\n",
      "\n",
      "    accuracy                           0.24       319\n",
      "   macro avg       0.24      0.24      0.23       319\n",
      "weighted avg       0.24      0.24      0.23       319\n",
      "\n"
     ]
    }
   ],
   "source": [
    "kmeans = cluster.KMeans(init='k-means++', n_clusters=4, random_state=1,max_iter = 1000)#有四类表情，所以n_clusters=4\n",
    "kmeans.fit(train['data'])\n",
    "y_pred_kmeans = kmeans.predict(test['data'])\n",
    "print(classification_report(test['expression'], y_pred_kmeans, target_names=expression))"
   ]
  },
  {
   "cell_type": "markdown",
   "metadata": {},
   "source": [
    "效果很差，24%，和盲猜差不多"
   ]
  }
 ],
 "metadata": {
  "kernelspec": {
   "display_name": "Python 3",
   "language": "python",
   "name": "python3"
  },
  "language_info": {
   "codemirror_mode": {
    "name": "ipython",
    "version": 3
   },
   "file_extension": ".py",
   "mimetype": "text/x-python",
   "name": "python",
   "nbconvert_exporter": "python",
   "pygments_lexer": "ipython3",
   "version": "3.8.5"
  }
 },
 "nbformat": 4,
 "nbformat_minor": 4
}

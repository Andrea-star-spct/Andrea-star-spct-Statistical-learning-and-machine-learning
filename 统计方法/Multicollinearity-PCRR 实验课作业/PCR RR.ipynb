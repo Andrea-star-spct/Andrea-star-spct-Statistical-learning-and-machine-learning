{
 "cells": [
  {
   "cell_type": "markdown",
   "metadata": {},
   "source": [
    "# Multicollinearity-PCR/RR\n",
    "## 背景描述  \n",
    "\n",
    "McDonald和Schwing(1973)提出了一项研究，将总死亡率与气候、社会经济和污染变量联系起来，本研究选择了 15 个自变量列于下表。因变量是以上原因在年龄调整后的总死亡率。我们不对该研究的流行病学方面作评论，而仅仅作为变量选择的说明性例子使用这些数据。  \n",
    "由此我们构造了 60 个观测的 15 个变量，具体请见下表：\n",
    "\n",
    "## 数据描述\n",
    "\n",
    "|     变量名      |            变量含义            |      变量类型       |  变量取值范围  |\n",
    "| :-------------: | :----------------------------: | :-----------------: | :------------: |\n",
    "|  （自变量1）X1  |       年平均降水量(英寸)       | continuous variable | $\\mathbb{R}^+$ |\n",
    "|  （自变量2）X2  |      一月平均气温(华氏度)      | continuous variable | $\\mathbb{R}^+$ |\n",
    "|  （自变量3）X3  |      七月平均气温(华氏度)      | continuous variable | $\\mathbb{R}^+$ |\n",
    "|  （自变量4）X4  |      占65岁以上人口的比例      | continuous variable | $\\mathbb{R}^+$ |\n",
    "|  （自变量5）X5  |          每个家庭人口          | continuous variable | $\\mathbb{R}^+$ |\n",
    "|  （自变量6）X6  |         完成的平均学制         | continuous variable | $\\mathbb{R}^+$ |\n",
    "|  （自变量7）X7  |     健全的住房单位的百分比     | continuous variable | $\\mathbb{R}^+$ |\n",
    "|  （自变量8）X8  |         每平方英里人口         | continuous variable | $\\mathbb{R}^+$ |\n",
    "|  （自变量9）X9  |       占非白人人口的比例       | continuous variable | $\\mathbb{R}^+$ |\n",
    "| （自变量10）X10 |        白领工作的就业率        | continuous variable | $\\mathbb{R}^+$ |\n",
    "| （自变量11）X11 | 收入在3000美元以下家庭的百分比 | continuous variable | $\\mathbb{R}^+$ |\n",
    "| （自变量12）X12 |    碳氢化合物的相对污染潜力    | continuous variable | $\\mathbb{R}^+$ |\n",
    "| （自变量13）X13 |     氮氧化物的相对污染潜力     | continuous variable | $\\mathbb{R}^+$ |\n",
    "| （自变量14）X14 |     二氧化硫的相对污染潜力     | continuous variable | $\\mathbb{R}^+$ |\n",
    "| （自变量15）X15 |         相对湿度百分比         | continuous variable | $\\mathbb{R}^+$ |\n",
    "|   （因变量）Y   |  所有原因经年龄调整的总死亡率  | continuous variable | $\\mathbb{R}^+$ |"
   ]
  },
  {
   "cell_type": "markdown",
   "metadata": {},
   "source": [
    "## 问题 \n",
    "注：这里使用 \\alpha=0.05 的显著性水平\n",
    "\n",
    "上次实验已经判断该数据存在多重共线性，尝试使用主成分回归和岭回归消除多重共线性。这次作业数据与课件数据的主要区别在于样本量的大小不同，对于作业的60个样本数据，不便于直接划分训练集和测试集，因此需要大家采用留一法（即n折交叉验证）进行。对于前三问，直接使用前59个数据展示回归分析的过程（为了简化结果）；对于第四问，采用留一法展示60种模型在60种测试用例上的效果（以RMSE或MSE为指标）。\n",
    "\n",
    "主成分回归：\n",
    "1. 选择适当的主成分.\n",
    "2. 对降维后的数据进行回归分析.\n",
    "\n",
    "岭回归：\n",
    "3. 选择适当的岭参数.\n",
    "4. 进行岭回归分析并在测试用例上做预测，比较最小二乘、主成分回归和岭回归建立的模型在测试集上的效果.\n",
    "\n",
    "## 解决方案"
   ]
  },
  {
   "cell_type": "code",
   "execution_count": 1,
   "metadata": {},
   "outputs": [
    {
     "name": "stdout",
     "output_type": "stream",
     "text": [
      "    0     1     2     3     4     5     6     7       8     9     10    11  \\\n",
      "0  1.0  36.0  27.0  71.0   8.1  3.34  11.4  81.5  3243.0   8.8  42.6  11.7   \n",
      "1  1.0  35.0  23.0  72.0  11.1  3.14  11.0  78.8  4281.0   3.5  50.7  14.4   \n",
      "2  1.0  44.0  29.0  74.0  10.4  3.21   9.8  81.6  4260.0   0.8  39.4  12.4   \n",
      "3  1.0  47.0  45.0  79.0   6.5  3.41  11.1  77.5  3125.0  27.1  50.2  20.6   \n",
      "4  1.0  43.0  35.0  77.0   7.6  3.44   9.6  84.6  6441.0  24.4  43.7  14.3   \n",
      "\n",
      "     12    13     14    15       16  \n",
      "0  21.0  15.0   59.0  59.0   921.87  \n",
      "1   8.0  10.0   39.0  57.0   997.88  \n",
      "2   6.0   6.0   33.0  54.0   962.35  \n",
      "3  18.0   8.0   24.0  56.0   982.29  \n",
      "4  43.0  38.0  206.0  55.0  1071.29  \n"
     ]
    }
   ],
   "source": [
    "# Import standard packages\n",
    "import numpy as np\n",
    "import pandas as pd\n",
    "import scipy.stats as stats\n",
    "import matplotlib.pyplot as plt\n",
    "import math\n",
    "import seaborn as sns\n",
    "\n",
    "# Import additional packages\n",
    "from itertools import combinations\n",
    "import statsmodels.api as sm\n",
    "from statsmodels.stats.outliers_influence import variance_inflation_factor\n",
    "from sklearn.decomposition import PCA  # 进行主成分分析\n",
    "from sklearn import linear_model  # 进行岭回归分析\n",
    "from ipywidgets import interact  # 互动功能\n",
    "%matplotlib inline \n",
    "\n",
    "alpha = 0.05\n",
    "p = 15\n",
    "n = 60 #数据集样本个数\n",
    "n_train = 59 #划分数据集，训练集的样本个数\n",
    "\n",
    "x = pd.read_csv('Air_Pollution.csv')\n",
    "x.insert(0, 'intercept', np.ones(len(x))) \n",
    "data = x.values * 1\n",
    "df = pd.DataFrame(data)\n",
    "print(df.head())\n",
    "\n",
    "#要把所有n个数据拿出来，为最后的留一法做准备\n",
    "X = data[0:n,0:p+1]\n",
    "Y = data[0:n,-1]\n",
    "\n",
    "#划分训练集\n",
    "X_tr = data[0:n_train,0:p+1]\n",
    "Y_tr = data[0:n_train,-1]\n",
    "\n",
    "#划分测试集\n",
    "X_tst = data[n_train:n+1,0:p+1]\n",
    "Y_tst = data[n_train:n+1,-1]"
   ]
  },
  {
   "cell_type": "markdown",
   "metadata": {},
   "source": [
    "**数据预处理：**"
   ]
  },
  {
   "cell_type": "code",
   "execution_count": 2,
   "metadata": {},
   "outputs": [
    {
     "name": "stdout",
     "output_type": "stream",
     "text": [
      "     0         1         2         3         4         5         6         7  \\\n",
      "0  1.0 -0.017680 -0.090975 -0.099390 -0.061927  0.079270  0.065058  0.014383   \n",
      "1  1.0 -0.030720 -0.142340 -0.071988  0.204765 -0.117654  0.003397 -0.054013   \n",
      "2  1.0  0.086634 -0.065293 -0.017184  0.142537 -0.048730 -0.181588  0.016917   \n",
      "3  1.0  0.125752  0.140163  0.119825 -0.204162  0.148194  0.018812 -0.086945   \n",
      "4  1.0  0.073595  0.011753  0.065022 -0.106375  0.177732 -0.212419  0.092913   \n",
      "\n",
      "          8         9        10        11        12        13        14  \\\n",
      "0 -0.057366 -0.044844 -0.105561 -0.084469 -0.024437 -0.021963  0.010239   \n",
      "1  0.035637 -0.122188  0.130176  0.000106 -0.042848 -0.036017 -0.030856   \n",
      "2  0.033756 -0.161590 -0.198692 -0.062542 -0.045680 -0.047261 -0.043184   \n",
      "3 -0.067938  0.222214  0.115624  0.194316 -0.028685 -0.041639 -0.061677   \n",
      "4  0.229169  0.182812 -0.073547 -0.003026  0.006721  0.042687  0.312283   \n",
      "\n",
      "         15        Y  \n",
      "0  0.032463   921.87  \n",
      "1 -0.016026   997.88  \n",
      "2 -0.088761   962.35  \n",
      "3 -0.040271   982.29  \n",
      "4 -0.064516  1071.29  \n"
     ]
    }
   ],
   "source": [
    "# 对数据进行标准化\n",
    "# 自变量 X 的均值\n",
    "X_mean = []\n",
    "for i in range(p):\n",
    "    X_mean.append(np.mean(X_tr[:, i+1])) \n",
    "\n",
    "# 自变量 X 的标准差\n",
    "X_L = []\n",
    "for i in range(p):\n",
    "    X_L.append(sum((X_tr[:, i+1] - X_mean[i]) ** 2))  \n",
    "\n",
    "# 对自变量 X 标准化(截距项不用标准化)\n",
    "X_std = X_tr * 1.0\n",
    "X_std[:,1:p+1] = (X_tr[:,1:p+1] - X_mean) / np.sqrt(X_L)\n",
    "\n",
    "df_std = pd.DataFrame(X_std)\n",
    "df_std['Y'] = Y_tr\n",
    "print(df_std.head()) \n"
   ]
  },
  {
   "cell_type": "code",
   "execution_count": 3,
   "metadata": {},
   "outputs": [],
   "source": [
    "# 对数据进行标准化\n",
    "# 自变量 X 的均值\n",
    "X_mean = []\n",
    "for i in range(p):\n",
    "    X_mean.append(np.mean(X[:, i+1])) \n",
    "\n",
    "# 自变量 X 的标准差\n",
    "X_L = []\n",
    "for i in range(p):\n",
    "    X_L.append(sum((X[:, i+1] - X_mean[i]) ** 2))  \n",
    "\n",
    "# 对自变量 X 标准化(截距项不用标准化)  最后留一法中用到\n",
    "\n",
    "X_std_1 = X * 1.0\n",
    "X_std_1[:,1:p+1] = (X[:,1:p+1] - X_mean) / np.sqrt(X_L)"
   ]
  },
  {
   "cell_type": "markdown",
   "metadata": {},
   "source": [
    "**对原始数据做多元线性回归分析**"
   ]
  },
  {
   "cell_type": "code",
   "execution_count": 4,
   "metadata": {},
   "outputs": [
    {
     "data": {
      "text/html": [
       "<table class=\"simpletable\">\n",
       "<caption>OLS Regression Results</caption>\n",
       "<tr>\n",
       "  <th>Dep. Variable:</th>            <td>y</td>        <th>  R-squared:         </th> <td>   0.765</td>\n",
       "</tr>\n",
       "<tr>\n",
       "  <th>Model:</th>                   <td>OLS</td>       <th>  Adj. R-squared:    </th> <td>   0.683</td>\n",
       "</tr>\n",
       "<tr>\n",
       "  <th>Method:</th>             <td>Least Squares</td>  <th>  F-statistic:       </th> <td>   9.346</td>\n",
       "</tr>\n",
       "<tr>\n",
       "  <th>Date:</th>             <td>Tue, 02 Nov 2021</td> <th>  Prob (F-statistic):</th> <td>3.86e-09</td>\n",
       "</tr>\n",
       "<tr>\n",
       "  <th>Time:</th>                 <td>16:28:48</td>     <th>  Log-Likelihood:    </th> <td> -284.63</td>\n",
       "</tr>\n",
       "<tr>\n",
       "  <th>No. Observations:</th>      <td>    59</td>      <th>  AIC:               </th> <td>   601.3</td>\n",
       "</tr>\n",
       "<tr>\n",
       "  <th>Df Residuals:</th>          <td>    43</td>      <th>  BIC:               </th> <td>   634.5</td>\n",
       "</tr>\n",
       "<tr>\n",
       "  <th>Df Model:</th>              <td>    15</td>      <th>                     </th>     <td> </td>   \n",
       "</tr>\n",
       "<tr>\n",
       "  <th>Covariance Type:</th>      <td>nonrobust</td>    <th>                     </th>     <td> </td>   \n",
       "</tr>\n",
       "</table>\n",
       "<table class=\"simpletable\">\n",
       "<tr>\n",
       "    <td></td>       <th>coef</th>     <th>std err</th>      <th>t</th>      <th>P>|t|</th>  <th>[0.025</th>    <th>0.975]</th>  \n",
       "</tr>\n",
       "<tr>\n",
       "  <th>const</th> <td> 1786.3713</td> <td>  446.848</td> <td>    3.998</td> <td> 0.000</td> <td>  885.217</td> <td> 2687.526</td>\n",
       "</tr>\n",
       "<tr>\n",
       "  <th>x1</th>    <td>    1.9502</td> <td>    0.943</td> <td>    2.069</td> <td> 0.045</td> <td>    0.049</td> <td>    3.852</td>\n",
       "</tr>\n",
       "<tr>\n",
       "  <th>x2</th>    <td>   -2.0267</td> <td>    1.151</td> <td>   -1.761</td> <td> 0.085</td> <td>   -4.348</td> <td>    0.294</td>\n",
       "</tr>\n",
       "<tr>\n",
       "  <th>x3</th>    <td>   -3.1056</td> <td>    1.921</td> <td>   -1.616</td> <td> 0.113</td> <td>   -6.980</td> <td>    0.769</td>\n",
       "</tr>\n",
       "<tr>\n",
       "  <th>x4</th>    <td>   -9.8072</td> <td>    8.856</td> <td>   -1.107</td> <td> 0.274</td> <td>  -27.666</td> <td>    8.052</td>\n",
       "</tr>\n",
       "<tr>\n",
       "  <th>x5</th>    <td> -113.3003</td> <td>   73.101</td> <td>   -1.550</td> <td> 0.128</td> <td> -260.722</td> <td>   34.122</td>\n",
       "</tr>\n",
       "<tr>\n",
       "  <th>x6</th>    <td>  -18.0841</td> <td>   12.298</td> <td>   -1.470</td> <td> 0.149</td> <td>  -42.886</td> <td>    6.718</td>\n",
       "</tr>\n",
       "<tr>\n",
       "  <th>x7</th>    <td>   -0.5835</td> <td>    1.797</td> <td>   -0.325</td> <td> 0.747</td> <td>   -4.208</td> <td>    3.041</td>\n",
       "</tr>\n",
       "<tr>\n",
       "  <th>x8</th>    <td>    0.0035</td> <td>    0.004</td> <td>    0.862</td> <td> 0.394</td> <td>   -0.005</td> <td>    0.012</td>\n",
       "</tr>\n",
       "<tr>\n",
       "  <th>x9</th>    <td>    4.3837</td> <td>    1.360</td> <td>    3.224</td> <td> 0.002</td> <td>    1.641</td> <td>    7.126</td>\n",
       "</tr>\n",
       "<tr>\n",
       "  <th>x10</th>   <td>   -0.0157</td> <td>    1.755</td> <td>   -0.009</td> <td> 0.993</td> <td>   -3.555</td> <td>    3.524</td>\n",
       "</tr>\n",
       "<tr>\n",
       "  <th>x11</th>   <td>    0.0343</td> <td>    3.316</td> <td>    0.010</td> <td> 0.992</td> <td>   -6.652</td> <td>    6.721</td>\n",
       "</tr>\n",
       "<tr>\n",
       "  <th>x12</th>   <td>   -0.6732</td> <td>    0.496</td> <td>   -1.357</td> <td> 0.182</td> <td>   -1.674</td> <td>    0.327</td>\n",
       "</tr>\n",
       "<tr>\n",
       "  <th>x13</th>   <td>    1.3485</td> <td>    1.016</td> <td>    1.327</td> <td> 0.192</td> <td>   -0.701</td> <td>    3.398</td>\n",
       "</tr>\n",
       "<tr>\n",
       "  <th>x14</th>   <td>    0.0858</td> <td>    0.149</td> <td>    0.576</td> <td> 0.568</td> <td>   -0.215</td> <td>    0.386</td>\n",
       "</tr>\n",
       "<tr>\n",
       "  <th>x15</th>   <td>    0.1379</td> <td>    1.185</td> <td>    0.116</td> <td> 0.908</td> <td>   -2.252</td> <td>    2.528</td>\n",
       "</tr>\n",
       "</table>\n",
       "<table class=\"simpletable\">\n",
       "<tr>\n",
       "  <th>Omnibus:</th>       <td> 2.690</td> <th>  Durbin-Watson:     </th> <td>   2.043</td>\n",
       "</tr>\n",
       "<tr>\n",
       "  <th>Prob(Omnibus):</th> <td> 0.260</td> <th>  Jarque-Bera (JB):  </th> <td>   1.812</td>\n",
       "</tr>\n",
       "<tr>\n",
       "  <th>Skew:</th>          <td> 0.356</td> <th>  Prob(JB):          </th> <td>   0.404</td>\n",
       "</tr>\n",
       "<tr>\n",
       "  <th>Kurtosis:</th>      <td> 3.481</td> <th>  Cond. No.          </th> <td>4.07e+05</td>\n",
       "</tr>\n",
       "</table><br/><br/>Notes:<br/>[1] Standard Errors assume that the covariance matrix of the errors is correctly specified.<br/>[2] The condition number is large, 4.07e+05. This might indicate that there are<br/>strong multicollinearity or other numerical problems."
      ],
      "text/plain": [
       "<class 'statsmodels.iolib.summary.Summary'>\n",
       "\"\"\"\n",
       "                            OLS Regression Results                            \n",
       "==============================================================================\n",
       "Dep. Variable:                      y   R-squared:                       0.765\n",
       "Model:                            OLS   Adj. R-squared:                  0.683\n",
       "Method:                 Least Squares   F-statistic:                     9.346\n",
       "Date:                Tue, 02 Nov 2021   Prob (F-statistic):           3.86e-09\n",
       "Time:                        16:28:48   Log-Likelihood:                -284.63\n",
       "No. Observations:                  59   AIC:                             601.3\n",
       "Df Residuals:                      43   BIC:                             634.5\n",
       "Df Model:                          15                                         \n",
       "Covariance Type:            nonrobust                                         \n",
       "==============================================================================\n",
       "                 coef    std err          t      P>|t|      [0.025      0.975]\n",
       "------------------------------------------------------------------------------\n",
       "const       1786.3713    446.848      3.998      0.000     885.217    2687.526\n",
       "x1             1.9502      0.943      2.069      0.045       0.049       3.852\n",
       "x2            -2.0267      1.151     -1.761      0.085      -4.348       0.294\n",
       "x3            -3.1056      1.921     -1.616      0.113      -6.980       0.769\n",
       "x4            -9.8072      8.856     -1.107      0.274     -27.666       8.052\n",
       "x5          -113.3003     73.101     -1.550      0.128    -260.722      34.122\n",
       "x6           -18.0841     12.298     -1.470      0.149     -42.886       6.718\n",
       "x7            -0.5835      1.797     -0.325      0.747      -4.208       3.041\n",
       "x8             0.0035      0.004      0.862      0.394      -0.005       0.012\n",
       "x9             4.3837      1.360      3.224      0.002       1.641       7.126\n",
       "x10           -0.0157      1.755     -0.009      0.993      -3.555       3.524\n",
       "x11            0.0343      3.316      0.010      0.992      -6.652       6.721\n",
       "x12           -0.6732      0.496     -1.357      0.182      -1.674       0.327\n",
       "x13            1.3485      1.016      1.327      0.192      -0.701       3.398\n",
       "x14            0.0858      0.149      0.576      0.568      -0.215       0.386\n",
       "x15            0.1379      1.185      0.116      0.908      -2.252       2.528\n",
       "==============================================================================\n",
       "Omnibus:                        2.690   Durbin-Watson:                   2.043\n",
       "Prob(Omnibus):                  0.260   Jarque-Bera (JB):                1.812\n",
       "Skew:                           0.356   Prob(JB):                        0.404\n",
       "Kurtosis:                       3.481   Cond. No.                     4.07e+05\n",
       "==============================================================================\n",
       "\n",
       "Notes:\n",
       "[1] Standard Errors assume that the covariance matrix of the errors is correctly specified.\n",
       "[2] The condition number is large, 4.07e+05. This might indicate that there are\n",
       "strong multicollinearity or other numerical problems.\n",
       "\"\"\""
      ]
     },
     "execution_count": 4,
     "metadata": {},
     "output_type": "execute_result"
    }
   ],
   "source": [
    "model = sm.OLS(Y_tr, X_tr).fit()\n",
    "Y_hat = model.fittedvalues\n",
    "beta_hat = model.params\n",
    "model.summary()"
   ]
  },
  {
   "cell_type": "markdown",
   "metadata": {},
   "source": [
    "**对X标准化后的数据做多元线性回归分析**"
   ]
  },
  {
   "cell_type": "code",
   "execution_count": 5,
   "metadata": {},
   "outputs": [
    {
     "data": {
      "text/html": [
       "<table class=\"simpletable\">\n",
       "<caption>OLS Regression Results</caption>\n",
       "<tr>\n",
       "  <th>Dep. Variable:</th>            <td>y</td>        <th>  R-squared:         </th> <td>   0.765</td>\n",
       "</tr>\n",
       "<tr>\n",
       "  <th>Model:</th>                   <td>OLS</td>       <th>  Adj. R-squared:    </th> <td>   0.683</td>\n",
       "</tr>\n",
       "<tr>\n",
       "  <th>Method:</th>             <td>Least Squares</td>  <th>  F-statistic:       </th> <td>   9.346</td>\n",
       "</tr>\n",
       "<tr>\n",
       "  <th>Date:</th>             <td>Tue, 02 Nov 2021</td> <th>  Prob (F-statistic):</th> <td>3.86e-09</td>\n",
       "</tr>\n",
       "<tr>\n",
       "  <th>Time:</th>                 <td>16:28:48</td>     <th>  Log-Likelihood:    </th> <td> -284.63</td>\n",
       "</tr>\n",
       "<tr>\n",
       "  <th>No. Observations:</th>      <td>    59</td>      <th>  AIC:               </th> <td>   601.3</td>\n",
       "</tr>\n",
       "<tr>\n",
       "  <th>Df Residuals:</th>          <td>    43</td>      <th>  BIC:               </th> <td>   634.5</td>\n",
       "</tr>\n",
       "<tr>\n",
       "  <th>Df Model:</th>              <td>    15</td>      <th>                     </th>     <td> </td>   \n",
       "</tr>\n",
       "<tr>\n",
       "  <th>Covariance Type:</th>      <td>nonrobust</td>    <th>                     </th>     <td> </td>   \n",
       "</tr>\n",
       "</table>\n",
       "<table class=\"simpletable\">\n",
       "<tr>\n",
       "    <td></td>       <th>coef</th>     <th>std err</th>      <th>t</th>      <th>P>|t|</th>  <th>[0.025</th>    <th>0.975]</th>  \n",
       "</tr>\n",
       "<tr>\n",
       "  <th>const</th> <td>  940.1198</td> <td>    4.594</td> <td>  204.643</td> <td> 0.000</td> <td>  930.855</td> <td>  949.384</td>\n",
       "</tr>\n",
       "<tr>\n",
       "  <th>x1</th>    <td>  149.5666</td> <td>   72.305</td> <td>    2.069</td> <td> 0.045</td> <td>    3.750</td> <td>  295.383</td>\n",
       "</tr>\n",
       "<tr>\n",
       "  <th>x2</th>    <td> -157.8279</td> <td>   89.632</td> <td>   -1.761</td> <td> 0.085</td> <td> -338.589</td> <td>   22.933</td>\n",
       "</tr>\n",
       "<tr>\n",
       "  <th>x3</th>    <td> -113.3347</td> <td>   70.112</td> <td>   -1.616</td> <td> 0.113</td> <td> -254.730</td> <td>   28.061</td>\n",
       "</tr>\n",
       "<tr>\n",
       "  <th>x4</th>    <td> -110.3211</td> <td>   99.617</td> <td>   -1.107</td> <td> 0.274</td> <td> -311.218</td> <td>   90.575</td>\n",
       "</tr>\n",
       "<tr>\n",
       "  <th>x5</th>    <td> -115.0701</td> <td>   74.243</td> <td>   -1.550</td> <td> 0.128</td> <td> -264.795</td> <td>   34.655</td>\n",
       "</tr>\n",
       "<tr>\n",
       "  <th>x6</th>    <td> -117.3116</td> <td>   79.779</td> <td>   -1.470</td> <td> 0.149</td> <td> -278.201</td> <td>   43.577</td>\n",
       "</tr>\n",
       "<tr>\n",
       "  <th>x7</th>    <td>  -23.0360</td> <td>   70.949</td> <td>   -0.325</td> <td> 0.747</td> <td> -166.117</td> <td>  120.045</td>\n",
       "</tr>\n",
       "<tr>\n",
       "  <th>x8</th>    <td>   39.2125</td> <td>   45.500</td> <td>    0.862</td> <td> 0.394</td> <td>  -52.547</td> <td>  130.972</td>\n",
       "</tr>\n",
       "<tr>\n",
       "  <th>x9</th>    <td>  300.3883</td> <td>   93.185</td> <td>    3.224</td> <td> 0.002</td> <td>  112.462</td> <td>  488.314</td>\n",
       "</tr>\n",
       "<tr>\n",
       "  <th>x10</th>   <td>   -0.5392</td> <td>   60.311</td> <td>   -0.009</td> <td> 0.993</td> <td> -122.168</td> <td>  121.090</td>\n",
       "</tr>\n",
       "<tr>\n",
       "  <th>x11</th>   <td>    1.0946</td> <td>  105.851</td> <td>    0.010</td> <td> 0.992</td> <td> -212.374</td> <td>  214.563</td>\n",
       "</tr>\n",
       "<tr>\n",
       "  <th>x12</th>   <td> -475.3253</td> <td>  350.263</td> <td>   -1.357</td> <td> 0.182</td> <td>-1181.698</td> <td>  231.048</td>\n",
       "</tr>\n",
       "<tr>\n",
       "  <th>x13</th>   <td>  479.7590</td> <td>  361.528</td> <td>    1.327</td> <td> 0.192</td> <td> -249.331</td> <td> 1208.849</td>\n",
       "</tr>\n",
       "<tr>\n",
       "  <th>x14</th>   <td>   41.7678</td> <td>   72.534</td> <td>    0.576</td> <td> 0.568</td> <td> -104.511</td> <td>  188.046</td>\n",
       "</tr>\n",
       "<tr>\n",
       "  <th>x15</th>   <td>    5.6896</td> <td>   48.880</td> <td>    0.116</td> <td> 0.908</td> <td>  -92.887</td> <td>  104.266</td>\n",
       "</tr>\n",
       "</table>\n",
       "<table class=\"simpletable\">\n",
       "<tr>\n",
       "  <th>Omnibus:</th>       <td> 2.690</td> <th>  Durbin-Watson:     </th> <td>   2.043</td>\n",
       "</tr>\n",
       "<tr>\n",
       "  <th>Prob(Omnibus):</th> <td> 0.260</td> <th>  Jarque-Bera (JB):  </th> <td>   1.812</td>\n",
       "</tr>\n",
       "<tr>\n",
       "  <th>Skew:</th>          <td> 0.356</td> <th>  Prob(JB):          </th> <td>   0.404</td>\n",
       "</tr>\n",
       "<tr>\n",
       "  <th>Kurtosis:</th>      <td> 3.481</td> <th>  Cond. No.          </th> <td>    110.</td>\n",
       "</tr>\n",
       "</table><br/><br/>Notes:<br/>[1] Standard Errors assume that the covariance matrix of the errors is correctly specified."
      ],
      "text/plain": [
       "<class 'statsmodels.iolib.summary.Summary'>\n",
       "\"\"\"\n",
       "                            OLS Regression Results                            \n",
       "==============================================================================\n",
       "Dep. Variable:                      y   R-squared:                       0.765\n",
       "Model:                            OLS   Adj. R-squared:                  0.683\n",
       "Method:                 Least Squares   F-statistic:                     9.346\n",
       "Date:                Tue, 02 Nov 2021   Prob (F-statistic):           3.86e-09\n",
       "Time:                        16:28:48   Log-Likelihood:                -284.63\n",
       "No. Observations:                  59   AIC:                             601.3\n",
       "Df Residuals:                      43   BIC:                             634.5\n",
       "Df Model:                          15                                         \n",
       "Covariance Type:            nonrobust                                         \n",
       "==============================================================================\n",
       "                 coef    std err          t      P>|t|      [0.025      0.975]\n",
       "------------------------------------------------------------------------------\n",
       "const        940.1198      4.594    204.643      0.000     930.855     949.384\n",
       "x1           149.5666     72.305      2.069      0.045       3.750     295.383\n",
       "x2          -157.8279     89.632     -1.761      0.085    -338.589      22.933\n",
       "x3          -113.3347     70.112     -1.616      0.113    -254.730      28.061\n",
       "x4          -110.3211     99.617     -1.107      0.274    -311.218      90.575\n",
       "x5          -115.0701     74.243     -1.550      0.128    -264.795      34.655\n",
       "x6          -117.3116     79.779     -1.470      0.149    -278.201      43.577\n",
       "x7           -23.0360     70.949     -0.325      0.747    -166.117     120.045\n",
       "x8            39.2125     45.500      0.862      0.394     -52.547     130.972\n",
       "x9           300.3883     93.185      3.224      0.002     112.462     488.314\n",
       "x10           -0.5392     60.311     -0.009      0.993    -122.168     121.090\n",
       "x11            1.0946    105.851      0.010      0.992    -212.374     214.563\n",
       "x12         -475.3253    350.263     -1.357      0.182   -1181.698     231.048\n",
       "x13          479.7590    361.528      1.327      0.192    -249.331    1208.849\n",
       "x14           41.7678     72.534      0.576      0.568    -104.511     188.046\n",
       "x15            5.6896     48.880      0.116      0.908     -92.887     104.266\n",
       "==============================================================================\n",
       "Omnibus:                        2.690   Durbin-Watson:                   2.043\n",
       "Prob(Omnibus):                  0.260   Jarque-Bera (JB):                1.812\n",
       "Skew:                           0.356   Prob(JB):                        0.404\n",
       "Kurtosis:                       3.481   Cond. No.                         110.\n",
       "==============================================================================\n",
       "\n",
       "Notes:\n",
       "[1] Standard Errors assume that the covariance matrix of the errors is correctly specified.\n",
       "\"\"\""
      ]
     },
     "execution_count": 5,
     "metadata": {},
     "output_type": "execute_result"
    }
   ],
   "source": [
    "model_std = sm.OLS(Y_tr, X_std).fit()\n",
    "Y_std_hat = model_std.fittedvalues\n",
    "beta_std_hat = model_std.params\n",
    "model_std.summary()"
   ]
  },
  {
   "cell_type": "markdown",
   "metadata": {},
   "source": [
    "## Q1：选择适当的主成分"
   ]
  },
  {
   "cell_type": "code",
   "execution_count": 6,
   "metadata": {},
   "outputs": [
    {
     "name": "stdout",
     "output_type": "stream",
     "text": [
      "(59, 16)\n"
     ]
    }
   ],
   "source": [
    "print(X_std.shape)"
   ]
  },
  {
   "cell_type": "markdown",
   "metadata": {},
   "source": [
    "**求 $(X^*)^{'}(X^*)$ 矩阵的特征值和特征向量:**"
   ]
  },
  {
   "cell_type": "code",
   "execution_count": 7,
   "metadata": {},
   "outputs": [
    {
     "data": {
      "text/plain": [
       "(15, 15)"
      ]
     },
     "execution_count": 7,
     "metadata": {},
     "output_type": "execute_result"
    }
   ],
   "source": [
    "#求 (X*)'(X*) 矩阵\n",
    "R = np.dot(X_std.T,X_std) \n",
    "R = pd.DataFrame(R[1:,1:])\n",
    "\n",
    "R.shape"
   ]
  },
  {
   "cell_type": "code",
   "execution_count": 8,
   "metadata": {},
   "outputs": [
    {
     "name": "stdout",
     "output_type": "stream",
     "text": [
      "特征值: [4.55116842 2.74044208 2.06596127 1.3486822  1.20349098 0.96061198\n",
      " 0.61434732 0.47220353 0.36913661 0.00486884 0.04243901 0.22049677\n",
      " 0.16634338 0.12525641 0.1145512 ]\n",
      "15.000000000000005\n"
     ]
    }
   ],
   "source": [
    "# 求特征值 & 特征向量\n",
    "W, V = np.linalg.eig(R)\n",
    "W_diag = np.diag(W)\n",
    "V = V.T # 需要转置\n",
    "\n",
    "print('特征值:', W)\n",
    "# print(W_diag)\n",
    "print(sum(W)) # 验证特征值求和值为 p\n",
    "VV = np.dot(V,V.T)\n",
    "VV = pd.DataFrame(VV)"
   ]
  },
  {
   "cell_type": "markdown",
   "metadata": {},
   "source": [
    "**判断 X 矩阵是否具有多重共线性:**"
   ]
  },
  {
   "cell_type": "code",
   "execution_count": 9,
   "metadata": {},
   "outputs": [],
   "source": [
    "# 定义\"判断多重共线性\"的函数\n",
    "# 参数: (X_list: 设计矩阵 X, thres_vif: VIF 方法判断多重共线性的阈值, thres_kappa: 特征值方法判断多重共线性的阈值)\n",
    "def judge_col(X_list, thres_vif, thres_kappa): \n",
    "    var_num = X_list.shape[1]\n",
    "    print('VIF方法判断结果(阈值为 %d): '% thres_vif)\n",
    "    vif = [variance_inflation_factor(X_list, i) for i in range(var_num)]\n",
    "    flag = False\n",
    "    for i in range(var_num):\n",
    "        if vif[i] >= thres_vif:\n",
    "            print('自变量 x%d 与其余自变量之间存在多重共线性，其中VIF值为：%.4f'% (i + 1, vif[i]))\n",
    "            flag = True\n",
    "    if flag == False:\n",
    "        print('设计矩阵 X 不存在多重共线性')\n",
    "\n",
    "    print('\\n特征值判定法判断结果(阈值为 %d): '% thres_kappa)\n",
    "    kappa = []\n",
    "    for i in range(var_num):\n",
    "        kappa.append(np.sqrt(max(W) / W[i]))\n",
    "    #print(kappa)\n",
    "    if np.max(kappa) >= thres_kappa:\n",
    "        print('设计矩阵 X 存在多重共线性，其中kappa值为：%.4f'% np.max(kappa))\n",
    "    else:\n",
    "        print('设计矩阵 X 不存在多重共线性，其中kappa值为：%.4f'% np.max(kappa))\n"
   ]
  },
  {
   "cell_type": "code",
   "execution_count": 10,
   "metadata": {},
   "outputs": [
    {
     "name": "stdout",
     "output_type": "stream",
     "text": [
      "VIF方法判断结果(阈值为 5): \n",
      "自变量 x2 与其余自变量之间存在多重共线性，其中VIF值为：6.4522\n",
      "自变量 x4 与其余自变量之间存在多重共线性，其中VIF值为：7.9697\n",
      "自变量 x6 与其余自变量之间存在多重共线性，其中VIF值为：5.1115\n",
      "自变量 x9 与其余自变量之间存在多重共线性，其中VIF值为：6.9738\n",
      "自变量 x11 与其余自变量之间存在多重共线性，其中VIF值为：8.9984\n",
      "自变量 x12 与其余自变量之间存在多重共线性，其中VIF值为：98.5294\n",
      "自变量 x13 与其余自变量之间存在多重共线性，其中VIF值为：104.9687\n",
      "\n",
      "特征值判定法判断结果(阈值为 10): \n",
      "设计矩阵 X 存在多重共线性，其中kappa值为：30.5738\n"
     ]
    }
   ],
   "source": [
    "# 判断多重共线性\n",
    "X_std1 = X_std[:,1:p+1] # 将 X 矩阵的截距项去掉\n",
    "beta_std_hat1 = beta_std_hat[1:p+1] # 将 β_0 去掉 \n",
    "judge_col(X_std1, 5, 10)"
   ]
  },
  {
   "cell_type": "markdown",
   "metadata": {},
   "source": [
    "**构造主成分矩阵 Z:**"
   ]
  },
  {
   "cell_type": "code",
   "execution_count": 11,
   "metadata": {},
   "outputs": [
    {
     "name": "stdout",
     "output_type": "stream",
     "text": [
      "              0             1             2             3             4   \\\n",
      "0   4.551168e+00 -9.393558e-16  7.845247e-17 -1.110840e-15  8.689580e-16   \n",
      "1  -9.393558e-16  2.740442e+00 -4.983542e-16 -9.325397e-16 -2.783261e-16   \n",
      "2   7.845247e-17 -4.983542e-16  2.065961e+00  5.386349e-17 -4.207436e-16   \n",
      "3  -1.110840e-15 -9.325397e-16  5.386349e-17  1.348682e+00  2.391891e-15   \n",
      "4   8.689580e-16 -2.783261e-16 -4.207436e-16  2.391891e-15  1.203491e+00   \n",
      "5  -1.881943e-16 -3.746239e-16  9.135664e-16 -6.885123e-16  1.887715e-15   \n",
      "6  -1.437964e-15  1.762142e-16  4.290859e-16  4.307839e-16 -4.997963e-16   \n",
      "7   1.856639e-15 -1.935437e-16  3.244270e-16  1.279439e-16  3.558787e-16   \n",
      "8   1.396169e-15 -2.033997e-16  2.163449e-16 -1.530735e-16 -4.023974e-16   \n",
      "9   2.447244e-16 -2.898178e-17 -9.705397e-18 -7.331258e-17  2.684370e-17   \n",
      "10  4.453172e-16  5.277256e-17  4.053561e-16 -5.797996e-17  1.013524e-16   \n",
      "11 -1.317670e-17  2.956667e-16 -5.461116e-17  4.615848e-16  1.572470e-16   \n",
      "12 -1.093634e-15  1.926646e-16 -1.565369e-18 -1.081510e-16 -1.085042e-16   \n",
      "13 -2.856274e-16  7.698940e-17  2.106157e-16 -8.579239e-18  5.282928e-17   \n",
      "14  2.971935e-16 -5.986762e-17 -3.930346e-17 -4.488186e-16 -7.637580e-17   \n",
      "\n",
      "              5             6             7             8             9   \\\n",
      "0  -1.881943e-16 -1.437964e-15  1.856639e-15  1.396169e-15  2.447244e-16   \n",
      "1  -3.746239e-16  1.762142e-16 -1.935437e-16 -2.033997e-16 -2.898178e-17   \n",
      "2   9.135664e-16  4.290859e-16  3.244270e-16  2.163449e-16 -9.705397e-18   \n",
      "3  -6.885123e-16  4.307839e-16  1.279439e-16 -1.530735e-16 -7.331258e-17   \n",
      "4   1.887715e-15 -4.997963e-16  3.558787e-16 -4.023974e-16  2.684370e-17   \n",
      "5   9.606120e-01  1.171456e-16  1.235589e-16  1.874309e-16  4.462845e-17   \n",
      "6   1.171456e-16  6.143473e-01 -7.807493e-17  2.901262e-16 -7.424879e-17   \n",
      "7   1.235589e-16 -7.807493e-17  4.722035e-01  3.896264e-17  4.874602e-17   \n",
      "8   1.874309e-16  2.901262e-16  3.896264e-17  3.691366e-01 -8.992432e-17   \n",
      "9   4.462845e-17 -7.424879e-17  4.874602e-17 -8.992432e-17  4.868839e-03   \n",
      "10  2.012657e-16  1.069437e-16 -1.887252e-16 -1.700918e-16  3.747353e-17   \n",
      "11  6.020515e-17 -2.270598e-17 -4.944824e-17 -5.042996e-16  7.432169e-17   \n",
      "12 -1.225161e-16 -1.721454e-16 -2.831848e-17  2.498802e-16 -7.800372e-17   \n",
      "13 -7.631504e-17  2.107923e-16 -2.867011e-17  2.792898e-17 -4.244115e-17   \n",
      "14  2.041901e-16 -6.393265e-17  7.649659e-17  4.451199e-17 -8.749733e-18   \n",
      "\n",
      "              10            11            12            13            14  \n",
      "0   4.453172e-16 -1.317670e-17 -1.093634e-15 -2.856274e-16  2.971935e-16  \n",
      "1   5.277256e-17  2.956667e-16  1.926646e-16  7.698940e-17 -5.986762e-17  \n",
      "2   4.053561e-16 -5.461116e-17 -1.565369e-18  2.106157e-16 -3.930346e-17  \n",
      "3  -5.797996e-17  4.615848e-16 -1.081510e-16 -8.579239e-18 -4.488186e-16  \n",
      "4   1.013524e-16  1.572470e-16 -1.085042e-16  5.282928e-17 -7.637580e-17  \n",
      "5   2.012657e-16  6.020515e-17 -1.225161e-16 -7.631504e-17  2.041901e-16  \n",
      "6   1.069437e-16 -2.270598e-17 -1.721454e-16  2.107923e-16 -6.393265e-17  \n",
      "7  -1.887252e-16 -4.944824e-17 -2.831848e-17 -2.867011e-17  7.649659e-17  \n",
      "8  -1.700918e-16 -5.042996e-16  2.498802e-16  2.792898e-17  4.451199e-17  \n",
      "9   3.747353e-17  7.432169e-17 -7.800372e-17 -4.244115e-17 -8.749733e-18  \n",
      "10  4.243901e-02 -3.365389e-16  2.574826e-16 -1.836089e-16  4.474956e-16  \n",
      "11 -3.365389e-16  2.204968e-01  2.386365e-16 -1.390291e-16  1.177024e-16  \n",
      "12  2.574826e-16  2.386365e-16  1.663434e-01 -1.727216e-16 -6.289567e-16  \n",
      "13 -1.836089e-16 -1.390291e-16 -1.727216e-16  1.252564e-01  2.131519e-15  \n",
      "14  4.474956e-16  1.177024e-16 -6.289567e-16  2.131519e-15  1.145512e-01  \n"
     ]
    }
   ],
   "source": [
    "# 构造主成分矩阵 Z\n",
    "Z = np.dot(X_std[:,1:p+1],V.T)\n",
    "ZZ = np.dot(Z.T,Z)\n",
    "ZZ = pd.DataFrame(ZZ)\n",
    "print(ZZ)  # 验证主成分矩阵 Z 各列之间正交，主对角线元素对应的是特征值"
   ]
  },
  {
   "cell_type": "code",
   "execution_count": 12,
   "metadata": {},
   "outputs": [
    {
     "name": "stdout",
     "output_type": "stream",
     "text": [
      "(X*)'X*的行列式:  4.6783690004845533e-07\n"
     ]
    }
   ],
   "source": [
    "D = np.linalg.det(R)\n",
    "print('(X*)\\'X*的行列式: ', D)"
   ]
  },
  {
   "cell_type": "markdown",
   "metadata": {},
   "source": [
    "\n",
    "由于 $|(X^*)^{'}(X^*)| \\approx 0$, 所以存在一个 k, 使得 $\\lambda_{k+1},\\cdots,\\lambda_p$ 均近似为 0. 因此 $\\mathbf{z}_{k+1},\\cdots,\\mathbf{z}_p$ 近似为 $\\mathbf{0}$ "
   ]
  },
  {
   "cell_type": "markdown",
   "metadata": {},
   "source": [
    "**选主成分:**"
   ]
  },
  {
   "cell_type": "code",
   "execution_count": 13,
   "metadata": {},
   "outputs": [
    {
     "name": "stdout",
     "output_type": "stream",
     "text": [
      "特征值为:  [4.5511684207817105, 2.740442079062107, 2.0659612670727716, 1.3486821956381088, 1.2034909764993325, 0.9606119837769821, 0.6143473244640684, 0.472203534462161, 0.3691366122250665, 0.22049677158555384, 0.16634337581830633, 0.12525641338820234, 0.11455119784197045, 0.042439008644788216, 0.004868838738879187]\n",
      "排序后特征值对应的原索引值:  [ 0  1  2  3  4  5  6  7  8 11 12 13 14 10  9]\n"
     ]
    }
   ],
   "source": [
    "# 对特征值按降序排序\n",
    "W_srt = W.tolist()\n",
    "W_srt.sort(reverse=True)\n",
    "W_idx = np.argsort(-W) # 返回的是元素值降序排序后的索引值的数组\n",
    "print('特征值为: ', W_srt)\n",
    "print('排序后特征值对应的原索引值: ', W_idx)"
   ]
  },
  {
   "cell_type": "markdown",
   "metadata": {},
   "source": [
    "**绘制碎石图，找到从陡峭逐渐变平坦前的变量**"
   ]
  },
  {
   "cell_type": "code",
   "execution_count": 14,
   "metadata": {},
   "outputs": [
    {
     "data": {
      "image/png": "[encoded data removed]",
      "text/plain": [
       "<Figure size 432x288 with 1 Axes>"
      ]
     },
     "metadata": {
      "needs_background": "light"
     },
     "output_type": "display_data"
    }
   ],
   "source": [
    "# 绘制主成分的累计贡献率(响应变量中解释的方差百分比)与组件数量的碎石图\n",
    "comp = range(0, p+1)\n",
    "# 主成分的累计贡献率(计算方差百分比)\n",
    "summ = 0\n",
    "W_sum = [0]\n",
    "for i in range(p):\n",
    "    summ += W_srt[i]\n",
    "    W_sum.append(summ / p)\n",
    "plt.plot(comp, W_sum)\n",
    "plt.xlabel('Number of PCR components')\n",
    "plt.ylabel('Percent Variance Explained in Y')\n",
    "for i,j in zip(comp, W_sum):\n",
    "    plt.text(i, j, '%.4f' % float(j))"
   ]
  },
  {
   "cell_type": "code",
   "execution_count": 15,
   "metadata": {},
   "outputs": [
    {
     "name": "stdout",
     "output_type": "stream",
     "text": [
      "保留变量个数为:  6\n"
     ]
    }
   ],
   "source": [
    "#选择使累计贡献率达到80%的主成分\n",
    "c_pc = 0.8\n",
    "cnt = True\n",
    "thres = p * c_pc\n",
    "while cnt:\n",
    "    W_sum = 0\n",
    "    W_summ = W_srt[0] \n",
    "    for i in range(p-1):\n",
    "        k1 = i + 1 \n",
    "        W_sum += W_srt[i]\n",
    "        W_summ += W_srt[i+1]\n",
    "        # print(i,W_sum,W_summ,thres)\n",
    "        if (W_sum < thres) & (W_summ >= thres):\n",
    "            cnt = False\n",
    "            break\n",
    "        elif i == p - 2:\n",
    "            cnt = False\n",
    "            k1 = i + 1\n",
    "            break\n",
    "k1 = k1 + 1\n",
    "print('保留变量个数为: ', k1) "
   ]
  },
  {
   "cell_type": "code",
   "execution_count": 16,
   "metadata": {},
   "outputs": [
    {
     "name": "stdout",
     "output_type": "stream",
     "text": [
      "保留变量个数为:  5\n"
     ]
    }
   ],
   "source": [
    "# 删除特征值接近于零的主成分\n",
    "for i in range(p):\n",
    "    if W_srt[i] < 1:\n",
    "        k2 = i\n",
    "        break\n",
    "print('保留变量个数为: ', k2)"
   ]
  },
  {
   "cell_type": "code",
   "execution_count": 17,
   "metadata": {},
   "outputs": [
    {
     "name": "stdout",
     "output_type": "stream",
     "text": [
      "5 0.21972379563756939\n",
      "10 0.5846284245805907\n",
      "15 1.0686646047055377\n",
      "20 1.8101291270623892\n",
      "25 2.6410452033164553\n",
      "30 3.6820482481339374\n",
      "35 5.3097919692811875\n",
      "40 7.427522835355704\n",
      "45 10.136546993030667\n",
      "50 14.671760786906987\n",
      "55 20.683421876990195\n",
      "60 28.66704501412042\n",
      "65 37.39676603702543\n",
      "70 60.959993170108014\n",
      "75 266.347777327897\n",
      "保留变量个数 <= 14\n"
     ]
    }
   ],
   "source": [
    "# 均方误差确定 k\n",
    "mse = 0\n",
    "for i in range(p):\n",
    "    k3 = p\n",
    "    mse += 1 / W_srt[i]\n",
    "    print(5 * (i + 1), mse)\n",
    "    if mse > 5 * (i + 1):\n",
    "        k3 = i\n",
    "        break\n",
    "    elif i == p-1:\n",
    "        k3 = p\n",
    "        break\n",
    "print('保留变量个数 <=', k3) "
   ]
  },
  {
   "cell_type": "markdown",
   "metadata": {},
   "source": [
    "综上，选择保留变量的个数为 5."
   ]
  },
  {
   "cell_type": "markdown",
   "metadata": {},
   "source": [
    "## Q2:对降维后的数据进行回归分析"
   ]
  },
  {
   "cell_type": "code",
   "execution_count": 18,
   "metadata": {},
   "outputs": [
    {
     "name": "stdout",
     "output_type": "stream",
     "text": [
      "系数: [-119.46515583   25.02124187  150.63296393  -25.25172939    0.51944394]\n",
      "[ 34.83909236  -4.02528198  35.32518257 -17.44233607  50.8866548\n",
      " -91.40722783 -45.44692353  57.72321108  56.57234575 -68.04348771\n",
      "  45.92335266   9.76435403  22.69185812  77.60962126 -50.29099857]\n"
     ]
    }
   ],
   "source": [
    "# 矩阵拆分\n",
    "k = k2\n",
    "list_var1 = W_idx[0:k] # 记录降序排序后的前 k 个主成分\n",
    "list_var2 = W_idx[k:]\n",
    "\n",
    "\n",
    "Z_1 = Z[:,list_var1]\n",
    "Z_2 = Z[:,list_var2]\n",
    "\n",
    "W_diag_1 = np.diag(W_diag[list_var1,list_var1])\n",
    "W_diag_2 = np.diag(W_diag[list_var2,list_var2])\n",
    "\n",
    "# 按行进行拆分\n",
    "V_1 = V[list_var1,:]\n",
    "V_2 = V[list_var2,:]\n",
    "\n",
    "# α的估计\n",
    "alpha1_hat = np.linalg.inv(W_diag_1) @ Z_1.T @ Y_tr\n",
    "print('系数:', alpha1_hat)\n",
    "\n",
    "# 主成分估计\n",
    "beta_pc = np.dot(V_1.T,alpha1_hat)\n",
    "print(beta_pc)"
   ]
  },
  {
   "cell_type": "code",
   "execution_count": 19,
   "metadata": {},
   "outputs": [
    {
     "data": {
      "text/html": [
       "<table class=\"simpletable\">\n",
       "<caption>OLS Regression Results</caption>\n",
       "<tr>\n",
       "  <th>Dep. Variable:</th>            <td>y</td>        <th>  R-squared:         </th> <td>   0.502</td>\n",
       "</tr>\n",
       "<tr>\n",
       "  <th>Model:</th>                   <td>OLS</td>       <th>  Adj. R-squared:    </th> <td>   0.455</td>\n",
       "</tr>\n",
       "<tr>\n",
       "  <th>Method:</th>             <td>Least Squares</td>  <th>  F-statistic:       </th> <td>   10.67</td>\n",
       "</tr>\n",
       "<tr>\n",
       "  <th>Date:</th>             <td>Tue, 02 Nov 2021</td> <th>  Prob (F-statistic):</th> <td>4.00e-07</td>\n",
       "</tr>\n",
       "<tr>\n",
       "  <th>Time:</th>                 <td>16:28:53</td>     <th>  Log-Likelihood:    </th> <td> -306.85</td>\n",
       "</tr>\n",
       "<tr>\n",
       "  <th>No. Observations:</th>      <td>    59</td>      <th>  AIC:               </th> <td>   625.7</td>\n",
       "</tr>\n",
       "<tr>\n",
       "  <th>Df Residuals:</th>          <td>    53</td>      <th>  BIC:               </th> <td>   638.2</td>\n",
       "</tr>\n",
       "<tr>\n",
       "  <th>Df Model:</th>              <td>     5</td>      <th>                     </th>     <td> </td>   \n",
       "</tr>\n",
       "<tr>\n",
       "  <th>Covariance Type:</th>      <td>nonrobust</td>    <th>                     </th>     <td> </td>   \n",
       "</tr>\n",
       "</table>\n",
       "<table class=\"simpletable\">\n",
       "<tr>\n",
       "    <td></td>       <th>coef</th>     <th>std err</th>      <th>t</th>      <th>P>|t|</th>  <th>[0.025</th>    <th>0.975]</th>  \n",
       "</tr>\n",
       "<tr>\n",
       "  <th>const</th> <td>  940.1198</td> <td>    6.030</td> <td>  155.906</td> <td> 0.000</td> <td>  928.025</td> <td>  952.215</td>\n",
       "</tr>\n",
       "<tr>\n",
       "  <th>x1</th>    <td> -119.4652</td> <td>   21.711</td> <td>   -5.502</td> <td> 0.000</td> <td> -163.012</td> <td>  -75.918</td>\n",
       "</tr>\n",
       "<tr>\n",
       "  <th>x2</th>    <td>   25.0212</td> <td>   27.979</td> <td>    0.894</td> <td> 0.375</td> <td>  -31.098</td> <td>   81.140</td>\n",
       "</tr>\n",
       "<tr>\n",
       "  <th>x3</th>    <td>  150.6330</td> <td>   32.224</td> <td>    4.675</td> <td> 0.000</td> <td>   85.999</td> <td>  215.267</td>\n",
       "</tr>\n",
       "<tr>\n",
       "  <th>x4</th>    <td>  -25.2517</td> <td>   39.883</td> <td>   -0.633</td> <td> 0.529</td> <td> -105.247</td> <td>   54.744</td>\n",
       "</tr>\n",
       "<tr>\n",
       "  <th>x5</th>    <td>    0.5194</td> <td>   42.221</td> <td>    0.012</td> <td> 0.990</td> <td>  -84.164</td> <td>   85.203</td>\n",
       "</tr>\n",
       "</table>\n",
       "<table class=\"simpletable\">\n",
       "<tr>\n",
       "  <th>Omnibus:</th>       <td> 0.423</td> <th>  Durbin-Watson:     </th> <td>   1.964</td>\n",
       "</tr>\n",
       "<tr>\n",
       "  <th>Prob(Omnibus):</th> <td> 0.809</td> <th>  Jarque-Bera (JB):  </th> <td>   0.104</td>\n",
       "</tr>\n",
       "<tr>\n",
       "  <th>Skew:</th>          <td>-0.088</td> <th>  Prob(JB):          </th> <td>   0.949</td>\n",
       "</tr>\n",
       "<tr>\n",
       "  <th>Kurtosis:</th>      <td> 3.106</td> <th>  Cond. No.          </th> <td>    7.00</td>\n",
       "</tr>\n",
       "</table><br/><br/>Notes:<br/>[1] Standard Errors assume that the covariance matrix of the errors is correctly specified."
      ],
      "text/plain": [
       "<class 'statsmodels.iolib.summary.Summary'>\n",
       "\"\"\"\n",
       "                            OLS Regression Results                            \n",
       "==============================================================================\n",
       "Dep. Variable:                      y   R-squared:                       0.502\n",
       "Model:                            OLS   Adj. R-squared:                  0.455\n",
       "Method:                 Least Squares   F-statistic:                     10.67\n",
       "Date:                Tue, 02 Nov 2021   Prob (F-statistic):           4.00e-07\n",
       "Time:                        16:28:53   Log-Likelihood:                -306.85\n",
       "No. Observations:                  59   AIC:                             625.7\n",
       "Df Residuals:                      53   BIC:                             638.2\n",
       "Df Model:                           5                                         \n",
       "Covariance Type:            nonrobust                                         \n",
       "==============================================================================\n",
       "                 coef    std err          t      P>|t|      [0.025      0.975]\n",
       "------------------------------------------------------------------------------\n",
       "const        940.1198      6.030    155.906      0.000     928.025     952.215\n",
       "x1          -119.4652     21.711     -5.502      0.000    -163.012     -75.918\n",
       "x2            25.0212     27.979      0.894      0.375     -31.098      81.140\n",
       "x3           150.6330     32.224      4.675      0.000      85.999     215.267\n",
       "x4           -25.2517     39.883     -0.633      0.529    -105.247      54.744\n",
       "x5             0.5194     42.221      0.012      0.990     -84.164      85.203\n",
       "==============================================================================\n",
       "Omnibus:                        0.423   Durbin-Watson:                   1.964\n",
       "Prob(Omnibus):                  0.809   Jarque-Bera (JB):                0.104\n",
       "Skew:                          -0.088   Prob(JB):                        0.949\n",
       "Kurtosis:                       3.106   Cond. No.                         7.00\n",
       "==============================================================================\n",
       "\n",
       "Notes:\n",
       "[1] Standard Errors assume that the covariance matrix of the errors is correctly specified.\n",
       "\"\"\""
      ]
     },
     "execution_count": 19,
     "metadata": {},
     "output_type": "execute_result"
    }
   ],
   "source": [
    "# 使用拆分后的数据用线性回归模型进行建模\n",
    "X_pc = Z_1\n",
    "\n",
    "#添加截距项\n",
    "z=np.ones(59)\n",
    "X_pc=np.c_[z,X_pc]\n",
    "\n",
    "model_pc = sm.OLS(Y_tr, X_pc).fit()\n",
    "model_pc.summary()"
   ]
  },
  {
   "cell_type": "code",
   "execution_count": 20,
   "metadata": {},
   "outputs": [
    {
     "name": "stdout",
     "output_type": "stream",
     "text": [
      "VIF方法判断结果(阈值为 5): \n",
      "设计矩阵 X 不存在多重共线性\n",
      "\n",
      "特征值判定法判断结果(阈值为 10): \n",
      "设计矩阵 X 不存在多重共线性，其中kappa值为：2.1766\n"
     ]
    }
   ],
   "source": [
    "judge_col(X_pc, thres_vif=5, thres_kappa=10)"
   ]
  },
  {
   "cell_type": "code",
   "execution_count": 21,
   "metadata": {},
   "outputs": [
    {
     "data": {
      "text/html": [
       "<table class=\"simpletable\">\n",
       "<caption>OLS Regression Results</caption>\n",
       "<tr>\n",
       "  <th>Dep. Variable:</th>            <td>y</td>        <th>  R-squared:         </th> <td>   0.502</td>\n",
       "</tr>\n",
       "<tr>\n",
       "  <th>Model:</th>                   <td>OLS</td>       <th>  Adj. R-squared:    </th> <td>   0.455</td>\n",
       "</tr>\n",
       "<tr>\n",
       "  <th>Method:</th>             <td>Least Squares</td>  <th>  F-statistic:       </th> <td>   10.67</td>\n",
       "</tr>\n",
       "<tr>\n",
       "  <th>Date:</th>             <td>Tue, 02 Nov 2021</td> <th>  Prob (F-statistic):</th> <td>4.00e-07</td>\n",
       "</tr>\n",
       "<tr>\n",
       "  <th>Time:</th>                 <td>16:28:54</td>     <th>  Log-Likelihood:    </th> <td> -306.85</td>\n",
       "</tr>\n",
       "<tr>\n",
       "  <th>No. Observations:</th>      <td>    59</td>      <th>  AIC:               </th> <td>   625.7</td>\n",
       "</tr>\n",
       "<tr>\n",
       "  <th>Df Residuals:</th>          <td>    53</td>      <th>  BIC:               </th> <td>   638.2</td>\n",
       "</tr>\n",
       "<tr>\n",
       "  <th>Df Model:</th>              <td>     5</td>      <th>                     </th>     <td> </td>   \n",
       "</tr>\n",
       "<tr>\n",
       "  <th>Covariance Type:</th>      <td>nonrobust</td>    <th>                     </th>     <td> </td>   \n",
       "</tr>\n",
       "</table>\n",
       "<table class=\"simpletable\">\n",
       "<tr>\n",
       "    <td></td>       <th>coef</th>     <th>std err</th>      <th>t</th>      <th>P>|t|</th>  <th>[0.025</th>    <th>0.975]</th>  \n",
       "</tr>\n",
       "<tr>\n",
       "  <th>const</th> <td>  940.1198</td> <td>    6.030</td> <td>  155.906</td> <td> 0.000</td> <td>  928.025</td> <td>  952.215</td>\n",
       "</tr>\n",
       "<tr>\n",
       "  <th>x1</th>    <td> -119.4652</td> <td>   21.711</td> <td>   -5.502</td> <td> 0.000</td> <td> -163.012</td> <td>  -75.918</td>\n",
       "</tr>\n",
       "<tr>\n",
       "  <th>x2</th>    <td>   25.0212</td> <td>   27.979</td> <td>    0.894</td> <td> 0.375</td> <td>  -31.098</td> <td>   81.140</td>\n",
       "</tr>\n",
       "<tr>\n",
       "  <th>x3</th>    <td>  150.6330</td> <td>   32.224</td> <td>    4.675</td> <td> 0.000</td> <td>   85.999</td> <td>  215.267</td>\n",
       "</tr>\n",
       "<tr>\n",
       "  <th>x4</th>    <td>  -25.2517</td> <td>   39.883</td> <td>   -0.633</td> <td> 0.529</td> <td> -105.247</td> <td>   54.744</td>\n",
       "</tr>\n",
       "<tr>\n",
       "  <th>x5</th>    <td>    0.5194</td> <td>   42.221</td> <td>    0.012</td> <td> 0.990</td> <td>  -84.164</td> <td>   85.203</td>\n",
       "</tr>\n",
       "</table>\n",
       "<table class=\"simpletable\">\n",
       "<tr>\n",
       "  <th>Omnibus:</th>       <td> 0.423</td> <th>  Durbin-Watson:     </th> <td>   1.964</td>\n",
       "</tr>\n",
       "<tr>\n",
       "  <th>Prob(Omnibus):</th> <td> 0.809</td> <th>  Jarque-Bera (JB):  </th> <td>   0.104</td>\n",
       "</tr>\n",
       "<tr>\n",
       "  <th>Skew:</th>          <td>-0.088</td> <th>  Prob(JB):          </th> <td>   0.949</td>\n",
       "</tr>\n",
       "<tr>\n",
       "  <th>Kurtosis:</th>      <td> 3.106</td> <th>  Cond. No.          </th> <td>    7.00</td>\n",
       "</tr>\n",
       "</table><br/><br/>Notes:<br/>[1] Standard Errors assume that the covariance matrix of the errors is correctly specified."
      ],
      "text/plain": [
       "<class 'statsmodels.iolib.summary.Summary'>\n",
       "\"\"\"\n",
       "                            OLS Regression Results                            \n",
       "==============================================================================\n",
       "Dep. Variable:                      y   R-squared:                       0.502\n",
       "Model:                            OLS   Adj. R-squared:                  0.455\n",
       "Method:                 Least Squares   F-statistic:                     10.67\n",
       "Date:                Tue, 02 Nov 2021   Prob (F-statistic):           4.00e-07\n",
       "Time:                        16:28:54   Log-Likelihood:                -306.85\n",
       "No. Observations:                  59   AIC:                             625.7\n",
       "Df Residuals:                      53   BIC:                             638.2\n",
       "Df Model:                           5                                         \n",
       "Covariance Type:            nonrobust                                         \n",
       "==============================================================================\n",
       "                 coef    std err          t      P>|t|      [0.025      0.975]\n",
       "------------------------------------------------------------------------------\n",
       "const        940.1198      6.030    155.906      0.000     928.025     952.215\n",
       "x1          -119.4652     21.711     -5.502      0.000    -163.012     -75.918\n",
       "x2            25.0212     27.979      0.894      0.375     -31.098      81.140\n",
       "x3           150.6330     32.224      4.675      0.000      85.999     215.267\n",
       "x4           -25.2517     39.883     -0.633      0.529    -105.247      54.744\n",
       "x5             0.5194     42.221      0.012      0.990     -84.164      85.203\n",
       "==============================================================================\n",
       "Omnibus:                        0.423   Durbin-Watson:                   1.964\n",
       "Prob(Omnibus):                  0.809   Jarque-Bera (JB):                0.104\n",
       "Skew:                          -0.088   Prob(JB):                        0.949\n",
       "Kurtosis:                       3.106   Cond. No.                         7.00\n",
       "==============================================================================\n",
       "\n",
       "Notes:\n",
       "[1] Standard Errors assume that the covariance matrix of the errors is correctly specified.\n",
       "\"\"\""
      ]
     },
     "execution_count": 21,
     "metadata": {},
     "output_type": "execute_result"
    }
   ],
   "source": [
    "# 第二种利用pca\n",
    "# 创建pca模型\n",
    "pca = PCA(n_components=5)\n",
    "\n",
    "# 对模型进行训练\n",
    "X_pc_ = X_std * 1.0\n",
    "pca.fit(X_pc_)\n",
    "\n",
    "# 返回降维后数据\n",
    "X_pc_ = pca.transform(X_pc_)\n",
    "\n",
    "#添加截距项\n",
    "X_pc_=np.c_[z,X_pc_]\n",
    "\n",
    "# 使用返回后的数据用线性回归模型进行建模\n",
    "model_pc_ = sm.OLS(Y_tr, X_pc_).fit()\n",
    "model_pc_.summary()"
   ]
  },
  {
   "cell_type": "code",
   "execution_count": 22,
   "metadata": {},
   "outputs": [
    {
     "name": "stdout",
     "output_type": "stream",
     "text": [
      "VIF方法判断结果(阈值为 5): \n",
      "设计矩阵 X 不存在多重共线性\n",
      "\n",
      "特征值判定法判断结果(阈值为 10): \n",
      "设计矩阵 X 不存在多重共线性，其中kappa值为：2.1766\n"
     ]
    }
   ],
   "source": [
    "judge_col(X_pc_, thres_vif=5, thres_kappa=10)"
   ]
  },
  {
   "cell_type": "markdown",
   "metadata": {},
   "source": [
    "## Q3:选择适当的岭参数.\n",
    "岭参数 $k$ 选择(模型选择)的方法:   \n",
    "1. 岭迹法\n",
    "2. 方差扩大因子法\n",
    "3. 霍尔-肯纳德（Hoerl-Kennad）公式"
   ]
  },
  {
   "cell_type": "markdown",
   "metadata": {},
   "source": [
    "1. 岭迹法  \n",
    "岭迹法的一般原则:   \n",
    "· 系数岭估计基本稳定;    \n",
    "· 最小二乘回归下符号不合理的回归系数, 在岭估计的意义下符号变得合理;    \n",
    "· 回归系数合乎经济意义;  \n",
    "· 残差平方和不会增大太多."
   ]
  },
  {
   "cell_type": "code",
   "execution_count": 23,
   "metadata": {},
   "outputs": [
    {
     "data": {
      "image/png": "[encoded data removed]",
      "text/plain": [
       "<Figure size 432x288 with 1 Axes>"
      ]
     },
     "metadata": {
      "needs_background": "light"
     },
     "output_type": "display_data"
    },
    {
     "data": {
      "text/plain": [
       "<function __main__.RR1(K=1)>"
      ]
     },
     "execution_count": 23,
     "metadata": {},
     "output_type": "execute_result"
    }
   ],
   "source": [
    "# [0, 1) 范围内划分的最大精细程度: [0,0.01,0.02,...,0.99]\n",
    "range_const1 = 100\n",
    "\n",
    "def RR1(K = 1):\n",
    "    # 计算岭估计\n",
    "    rang1 = []\n",
    "    for i in range(K):\n",
    "        rang1.append(i/K) # 岭参数 k 取值范围: [0,1-1/K](例如 K=10, k 取值范围: [0, 0.9])\n",
    "    coefs_1 = []\n",
    "    for k in rang1:\n",
    "        temp1 = np.linalg.inv(X_std.T @ X_std + k * np.eye(p+1)) @ X_std.T @ Y_tr\n",
    "        coefs_1.append(temp1)\n",
    "\n",
    "    # 画图\n",
    "    #print('参数的数值: ', coefs_1)\n",
    "    coefs_1 = np.array(coefs_1)\n",
    "    for i in range(p):\n",
    "        plt.plot(rang1, coefs_1[:,i], label = 'X%d'%(i+1))\n",
    "    plt.legend(loc = 'best')\n",
    "\n",
    "# 随着 K 值的增加, 岭参数 k 取值越精细, 因为在 [0,1) 范围内的分割更细\n",
    "interact(RR1,K=(50))"
   ]
  },
  {
   "cell_type": "code",
   "execution_count": 24,
   "metadata": {},
   "outputs": [
    {
     "data": {
      "image/png": "[encoded data removed]",
      "text/plain": [
       "<Figure size 432x288 with 1 Axes>"
      ]
     },
     "metadata": {
      "needs_background": "light"
     },
     "output_type": "display_data"
    },
    {
     "data": {
      "text/plain": [
       "<function __main__.RR2(K=1)>"
      ]
     },
     "execution_count": 24,
     "metadata": {},
     "output_type": "execute_result"
    }
   ],
   "source": [
    "# 调包: linear_model \n",
    "def RR2(K = 1): \n",
    "    # 初始化一个Ridge Regression\n",
    "    clf = linear_model.Ridge(fit_intercept=False)\n",
    "\n",
    "    # 训练模型: 测试不同的 k 取值，获得系数\n",
    "    rang2 = []\n",
    "    for i in range(K):\n",
    "        rang2.append(i/K)\n",
    "    coefs_2 = []\n",
    "    for k in rang2:\n",
    "        clf.set_params(alpha=k)\n",
    "        clf.fit(X_std, Y_tr)\n",
    "        coefs_2.append(clf.coef_)\n",
    "\n",
    "    # 画图\n",
    "    # print('参数的数值: ', coefs_2)\n",
    "    coefs_2 = np.array(coefs_2)\n",
    "    for i in range(p):\n",
    "        plt.plot(rang2, coefs_2[:,i], label = 'X%d'%(i+1))   \n",
    "    plt.legend(loc = 'best')\n",
    "\n",
    "interact(RR2,K=(50))"
   ]
  },
  {
   "cell_type": "code",
   "execution_count": 25,
   "metadata": {},
   "outputs": [
    {
     "name": "stdout",
     "output_type": "stream",
     "text": [
      "k 的数值 :  0.1\n",
      "参数的数值： [ 938.52910321  129.90234705 -102.23633387  -60.96000159  -38.23199552\n",
      "  -29.58488104  -60.10127822  -44.93189207   55.4977486   240.17045526\n",
      "  -15.90155782   14.85830603  -33.18862534   29.92396451  116.98022656\n",
      "   13.19914415]\n"
     ]
    }
   ],
   "source": [
    "# 初始化一个Ridge Cross-Validation Regression\n",
    "clf_cv = linear_model.RidgeCV(fit_intercept=False)\n",
    " \n",
    "# 训练模型\n",
    "clf_cv.fit(X_std, Y_tr)\n",
    "\n",
    "k_cv = clf_cv.alpha_\n",
    "coef_cv = clf_cv.coef_ \n",
    "print('k 的数值 : ', clf_cv.alpha_)\n",
    "print('参数的数值：', clf_cv.coef_)"
   ]
  },
  {
   "cell_type": "code",
   "execution_count": 26,
   "metadata": {},
   "outputs": [
    {
     "name": "stdout",
     "output_type": "stream",
     "text": [
      "[ 938.52910321  129.90234705 -102.23633387  -60.96000159  -38.23199552\n",
      "  -29.58488104  -60.10127822  -44.93189207   55.4977486   240.17045526\n",
      "  -15.90155782   14.85830603  -33.18862534   29.92396451  116.98022656\n",
      "   13.19914415]\n",
      "[ 938.52910321  129.90234705 -102.23633387  -60.96000159  -38.23199552\n",
      "  -29.58488104  -60.10127822  -44.93189207   55.4977486   240.17045526\n",
      "  -15.90155782   14.85830603  -33.18862534   29.92396451  116.98022656\n",
      "   13.19914415]\n",
      "差异:  [ 1.81898940e-11 -4.43378667e-12  3.97903932e-13 -2.97006864e-12\n",
      " -3.33244543e-12  2.11741735e-12  1.69819714e-12  3.20454774e-12\n",
      " -3.75166564e-12 -1.10844667e-12 -3.05533376e-12  3.90798505e-14\n",
      "  4.20641300e-12  1.36779477e-12  2.65742983e-12 -1.31095135e-12]\n"
     ]
    }
   ],
   "source": [
    "# 验证岭估计和最小二乘估计之间的关系\n",
    "thres_k = int(k_cv * range_const1)\n",
    "print(coef_cv)\n",
    "\n",
    "C1 = X_std.T @ X_std\n",
    "C2 = np.linalg.inv(C1 + k_cv * np.eye(p+1))\n",
    "C3 = C2 @ C1\n",
    "print(C3 @ beta_std_hat)\n",
    "\n",
    "diff = coef_cv - C3 @ beta_std_hat\n",
    "print('差异: ', diff)"
   ]
  },
  {
   "cell_type": "markdown",
   "metadata": {},
   "source": [
    "2. 方差扩大因子法"
   ]
  },
  {
   "cell_type": "code",
   "execution_count": 27,
   "metadata": {},
   "outputs": [
    {
     "name": "stdout",
     "output_type": "stream",
     "text": [
      "岭参数为:  0.049787068367863944\n",
      "对应的岭估计:  [ 939.32718057  139.32451556 -120.41767566  -79.19175213  -51.88652371\n",
      "  -54.64856924  -68.55989289  -42.50949085   50.69634764  269.66121219\n",
      "  -16.56699534    9.96248559  -53.5729058    48.05887504  112.96711171\n",
      "    9.17611504]\n"
     ]
    },
    {
     "data": {
      "image/png": "[encoded data removed]",
      "text/plain": [
       "<Figure size 432x288 with 1 Axes>"
      ]
     },
     "metadata": {
      "needs_background": "light"
     },
     "output_type": "display_data"
    }
   ],
   "source": [
    "coefs_4 = []\n",
    "thres_vif = 5\n",
    "num_lambda4 = 30\n",
    "judge = True\n",
    "for k in range(num_lambda4):\n",
    "    cnt = 0\n",
    "    C = np.linalg.inv(C1 + np.exp(k-10) * np.eye(p+1)) @ C1 @np.linalg.inv(C1 + np.exp(k-10) * np.eye(p+1))\n",
    "    temp4 = np.linalg.inv(X_std.T @ X_std + np.exp(k-10) * np.eye(p+1)) @ X_std.T @ Y_tr\n",
    "    coefs_4.append(temp4)\n",
    "    # 给定 k, 使得所有方差扩大因子 C[j][j] <= thres_vif\n",
    "    for j in range(p):\n",
    "        if C[j][j] < thres_vif:\n",
    "            cnt += 1\n",
    "        else:\n",
    "            break\n",
    "    if cnt == p:\n",
    "        k4 = np.exp(k-10)\n",
    "        print('岭参数为: ', np.exp(k-10))\n",
    "        print('对应的岭估计: ', temp4)\n",
    "        break\n",
    "\n",
    "# 画图\n",
    "coef_4 = temp4\n",
    "x4 = []  # 以 np.exp(k) 作为横坐标\n",
    "for i in range(k+1):\n",
    "     x4.append(np.exp(i-10))\n",
    "coefs_4 = np.array(coefs_4)\n",
    "for i in range(p):\n",
    "    plt.plot(x4, coefs_4[:,i], label = 'X%d'%(i+1))\n",
    "    plt.text(x4[-1], coefs_4[-1,i], '%.4f' % float(coefs_4[-1,i]), fontsize=8)\n",
    "\n",
    "plt.legend(loc = 'best')\n",
    "plt.show()"
   ]
  },
  {
   "cell_type": "markdown",
   "metadata": {},
   "source": [
    "3. 霍尔-肯纳德（Hoerl-Kennad）公式\n",
    "\n",
    "\n",
    "\n",
    "$$\n",
    "\\ k_{\\mathrm{HK}}=\\frac{\\hat{\\sigma}^{2}}{\\max _{j} \\hat{\\alpha}_{j}^{2}}\n",
    "$$"
   ]
  },
  {
   "cell_type": "code",
   "execution_count": 28,
   "metadata": {},
   "outputs": [],
   "source": [
    "X_std2=X_std[:,1:]"
   ]
  },
  {
   "cell_type": "code",
   "execution_count": 29,
   "metadata": {},
   "outputs": [
    {
     "data": {
      "text/plain": [
       "(59, 15)"
      ]
     },
     "execution_count": 29,
     "metadata": {},
     "output_type": "execute_result"
    }
   ],
   "source": [
    "X_std2.shape"
   ]
  },
  {
   "cell_type": "code",
   "execution_count": 30,
   "metadata": {},
   "outputs": [
    {
     "name": "stdout",
     "output_type": "stream",
     "text": [
      "岭参数 k_HK:  0.0026889028484862808\n",
      "对应的岭估计:  [ 9.40119105e+02  1.49602200e+02 -1.57732542e+02 -1.13262956e+02\n",
      " -1.09985910e+02 -1.14869848e+02 -1.16976957e+02 -2.31824681e+01\n",
      "  3.92371464e+01  3.00450524e+02 -7.11289855e-01  1.15227388e+00\n",
      " -4.71037204e+02  4.75326066e+02  4.24502353e+01  5.65015115e+00]\n"
     ]
    }
   ],
   "source": [
    "#求sigma\n",
    "sigma = sum((Y_tr - Y_std_hat) ** 2) / (n - p - 1)\n",
    "alpha_hat = np.linalg.inv(W_diag) @ Z.T @ Y_tr\n",
    "k_HK = sigma / max(alpha_hat**2)\n",
    "print('岭参数 k_HK: ', k_HK)\n",
    "coef_5 =  np.linalg.inv(X_std.T @ X_std + np.exp(k_HK-10) * np.eye(p+1)) @ X_std.T @ Y_tr\n",
    "print('对应的岭估计: ', coef_5)"
   ]
  },
  {
   "cell_type": "markdown",
   "metadata": {},
   "source": [
    "## Q4. 进行岭回归分析并在测试用例上做预测，比较最小二乘、主成分回归和岭回归建立的模型在测试集上的效果."
   ]
  },
  {
   "cell_type": "code",
   "execution_count": 31,
   "metadata": {},
   "outputs": [],
   "source": [
    "#岭回归 确定岭参数k的函数\n",
    "def choose_k(num_lambda4,X_std,Y_tr,coefs_4):\n",
    "    for k in range(num_lambda4):\n",
    "        cnt = 0\n",
    "        C1 = X_std.T @ X_std\n",
    "        C = np.linalg.inv(C1 + np.exp(k-10) * np.eye(p+1)) @ C1 @np.linalg.inv(C1 + np.exp(k-10) * np.eye(p+1))\n",
    "        temp4 = np.linalg.inv(X_std.T @ X_std + np.exp(k-10) * np.eye(p+1)) @ X_std.T @ Y_tr\n",
    "        coefs_4.append(temp4)\n",
    "        # 给定 k, 使得所有方差扩大因子 C[j][j] <= thres_vif\n",
    "        for j in range(p):\n",
    "            if C[j][j] < thres_vif:\n",
    "                cnt += 1\n",
    "            else:\n",
    "                break\n",
    "        if cnt == p:\n",
    "            k4 = np.exp(k-10)\n",
    "            break\n",
    "    return k4"
   ]
  },
  {
   "cell_type": "code",
   "execution_count": 32,
   "metadata": {},
   "outputs": [],
   "source": [
    "#主成分回归的函数\n",
    "def pca(X_std,Y_tr,test_X,test_y):\n",
    "    #求 (X*)'(X*) 矩阵\n",
    "    R = np.dot(X_std.T,X_std) \n",
    "    R = pd.DataFrame(R[1:,1:])\n",
    "    # 求特征值 & 特征向量\n",
    "    W, V = np.linalg.eig(R)\n",
    "    # 对特征值按降序排序\n",
    "    W_srt = W.tolist()\n",
    "    W_srt.sort(reverse=True)\n",
    "    # 主成分的累计贡献率(计算方差百分比)\n",
    "    summ = 0\n",
    "    W_sum = [0]\n",
    "    for i in range(p):\n",
    "        summ += W_srt[i]\n",
    "        W_sum.append(summ / p)\n",
    "    #选择使累计贡献率达到80%的主成分\n",
    "    c_pc = 0.8\n",
    "    cnt = True\n",
    "    thres = p * c_pc\n",
    "    while cnt:\n",
    "        W_sum = 0\n",
    "        W_summ = W_srt[0] \n",
    "        for i in range(p-1):\n",
    "            k1 = i + 1 \n",
    "            W_sum += W_srt[i]\n",
    "            W_summ += W_srt[i+1]\n",
    "            if (W_sum < thres) & (W_summ >= thres):\n",
    "                cnt = False\n",
    "                break\n",
    "            elif i == p - 2:\n",
    "                cnt = False\n",
    "                k1 = i + 1\n",
    "                break\n",
    "    k1 = k1 + 1\n",
    "    # 删除特征值接近于零的主成分\n",
    "    for i in range(p):\n",
    "        if W_srt[i] < 1:\n",
    "            k2 = i\n",
    "            break\n",
    "        # 矩阵拆分\n",
    "    k=k2\n",
    "    # 创建pca模型\n",
    "    pca = PCA(n_components=k)\n",
    "\n",
    "    # 对模型进行训练\n",
    "    X_pc_ = X_std * 1.0\n",
    "    pca.fit(X_pc_)\n",
    "\n",
    "    # 返回降维后数据\n",
    "    X_pc_ = pca.transform(X_pc_)\n",
    "    model_pc_ = sm.OLS(Y_tr, X_pc_).fit()\n",
    "    tx=pca.transform(test_X)\n",
    "    from sklearn.linear_model import LinearRegression\n",
    "    lr = LinearRegression()\n",
    "    lr.fit(X_pc_,Y_tr)   # 模型训练\n",
    "    y_pred = lr.predict(tx)\n",
    "    RMSE3=np.sqrt(np.mean(np.square(test_y - y_pred)))\n",
    "    return RMSE3"
   ]
  },
  {
   "cell_type": "markdown",
   "metadata": {},
   "source": [
    "**采用留一法展示60种模型在60种测试用例上的效果（以RMSE为指标）**"
   ]
  },
  {
   "cell_type": "code",
   "execution_count": 33,
   "metadata": {},
   "outputs": [
    {
     "name": "stdout",
     "output_type": "stream",
     "text": [
      "第 1 个模型\n",
      "k= 0.049787068367863944\n",
      "使用最小二乘估计进行预测的结果的RMSE是 19.904495334564217\n",
      "使用岭估计进行预测的结果的RMSE是 15.13436254350745\n",
      "使用主成分回归估计进行预测的结果的RMSE是 7.9970261193742544\n",
      "第 2 个模型\n",
      "k= 0.049787068367863944\n",
      "使用最小二乘估计进行预测的结果的RMSE是 89.74544109029364\n",
      "使用岭估计进行预测的结果的RMSE是 78.74187249061197\n",
      "使用主成分回归估计进行预测的结果的RMSE是 87.90514583956258\n",
      "第 3 个模型\n",
      "k= 0.049787068367863944\n",
      "使用最小二乘估计进行预测的结果的RMSE是 42.593391011560925\n",
      "使用岭估计进行预测的结果的RMSE是 39.746163420642574\n",
      "使用主成分回归估计进行预测的结果的RMSE是 5.1522190339899225\n",
      "第 4 个模型\n",
      "k= 0.049787068367863944\n",
      "使用最小二乘估计进行预测的结果的RMSE是 1.1106611846228134\n",
      "使用岭估计进行预测的结果的RMSE是 1.9977332444611875\n",
      "使用主成分回归估计进行预测的结果的RMSE是 16.974323859014135\n",
      "第 5 个模型\n",
      "k= 0.049787068367863944\n",
      "使用最小二乘估计进行预测的结果的RMSE是 27.713279424109032\n",
      "使用岭估计进行预测的结果的RMSE是 23.319276543243404\n",
      "使用主成分回归估计进行预测的结果的RMSE是 61.62631266331027\n",
      "第 6 个模型\n",
      "k= 0.049787068367863944\n",
      "使用最小二乘估计进行预测的结果的RMSE是 72.4698569474042\n",
      "使用岭估计进行预测的结果的RMSE是 39.66436252202129\n",
      "使用主成分回归估计进行预测的结果的RMSE是 7.654949732890373\n",
      "第 7 个模型\n",
      "k= 0.049787068367863944\n",
      "使用最小二乘估计进行预测的结果的RMSE是 34.63002975511972\n",
      "使用岭估计进行预测的结果的RMSE是 28.426057782267662\n",
      "使用主成分回归估计进行预测的结果的RMSE是 26.645219407539912\n",
      "第 8 个模型\n",
      "k= 0.049787068367863944\n",
      "使用最小二乘估计进行预测的结果的RMSE是 27.514679758982993\n",
      "使用岭估计进行预测的结果的RMSE是 13.667781831591924\n",
      "使用主成分回归估计进行预测的结果的RMSE是 28.136270647470155\n",
      "第 9 个模型\n",
      "k= 0.049787068367863944\n",
      "使用最小二乘估计进行预测的结果的RMSE是 48.577797059554086\n",
      "使用岭估计进行预测的结果的RMSE是 45.11437759110481\n",
      "使用主成分回归估计进行预测的结果的RMSE是 56.04279120611284\n",
      "第 10 个模型\n",
      "k= 0.049787068367863944\n",
      "使用最小二乘估计进行预测的结果的RMSE是 9.760440754471347\n",
      "使用岭估计进行预测的结果的RMSE是 12.648483171236649\n",
      "使用主成分回归估计进行预测的结果的RMSE是 33.19194612490912\n",
      "第 11 个模型\n",
      "k= 0.049787068367863944\n",
      "使用最小二乘估计进行预测的结果的RMSE是 26.79643020739809\n",
      "使用岭估计进行预测的结果的RMSE是 16.362360168939517\n",
      "使用主成分回归估计进行预测的结果的RMSE是 3.7514054861051136\n",
      "第 12 个模型\n",
      "k= 0.049787068367863944\n",
      "使用最小二乘估计进行预测的结果的RMSE是 8.137929616568158\n",
      "使用岭估计进行预测的结果的RMSE是 1.1404740651972816\n",
      "使用主成分回归估计进行预测的结果的RMSE是 54.84761828045441\n",
      "第 13 个模型\n",
      "k= 0.049787068367863944\n",
      "使用最小二乘估计进行预测的结果的RMSE是 12.868721791911298\n",
      "使用岭估计进行预测的结果的RMSE是 10.181041703739197\n",
      "使用主成分回归估计进行预测的结果的RMSE是 4.96272012458212\n",
      "第 14 个模型\n",
      "k= 0.049787068367863944\n",
      "使用最小二乘估计进行预测的结果的RMSE是 25.598611096975446\n",
      "使用岭估计进行预测的结果的RMSE是 32.190071258974626\n",
      "使用主成分回归估计进行预测的结果的RMSE是 64.30783765156264\n",
      "第 15 个模型\n",
      "k= 0.049787068367863944\n",
      "使用最小二乘估计进行预测的结果的RMSE是 30.346008064136072\n",
      "使用岭估计进行预测的结果的RMSE是 24.56346319249178\n",
      "使用主成分回归估计进行预测的结果的RMSE是 40.555976999833206\n",
      "第 16 个模型\n",
      "k= 0.049787068367863944\n",
      "使用最小二乘估计进行预测的结果的RMSE是 26.834275341519287\n",
      "使用岭估计进行预测的结果的RMSE是 21.75676768642063\n",
      "使用主成分回归估计进行预测的结果的RMSE是 65.8867156805129\n",
      "第 17 个模型\n",
      "k= 0.049787068367863944\n",
      "使用最小二乘估计进行预测的结果的RMSE是 0.6825050156353427\n",
      "使用岭估计进行预测的结果的RMSE是 4.0711104284732755\n",
      "使用主成分回归估计进行预测的结果的RMSE是 3.689038631919175\n",
      "第 18 个模型\n",
      "k= 0.049787068367863944\n",
      "使用最小二乘估计进行预测的结果的RMSE是 19.3730547420422\n",
      "使用岭估计进行预测的结果的RMSE是 9.751326501882431\n",
      "使用主成分回归估计进行预测的结果的RMSE是 53.21452113272517\n",
      "第 19 个模型\n",
      "k= 0.049787068367863944\n",
      "使用最小二乘估计进行预测的结果的RMSE是 17.642721744315395\n",
      "使用岭估计进行预测的结果的RMSE是 11.884107070004461\n",
      "使用主成分回归估计进行预测的结果的RMSE是 2.7726876144074595\n",
      "第 20 个模型\n",
      "k= 0.049787068367863944\n",
      "使用最小二乘估计进行预测的结果的RMSE是 8.913221867863285\n",
      "使用岭估计进行预测的结果的RMSE是 5.141494912820008\n",
      "使用主成分回归估计进行预测的结果的RMSE是 28.802001491141596\n",
      "第 21 个模型\n",
      "k= 0.049787068367863944\n",
      "使用最小二乘估计进行预测的结果的RMSE是 33.89349640497278\n",
      "使用岭估计进行预测的结果的RMSE是 22.319913815887617\n",
      "使用主成分回归估计进行预测的结果的RMSE是 43.083392884448244\n",
      "第 22 个模型\n",
      "k= 0.049787068367863944\n",
      "使用最小二乘估计进行预测的结果的RMSE是 35.578605421286625\n",
      "使用岭估计进行预测的结果的RMSE是 30.196011111776784\n",
      "使用主成分回归估计进行预测的结果的RMSE是 46.99413931748359\n",
      "第 23 个模型\n",
      "k= 0.049787068367863944\n",
      "使用最小二乘估计进行预测的结果的RMSE是 13.968360780213061\n",
      "使用岭估计进行预测的结果的RMSE是 6.968444634278853\n",
      "使用主成分回归估计进行预测的结果的RMSE是 22.083185784054876\n",
      "第 24 个模型\n",
      "k= 0.049787068367863944\n",
      "使用最小二乘估计进行预测的结果的RMSE是 47.912750149386966\n",
      "使用岭估计进行预测的结果的RMSE是 28.28467164374308\n",
      "使用主成分回归估计进行预测的结果的RMSE是 5.490929324442163\n",
      "第 25 个模型\n",
      "k= 0.049787068367863944\n",
      "使用最小二乘估计进行预测的结果的RMSE是 31.757570519637966\n",
      "使用岭估计进行预测的结果的RMSE是 24.16407045022538\n",
      "使用主成分回归估计进行预测的结果的RMSE是 2.445311264300585\n",
      "第 26 个模型\n",
      "k= 0.049787068367863944\n",
      "使用最小二乘估计进行预测的结果的RMSE是 5.969136269928299\n",
      "使用岭估计进行预测的结果的RMSE是 7.436817759238693\n",
      "使用主成分回归估计进行预测的结果的RMSE是 36.67750928081887\n",
      "第 27 个模型\n",
      "k= 0.049787068367863944\n",
      "使用最小二乘估计进行预测的结果的RMSE是 10.996569024611745\n",
      "使用岭估计进行预测的结果的RMSE是 8.847220321288205\n",
      "使用主成分回归估计进行预测的结果的RMSE是 6.041544020931497\n",
      "第 28 个模型\n",
      "k= 0.049787068367863944\n",
      "使用最小二乘估计进行预测的结果的RMSE是 94.89627625254298\n",
      "使用岭估计进行预测的结果的RMSE是 71.20960391163476\n",
      "使用主成分回归估计进行预测的结果的RMSE是 119.79595345137272\n",
      "第 29 个模型\n",
      "k= 0.049787068367863944\n",
      "使用最小二乘估计进行预测的结果的RMSE是 119.4709546870339\n",
      "使用岭估计进行预测的结果的RMSE是 0.45195982187271966\n",
      "使用主成分回归估计进行预测的结果的RMSE是 99.50887807271488\n",
      "第 30 个模型\n",
      "k= 0.049787068367863944\n",
      "使用最小二乘估计进行预测的结果的RMSE是 1.615536140065501\n",
      "使用岭估计进行预测的结果的RMSE是 1.041677003413497\n",
      "使用主成分回归估计进行预测的结果的RMSE是 6.515270391493914\n",
      "第 31 个模型\n",
      "k= 0.049787068367863944\n",
      "使用最小二乘估计进行预测的结果的RMSE是 57.976655041083404\n",
      "使用岭估计进行预测的结果的RMSE是 35.321171292472854\n",
      "使用主成分回归估计进行预测的结果的RMSE是 13.003553998220923\n",
      "第 32 个模型\n",
      "k= 0.049787068367863944\n",
      "使用最小二乘估计进行预测的结果的RMSE是 100.63822505787698\n",
      "使用岭估计进行预测的结果的RMSE是 47.45507954292009\n",
      "使用主成分回归估计进行预测的结果的RMSE是 69.28579875823084\n",
      "第 33 个模型\n",
      "k= 0.049787068367863944\n",
      "使用最小二乘估计进行预测的结果的RMSE是 22.37750405873112\n",
      "使用岭估计进行预测的结果的RMSE是 14.03978161054215\n",
      "使用主成分回归估计进行预测的结果的RMSE是 17.42562756296445\n",
      "第 34 个模型\n",
      "k= 0.049787068367863944\n",
      "使用最小二乘估计进行预测的结果的RMSE是 33.76102986802562\n",
      "使用岭估计进行预测的结果的RMSE是 21.91216659610984\n",
      "使用主成分回归估计进行预测的结果的RMSE是 21.116774281706398\n",
      "第 35 个模型\n",
      "k= 0.049787068367863944\n",
      "使用最小二乘估计进行预测的结果的RMSE是 31.730909595095568\n",
      "使用岭估计进行预测的结果的RMSE是 30.336631155199143\n",
      "使用主成分回归估计进行预测的结果的RMSE是 39.33536748108827\n",
      "第 36 个模型\n",
      "k= 0.049787068367863944\n",
      "使用最小二乘估计进行预测的结果的RMSE是 20.109873281788396\n",
      "使用岭估计进行预测的结果的RMSE是 11.04830607632232\n",
      "使用主成分回归估计进行预测的结果的RMSE是 12.050299488381484\n",
      "第 37 个模型\n",
      "k= 0.049787068367863944\n",
      "使用最小二乘估计进行预测的结果的RMSE是 118.75039272741833\n",
      "使用岭估计进行预测的结果的RMSE是 98.5216189728427\n",
      "使用主成分回归估计进行预测的结果的RMSE是 135.27193523411233\n",
      "第 38 个模型\n",
      "k= 0.049787068367863944\n",
      "使用最小二乘估计进行预测的结果的RMSE是 17.728195674612152\n",
      "使用岭估计进行预测的结果的RMSE是 17.348262843416478\n",
      "使用主成分回归估计进行预测的结果的RMSE是 56.50587120985233\n",
      "第 39 个模型\n",
      "k= 0.049787068367863944\n",
      "使用最小二乘估计进行预测的结果的RMSE是 13.051855455711234\n",
      "使用岭估计进行预测的结果的RMSE是 15.547322834341799\n",
      "使用主成分回归估计进行预测的结果的RMSE是 38.9009023200108\n",
      "第 40 个模型\n",
      "k= 0.049787068367863944\n",
      "使用最小二乘估计进行预测的结果的RMSE是 7.081908199893292\n",
      "使用岭估计进行预测的结果的RMSE是 4.084697340832577\n",
      "使用主成分回归估计进行预测的结果的RMSE是 15.827017856663133\n",
      "第 41 个模型\n",
      "k= 0.049787068367863944\n",
      "使用最小二乘估计进行预测的结果的RMSE是 4.581227973494833\n",
      "使用岭估计进行预测的结果的RMSE是 8.788470504803058\n",
      "使用主成分回归估计进行预测的结果的RMSE是 43.49682873166944\n",
      "第 42 个模型\n",
      "k= 0.049787068367863944\n",
      "使用最小二乘估计进行预测的结果的RMSE是 18.009905170564707\n",
      "使用岭估计进行预测的结果的RMSE是 16.339216393207153\n",
      "使用主成分回归估计进行预测的结果的RMSE是 13.294664350199128\n",
      "第 43 个模型\n",
      "k= 0.049787068367863944\n",
      "使用最小二乘估计进行预测的结果的RMSE是 17.329058899959705\n",
      "使用岭估计进行预测的结果的RMSE是 10.290312290444035\n",
      "使用主成分回归估计进行预测的结果的RMSE是 33.50059775789123\n",
      "第 44 个模型\n",
      "k= 0.049787068367863944\n",
      "使用最小二乘估计进行预测的结果的RMSE是 28.28019668309514\n",
      "使用岭估计进行预测的结果的RMSE是 26.208931060091686\n",
      "使用主成分回归估计进行预测的结果的RMSE是 63.17651909713891\n",
      "第 45 个模型\n",
      "k= 0.049787068367863944\n",
      "使用最小二乘估计进行预测的结果的RMSE是 34.8850665504541\n",
      "使用岭估计进行预测的结果的RMSE是 30.714192598019054\n",
      "使用主成分回归估计进行预测的结果的RMSE是 34.818101238471854\n",
      "第 46 个模型\n",
      "k= 0.049787068367863944\n",
      "使用最小二乘估计进行预测的结果的RMSE是 24.808891460391237\n",
      "使用岭估计进行预测的结果的RMSE是 20.64371482998797\n",
      "使用主成分回归估计进行预测的结果的RMSE是 27.592546650414306\n",
      "第 47 个模型\n",
      "k= 0.049787068367863944\n",
      "使用最小二乘估计进行预测的结果的RMSE是 28.006827418541434\n",
      "使用岭估计进行预测的结果的RMSE是 17.127935607850304\n",
      "使用主成分回归估计进行预测的结果的RMSE是 34.93845030272382\n",
      "第 48 个模型\n",
      "k= 0.049787068367863944\n",
      "使用最小二乘估计进行预测的结果的RMSE是 92.8173038063037\n",
      "使用岭估计进行预测的结果的RMSE是 7.393068734508688\n",
      "使用主成分回归估计进行预测的结果的RMSE是 73.20771300718229\n",
      "第 49 个模型\n",
      "k= 0.049787068367863944\n",
      "使用最小二乘估计进行预测的结果的RMSE是 15.094880876024149\n",
      "使用岭估计进行预测的结果的RMSE是 18.091093424458677\n",
      "使用主成分回归估计进行预测的结果的RMSE是 64.42342802178769\n",
      "第 50 个模型\n",
      "k= 0.049787068367863944\n",
      "使用最小二乘估计进行预测的结果的RMSE是 23.37923679973676\n",
      "使用岭估计进行预测的结果的RMSE是 7.83730361271148\n",
      "使用主成分回归估计进行预测的结果的RMSE是 59.62890587906338\n",
      "第 51 个模型\n",
      "k= 0.049787068367863944\n",
      "使用最小二乘估计进行预测的结果的RMSE是 0.4678093931345302\n",
      "使用岭估计进行预测的结果的RMSE是 1.5532810379899047\n",
      "使用主成分回归估计进行预测的结果的RMSE是 15.340865035812271\n",
      "第 52 个模型\n",
      "k= 0.049787068367863944\n",
      "使用最小二乘估计进行预测的结果的RMSE是 55.02582328182007\n",
      "使用岭估计进行预测的结果的RMSE是 35.38485748373648\n",
      "使用主成分回归估计进行预测的结果的RMSE是 38.06077628966341\n",
      "第 53 个模型\n",
      "k= 0.049787068367863944\n",
      "使用最小二乘估计进行预测的结果的RMSE是 41.701362838737055\n",
      "使用岭估计进行预测的结果的RMSE是 44.38569546141571\n",
      "使用主成分回归估计进行预测的结果的RMSE是 46.61886676966856\n",
      "第 54 个模型\n",
      "k= 0.049787068367863944\n",
      "使用最小二乘估计进行预测的结果的RMSE是 2.0974674487462153\n",
      "使用岭估计进行预测的结果的RMSE是 1.4713076556132592\n",
      "使用主成分回归估计进行预测的结果的RMSE是 10.403900782600658\n",
      "第 55 个模型\n",
      "k= 0.049787068367863944\n",
      "使用最小二乘估计进行预测的结果的RMSE是 32.02314046924437\n",
      "使用岭估计进行预测的结果的RMSE是 18.174501512995676\n",
      "使用主成分回归估计进行预测的结果的RMSE是 75.91417458011438\n",
      "第 56 个模型\n",
      "k= 0.049787068367863944\n",
      "使用最小二乘估计进行预测的结果的RMSE是 61.60892105825246\n",
      "使用岭估计进行预测的结果的RMSE是 49.284643375526\n",
      "使用主成分回归估计进行预测的结果的RMSE是 95.0526567984391\n",
      "第 57 个模型\n",
      "k= 0.049787068367863944\n",
      "使用最小二乘估计进行预测的结果的RMSE是 74.58279420546353\n",
      "使用岭估计进行预测的结果的RMSE是 65.19569574177035\n",
      "使用主成分回归估计进行预测的结果的RMSE是 71.20036622720727\n",
      "第 58 个模型\n",
      "k= 0.049787068367863944\n",
      "使用最小二乘估计进行预测的结果的RMSE是 8.737713769142715\n",
      "使用岭估计进行预测的结果的RMSE是 15.019119672790225\n",
      "使用主成分回归估计进行预测的结果的RMSE是 26.916266700604638\n",
      "第 59 个模型\n",
      "k= 0.049787068367863944\n",
      "使用最小二乘估计进行预测的结果的RMSE是 118.78986651864022\n",
      "使用岭估计进行预测的结果的RMSE是 57.22205830540304\n",
      "使用主成分回归估计进行预测的结果的RMSE是 103.21852613501346\n",
      "第 60 个模型\n",
      "k= 0.049787068367863944\n",
      "使用最小二乘估计进行预测的结果的RMSE是 13.219671576253063\n",
      "使用岭估计进行预测的结果的RMSE是 8.797164871762561\n",
      "使用主成分回归估计进行预测的结果的RMSE是 9.394372810240839\n"
     ]
    }
   ],
   "source": [
    "from sklearn.model_selection import LeaveOneOut\n",
    "loo = LeaveOneOut()\n",
    "cnt=0\n",
    "RMSE1_=[]\n",
    "RMSE2_=[]\n",
    "RMSE3_=[]\n",
    "for train, test in loo.split(X):\n",
    "    cnt=cnt+1\n",
    "    print('第',cnt,'个模型')\n",
    "    train_X, test_X, train_y, test_y = X_std_1[train],X_std_1[test],Y[train],Y[test]\n",
    "    model_std = sm.OLS(train_y, train_X).fit()\n",
    "    beta_std_hat = model_std.params\n",
    "    coefs_4=[]\n",
    "    k4=choose_k(num_lambda4,train_X,train_y,coefs_4)\n",
    "    Y_tst_hat = test_X @ beta_std_hat\n",
    "    Y_tst_rr = test_X @ coef_4\n",
    "    \n",
    "    #计算两种预测结果的RMSE\n",
    "    RMSE1 = np.sqrt(np.mean(np.square(test_y - Y_tst_hat)))\n",
    "    RMSE2 = np.sqrt(np.mean(np.square(test_y - Y_tst_rr)))\n",
    "    RMSE3 = pca(train_X,train_y,test_X,test_y)\n",
    "    print(\"k=\",k4)\n",
    "    print('使用最小二乘估计进行预测的结果的RMSE是', RMSE1)\n",
    "    print('使用岭估计进行预测的结果的RMSE是', RMSE2)\n",
    "    print('使用主成分回归估计进行预测的结果的RMSE是', RMSE3)\n",
    "    RMSE1_.append(RMSE1)\n",
    "    RMSE2_.append(RMSE2)\n",
    "    RMSE3_.append(RMSE3)"
   ]
  },
  {
   "cell_type": "markdown",
   "metadata": {},
   "source": [
    "**绘图展示结果**"
   ]
  },
  {
   "cell_type": "code",
   "execution_count": 34,
   "metadata": {},
   "outputs": [
    {
     "data": {
      "text/plain": [
       "<matplotlib.legend.Legend at 0x18ada52afd0>"
      ]
     },
     "execution_count": 34,
     "metadata": {},
     "output_type": "execute_result"
    },
    {
     "data": {
      "image/png": "[encoded data removed]",
      "text/plain": [
       "<Figure size 432x288 with 1 Axes>"
      ]
     },
     "metadata": {
      "needs_background": "light"
     },
     "output_type": "display_data"
    }
   ],
   "source": [
    "import matplotlib.pyplot as plt\n",
    "import numpy as np\n",
    "p=np.linspace(1,60,60)\n",
    "plt.plot(p, RMSE1_, color='green', alpha=0.8, linewidth=1, label=\"least squares\")\n",
    "plt.plot(p, RMSE2_, color='orange', alpha=0.8, linewidth=1, label='ridge-regression')\n",
    "plt.plot(p, RMSE3_, color='red', alpha=0.8, linewidth=1, label='PCR')\n",
    "plt.legend()"
   ]
  },
  {
   "cell_type": "markdown",
   "metadata": {},
   "source": [
    "上图显示的结果为最小二乘、主成分回归和岭回归建立的模型在测试集上的效果"
   ]
  }
 ],
 "metadata": {
  "kernelspec": {
   "display_name": "Python 3",
   "language": "python",
   "name": "python3"
  },
  "language_info": {
   "codemirror_mode": {
    "name": "ipython",
    "version": 3
   },
   "file_extension": ".py",
   "mimetype": "text/x-python",
   "name": "python",
   "nbconvert_exporter": "python",
   "pygments_lexer": "ipython3",
   "version": "3.8.5"
  }
 },
 "nbformat": 4,
 "nbformat_minor": 4
}

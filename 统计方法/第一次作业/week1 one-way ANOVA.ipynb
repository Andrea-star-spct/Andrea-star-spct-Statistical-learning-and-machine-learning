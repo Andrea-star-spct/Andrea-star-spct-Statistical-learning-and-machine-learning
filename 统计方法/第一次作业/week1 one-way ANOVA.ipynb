{
 "cells": [
  {
   "cell_type": "markdown",
   "metadata": {
    "slideshow": {
     "slide_type": "slide"
    }
   },
   "source": [
    "# Week1 One-way ANOVA"
   ]
  },
  {
   "cell_type": "markdown",
   "metadata": {},
   "source": [
    "## 背景描述\n",
    "\n",
    "为了调查吃巧克力对心血管健康的影响，实验由三种类型的巧克力组成：\n",
    "\n",
    "100g的黑巧克力，含有200mg全脂牛奶的100g黑巧克力和200g的牛奶巧克力。\n",
    "\n",
    "12个实验对象：7女5男。在不同的天数里，每个实验对象将吃一种类型的巧克力，一个小时后测量他们血浆的总抗氧能力。 \n",
    "\n",
    "这是一个因子水平数 𝑎 = 3 和重复次数 m = 12 的单因子实验"
   ]
  },
  {
   "cell_type": "markdown",
   "metadata": {},
   "source": [
    "## 数据描述\n",
    "\n",
    "数据集包含巧克力的种类，血浆浓度的数据"
   ]
  },
  {
   "cell_type": "code",
   "execution_count": 1,
   "metadata": {},
   "outputs": [
    {
     "data": {
      "text/html": [
       "<div>\n",
       "<style scoped>\n",
       "    .dataframe tbody tr th:only-of-type {\n",
       "        vertical-align: middle;\n",
       "    }\n",
       "\n",
       "    .dataframe tbody tr th {\n",
       "        vertical-align: top;\n",
       "    }\n",
       "\n",
       "    .dataframe thead th {\n",
       "        text-align: right;\n",
       "    }\n",
       "</style>\n",
       "<table border=\"1\" class=\"dataframe\">\n",
       "  <thead>\n",
       "    <tr style=\"text-align: right;\">\n",
       "      <th></th>\n",
       "      <th>Obs</th>\n",
       "      <th>Chocolate</th>\n",
       "      <th>Capacity</th>\n",
       "    </tr>\n",
       "  </thead>\n",
       "  <tbody>\n",
       "    <tr>\n",
       "      <th>0</th>\n",
       "      <td>1</td>\n",
       "      <td>1</td>\n",
       "      <td>118.8</td>\n",
       "    </tr>\n",
       "    <tr>\n",
       "      <th>1</th>\n",
       "      <td>2</td>\n",
       "      <td>1</td>\n",
       "      <td>122.6</td>\n",
       "    </tr>\n",
       "    <tr>\n",
       "      <th>2</th>\n",
       "      <td>3</td>\n",
       "      <td>1</td>\n",
       "      <td>115.6</td>\n",
       "    </tr>\n",
       "    <tr>\n",
       "      <th>3</th>\n",
       "      <td>4</td>\n",
       "      <td>1</td>\n",
       "      <td>113.6</td>\n",
       "    </tr>\n",
       "    <tr>\n",
       "      <th>4</th>\n",
       "      <td>5</td>\n",
       "      <td>1</td>\n",
       "      <td>119.5</td>\n",
       "    </tr>\n",
       "    <tr>\n",
       "      <th>5</th>\n",
       "      <td>6</td>\n",
       "      <td>1</td>\n",
       "      <td>115.9</td>\n",
       "    </tr>\n",
       "    <tr>\n",
       "      <th>6</th>\n",
       "      <td>7</td>\n",
       "      <td>1</td>\n",
       "      <td>115.8</td>\n",
       "    </tr>\n",
       "    <tr>\n",
       "      <th>7</th>\n",
       "      <td>8</td>\n",
       "      <td>1</td>\n",
       "      <td>115.1</td>\n",
       "    </tr>\n",
       "    <tr>\n",
       "      <th>8</th>\n",
       "      <td>9</td>\n",
       "      <td>1</td>\n",
       "      <td>116.9</td>\n",
       "    </tr>\n",
       "    <tr>\n",
       "      <th>9</th>\n",
       "      <td>10</td>\n",
       "      <td>1</td>\n",
       "      <td>115.4</td>\n",
       "    </tr>\n",
       "    <tr>\n",
       "      <th>10</th>\n",
       "      <td>11</td>\n",
       "      <td>1</td>\n",
       "      <td>115.6</td>\n",
       "    </tr>\n",
       "    <tr>\n",
       "      <th>11</th>\n",
       "      <td>12</td>\n",
       "      <td>1</td>\n",
       "      <td>107.9</td>\n",
       "    </tr>\n",
       "    <tr>\n",
       "      <th>12</th>\n",
       "      <td>1</td>\n",
       "      <td>2</td>\n",
       "      <td>105.4</td>\n",
       "    </tr>\n",
       "    <tr>\n",
       "      <th>13</th>\n",
       "      <td>2</td>\n",
       "      <td>2</td>\n",
       "      <td>101.1</td>\n",
       "    </tr>\n",
       "    <tr>\n",
       "      <th>14</th>\n",
       "      <td>3</td>\n",
       "      <td>2</td>\n",
       "      <td>102.7</td>\n",
       "    </tr>\n",
       "    <tr>\n",
       "      <th>15</th>\n",
       "      <td>4</td>\n",
       "      <td>2</td>\n",
       "      <td>97.1</td>\n",
       "    </tr>\n",
       "    <tr>\n",
       "      <th>16</th>\n",
       "      <td>5</td>\n",
       "      <td>2</td>\n",
       "      <td>101.9</td>\n",
       "    </tr>\n",
       "    <tr>\n",
       "      <th>17</th>\n",
       "      <td>6</td>\n",
       "      <td>2</td>\n",
       "      <td>98.9</td>\n",
       "    </tr>\n",
       "    <tr>\n",
       "      <th>18</th>\n",
       "      <td>7</td>\n",
       "      <td>2</td>\n",
       "      <td>100.0</td>\n",
       "    </tr>\n",
       "    <tr>\n",
       "      <th>19</th>\n",
       "      <td>8</td>\n",
       "      <td>2</td>\n",
       "      <td>99.8</td>\n",
       "    </tr>\n",
       "    <tr>\n",
       "      <th>20</th>\n",
       "      <td>9</td>\n",
       "      <td>2</td>\n",
       "      <td>102.6</td>\n",
       "    </tr>\n",
       "    <tr>\n",
       "      <th>21</th>\n",
       "      <td>10</td>\n",
       "      <td>2</td>\n",
       "      <td>100.9</td>\n",
       "    </tr>\n",
       "    <tr>\n",
       "      <th>22</th>\n",
       "      <td>11</td>\n",
       "      <td>2</td>\n",
       "      <td>104.5</td>\n",
       "    </tr>\n",
       "    <tr>\n",
       "      <th>23</th>\n",
       "      <td>12</td>\n",
       "      <td>2</td>\n",
       "      <td>93.5</td>\n",
       "    </tr>\n",
       "    <tr>\n",
       "      <th>24</th>\n",
       "      <td>1</td>\n",
       "      <td>3</td>\n",
       "      <td>102.1</td>\n",
       "    </tr>\n",
       "    <tr>\n",
       "      <th>25</th>\n",
       "      <td>2</td>\n",
       "      <td>3</td>\n",
       "      <td>105.8</td>\n",
       "    </tr>\n",
       "    <tr>\n",
       "      <th>26</th>\n",
       "      <td>3</td>\n",
       "      <td>3</td>\n",
       "      <td>99.6</td>\n",
       "    </tr>\n",
       "    <tr>\n",
       "      <th>27</th>\n",
       "      <td>4</td>\n",
       "      <td>3</td>\n",
       "      <td>102.7</td>\n",
       "    </tr>\n",
       "    <tr>\n",
       "      <th>28</th>\n",
       "      <td>5</td>\n",
       "      <td>3</td>\n",
       "      <td>98.8</td>\n",
       "    </tr>\n",
       "    <tr>\n",
       "      <th>29</th>\n",
       "      <td>6</td>\n",
       "      <td>3</td>\n",
       "      <td>100.9</td>\n",
       "    </tr>\n",
       "    <tr>\n",
       "      <th>30</th>\n",
       "      <td>7</td>\n",
       "      <td>3</td>\n",
       "      <td>102.8</td>\n",
       "    </tr>\n",
       "    <tr>\n",
       "      <th>31</th>\n",
       "      <td>8</td>\n",
       "      <td>3</td>\n",
       "      <td>98.7</td>\n",
       "    </tr>\n",
       "    <tr>\n",
       "      <th>32</th>\n",
       "      <td>9</td>\n",
       "      <td>3</td>\n",
       "      <td>94.7</td>\n",
       "    </tr>\n",
       "    <tr>\n",
       "      <th>33</th>\n",
       "      <td>10</td>\n",
       "      <td>3</td>\n",
       "      <td>97.8</td>\n",
       "    </tr>\n",
       "    <tr>\n",
       "      <th>34</th>\n",
       "      <td>11</td>\n",
       "      <td>3</td>\n",
       "      <td>99.7</td>\n",
       "    </tr>\n",
       "    <tr>\n",
       "      <th>35</th>\n",
       "      <td>12</td>\n",
       "      <td>3</td>\n",
       "      <td>98.6</td>\n",
       "    </tr>\n",
       "  </tbody>\n",
       "</table>\n",
       "</div>"
      ],
      "text/plain": [
       "    Obs  Chocolate  Capacity\n",
       "0     1          1     118.8\n",
       "1     2          1     122.6\n",
       "2     3          1     115.6\n",
       "3     4          1     113.6\n",
       "4     5          1     119.5\n",
       "5     6          1     115.9\n",
       "6     7          1     115.8\n",
       "7     8          1     115.1\n",
       "8     9          1     116.9\n",
       "9    10          1     115.4\n",
       "10   11          1     115.6\n",
       "11   12          1     107.9\n",
       "12    1          2     105.4\n",
       "13    2          2     101.1\n",
       "14    3          2     102.7\n",
       "15    4          2      97.1\n",
       "16    5          2     101.9\n",
       "17    6          2      98.9\n",
       "18    7          2     100.0\n",
       "19    8          2      99.8\n",
       "20    9          2     102.6\n",
       "21   10          2     100.9\n",
       "22   11          2     104.5\n",
       "23   12          2      93.5\n",
       "24    1          3     102.1\n",
       "25    2          3     105.8\n",
       "26    3          3      99.6\n",
       "27    4          3     102.7\n",
       "28    5          3      98.8\n",
       "29    6          3     100.9\n",
       "30    7          3     102.8\n",
       "31    8          3      98.7\n",
       "32    9          3      94.7\n",
       "33   10          3      97.8\n",
       "34   11          3      99.7\n",
       "35   12          3      98.6"
      ]
     },
     "execution_count": 1,
     "metadata": {},
     "output_type": "execute_result"
    }
   ],
   "source": [
    "import pandas as pd\n",
    "df=pd.read_csv('C:\\\\Users\\\\asus\\\\Desktop\\\\HW1\\\\Project1.csv')\n",
    "df"
   ]
  },
  {
   "cell_type": "markdown",
   "metadata": {},
   "source": [
    "| 变量名 | 变量含义 | 变量类型 | 变量取值范围 |\n",
    "| :----------: | :--------: | :----------: | :----------: |\n",
    "| （自变量）Chocolate | 巧克力类型 | categorical variable | [1, 2, 3] |\n",
    "| （因变量）Capacity | 血浆浓度 | continuous variable | $\\mathbb{R}$ |"
   ]
  },
  {
   "cell_type": "markdown",
   "metadata": {},
   "source": [
    "## 问题 \n",
    "注：这里使用 $\\alpha=0.05$ 的显著性水平\n",
    "1. 试用两样本t检验两两比较 3 种巧克力对心血管健康的影响是否存在差异.\n",
    "2. 试使用One-way ANOVA判断食用的 3 种巧克力对心血管健康的影响是否有差异.\n",
    "3. 试判断该实验用One-way ANOVA模型是否恰当.\n",
    "4. 估计食用这 3 种巧克力 1h 后血浆的总抗氧能力均值和误差的方差."
   ]
  },
  {
   "cell_type": "markdown",
   "metadata": {},
   "source": [
    "## 解决方案"
   ]
  },
  {
   "cell_type": "code",
   "execution_count": 2,
   "metadata": {},
   "outputs": [],
   "source": [
    "#导入所需库\n",
    "import numpy as np\n",
    "import pandas as pd\n",
    "import scipy.stats as stats \n",
    "import matplotlib.pyplot as plt\n",
    "import math\n",
    "from statsmodels.formula.api import ols\n",
    "from statsmodels.stats.anova import anova_lm\n",
    "from scipy.stats import f\n",
    "from scipy.stats import t\n",
    "\n",
    "#显著性水平\n",
    "alpha = 0.05\n",
    "#因子\n",
    "a = 3\n",
    "#水平\n",
    "m = 12\n",
    "\n",
    "#提取所需要的列\n",
    "df = df[['Chocolate','Capacity']]\n",
    "#构建根据不同种类区分的group\n",
    "data = df.values \n",
    "Group = [data[data[:,0] == atype,1] for atype in [1, 2, 3]]"
   ]
  },
  {
   "cell_type": "markdown",
   "metadata": {},
   "source": [
    "### Q1: 试用两样本t检验两两比较 3 种巧克力对心血管健康的影响是否存在差异."
   ]
  },
  {
   "cell_type": "markdown",
   "metadata": {},
   "source": [
    "两种方法，拒绝域法和p值法"
   ]
  },
  {
   "cell_type": "markdown",
   "metadata": {},
   "source": [
    "1. 类型 1 , 2 进行两样本t检验"
   ]
  },
  {
   "cell_type": "code",
   "execution_count": 3,
   "metadata": {},
   "outputs": [
    {
     "name": "stdout",
     "output_type": "stream",
     "text": [
      "t1 = 11.10565260090929   t = 2.0738730679040147 , 拒绝 H0.\n",
      "p1 = 1.7330939682091152e-10 < 0.05, 拒绝 H0\n"
     ]
    }
   ],
   "source": [
    "# 得到t值和p值\n",
    "t1, p1 = stats.ttest_ind(Group[0], Group[1])\n",
    "\n",
    "# 拒绝域法\n",
    "t_val = t.ppf(1 - alpha / 2, 2 * (m - 1))#自由度为2*(m-1)的t分布的alpha分位数\n",
    "if abs(t1) > abs(t_val):\n",
    "    print('t1 =', t1,'  t =', t_val , ', 拒绝 H0.')\n",
    "else:\n",
    "    print('接受 H0.') \n",
    "\n",
    "# p值法\n",
    "if p1 < alpha:\n",
    "    print('p1 =',p1, '< 0.05, 拒绝 H0')\n",
    "else:\n",
    "    print('接受 H0') "
   ]
  },
  {
   "cell_type": "markdown",
   "metadata": {},
   "source": [
    "故拒绝原假设，认为类型1与类型2巧克力对心血管健康的影响存在显著差异"
   ]
  },
  {
   "cell_type": "markdown",
   "metadata": {},
   "source": [
    "2. 类型 2 , 3 进行两样本t检验"
   ]
  },
  {
   "cell_type": "code",
   "execution_count": 4,
   "metadata": {},
   "outputs": [
    {
     "name": "stdout",
     "output_type": "stream",
     "text": [
      "接受 H0.\n",
      "接受 H0\n"
     ]
    }
   ],
   "source": [
    "# 得到t值和p值\n",
    "t2, p2 = stats.ttest_ind(Group[1], Group[2])\n",
    "\n",
    "# 拒绝域法\n",
    "t_val = t.ppf(1 - alpha / 2, 2 * (m - 1))#自由度为2*(m-1)的t分布的alpha分位数\n",
    "if abs(t2) > abs(t_val):\n",
    "    print('t2 =', t2,'  t =', t_val , ', 拒绝 H0.')\n",
    "else:\n",
    "    print('接受 H0.') \n",
    "\n",
    "# p值法\n",
    "if p2 < alpha:\n",
    "    print('p2 =',p2, '< 0.05, 拒绝 H0')\n",
    "else:\n",
    "    print('接受 H0') "
   ]
  },
  {
   "cell_type": "markdown",
   "metadata": {},
   "source": [
    "故接受原假设，认为类型2与类型3巧克力对心血管健康的影响不存在差异"
   ]
  },
  {
   "cell_type": "markdown",
   "metadata": {},
   "source": [
    "3. 类型1 ，3进行两样本t检验"
   ]
  },
  {
   "cell_type": "code",
   "execution_count": 5,
   "metadata": {},
   "outputs": [
    {
     "name": "stdout",
     "output_type": "stream",
     "text": [
      "t3 = 12.047774079768462   t = 2.0738730679040147 , 拒绝 H0.\n",
      "p-value = 3.6833891525708707e-11 < 0.05, 拒绝 H0\n"
     ]
    }
   ],
   "source": [
    "# 得到t值和p值\n",
    "t3, p3 = stats.ttest_ind(Group[0], Group[2])\n",
    "\n",
    "# 拒绝域法\n",
    "t_val = t.ppf(1 - alpha / 2, 2 * (m - 1))#自由度为2*(m-1)的t分布的alpha分位数\n",
    "if abs(t3) > abs(t_val):\n",
    "    print('t3 =', t3,'  t =', t_val , ', 拒绝 H0.')\n",
    "else:\n",
    "    print('接受 H0.') \n",
    "\n",
    "# p值法\n",
    "if p3 < alpha:\n",
    "    print('p-value =',p3, '< 0.05, 拒绝 H0')\n",
    "else:\n",
    "    print('接受 H0') "
   ]
  },
  {
   "cell_type": "markdown",
   "metadata": {},
   "source": [
    "故拒绝原假设，认为类型1与类型3巧克力对心血管健康的影响存在显著差异\n",
    "\n",
    "综上，类型2与类型3巧克力对心血管健康的影响不存在差异，类型1与类型3巧克力和类型1与类型2巧克力对心血管健康的影响存在显著差异"
   ]
  },
  {
   "cell_type": "markdown",
   "metadata": {},
   "source": [
    "### Q2: 试使用One-way ANOVA判断食用的 3 种巧克力对心血管健康的影响是否有差异.\n",
    "检验假设 $H_0: \\mu_1 = \\mu_2 = \\mu_3 $ ;  $H_1: \\mu_1, \\mu_2, \\mu_3$不全相等"
   ]
  },
  {
   "cell_type": "markdown",
   "metadata": {},
   "source": [
    "两种方法：F统计量法和p值法"
   ]
  },
  {
   "cell_type": "code",
   "execution_count": 6,
   "metadata": {},
   "outputs": [
    {
     "name": "stdout",
     "output_type": "stream",
     "text": [
      "\n",
      "方差分析表: \n",
      "                df   sum_sq  mean_sq             F  PR(>F)\n",
      "C(Capacity)  32.0  2296.95    71.78  5.530639e+26     0.0\n",
      "Residual      3.0     0.00     0.00           NaN     NaN\n",
      "\n",
      " F0 = 93.57559776071176 > F(0.05,2,33) = 3.2849176510382883 , 拒绝 H0.\n",
      "\n",
      "p-value = 2.5152590041683006e-14 < 0.05, 拒绝 H0.\n"
     ]
    }
   ],
   "source": [
    "# 绘制方差分析表\n",
    "model = ols('Capacity ~ C(Capacity)', df).fit()\n",
    "anovaResults = round(anova_lm(model), 3)\n",
    "print('\\n方差分析表: \\n', anovaResults)  \n",
    "    \n",
    "F0, p0 = stats.f_oneway(Group[0], Group[1], Group[2]) \n",
    "    \n",
    "# F统计量法：\n",
    "F = f.ppf(1 - alpha, dfn = a - 1, dfd = a * (m - 1))\n",
    "if F0 > F:\n",
    "    print('\\n F0 =', F0,'> F(0.05,2,33) =',F, ', 拒绝 H0.')\n",
    "else:\n",
    "    print('\\接受 H0.') \n",
    "    \n",
    "# p值法：\n",
    "if p0 < alpha:\n",
    "    print('\\np-value =', p0, '< 0.05, 拒绝 H0.')\n",
    "else:\n",
    "    print('\\n接受 H0.') "
   ]
  },
  {
   "cell_type": "markdown",
   "metadata": {},
   "source": [
    "由方差分析表可知，P值小于 0.05 且F值大于 3.285，故拒绝原假设，即食用的 3 种巧克力对心血管健康的影响存在差异。"
   ]
  },
  {
   "cell_type": "markdown",
   "metadata": {},
   "source": [
    "###  Q3: 试判断该实验用One-way ANOVA模型是否恰当.\n",
    "  \n",
    "单因子方差分析的基本假定有3个，分别是：\n",
    "\n",
    "1.正态性：第i个水平下的数据$y_{i1},y_{i2},...$是来自正态总体$N(\\mu{i},\\sigma{i}^2)$的一个样本\n",
    "\n",
    "2.等方差性：a个方差相同\n",
    "\n",
    "3.独立性：个数据$y{ij}$都相互独立\n",
    "\n",
    "故要判断该实验用One-way ANOVA模型是否恰当需要进行正态性检验、方差齐性检验和独立性检验"
   ]
  },
  {
   "cell_type": "markdown",
   "metadata": {},
   "source": [
    "#### 1. 正态性检验\n",
    "\n",
    "##### 法1： qq图\n",
    "\n",
    "利用qq图（The quantitle-quantile plot），来检验数据分布的相似性。令X轴为正态分布的分位数，Y轴为样本分位数，如果这两者构成的点分布在一条直线上，就证明样本数据与正态分布存在线性相关性，即服从正态分布。"
   ]
  },
  {
   "cell_type": "code",
   "execution_count": 7,
   "metadata": {},
   "outputs": [
    {
     "data": {
      "image/png": "[encoded data removed]",
      "text/plain": [
       "<Figure size 432x288 with 1 Axes>"
      ]
     },
     "metadata": {
      "needs_background": "light"
     },
     "output_type": "display_data"
    }
   ],
   "source": [
    "# 用qq图进行正态性检验\n",
    "data_res = data * 1\n",
    "\n",
    "for k in [1,2,3]:\n",
    "    groups = data_res[data_res[:,0] == k,1]\n",
    "    data_res[data_res[:,0] == k,1] = groups - np.mean(groups)\n",
    "\n",
    "res = data_res[:, 1]\n",
    "\n",
    "res = res.astype(float) * 1\n",
    "stats.probplot(res, dist = 'norm', plot = plt)\n",
    "plt.show()"
   ]
  },
  {
   "cell_type": "markdown",
   "metadata": {},
   "source": [
    "从图中可以看到，整体上误差分布是近似正态的"
   ]
  },
  {
   "cell_type": "markdown",
   "metadata": {},
   "source": [
    "##### 法2：利用Shapiro-Wilk检验\n",
    "SW检验有两个基本假设，H0：样本中所有来自总体分布服从正态分布 H1：样本中所有来自总体分布不服从正态分布\n",
    "利用方法stats.shapiro()检验正态性，输出结果中第一个为统计量，第二个为P值（统计量越接近 1 越表明数据和正态分布拟合的好，P值大于指定的显著性水平，接受原假设，认为样本来自服从正态分布的总体）"
   ]
  },
  {
   "cell_type": "code",
   "execution_count": 8,
   "metadata": {},
   "outputs": [
    {
     "name": "stdout",
     "output_type": "stream",
     "text": [
      "0.9625394940376282\n",
      "0.2571522891521454\n",
      "\n",
      "接受H0\n"
     ]
    }
   ],
   "source": [
    "# 用Shapiro-Wilk检验进行正态性检验\n",
    "SW, pVal1 = stats.shapiro(res)\n",
    "print(SW)\n",
    "print(pVal1)\n",
    "\n",
    "if pVal1 > alpha:\n",
    "    print('\\n接受H0')\n",
    "else:\n",
    "    print('\\np-value < 0.05, 拒绝H0') "
   ]
  },
  {
   "cell_type": "markdown",
   "metadata": {},
   "source": [
    "由上述分析可知，统计量约为 0.96，接近 1；且P值约为 0.26，大于指定的显著性水平 0.05。故认为残差来自服从正态分布的总体。"
   ]
  },
  {
   "cell_type": "markdown",
   "metadata": {},
   "source": [
    "#### 2. 方差齐性检验\n",
    "\n",
    "##### 法1： Bartlett检验\n",
    "\n",
    "Bartlett检验的核心思想是通过求取不同组之间的卡方统计量，然后根据卡方统计量的值来判断组间方差是否相等。该方法极度依赖于数据是正态分布，如果数据非正态分布，则的出来的结果偏差很大。  \n",
    "Bartlett检验统计量为：\n",
    "$$\\chi_0^2 = 2.3026\\frac{q}{c}$$\n",
    "其中，\n",
    "$$q = (N - a)log_{10}S_p^2 - \\sum_{i=1}^a(n_i - 1)log_{10}S_i^2$$\n",
    "\n",
    "$$c = 1 + \\frac{1}{3(a-1)}(\\sum_{i=1}^a(n_i-1)^{-1} - (N - a)^{-1})$$\n",
    "\n",
    "$$S_p^2 = \\frac{\\sum_{i=1}^a\\quad(n_i-1)S_i^2}{N - a}$$ 且$S_i^2$是第 $i$ 个总体的样本方差；当$\\chi_0^2 > \\chi_{\\alpha,a-1}^2$ 时，拒绝$H_0$，其中$\\chi_{\\alpha,a-1}^2$是自由度为$a-1$的卡方分布上的 $\\alpha$ 分位数。"
   ]
  },
  {
   "cell_type": "code",
   "execution_count": 9,
   "metadata": {},
   "outputs": [
    {
     "name": "stdout",
     "output_type": "stream",
     "text": [
      "Bartlett检验的P值为： 0.8086822761266198\n",
      "接受 H0\n",
      "Bartlett检验统计量： 0.42\n",
      "𝜒_(𝛼,𝑎−1)^2:  5.99\n",
      "接受 H0\n"
     ]
    }
   ],
   "source": [
    "# 用Bartlett检验进行方差齐性检验\n",
    "bart, pVal2 = stats.bartlett(Group[0], Group[1], Group[2])\n",
    "bart_stat = stats.chi2.isf(alpha, a-1)\n",
    "\n",
    "# p值检验\n",
    "print('Bartlett检验的P值为：', pVal2)\n",
    "if pVal2 < alpha:\n",
    "    print('p-value < 0.05, 拒绝 H0.')\n",
    "else:\n",
    "    print('接受 H0')  \n",
    "\n",
    "# Bartlett检验统计量检验\n",
    "print('Bartlett检验统计量：', round(bart, 2))\n",
    "print('𝜒_(𝛼,𝑎−1)^2: ', round(bart_stat, 2))\n",
    "if bart > bart_stat:\n",
    "    print('𝜒_0^2 > 𝜒_(𝛼,𝑎−1)^2, 拒绝 H0.')\n",
    "else:\n",
    "    print('接受 H0')  "
   ]
  },
  {
   "cell_type": "markdown",
   "metadata": {},
   "source": [
    "由分析可知，Bartlett检验的P值大于 0.05 且Bartlett检验统计量小于5.99，故接受原假设，即残差具有方差齐性。 \n",
    "\n",
    "##### 法2：Levene检验\n",
    "Levene检验是将每个值先转换为该值与其组内均值的偏离程度，然后再用转换后的偏离程度去做方差分析，即组间方差/组内方差。修正后的Levene检验中的均值采用中位数的计算方法，因此这里的偏差用每个处理的观测值$y_{ij}$与该处理中的中位数$\\tilde{y}_{i·}$的偏差的绝对值来表示：$d_{ij} = |y_{ij} - \\tilde{y}_{i·}|, i = 1,2,···,a;j = 1,2,···,n$"
   ]
  },
  {
   "cell_type": "code",
   "execution_count": 10,
   "metadata": {},
   "outputs": [
    {
     "name": "stdout",
     "output_type": "stream",
     "text": [
      "Levene检验的P值为： 0.9789607652073091\n",
      "接受 H0\n"
     ]
    }
   ],
   "source": [
    "# 用Levene检验进行方差齐性检验\n",
    "lene, pVal3 = stats.levene(Group[0], Group[1], Group[2])\n",
    "print('Levene检验的P值为：', pVal3)\n",
    "if pVal3 < alpha:\n",
    "    print('p-value < 0.05, 拒绝 H0.')\n",
    "else:\n",
    "    print('接受 H0')  "
   ]
  },
  {
   "cell_type": "markdown",
   "metadata": {},
   "source": [
    "由分析可知，Levene检验的P值大于 0.05，故残差具有方差齐性。"
   ]
  },
  {
   "cell_type": "markdown",
   "metadata": {},
   "source": [
    "#### 3. 独立性检验\n",
    "Durbin-Watson 检验，又称 DW 检验，是用来检验回归分析中残差的一阶自相关性的(尤其针对时间序列数据)。在本实验中，数据不是时间序列数据，但也可以进行检验\n",
    "各残差的相关性方程为：$e_i = \\rho * e_{i-1} + v_i$，检验的原假设为：$\\rho = 0$，备择假设为：$\\rho \\neq 0$  \n",
    "检验统计量为：$d = \\frac{\\sum^T_{t=2}\\quad(e_i-e_{i-1})^2}{\\sum^T_{t=1}\\quad e_i^2}$  \n",
    "由于d近似等于2(1-$\\rho$),该统计量值越接近 2 越好，一般在 1~3 之间说明没问题，小于 1 这说明残差存在自相关性（有临界值表可以查）。  \n",
    "若没有通过 DW 检验，则需要修改模型或对数据进行处理。"
   ]
  },
  {
   "cell_type": "code",
   "execution_count": 11,
   "metadata": {},
   "outputs": [
    {
     "name": "stdout",
     "output_type": "stream",
     "text": [
      "Durbin-Watson检验的统计量为： 2.299061678853025\n"
     ]
    }
   ],
   "source": [
    "# 用Durbin-Watson检验进行独立性检验\n",
    "def durbin_watson(residuals):\n",
    "    nume = sum(np.diff(residuals.T) ** 2)\n",
    "    deno = sum(residuals ** 2)\n",
    "    return nume / deno\n",
    "dw = durbin_watson(res)\n",
    "print('Durbin-Watson检验的统计量为：',dw)"
   ]
  },
  {
   "cell_type": "markdown",
   "metadata": {},
   "source": [
    "Durbin-Watson检验的统计量约为：2.3，非常接近2，在 1~3 之间，故没有违反独立性的假定。 \n",
    "\n",
    "综上三个方面，可以知道该实验用One-way ANOVA模型是恰当的"
   ]
  },
  {
   "cell_type": "markdown",
   "metadata": {},
   "source": [
    "### Q4: 估计 3 个饮食方式水平下的均值和误差的方差."
   ]
  },
  {
   "cell_type": "markdown",
   "metadata": {},
   "source": [
    "估计 $\\mu_i$ 和 $\\sigma^2$\n",
    "\n",
    "各水平均值$\\mu_i$的估计为$y{i}$的均值\n",
    "\n",
    "误差方差$\\sigma^2$的估计为sse/a(m-1)"
   ]
  },
  {
   "cell_type": "code",
   "execution_count": 12,
   "metadata": {},
   "outputs": [
    {
     "name": "stdout",
     "output_type": "stream",
     "text": [
      "3 个饮食方式水平下的均值：[116.058, 100.7, 100.183]\n",
      "3 个饮食方式水平下的误差的方差：10.43\n"
     ]
    }
   ],
   "source": [
    "mu = [round(np.mean(Group[i]), 3) for i in range(a)]\n",
    "print('3 个饮食方式水平下的均值：{0}'.format(mu))\n",
    "\n",
    "sse = 0\n",
    "list_type=[1,2,3]\n",
    "for i in range(a):\n",
    "    se = 0\n",
    "    list_ = data[data[:,0] == list_type[i],1]\n",
    "    for j in range(m):\n",
    "        se += (list_[j] - mu[i]) ** 2\n",
    "    sse += se\n",
    "var = round(sse / (a * (m - 1)),2) \n",
    "print('3 个饮食方式水平下的误差的方差：{0}'.format(var))"
   ]
  },
  {
   "cell_type": "markdown",
   "metadata": {},
   "source": [
    "由上述分析可知，食用这 3 种巧克力 1h 后血浆的总抗氧能力均值的估计值分别为：116.058, 100.7, 100.183 \n",
    "其方差的估计值为：10.43"
   ]
  }
 ],
 "metadata": {
  "kernelspec": {
   "display_name": "Python 3",
   "language": "python",
   "name": "python3"
  },
  "language_info": {
   "codemirror_mode": {
    "name": "ipython",
    "version": 3
   },
   "file_extension": ".py",
   "mimetype": "text/x-python",
   "name": "python",
   "nbconvert_exporter": "python",
   "pygments_lexer": "ipython3",
   "version": "3.8.5"
  }
 },
 "nbformat": 4,
 "nbformat_minor": 4
}

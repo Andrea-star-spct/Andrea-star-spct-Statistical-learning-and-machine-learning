{
 "cells": [
  {
   "cell_type": "markdown",
   "metadata": {},
   "source": [
    "# Week3 Multiple Linear Regression\n",
    "## 背景描述  \n",
    "汽车发动机在测功机上产生的**制动马力**被认为是**发动机转速**(每分钟转数，rpm)、**燃料的道路辛烷值**和**发动机压缩值**的函数，我们在实验室里进行实验，研究它们的函数关系。\n",
    "\n",
    "\n",
    "## 数据描述\n",
    "| 变量名 | 变量含义 | 变量类型 | 变量取值范围 |\n",
    "| :----------: | :--------: | :----------: | :----------: |\n",
    "| （自变量）rpm | 发动机转速 | continuous variable | $\\mathbb{R}^+$ |\n",
    "| （自变量）Road_Octane_Number | 道路辛烷值 | continuous variable | $\\mathbb{R}^+$ |\n",
    "| （自变量）Compression | 压缩值 | continuous variable | $\\mathbb{R}^+$ |\n",
    "| （因变量）Brake_Horsepower | 制动马力 | continuous variable | $\\mathbb{R}^+$ |"
   ]
  },
  {
   "cell_type": "markdown",
   "metadata": {},
   "source": [
    "## 问题 \n",
    "注：这里使用 $\\alpha=0.05$ 的显著性水平\n",
    "\n",
    "1. 请用两种方式建立多元线性回归模型，描述制动马力和上述 3 个自变量之间的函数关系.\n",
    "2. 将数据中心化之后，求经验回归方程，跟原模型进行比较\n",
    "3. 请问Q1中所建立的模型是否合理.\n",
    "4. 当发动机转速为3000转/min，道路辛烷值为90，发动机压缩值为100时，估计制动马力值的合理区间范围."
   ]
  },
  {
   "cell_type": "markdown",
   "metadata": {},
   "source": [
    "\n",
    "## 解决方案\n",
    "\n"
   ]
  },
  {
   "cell_type": "code",
   "execution_count": 1,
   "metadata": {},
   "outputs": [
    {
     "name": "stdout",
     "output_type": "stream",
     "text": [
      "    intercept    P1  P2   P3    F\n",
      "0           1  2000  90  100  225\n",
      "1           1  1800  94   95  212\n",
      "2           1  2400  88  110  229\n",
      "3           1  1900  91   96  222\n",
      "4           1  1600  86  100  219\n",
      "5           1  2500  96  110  278\n",
      "6           1  3000  94   98  246\n",
      "7           1  3200  90  100  237\n",
      "8           1  2800  88  105  233\n",
      "9           1  3400  86   97  224\n",
      "10          1  1800  90  100  223\n",
      "11          1  2500  89  104  230\n"
     ]
    }
   ],
   "source": [
    "# Import standard packages\n",
    "import numpy as np\n",
    "import pandas as pd\n",
    "import scipy.stats as stats\n",
    "import matplotlib.pyplot as plt\n",
    "\n",
    "# Import additional packages\n",
    "from statsmodels.formula.api import ols#进行多元线性回归所需要的库\n",
    "from scipy.stats import f\n",
    "from scipy.stats import t\n",
    "import warnings\n",
    "warnings.filterwarnings(\"ignore\")\n",
    "\n",
    "#已知量\n",
    "alpha = 0.05\n",
    "p = 3\n",
    "n = 12\n",
    "\n",
    "df = pd.read_csv('D:\\\\mycode\\\\Untitled Folder\\\\可视化code\\\\统计学习方法\\\\第3次实验 Multiple Linear Regression\\\\HW3\\\\Project3.csv')\n",
    "#修改列名\n",
    "df.rename(columns={'rpm':'P1','Road Octane Number':'P2','Compression':'P3','Brake Horsepower':'F'},inplace=True)\n",
    "#添加截距项\n",
    "df['intercept'] = 1 \n",
    "df = df[['intercept', 'P1', 'P2', 'P3','F']]\n",
    "print(df)\n",
    "\n",
    "data = df.values\n",
    "#X矩阵\n",
    "X = data[:, 0 : p + 1]\n",
    "#y\n",
    "y = data[:, -1]"
   ]
  },
  {
   "cell_type": "markdown",
   "metadata": {},
   "source": [
    "### Q1: 请用两种方式建立多元线性回归模型，描述制动马力和上述 3 个自变量之间的函数关系.\n",
    "\n",
    "\n",
    "建立多元线性回归模型：\n",
    "\n",
    "$$y = \\beta_0 + \\beta_1x_1 + \\beta_2x_2 + + \\beta_3x_3 + \\varepsilon$$\n",
    "\n",
    "$\\varepsilon$ 为随机误差，假定 $E(\\varepsilon) = 0, \\text{Var} (\\varepsilon) = \\sigma ^2$\n",
    "\n"
   ]
  },
  {
   "cell_type": "markdown",
   "metadata": {},
   "source": [
    "#### 【法1】：使用 <a href = \"https://www.statsmodels.org/stable/generated/statsmodels.formula.api.ols.html\">statsmodels.formula.api.ols</a> 进行多元线性回归。\n"
   ]
  },
  {
   "cell_type": "code",
   "execution_count": 2,
   "metadata": {},
   "outputs": [
    {
     "name": "stdout",
     "output_type": "stream",
     "text": [
      "参数估计值: \n",
      " Intercept   -266.0312\n",
      "P1             0.0107\n",
      "P2             3.1348\n",
      "P3             1.8674\n",
      "dtype: float64\n"
     ]
    },
    {
     "data": {
      "text/html": [
       "<table class=\"simpletable\">\n",
       "<caption>OLS Regression Results</caption>\n",
       "<tr>\n",
       "  <th>Dep. Variable:</th>            <td>F</td>        <th>  R-squared:         </th> <td>   0.807</td>\n",
       "</tr>\n",
       "<tr>\n",
       "  <th>Model:</th>                   <td>OLS</td>       <th>  Adj. R-squared:    </th> <td>   0.734</td>\n",
       "</tr>\n",
       "<tr>\n",
       "  <th>Method:</th>             <td>Least Squares</td>  <th>  F-statistic:       </th> <td>   11.12</td>\n",
       "</tr>\n",
       "<tr>\n",
       "  <th>Date:</th>             <td>Sat, 09 Oct 2021</td> <th>  Prob (F-statistic):</th>  <td>0.00317</td>\n",
       "</tr>\n",
       "<tr>\n",
       "  <th>Time:</th>                 <td>22:45:11</td>     <th>  Log-Likelihood:    </th> <td> -40.708</td>\n",
       "</tr>\n",
       "<tr>\n",
       "  <th>No. Observations:</th>      <td>    12</td>      <th>  AIC:               </th> <td>   89.42</td>\n",
       "</tr>\n",
       "<tr>\n",
       "  <th>Df Residuals:</th>          <td>     8</td>      <th>  BIC:               </th> <td>   91.36</td>\n",
       "</tr>\n",
       "<tr>\n",
       "  <th>Df Model:</th>              <td>     3</td>      <th>                     </th>     <td> </td>   \n",
       "</tr>\n",
       "<tr>\n",
       "  <th>Covariance Type:</th>      <td>nonrobust</td>    <th>                     </th>     <td> </td>   \n",
       "</tr>\n",
       "</table>\n",
       "<table class=\"simpletable\">\n",
       "<tr>\n",
       "      <td></td>         <th>coef</th>     <th>std err</th>      <th>t</th>      <th>P>|t|</th>  <th>[0.025</th>    <th>0.975]</th>  \n",
       "</tr>\n",
       "<tr>\n",
       "  <th>Intercept</th> <td> -266.0312</td> <td>   92.674</td> <td>   -2.871</td> <td> 0.021</td> <td> -479.737</td> <td>  -52.325</td>\n",
       "</tr>\n",
       "<tr>\n",
       "  <th>P1</th>        <td>    0.0107</td> <td>    0.004</td> <td>    2.390</td> <td> 0.044</td> <td>    0.000</td> <td>    0.021</td>\n",
       "</tr>\n",
       "<tr>\n",
       "  <th>P2</th>        <td>    3.1348</td> <td>    0.844</td> <td>    3.712</td> <td> 0.006</td> <td>    1.188</td> <td>    5.082</td>\n",
       "</tr>\n",
       "<tr>\n",
       "  <th>P3</th>        <td>    1.8674</td> <td>    0.535</td> <td>    3.494</td> <td> 0.008</td> <td>    0.635</td> <td>    3.100</td>\n",
       "</tr>\n",
       "</table>\n",
       "<table class=\"simpletable\">\n",
       "<tr>\n",
       "  <th>Omnibus:</th>       <td> 0.392</td> <th>  Durbin-Watson:     </th> <td>   1.043</td>\n",
       "</tr>\n",
       "<tr>\n",
       "  <th>Prob(Omnibus):</th> <td> 0.822</td> <th>  Jarque-Bera (JB):  </th> <td>   0.230</td>\n",
       "</tr>\n",
       "<tr>\n",
       "  <th>Skew:</th>          <td>-0.282</td> <th>  Prob(JB):          </th> <td>   0.891</td>\n",
       "</tr>\n",
       "<tr>\n",
       "  <th>Kurtosis:</th>      <td> 2.625</td> <th>  Cond. No.          </th> <td>9.03e+04</td>\n",
       "</tr>\n",
       "</table><br/><br/>Notes:<br/>[1] Standard Errors assume that the covariance matrix of the errors is correctly specified.<br/>[2] The condition number is large, 9.03e+04. This might indicate that there are<br/>strong multicollinearity or other numerical problems."
      ],
      "text/plain": [
       "<class 'statsmodels.iolib.summary.Summary'>\n",
       "\"\"\"\n",
       "                            OLS Regression Results                            \n",
       "==============================================================================\n",
       "Dep. Variable:                      F   R-squared:                       0.807\n",
       "Model:                            OLS   Adj. R-squared:                  0.734\n",
       "Method:                 Least Squares   F-statistic:                     11.12\n",
       "Date:                Sat, 09 Oct 2021   Prob (F-statistic):            0.00317\n",
       "Time:                        22:45:11   Log-Likelihood:                -40.708\n",
       "No. Observations:                  12   AIC:                             89.42\n",
       "Df Residuals:                       8   BIC:                             91.36\n",
       "Df Model:                           3                                         \n",
       "Covariance Type:            nonrobust                                         \n",
       "==============================================================================\n",
       "                 coef    std err          t      P>|t|      [0.025      0.975]\n",
       "------------------------------------------------------------------------------\n",
       "Intercept   -266.0312     92.674     -2.871      0.021    -479.737     -52.325\n",
       "P1             0.0107      0.004      2.390      0.044       0.000       0.021\n",
       "P2             3.1348      0.844      3.712      0.006       1.188       5.082\n",
       "P3             1.8674      0.535      3.494      0.008       0.635       3.100\n",
       "==============================================================================\n",
       "Omnibus:                        0.392   Durbin-Watson:                   1.043\n",
       "Prob(Omnibus):                  0.822   Jarque-Bera (JB):                0.230\n",
       "Skew:                          -0.282   Prob(JB):                        0.891\n",
       "Kurtosis:                       2.625   Cond. No.                     9.03e+04\n",
       "==============================================================================\n",
       "\n",
       "Notes:\n",
       "[1] Standard Errors assume that the covariance matrix of the errors is correctly specified.\n",
       "[2] The condition number is large, 9.03e+04. This might indicate that there are\n",
       "strong multicollinearity or other numerical problems.\n",
       "\"\"\""
      ]
     },
     "execution_count": 2,
     "metadata": {},
     "output_type": "execute_result"
    }
   ],
   "source": [
    "#建立模型\n",
    "model = ols('F ~ P1 + P2 + P3', df).fit()\n",
    "beta = model.params\n",
    "print('参数估计值: \\n', round(beta, 4))\n",
    "X = data[:, 0 : p + 1]\n",
    "Y = data[:, -1]\n",
    "Y_hat = model.fittedvalues\n",
    "model.summary()"
   ]
  },
  {
   "cell_type": "code",
   "execution_count": 3,
   "metadata": {},
   "outputs": [
    {
     "name": "stdout",
     "output_type": "stream",
     "text": [
      "回归系数的估计值:\n",
      "Intercept   -266.031212\n",
      "P1             0.010713\n",
      "P2             3.134806\n",
      "P3             1.867409\n",
      "dtype: float64\n",
      "\n",
      "线性回归方程:\n",
      "y_hat = -266.03 + 0.01 * x1 + 3.13 * x2 + 1.87 * x3\n"
     ]
    }
   ],
   "source": [
    "beta_hat_1 = model.params\n",
    "print('回归系数的估计值:')\n",
    "print(beta_hat_1)\n",
    "print('\\n线性回归方程:')\n",
    "print('y_hat = %.2f + %.2f * x1 + %.2f * x2 + %.2f * x3' % (beta_hat_1[0], beta_hat_1[1], beta_hat_1[2], beta_hat_1[3]))\n",
    "\n",
    "y_hat_1 = model.fittedvalues"
   ]
  },
  {
   "cell_type": "markdown",
   "metadata": {},
   "source": [
    "#### 【法2】：使用公式\n",
    "\n",
    "$$\\hat{\\beta} = (X'X)^{-1}X'y$$\n",
    "\n",
    "$$\\hat{y} = X(X'X)^{-1}X'y$$"
   ]
  },
  {
   "cell_type": "code",
   "execution_count": 4,
   "metadata": {},
   "outputs": [
    {
     "name": "stdout",
     "output_type": "stream",
     "text": [
      "回归系数的估计值:\n",
      "[-2.66031212e+02  1.07132079e-02  3.13480626e+00  1.86740943e+00]\n",
      "\n",
      "线性回归方程:\n",
      "y_hat = -266.03 + 0.01 * x1 + 3.13 * x2 + 1.87 * x3\n"
     ]
    }
   ],
   "source": [
    "beta_hat_2 = (np.linalg.inv(X.T @ X) @ X.T) @ y\n",
    "\n",
    "print('回归系数的估计值:')\n",
    "print(beta_hat_2)\n",
    "print('\\n线性回归方程:')\n",
    "print('y_hat = %.2f + %.2f * x1 + %.2f * x2 + %.2f * x3' % (beta_hat_1[0], beta_hat_1[1], beta_hat_1[2], beta_hat_1[3]))\n",
    "\n",
    "y_hat_2 = np.dot(X, beta_hat_2)\n",
    "beta_hat = beta_hat_1\n",
    "y_hat = y_hat_1"
   ]
  },
  {
   "cell_type": "markdown",
   "metadata": {},
   "source": [
    "### Q2: 将数据中心化之后，求经验回归方程，跟原模型进行比较"
   ]
  },
  {
   "cell_type": "code",
   "execution_count": 5,
   "metadata": {},
   "outputs": [],
   "source": [
    "# 求均值\n",
    "X_mean = []\n",
    "for k in range(p + 1):\n",
    "    X_mean.append(np.mean(data[:, k]))  # 自变量 x 的均值\n",
    "y_mean = np.mean(data[:, -1])  # 因变量 y 的均值\n",
    "\n",
    "# 数据中心化\n",
    "X_cent = X - X_mean\n",
    "y_cent = y - y_mean"
   ]
  },
  {
   "cell_type": "code",
   "execution_count": 6,
   "metadata": {},
   "outputs": [
    {
     "data": {
      "text/html": [
       "<table class=\"simpletable\">\n",
       "<caption>OLS Regression Results</caption>\n",
       "<tr>\n",
       "  <th>Dep. Variable:</th>         <td>F_cent</td>      <th>  R-squared:         </th> <td>   0.807</td>\n",
       "</tr>\n",
       "<tr>\n",
       "  <th>Model:</th>                   <td>OLS</td>       <th>  Adj. R-squared:    </th> <td>   0.734</td>\n",
       "</tr>\n",
       "<tr>\n",
       "  <th>Method:</th>             <td>Least Squares</td>  <th>  F-statistic:       </th> <td>   11.12</td>\n",
       "</tr>\n",
       "<tr>\n",
       "  <th>Date:</th>             <td>Sat, 09 Oct 2021</td> <th>  Prob (F-statistic):</th>  <td>0.00317</td>\n",
       "</tr>\n",
       "<tr>\n",
       "  <th>Time:</th>                 <td>22:45:14</td>     <th>  Log-Likelihood:    </th> <td> -40.708</td>\n",
       "</tr>\n",
       "<tr>\n",
       "  <th>No. Observations:</th>      <td>    12</td>      <th>  AIC:               </th> <td>   89.42</td>\n",
       "</tr>\n",
       "<tr>\n",
       "  <th>Df Residuals:</th>          <td>     8</td>      <th>  BIC:               </th> <td>   91.36</td>\n",
       "</tr>\n",
       "<tr>\n",
       "  <th>Df Model:</th>              <td>     3</td>      <th>                     </th>     <td> </td>   \n",
       "</tr>\n",
       "<tr>\n",
       "  <th>Covariance Type:</th>      <td>nonrobust</td>    <th>                     </th>     <td> </td>   \n",
       "</tr>\n",
       "</table>\n",
       "<table class=\"simpletable\">\n",
       "<tr>\n",
       "      <td></td>         <th>coef</th>     <th>std err</th>      <th>t</th>      <th>P>|t|</th>  <th>[0.025</th>    <th>0.975]</th>  \n",
       "</tr>\n",
       "<tr>\n",
       "  <th>Intercept</th> <td> -2.22e-16</td> <td>    2.544</td> <td>-8.73e-17</td> <td> 1.000</td> <td>   -5.866</td> <td>    5.866</td>\n",
       "</tr>\n",
       "<tr>\n",
       "  <th>P1_cent</th>   <td>    0.0107</td> <td>    0.004</td> <td>    2.390</td> <td> 0.044</td> <td>    0.000</td> <td>    0.021</td>\n",
       "</tr>\n",
       "<tr>\n",
       "  <th>P2_cent</th>   <td>    3.1348</td> <td>    0.844</td> <td>    3.712</td> <td> 0.006</td> <td>    1.188</td> <td>    5.082</td>\n",
       "</tr>\n",
       "<tr>\n",
       "  <th>P3_cent</th>   <td>    1.8674</td> <td>    0.535</td> <td>    3.494</td> <td> 0.008</td> <td>    0.635</td> <td>    3.100</td>\n",
       "</tr>\n",
       "</table>\n",
       "<table class=\"simpletable\">\n",
       "<tr>\n",
       "  <th>Omnibus:</th>       <td> 0.392</td> <th>  Durbin-Watson:     </th> <td>   1.043</td>\n",
       "</tr>\n",
       "<tr>\n",
       "  <th>Prob(Omnibus):</th> <td> 0.822</td> <th>  Jarque-Bera (JB):  </th> <td>   0.230</td>\n",
       "</tr>\n",
       "<tr>\n",
       "  <th>Skew:</th>          <td>-0.282</td> <th>  Prob(JB):          </th> <td>   0.891</td>\n",
       "</tr>\n",
       "<tr>\n",
       "  <th>Kurtosis:</th>      <td> 2.625</td> <th>  Cond. No.          </th> <td>    574.</td>\n",
       "</tr>\n",
       "</table><br/><br/>Notes:<br/>[1] Standard Errors assume that the covariance matrix of the errors is correctly specified."
      ],
      "text/plain": [
       "<class 'statsmodels.iolib.summary.Summary'>\n",
       "\"\"\"\n",
       "                            OLS Regression Results                            \n",
       "==============================================================================\n",
       "Dep. Variable:                 F_cent   R-squared:                       0.807\n",
       "Model:                            OLS   Adj. R-squared:                  0.734\n",
       "Method:                 Least Squares   F-statistic:                     11.12\n",
       "Date:                Sat, 09 Oct 2021   Prob (F-statistic):            0.00317\n",
       "Time:                        22:45:14   Log-Likelihood:                -40.708\n",
       "No. Observations:                  12   AIC:                             89.42\n",
       "Df Residuals:                       8   BIC:                             91.36\n",
       "Df Model:                           3                                         \n",
       "Covariance Type:            nonrobust                                         \n",
       "==============================================================================\n",
       "                 coef    std err          t      P>|t|      [0.025      0.975]\n",
       "------------------------------------------------------------------------------\n",
       "Intercept   -2.22e-16      2.544  -8.73e-17      1.000      -5.866       5.866\n",
       "P1_cent        0.0107      0.004      2.390      0.044       0.000       0.021\n",
       "P2_cent        3.1348      0.844      3.712      0.006       1.188       5.082\n",
       "P3_cent        1.8674      0.535      3.494      0.008       0.635       3.100\n",
       "==============================================================================\n",
       "Omnibus:                        0.392   Durbin-Watson:                   1.043\n",
       "Prob(Omnibus):                  0.822   Jarque-Bera (JB):                0.230\n",
       "Skew:                          -0.282   Prob(JB):                        0.891\n",
       "Kurtosis:                       2.625   Cond. No.                         574.\n",
       "==============================================================================\n",
       "\n",
       "Notes:\n",
       "[1] Standard Errors assume that the covariance matrix of the errors is correctly specified.\n",
       "\"\"\""
      ]
     },
     "execution_count": 6,
     "metadata": {},
     "output_type": "execute_result"
    }
   ],
   "source": [
    "# Do the multiple linear regression\n",
    "df_cent = pd.DataFrame(X_cent, columns = ['intercept_cent', 'P1_cent', 'P2_cent','P3_cent'])\n",
    "df_cent['F_cent'] = y_cent\n",
    "\n",
    "model_cent = ols('F_cent ~ P1_cent + P2_cent + P3_cent', df_cent).fit()\n",
    "model_cent.summary()"
   ]
  },
  {
   "cell_type": "code",
   "execution_count": 7,
   "metadata": {},
   "outputs": [
    {
     "name": "stdout",
     "output_type": "stream",
     "text": [
      "回归系数的估计值:\n",
      "Intercept   -2.220446e-16\n",
      "P1_cent      1.071321e-02\n",
      "P2_cent      3.134806e+00\n",
      "P3_cent      1.867409e+00\n",
      "dtype: float64\n",
      "\n",
      "线性回归方程:\n",
      "y_hat_center = -0.00 + 0.01 * x1_center + 3.13 * x2_center + 1.87 * x3_center\n"
     ]
    }
   ],
   "source": [
    "beta_cent_hat = model_cent.params\n",
    "print('回归系数的估计值:')\n",
    "print(beta_cent_hat)\n",
    "print('\\n线性回归方程:')\n",
    "print('y_hat_center = %.2f + %.2f * x1_center + %.2f * x2_center + %.2f * x3_center' % (beta_cent_hat[0], beta_cent_hat[1], beta_cent_hat[2], beta_cent_hat[3]))\n",
    "\n",
    "y_hat_cent = model_cent.fittedvalues"
   ]
  },
  {
   "cell_type": "markdown",
   "metadata": {},
   "source": [
    "通过比较可以看出，去中心化后的线性回归方程X的系数和未去中心化后的线性回归方程X的系数相同，仅仅是截距不同而已。"
   ]
  },
  {
   "cell_type": "markdown",
   "metadata": {},
   "source": [
    "### Q3: 请问Q1中所建立的模型是否合理. \n",
    "有两种考虑问题的方式：\n",
    "\n",
    "【角度1】：通过显著性检验的方法来确定该模型是否合理\n",
    "\n",
    "1.首先通过F检验，检验回归方方程的显著性，也就是看自变量$x_1,x_2,...,x_p$从整体上对于因变量y是否有明显影响\n",
    "\n",
    "检验假设：\n",
    "\n",
    "$H_0: \\beta_1=\\beta_2=\\beta_3=0$ vs $H_1: \\exists \\beta_i \\neq 0,i=1,2,3$\n",
    "\n",
    "若$H_0$为真，则表明因变量y与$x_1,x_2,...,x_p$之间的关系用线性回归模型来刻画是不合适的，便可以通过F检验直接判断出建立的该模型是不合理的。\n",
    "若$H_0$为假，回归方程显著，但是这并不意味着每个自变量都对因变量的影响都显著，这时便还要通过t检验去对每个自变量进行显著性检验\n",
    "\n",
    "2.t检验\n",
    "\n",
    "检验假设：\n",
    "\n",
    "$H_{0j}: \\beta_j=0$ vs $H_{1j}: \\beta_j \\neq 0,j=1,2,3$\n",
    "\n",
    "如果拒绝原假设$H_{0j}$，那么便认为自变量$x_j$对因变量y显著，进而去判断模型是否合理\n",
    "\n",
    "3.复相关系数\n",
    "\n",
    "度量回归方程对样本观测值得拟合程度，衡量的是作为一个整体的$x_1,x_2,...,x_p$与y的线性关系\n",
    "\n",
    " $R^2=\\frac{SSR}{SST}=1-\\frac{SSE}{SST}$ \n",
    " \n",
    " $R^2$越接近1，则说明回归拟合的效果越好，越接近于0，则说明回归拟合的效果越差。\n",
    " \n",
    " \n",
    " 【角度2】：通过残差分析来判断模型是否合理\n",
    " \n",
    "原因：线性回归要求自变量和因变量y具有线性关系。无论自变量$x_1,x_2,...,x_p$用什么值，这个假设都保留残差平均为零。通常，它也假设残差是独立的，并且通常以相同的方差（同方差性）分布。为了检查这些假设是否成立，我们需要分析残差。\n",
    "\n",
    "1.检查正态性\n",
    "\n",
    "2.检查方差齐性\n",
    "\n",
    "当以上条件均满足，则认为该模型合理"
   ]
  },
  {
   "cell_type": "markdown",
   "metadata": {},
   "source": [
    "#### 【角度1】：通过显著性检验的方法来确定该模型是否合理\n",
    "首先根据公式求解相关项"
   ]
  },
  {
   "cell_type": "code",
   "execution_count": 8,
   "metadata": {},
   "outputs": [],
   "source": [
    "SSE = sum((y - y_hat) ** 2)\n",
    "SST = sum((y - y_mean) ** 2)\n",
    "SSR = sum((y_hat - y_mean) ** 2)\n",
    "\n",
    "sigma2 = SSE / (n - p - 1)  # 方差\n",
    "sigma = np.sqrt(sigma2)  # 标准差"
   ]
  },
  {
   "cell_type": "markdown",
   "metadata": {},
   "source": [
    "#### 1. F检验，检验回归方方程的显著性\n",
    "1）看F临界值\n",
    "\n",
    "2）看p值"
   ]
  },
  {
   "cell_type": "code",
   "execution_count": 9,
   "metadata": {},
   "outputs": [
    {
     "name": "stdout",
     "output_type": "stream",
     "text": [
      "\n",
      "计算 F0 方法一:\n",
      "11.115963636360691\n",
      "\n",
      "计算 F0 方法二:\n",
      "11.115963636360965\n",
      "\n",
      "计算 F 临界值:\n",
      "4.066\n"
     ]
    }
   ],
   "source": [
    "# 计算 F0\n",
    "print(\"\\n计算 F0 方法一:\")\n",
    "F0 = (SSR / p) / (SSE / (n - p - 1))\n",
    "print(F0)\n",
    "\n",
    "print(\"\\n计算 F0 方法二:\")\n",
    "F0 = model.fvalue\n",
    "print(F0)\n",
    "\n",
    "print(\"\\n计算 F 临界值:\")\n",
    "F = round(f.ppf(1 - alpha, dfn = p, dfd = n - p - 1), p)\n",
    "print(F)"
   ]
  },
  {
   "cell_type": "code",
   "execution_count": 10,
   "metadata": {},
   "outputs": [
    {
     "name": "stdout",
     "output_type": "stream",
     "text": [
      "\n",
      "计算 p 值 方法一:\n",
      "0.0031699790971881155\n",
      "\n",
      "计算 p 值 方法二:\n",
      "0.0031699790971881155\n"
     ]
    }
   ],
   "source": [
    "# 计算 p 值\n",
    "print(\"\\n计算 p 值 方法一:\")\n",
    "pVal1 = f.sf(F0, p, n - p - 1)\n",
    "print(pVal1)\n",
    "\n",
    "print(\"\\n计算 p 值 方法二:\")\n",
    "pVal1 = model.f_pvalue\n",
    "print(pVal1)"
   ]
  },
  {
   "cell_type": "code",
   "execution_count": 11,
   "metadata": {},
   "outputs": [
    {
     "name": "stdout",
     "output_type": "stream",
     "text": [
      "p-value < 0.05, 拒绝 H0.\n",
      "F0 > F(0.95, 3, 8) = 4.07, 拒绝 H0.\n"
     ]
    }
   ],
   "source": [
    "if pVal1 < alpha:\n",
    "    print('p-value < 0.05, 拒绝 H0.')\n",
    "else:\n",
    "    print('接受H0.') \n",
    "\n",
    "if F0 > F:\n",
    "    print('F0 > F(0.95, 3, 8) = %.2f, 拒绝 H0.' % F)\n",
    "else:\n",
    "    print('接受 H0.') "
   ]
  },
  {
   "cell_type": "markdown",
   "metadata": {},
   "source": [
    "因为 $F_0 = 11.12 > F(0.95, 3, 8) = 4.066$, $p = 0.00 < \\alpha = 0.05$。故拒绝原假设 $H_0$。\n",
    "\n",
    "由 F 检验结果可知，无论是从p值还是F0角度，都拒绝原假设，该回归方程是显著的。故继续进行t检验"
   ]
  },
  {
   "cell_type": "markdown",
   "metadata": {},
   "source": [
    "#### 2. t检验\n",
    "1）看t临界值\n",
    "\n",
    "2）看p值"
   ]
  },
  {
   "cell_type": "code",
   "execution_count": 12,
   "metadata": {},
   "outputs": [
    {
     "name": "stdout",
     "output_type": "stream",
     "text": [
      "\n",
      "计算 t0 方法一:\n",
      "[-2.8706239247832275, 2.3896037316290344, 3.712312044478119, 3.49358166685709]\n",
      "\n",
      "计算 t0 方法二:\n",
      "Intercept   -2.870624\n",
      "P1           2.389604\n",
      "P2           3.712312\n",
      "P3           3.493582\n",
      "dtype: float64\n",
      "\n",
      "计算 t 临界值:\n",
      "2.3060041350333704\n"
     ]
    }
   ],
   "source": [
    "# 计算 t0\n",
    "print(\"\\n计算 t0 方法一:\")\n",
    "c = np.dot(X.T, X)\n",
    "# 求逆\n",
    "C = np.linalg.inv(c)  \n",
    "\n",
    "t0 = []\n",
    "for i in range(p + 1):   \n",
    "    t0.append(beta_hat[i] / (np.sqrt(C[i][i] * sigma2)))  # 求t值\n",
    "print(t0)\n",
    "\n",
    "print(\"\\n计算 t0 方法二:\")\n",
    "t0 = model.tvalues\n",
    "print(t0)\n",
    "\n",
    "print(\"\\n计算 t 临界值:\")\n",
    "tVal = t.ppf(1 - 0.05 / 2, n - p - 1)\n",
    "print(tVal)"
   ]
  },
  {
   "cell_type": "code",
   "execution_count": 13,
   "metadata": {},
   "outputs": [
    {
     "name": "stdout",
     "output_type": "stream",
     "text": [
      "\n",
      "计算 p 值 方法一:\n",
      "[0.010404488845999, 0.021941482277485692, 0.0029682955255476407, 0.004077731841020926]\n",
      "\n",
      "计算 p 值 方法二:\n",
      "Intercept    0.010404\n",
      "P1           0.021941\n",
      "P2           0.002968\n",
      "P3           0.004078\n",
      "dtype: float64\n"
     ]
    }
   ],
   "source": [
    "# 计算 p 值\n",
    "print(\"\\n计算 p 值 方法一:\")\n",
    "pVal2 = []\n",
    "for i in range(p + 1):\n",
    "    P = t.sf(abs(t0[i]), n - p - 1)\n",
    "    pVal2.append(P)  # 已知临界值求p值\n",
    "print(pVal2)\n",
    "\n",
    "print(\"\\n计算 p 值 方法二:\")\n",
    "pVal2 = model.pvalues / 2\n",
    "print(pVal2)"
   ]
  },
  {
   "cell_type": "code",
   "execution_count": 14,
   "metadata": {},
   "outputs": [
    {
     "name": "stdout",
     "output_type": "stream",
     "text": [
      "\n",
      "p1-value < 0.05, 拒绝 H01.\n",
      "\n",
      "p2-value < 0.05, 拒绝 H02.\n",
      "\n",
      "p3-value < 0.05, 拒绝 H03.\n",
      "\n",
      "t01 > t(0.975, 8) = 2.3060, 拒绝 H01\n",
      "\n",
      "t02 > t(0.975, 8) = 2.3060, 拒绝 H02\n",
      "\n",
      "t03 > t(0.975, 8) = 2.3060, 拒绝 H03\n"
     ]
    }
   ],
   "source": [
    "for i in range(p):\n",
    "    if pVal2[i + 1] < alpha:\n",
    "        print ('\\np%d-value < 0.05, 拒绝 H0%d.' % (i + 1, i + 1))\n",
    "    else:\n",
    "        print('\\n接受 H0%d.' % (i + 1))\n",
    "for i in range(p):\n",
    "    if abs(t0[i + 1]) > tVal:\n",
    "        print('\\nt0%d > t(0.975, 8) = %.4f, 拒绝 H0%d' % (i + 1, tVal, i + 1))\n",
    "    else:\n",
    "        print('\\n接受 H0%d.' % (i + 1)) "
   ]
  },
  {
   "cell_type": "markdown",
   "metadata": {},
   "source": [
    "由t检验知，各回归系数都是显著的"
   ]
  },
  {
   "cell_type": "markdown",
   "metadata": {},
   "source": [
    "#### 3.复相关系数"
   ]
  },
  {
   "cell_type": "code",
   "execution_count": 15,
   "metadata": {},
   "outputs": [
    {
     "name": "stdout",
     "output_type": "stream",
     "text": [
      "复相关系数：0.8065\n",
      "调整后的复相关系数：0.7340\n"
     ]
    }
   ],
   "source": [
    "# 复相关系数\n",
    "R2 = SSR / SST\n",
    "print('复相关系数：%.4f' % R2)\n",
    "\n",
    "# 调整后的复相关系数，解释变量的数量与拟合的好坏\n",
    "R2_ = 1 - (SSE/(n - p - 1)) / (SST/(n -1))\n",
    "print('调整后的复相关系数：%.4f' % R2_)"
   ]
  },
  {
   "cell_type": "markdown",
   "metadata": {},
   "source": [
    "复相关系数值接近1，说明整体上 $X_1,X_2,X_3$ 与 $Y$ 呈线性关系，说明回归的拟合效果比较好。"
   ]
  },
  {
   "cell_type": "markdown",
   "metadata": {},
   "source": [
    "综上所述，通过F检验说明了回归方程的显著性，通过t检验说明了回归系数的显著性，通过复相关系数说明了回归的拟合效果比较好，所以Q1中所建的多元线性回归模型是合理的。"
   ]
  },
  {
   "cell_type": "markdown",
   "metadata": {},
   "source": [
    "####  【角度2】：通过残差分析来判断模型是否合理\n",
    "计算制动马力的残差"
   ]
  },
  {
   "cell_type": "code",
   "execution_count": 16,
   "metadata": {},
   "outputs": [
    {
     "name": "stdout",
     "output_type": "stream",
     "text": [
      "   intercept      P1    P2     P3      F_res\n",
      "0        1.0  2000.0  90.0  100.0   0.731289\n",
      "1        1.0  1800.0  94.0   95.0 -13.328247\n",
      "2        1.0  2400.0  88.0  110.0 -11.958476\n",
      "3        1.0  1900.0  91.0   96.0   3.137442\n",
      "4        1.0  1600.0  86.0  100.0  11.555798\n"
     ]
    }
   ],
   "source": [
    "# 计算制动马力的残差\n",
    "data_res = data * 1.0 \n",
    "for i in range(n):\n",
    "    data_res[:, p + 1] = y - y_hat\n",
    "df = pd.DataFrame(data_res, columns = ['intercept', 'P1', 'P2','P3' ,'F_res'])\n",
    "res = data_res[:, p + 1]\n",
    "print(df.head())"
   ]
  },
  {
   "cell_type": "markdown",
   "metadata": {},
   "source": [
    "#### 1. 检查正态性\n",
    "\n",
    "1）残差的正态概率图\n",
    "\n",
    "使用残差正态概率图可验证残差呈正态分布的假设。残差的正态概率图应该大致为一条直线。"
   ]
  },
  {
   "cell_type": "code",
   "execution_count": 17,
   "metadata": {
    "scrolled": true
   },
   "outputs": [
    {
     "data": {
      "image/png": "[encoded data removed]",
      "text/plain": [
       "<Figure size 432x288 with 1 Axes>"
      ]
     },
     "metadata": {
      "needs_background": "light"
     },
     "output_type": "display_data"
    }
   ],
   "source": [
    "# 残差的正态概率图\n",
    "osm, osr = stats.probplot(res, dist = 'norm', plot = plt)\n",
    "x = osm[0][0]\n",
    "y = osm[1][0]\n",
    "plt.text(x, y, '%.2f' % float(y), ha='center', va= 'bottom', fontsize=9)\n",
    "plt.grid()\n",
    "plt.show()"
   ]
  },
  {
   "cell_type": "code",
   "execution_count": 18,
   "metadata": {},
   "outputs": [
    {
     "name": "stdout",
     "output_type": "stream",
     "text": [
      "残差 -13.33 不是异常值.\n"
     ]
    }
   ],
   "source": [
    "# 异常值检验\n",
    "MSE = SSE / (n - p - 1)\n",
    "# MSE = model.mse_resid\n",
    "d = np.abs(y) / np.sqrt(MSE)\n",
    "if d < 3:\n",
    "    print('残差', round(y, 2), '不是异常值.')\n",
    "else:\n",
    "    print('残差', round(y, 2), '可能是异常值')\n"
   ]
  },
  {
   "cell_type": "markdown",
   "metadata": {},
   "source": [
    "数据近似服从正态"
   ]
  },
  {
   "cell_type": "markdown",
   "metadata": {},
   "source": [
    "2）残差密度图"
   ]
  },
  {
   "cell_type": "code",
   "execution_count": 19,
   "metadata": {},
   "outputs": [
    {
     "data": {
      "image/png": "[encoded data removed]",
      "text/plain": [
       "<Figure size 432x288 with 1 Axes>"
      ]
     },
     "metadata": {
      "needs_background": "light"
     },
     "output_type": "display_data"
    }
   ],
   "source": [
    "plt.figure()\n",
    "#ols.fit().model is a method to access to the residual.\n",
    "model.resid.plot.density()\n",
    "plt.show()"
   ]
  },
  {
   "cell_type": "markdown",
   "metadata": {},
   "source": [
    "从图中可以看出，残差近似正态分布的"
   ]
  },
  {
   "cell_type": "markdown",
   "metadata": {},
   "source": [
    "#### 2. 检查方差齐性\n",
    "\n",
    "绘制残差与拟合值的关系图\n",
    "\n",
    "使用残差与拟合值图可验证“残差随机分布”和“具有常量方差”的假设。理想情况下，点应当在 0 的两端随机分布，点中无可辨识的模式。  \n",
    "下表中的模式可能表示该模型不满足模型假设: "
   ]
  },
  {
   "cell_type": "markdown",
   "metadata": {},
   "source": [
    "| 模式 | 模式的含义 |\n",
    "| :----------: | :--------: |\n",
    "| 残差相对拟合值呈扇形或不均匀分散 | 异方差 |\n",
    "| 曲线 | 缺少高阶项 |\n",
    "| 远离 0 的点 | 异常值 |\n",
    "| 在 X 方向远离其他点的点 | 有影响的点|"
   ]
  },
  {
   "cell_type": "code",
   "execution_count": 20,
   "metadata": {
    "scrolled": true
   },
   "outputs": [
    {
     "data": {
      "text/plain": [
       "Text(0, 0.5, 'e_i')"
      ]
     },
     "execution_count": 20,
     "metadata": {},
     "output_type": "execute_result"
    },
    {
     "data": {
      "image/png": "[encoded data removed]",
      "text/plain": [
       "<Figure size 432x288 with 1 Axes>"
      ]
     },
     "metadata": {
      "needs_background": "light"
     },
     "output_type": "display_data"
    }
   ],
   "source": [
    "# 残差与拟合值的关系图\n",
    "plt.scatter(y_hat, res, c = 'blue')\n",
    "plt.title('Plot of residuals versus y_i')\n",
    "plt.xlabel('y_i')\n",
    "plt.ylabel('e_i')"
   ]
  },
  {
   "cell_type": "markdown",
   "metadata": {},
   "source": [
    "由上面残差与拟合值的关系图可以看到分布杂乱无章并且没有规律，无法找到推翻原方差齐性假设的理由，所以数据满足方差齐性。"
   ]
  },
  {
   "cell_type": "markdown",
   "metadata": {},
   "source": [
    "### Q4. 当发动机转速为3000转/min，道路辛烷值为90，发动机压缩值为100时，估计制动马力值的合理区间范围."
   ]
  },
  {
   "cell_type": "markdown",
   "metadata": {},
   "source": [
    "绘制12台汽车发动机的制动马力值3维空间分布图。"
   ]
  },
  {
   "cell_type": "code",
   "execution_count": 21,
   "metadata": {},
   "outputs": [
    {
     "data": {
      "text/plain": [
       "<mpl_toolkits.mplot3d.art3d.Path3DCollection at 0x1574e2e79a0>"
      ]
     },
     "execution_count": 21,
     "metadata": {},
     "output_type": "execute_result"
    },
    {
     "data": {
      "image/png": "[encoded data removed]",
      "text/plain": [
       "<Figure size 432x288 with 1 Axes>"
      ]
     },
     "metadata": {
      "needs_background": "light"
     },
     "output_type": "display_data"
    }
   ],
   "source": [
    "from mpl_toolkits.mplot3d import Axes3D\n",
    "\n",
    "x = X[:,1]\n",
    "y =  X[:,2]\n",
    "f_x_y=X[:,3]\n",
    "fig = plt.figure()\n",
    "ax = plt.axes(projection='3d')\n",
    "ax.scatter3D(x, y, f_x_y);\n",
    "ax.scatter3D(3000, 90, 100, color='red', label=\"predict\")#红色的点为要估计的"
   ]
  },
  {
   "cell_type": "code",
   "execution_count": 22,
   "metadata": {},
   "outputs": [],
   "source": [
    "# 给定 x_0，求 E(y_0) 的估计值\n",
    "def confidence_interval(x0):\n",
    "    x0 = np.array(x0)\n",
    "    Y0 = np.dot(x0.T, beta_hat)\n",
    "    delta0 = tVal * sigma * np.sqrt(x0.T @ C @ x0)\n",
    "    Y0_int = [Y0 - delta0, Y0 + delta0]\n",
    "    return Y0_int\n",
    "\n",
    "# 给定 x_0，求 y_0 的预测区间\n",
    "def prediction_interval(x0):\n",
    "    x0 = np.array(x0)\n",
    "    Y0 = np.dot(x0.T, beta_hat)\n",
    "    delta1 = tVal * sigma * np.sqrt(1 + x0.T @ C @ x0)\n",
    "    Y0_int = [Y0 - delta1, Y0 + delta1]\n",
    "    return Y0_int"
   ]
  },
  {
   "cell_type": "markdown",
   "metadata": {},
   "source": [
    "假设该发动机跟12台汽车发动机来自同一个分布。该发动机转速为3000转/min，道路辛烷值为90，发动机压缩值为100时。下面给出一个合理的区间，来预测制动马力值的合理区间范围。"
   ]
  },
  {
   "cell_type": "code",
   "execution_count": 23,
   "metadata": {},
   "outputs": [
    {
     "name": "stdout",
     "output_type": "stream",
     "text": [
      "x =  [1, 3000, 90, 100] , E(y_0) 的置信区间： [226.2457 243.7181] , y_0 的预测区间： [212.8622 257.1016]\n"
     ]
    }
   ],
   "source": [
    "x0 = [1, 3000, 90, 100]\n",
    "print('x = ', x0, \n",
    "      ', E(y_0) 的置信区间：', np.round(confidence_interval(x0), 4), \n",
    "      ', y_0 的预测区间：', np.round(prediction_interval(x0), 4)\n",
    "     )"
   ]
  },
  {
   "cell_type": "markdown",
   "metadata": {},
   "source": [
    "在理论上，由于预测区间不止包括E(y)的误差，还需要包括y的误差。因此预测区间的范围总是要比置信区间要大。从上面的结果也可以看到预测区间比置信区间宽。"
   ]
  }
 ],
 "metadata": {
  "kernelspec": {
   "display_name": "Python 3",
   "language": "python",
   "name": "python3"
  },
  "language_info": {
   "codemirror_mode": {
    "name": "ipython",
    "version": 3
   },
   "file_extension": ".py",
   "mimetype": "text/x-python",
   "name": "python",
   "nbconvert_exporter": "python",
   "pygments_lexer": "ipython3",
   "version": "3.8.5"
  }
 },
 "nbformat": 4,
 "nbformat_minor": 4
}

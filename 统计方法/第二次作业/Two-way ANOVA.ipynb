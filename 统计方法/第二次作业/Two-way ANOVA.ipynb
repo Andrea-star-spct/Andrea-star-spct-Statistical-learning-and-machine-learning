{
 "cells": [
  {
   "cell_type": "markdown",
   "metadata": {},
   "source": [
    "# Week2 多重比较 和 Two-way ANOVA"
   ]
  },
  {
   "cell_type": "markdown",
   "metadata": {},
   "source": [
    "# 习题1 多重比较"
   ]
  },
  {
   "cell_type": "markdown",
   "metadata": {},
   "source": [
    "## 背景描述\n",
    "\n",
    "我们想要分析三种类型的巧克力对心血管健康的影响,经过第一周实验One-Way ANOVA模型的分析，我们已经得到了以下结论：\n",
    "\n",
    "- One-way ANOVA模型判断出了 3 种巧克力对心血管健康的影响存在差异；\n",
    "- 该实验满足了（1）独立（2）方差齐性 以及（3）正态性，因此用One-way ANOVA模型较为恰当；\n",
    "- 食用这 3 种巧克力 1h 后血浆的总抗氧能力均值的估计值分别为：116.058, 100.7, 100.183；其方差的估计值为：10.43\n",
    "\n",
    "接下来比较任意两个水平的均值间有无明显差异，也即对其进行多重比较。"
   ]
  },
  {
   "cell_type": "markdown",
   "metadata": {},
   "source": [
    "## 数据描述\n",
    "\n",
    "同第一周实验内容"
   ]
  },
  {
   "cell_type": "markdown",
   "metadata": {},
   "source": [
    "注：这里使用 $\\alpha=0.05$ 的显著性水平"
   ]
  },
  {
   "cell_type": "code",
   "execution_count": 1,
   "metadata": {},
   "outputs": [],
   "source": [
    "# Import standard packages\n",
    "import numpy as np\n",
    "import pandas as pd\n",
    "import scipy.stats as stats # 统计函数\n",
    "import matplotlib.pyplot as plt\n",
    "import math\n",
    "import warnings\n",
    "warnings.filterwarnings(\"ignore\")\n",
    "\n",
    "# Import additional packages\n",
    "from statsmodels.formula.api import ols\n",
    "from statsmodels.stats.anova import anova_lm\n",
    "\n",
    "#显著性水平\n",
    "alpha = 0.05\n",
    "#因子\n",
    "a = 3\n",
    "#水平，重复次数\n",
    "m = 12\n",
    "df=pd.read_csv('D:\\\\mycode\\\\Untitled Folder\\\\可视化code\\\\统计学习方法\\\\HW2\\\\Project1.csv')\n",
    "#提取所需要的列\n",
    "df = df[['Chocolate','Capacity']]\n",
    "#构建根据不同种类区分的group\n",
    "data = df.values \n",
    "Group = [data[data[:,0] == atype,1] for atype in [1, 2, 3]]"
   ]
  },
  {
   "cell_type": "markdown",
   "metadata": {},
   "source": [
    "### Q1: 用Tukey方法，通过直接调用 statmodels 库中的 pairwise_tukeyhsd() 函数比较p值，比较 3 种巧克力对心血管健康的影响两两是否存在差异.\n"
   ]
  },
  {
   "cell_type": "markdown",
   "metadata": {},
   "source": [
    "使用 statmodels 库中的 <a href=\"https://www.statsmodels.org/stable/generated/statsmodels.stats.multicomp.pairwise_tukeyhsd.htm\">pairwise_tukeyhsd()</a> 函数进行Tukey检验\n",
    "\n",
    "原假设：\n",
    "$$H_0^{i j}: \\mu_i = \\mu_j , 1\\le i < j \\le 3 $$"
   ]
  },
  {
   "cell_type": "code",
   "execution_count": 2,
   "metadata": {},
   "outputs": [
    {
     "name": "stdout",
     "output_type": "stream",
     "text": [
      " Multiple Comparison of Means - Tukey HSD, FWER=0.05 \n",
      "=====================================================\n",
      "group1 group2 meandiff p-adj  lower    upper   reject\n",
      "-----------------------------------------------------\n",
      "     1      2 -15.3583 0.001 -18.5935 -12.1231   True\n",
      "     1      3  -15.875 0.001 -19.1102 -12.6398   True\n",
      "     2      3  -0.5167   0.9  -3.7519   2.7185  False\n",
      "-----------------------------------------------------\n",
      "\n",
      "\n"
     ]
    },
    {
     "data": {
      "image/png": "[encoded data removed]",
      "text/plain": [
       "<Figure size 720x432 with 1 Axes>"
      ]
     },
     "metadata": {
      "needs_background": "light"
     },
     "output_type": "display_data"
    }
   ],
   "source": [
    "from statsmodels.stats.multicomp import pairwise_tukeyhsd\n",
    "\n",
    "# perform Tukey's test\n",
    "tukey = pairwise_tukeyhsd(endog=df['Capacity'], groups=df['Chocolate'], alpha=alpha)\n",
    "\n",
    "#display results\n",
    "print(tukey)\n",
    "\n",
    "tukey.plot_simultaneous(ylabel= 'Chocolate', xlabel= 'Capacity Difference')\n",
    "print('\\n')"
   ]
  },
  {
   "cell_type": "markdown",
   "metadata": {},
   "source": [
    "可以得到类型1、类型2和类型1、类型3均值之间差异的P值为0.001，小于显著性水平0.05，故拒绝原假设，认为两者均值存在显著差异。\n",
    "\n",
    "类型2、类型3均值之间差异的P值0.9，大于显著性水平0.05，接受原假设，认为两者之间均值不存在显著差异。"
   ]
  },
  {
   "cell_type": "markdown",
   "metadata": {},
   "source": [
    "### Q2: 用蒙特卡洛随机模拟分布的方式，确定 $t$ 化极差统计量的分位数 $q_{1-\\alpha}(a, df)$，计算临界值(critical value) $c = q_{1-\\alpha}(a, df) \\hat{\\sigma}/\\sqrt{m}$，再将每组样本均值的差与临界值比较，从而判断 3 种巧克力对心血管健康的影响两两是否存在差异"
   ]
  },
  {
   "cell_type": "markdown",
   "metadata": {},
   "source": [
    "先用蒙特卡洛随机模拟分布的方式，确定 $t$ 化极差统计量的分位数 $q_{1-\\alpha}(a, df)$"
   ]
  },
  {
   "cell_type": "code",
   "execution_count": 3,
   "metadata": {},
   "outputs": [
    {
     "name": "stdout",
     "output_type": "stream",
     "text": [
      "[0.60174261]\n"
     ]
    }
   ],
   "source": [
    "import numpy as np                                                         \n",
    "q=[]\n",
    "#用蒙特卡洛随机模拟分布\n",
    "for n in range(100000): \n",
    "    random =np.random.standard_normal(a)\n",
    "    random.sort()\n",
    "    min=random[0]\n",
    "    max=random[a-1]\n",
    "    y=np.random.chisquare(a*m-a, 1)\n",
    "    q.append((max - min) / ((y/(a*m-a))**0.5))\n",
    "q.sort()\n",
    "#确定t化极差统计量的分位数\n",
    "t=q[9499]\n",
    "print(t)"
   ]
  },
  {
   "cell_type": "markdown",
   "metadata": {},
   "source": [
    "计算计算临界值c"
   ]
  },
  {
   "cell_type": "code",
   "execution_count": 4,
   "metadata": {},
   "outputs": [
    {
     "name": "stdout",
     "output_type": "stream",
     "text": [
      "[0.56099927]\n"
     ]
    }
   ],
   "source": [
    "mu = [round(np.mean(Group[i]), 3) for i in range(a)]\n",
    "sse = 0\n",
    "list_type=[1,2,3]\n",
    "for i in range(a):\n",
    "    se = 0\n",
    "    list_ = data[data[:,0] == list_type[i],1]\n",
    "    for j in range(m):\n",
    "        se += (list_[j] - mu[i]) ** 2\n",
    "    sse += se\n",
    "var = round(sse / (a * (m - 1)),2) \n",
    "\n",
    "c=t*(var**0.5)/(m**0.5)\n",
    "print(c)"
   ]
  },
  {
   "cell_type": "markdown",
   "metadata": {},
   "source": [
    "将每组样本均值的差与临界值比较，从而判断 3 种巧克力对心血管健康的影响两两是否存在差异"
   ]
  },
  {
   "cell_type": "code",
   "execution_count": 5,
   "metadata": {},
   "outputs": [
    {
     "name": "stdout",
     "output_type": "stream",
     "text": [
      "拒绝原假设：μ1=μ2\n",
      "拒绝原假设：μ1=μ3\n",
      "保留原假设：μ2=μ3\n"
     ]
    }
   ],
   "source": [
    "\n",
    "t12=abs(mu[0]-mu[1])\n",
    "t13=abs(mu[0]-mu[2])\n",
    "t23=abs(mu[1]-mu[2])\n",
    "if t12 < c:\n",
    "    print('保留原假设：μ1=μ2')\n",
    "else:\n",
    "    print('拒绝原假设：μ1=μ2')  \n",
    "if t13 < c:\n",
    "    print('保留原假设：μ1=μ3')\n",
    "else:\n",
    "    print('拒绝原假设：μ1=μ3')  \n",
    "if t23 < c:\n",
    "    print('保留原假设：μ2=μ3')\n",
    "else:\n",
    "    print('拒绝原假设：μ2=μ3')  "
   ]
  },
  {
   "cell_type": "markdown",
   "metadata": {},
   "source": [
    "可以得到类型1、类型2和类型1、类型3均值之间差异的大于c值，故拒绝原假设，认为两者均值存在显著差异。\n",
    "\n",
    "类型2、类型3均值之间差异小于c值，接受原假设，认为类型2、类型3均值不存在显著差异。"
   ]
  },
  {
   "cell_type": "markdown",
   "metadata": {},
   "source": [
    "---"
   ]
  },
  {
   "cell_type": "markdown",
   "metadata": {},
   "source": [
    "# 习题2 Two-way ANOVA"
   ]
  },
  {
   "cell_type": "markdown",
   "metadata": {},
   "source": [
    "\n",
    "## 背景描述\n",
    "实验研究了操作温度和三种面板玻璃材料对示波器管输出光的影响。\n",
    "这是一个压力（因子𝐴）水平数 $𝑎=3$，温度（因子𝐵）水平数 $𝑏=3$ 和重复次数 $m=3$ 的双因子实验。\n",
    "\n",
    "## 数据描述\n",
    "| 变量名 | 变量含义 | 变量类型 | 变量取值范围 |\n",
    "| :----------: | :--------: | :----------: | :----------: |\n",
    "| （自变量）Glass_Type | 玻璃材料类型 | categorical variable | [1，2，3] |\n",
    "| （自变量）Temperature |   温度   | continuous variable | [100, 125, 150] |\n",
    "| （因变量）Light_Output | 输出光 | continuous variable | Real |\n",
    "\n",
    "## 问题\n",
    "注：这里使用 $\\alpha=0.05$ 的显著性水平\n",
    "\n",
    "1. 试用Two-way ANOVA模型判断玻璃类型和温度对输出光是否有显著影响.\n",
    "2. 用适合的残差图，判断该实验用Two-way ANOVA模型是否恰当.\n",
    "3. 选出一种玻璃类型 使得不论温度高低都能使示波器管的输出光较高.\n",
    "4. 如何对这种示波器管的输出光进行预测？\n",
    "\n",
    "## 解决方案"
   ]
  },
  {
   "cell_type": "code",
   "execution_count": 6,
   "metadata": {},
   "outputs": [
    {
     "name": "stdout",
     "output_type": "stream",
     "text": [
      "   Glass_Type  Temperature  Light_Output\n",
      "0           1          100           580\n",
      "1           1          100           568\n",
      "2           1          100           570\n",
      "3           2          100           550\n",
      "4           2          100           530\n"
     ]
    },
    {
     "data": {
      "text/plain": [
       "[[[580, 568, 570], [1090, 1087, 1085], [1392, 1380, 1386]],\n",
       " [[550, 530, 579], [1070, 1035, 1000], [1328, 1312, 1299]],\n",
       " [[546, 575, 599], [1045, 1053, 1066], [867, 904, 889]]]"
      ]
     },
     "execution_count": 6,
     "metadata": {},
     "output_type": "execute_result"
    }
   ],
   "source": [
    "# Import standard packages\n",
    "import numpy as np\n",
    "import pandas as pd\n",
    "import scipy.stats as stats\n",
    "import matplotlib.pyplot as plt\n",
    "import math\n",
    "\n",
    "# Import additional packages\n",
    "from statsmodels.formula.api import ols\n",
    "from statsmodels.stats.anova import anova_lm\n",
    "\n",
    "alpha = 0.05\n",
    "a = 3\n",
    "b = 3\n",
    "m = 3\n",
    "\n",
    "df = pd.read_csv('D:\\\\mycode\\\\Untitled Folder\\\\可视化code\\\\统计学习方法\\\\HW2\\\\Project2.csv')\n",
    "df.rename(columns={'Glass Type':'Glass_Type'},inplace=True)\n",
    "df.rename(columns={'Light Output':'Light_Output'},inplace=True)\n",
    "print(df.head())\n",
    "\n",
    "data = df.values\n",
    "list_Glass_Type = [1, 2, 3]\n",
    "list_Temperature = [100, 125, 150]\n",
    "\n",
    "df_grouped = df.groupby(['Glass_Type', 'Temperature'])\n",
    "groups = [[[] for i in range(3)] for j in range(3)]\n",
    "for i in range(a):\n",
    "    for j in range(b):\n",
    "        groups[i][j] = list(df_grouped.get_group((list_Glass_Type[i], list_Temperature[j]))['Light_Output'])\n",
    "        \n",
    "groups"
   ]
  },
  {
   "cell_type": "markdown",
   "metadata": {},
   "source": [
    "### Q1: 试用Two-way ANOVA模型判断玻璃类型和温度对输出光是否有显著影响."
   ]
  },
  {
   "cell_type": "markdown",
   "metadata": {},
   "source": [
    "试判断玻璃类型和温度对输出光是否有显著影响.，使用 statmodels 库中的 <a href=\"https://www.statsmodels.org/stable/generated/statsmodels.stats.anova.anova_lm.html\">anova_lm()</a> 函数进行Two-Way ANOVA。\n",
    "\n",
    "需要针对以下三组问题进行检验：\n",
    "\n",
    "其一，判断玻璃类型和温度是否对输出光有交互作用\n",
    "\n",
    "原假设: $𝐻_{03}:(\\alpha\\beta)_{ij}=0, \\forall i,j$  vs  备择假设：$𝐻_{13}:(\\alpha\\beta)_{ij} \\neq 0, \\exists i,j$ \n",
    "\n",
    "（如果不存在交互效应，应该用无交互效应的Two-way ANOVA建模）\n",
    "\n",
    "其二，判断玻璃类型是否对输出光有直接影响\n",
    "\n",
    "原假设:  $𝐻_{01}:\\alpha_1=\\alpha_2=\\cdots=\\alpha_a=0$  vs  备择假设：$𝐻_{11}:\\alpha_i \\neq 0, \\exists i$\n",
    "\n",
    "其三，判断温度是否对输出光有直接影响\n",
    "\n",
    "原假设: $𝐻_{02}:\\beta_1=\\beta_2=\\cdots=\\beta_b=0$  vs  备择假设：$𝐻_{12}:\\beta_j \\neq 0, \\exists j$  "
   ]
  },
  {
   "cell_type": "code",
   "execution_count": 7,
   "metadata": {},
   "outputs": [
    {
     "name": "stdout",
     "output_type": "stream",
     "text": [
      "\n",
      "双因素方差分析表：\n",
      "                                 df        sum_sq        mean_sq            F  \\\n",
      "C(Glass_Type)                  2.0  1.508645e+05   75432.259259   206.370554   \n",
      "C(Temperature)                 2.0  1.970335e+06  985167.259259  2695.259499   \n",
      "C(Glass_Type):C(Temperature)   4.0  2.905517e+05   72637.925926   198.725707   \n",
      "Residual                      18.0  6.579333e+03     365.518519          NaN   \n",
      "\n",
      "                                    PR(>F)  \n",
      "C(Glass_Type)                 3.886026e-13  \n",
      "C(Temperature)                5.008957e-23  \n",
      "C(Glass_Type):C(Temperature)  1.254188e-14  \n",
      "Residual                               NaN  \n"
     ]
    }
   ],
   "source": [
    "# two-way ANOVA\n",
    "model = ols('Light_Output ~ C(Glass_Type) + C(Temperature) + C(Glass_Type):C(Temperature)', df).fit()\n",
    "anova_results = anova_lm(model)\n",
    "print('\\n双因素方差分析表：\\n', anova_results)"
   ]
  },
  {
   "cell_type": "markdown",
   "metadata": {},
   "source": [
    "由上面的方差分析表可知，在$\\alpha=0.05$的水平下:\n",
    "\n",
    "其一，对玻璃类型和温度的交互因素来说，$p=3.886026e-13<0.05$，所以两者交互作用显著，交互因素对输出光具有显著影响；\n",
    "\n",
    "其二，对玻璃类型来说，$p=5.008957e-23<0.05$，所以玻璃类型对输出光有显著影响； \n",
    "\n",
    "其三，对温度来说，$p=1.254188e-14<0.05$，所以温度对输出光也具有显著影响.\n",
    "\n"
   ]
  },
  {
   "cell_type": "markdown",
   "metadata": {},
   "source": [
    "### Q2: 试用适合的残差图，判断该实验用Two-way ANOVA模型是否恰当."
   ]
  },
  {
   "cell_type": "markdown",
   "metadata": {},
   "source": [
    "从三个角度进行分析：（1）方差齐性（2）正态性 （3）独立。\n",
    "\n",
    "\n",
    "#### 1.方差齐次检验\n",
    "\n",
    "#### 【法1】绘制残差与不同因子水平的关系图，进行残差分析\n",
    "\n",
    "##### 1.计算输出光数据的残差"
   ]
  },
  {
   "cell_type": "code",
   "execution_count": 8,
   "metadata": {},
   "outputs": [
    {
     "name": "stdout",
     "output_type": "stream",
     "text": [
      "   Glass_Type  Temperature  Light_Output\n",
      "0         1.0        100.0      7.333333\n",
      "1         1.0        100.0     -4.666667\n",
      "2         1.0        100.0     -2.666667\n",
      "3         2.0        100.0     -3.000000\n",
      "4         2.0        100.0    -23.000000\n"
     ]
    }
   ],
   "source": [
    "# 计算输出光数据的残差\n",
    "\n",
    "data_res = data.astype(float)\n",
    "for i in list_Glass_Type:\n",
    "    for j in list_Temperature:\n",
    "        cnt = data[(data[:,0] == i) & (data[:,1] == j),2]\n",
    "        data_res[(data_res[:,0] == i) & (data_res[:,1] == j),2] = cnt-np.mean(cnt)\n",
    "df = pd.DataFrame(data_res, columns = ['Glass_Type', 'Temperature', 'Light_Output'])\n",
    "print(df.head())\n",
    "\n",
    "res = data_res[:, 2]"
   ]
  },
  {
   "cell_type": "markdown",
   "metadata": {},
   "source": [
    "2.残差与不同因子水平的关系图\n",
    "\n",
    "1）残差与玻璃类型的关系图"
   ]
  },
  {
   "cell_type": "code",
   "execution_count": 9,
   "metadata": {},
   "outputs": [
    {
     "data": {
      "text/plain": [
       "Text(0, 0.5, 'e_ijk')"
      ]
     },
     "execution_count": 9,
     "metadata": {},
     "output_type": "execute_result"
    },
    {
     "data": {
      "image/png": "[encoded data removed]",
      "text/plain": [
       "<Figure size 432x288 with 1 Axes>"
      ]
     },
     "metadata": {
      "needs_background": "light"
     },
     "output_type": "display_data"
    }
   ],
   "source": [
    "# 残差对玻璃类型的关系图\n",
    "\n",
    "y3 = data_res[:,0]\n",
    "plt.scatter(y3, res, c = 'green')\n",
    "plt.title('Plot of residuals versus Glass Type')\n",
    "plt.xlabel('Glass Type')\n",
    "plt.ylabel('e_ijk')"
   ]
  },
  {
   "cell_type": "markdown",
   "metadata": {},
   "source": [
    "上图显示出方差的不等性：玻璃类型为第一种时，比其他情况下方差要明显小，第二种玻璃类型方差最大。"
   ]
  },
  {
   "cell_type": "markdown",
   "metadata": {},
   "source": [
    "\n",
    "   2) 残差与温度的关系图"
   ]
  },
  {
   "cell_type": "code",
   "execution_count": 10,
   "metadata": {},
   "outputs": [
    {
     "data": {
      "text/plain": [
       "Text(0, 0.5, 'e_ijk')"
      ]
     },
     "execution_count": 10,
     "metadata": {},
     "output_type": "execute_result"
    },
    {
     "data": {
      "image/png": "[encoded data removed]",
      "text/plain": [
       "<Figure size 432x288 with 1 Axes>"
      ]
     },
     "metadata": {
      "needs_background": "light"
     },
     "output_type": "display_data"
    }
   ],
   "source": [
    "# 残差对温度的关系图\n",
    "y4 = data_res[:,1]\n",
    "plt.scatter(y4, res, c = 'green')\n",
    "plt.title('Plot of residuals versus temperature')\n",
    "plt.xlabel('Temperature (°F)')\n",
    "plt.ylabel('e_ijk')"
   ]
  },
  {
   "cell_type": "markdown",
   "metadata": {},
   "source": [
    "上图显示出方差微弱的不等性：温度为 125℉ 时，比其他情况下方差大。"
   ]
  },
  {
   "cell_type": "markdown",
   "metadata": {},
   "source": [
    "3) 残差与预测值的关系图"
   ]
  },
  {
   "cell_type": "code",
   "execution_count": 11,
   "metadata": {},
   "outputs": [
    {
     "data": {
      "text/plain": [
       "Text(0, 0.5, 'e_ijk')"
      ]
     },
     "execution_count": 11,
     "metadata": {},
     "output_type": "execute_result"
    },
    {
     "data": {
      "image/png": "[encoded data removed]",
      "text/plain": [
       "<Figure size 432x288 with 1 Axes>"
      ]
     },
     "metadata": {
      "needs_background": "light"
     },
     "output_type": "display_data"
    }
   ],
   "source": [
    "# 残差与预测值的关系图\n",
    "# 使用每一组的均值作为该组的预测值\n",
    "y2 = []\n",
    "for i in list_Glass_Type:\n",
    "    for j in list_Temperature:\n",
    "        for k in range(m):\n",
    "            y2.append(np.mean(data[(data[:,0] == i) & (data[:,1] == j), 2]))\n",
    "plt.scatter(y2, res, c = 'red')\n",
    "plt.text(y2[0], res[1], '%.2f' % float(res[1]), ha='center', va= 'bottom', fontsize=7)\n",
    "plt.text(y2[0], res[3], '%.2f' % float(res[3]), ha='center', va= 'bottom', fontsize=7)\n",
    "plt.title('Plot of residuals versus y_ijk')\n",
    "plt.xlabel('y_ijk')\n",
    "plt.ylabel('e_ijk')"
   ]
  },
  {
   "cell_type": "markdown",
   "metadata": {},
   "source": [
    "由上图可以看出，当输出光增加时，残差方差有微弱的增长趋势。基本满足方差齐性。"
   ]
  },
  {
   "cell_type": "markdown",
   "metadata": {},
   "source": [
    "#### 【法2】利用Bartlett检验"
   ]
  },
  {
   "cell_type": "code",
   "execution_count": 12,
   "metadata": {},
   "outputs": [
    {
     "data": {
      "text/plain": [
       "BartlettResult(statistic=13.438626419880046, pvalue=0.09762263652008246)"
      ]
     },
     "execution_count": 12,
     "metadata": {},
     "output_type": "execute_result"
    }
   ],
   "source": [
    "# 用Bartlett检验进行方差齐性检验\n",
    "stats.bartlett(groups[0][0], groups[0][1], groups[0][2], groups[1][0], groups[1][1], groups[1][2], groups[2][0], groups[2][1], groups[2][2])"
   ]
  },
  {
   "cell_type": "markdown",
   "metadata": {},
   "source": [
    "Bartlett检验的P值大于 0.05 故接受原假设，即残差具有方差齐性。"
   ]
  },
  {
   "cell_type": "markdown",
   "metadata": {},
   "source": [
    "#### 【法3】利用Levene检验"
   ]
  },
  {
   "cell_type": "code",
   "execution_count": 13,
   "metadata": {},
   "outputs": [
    {
     "data": {
      "text/plain": [
       "LeveneResult(statistic=1.254770164787511, pvalue=0.32529552216983837)"
      ]
     },
     "execution_count": 13,
     "metadata": {},
     "output_type": "execute_result"
    }
   ],
   "source": [
    "# 用Levene检验进行方差齐性检验\n",
    "stats.levene(groups[0][0], groups[0][1], groups[0][2], groups[1][0], groups[1][1], groups[1][2], groups[2][0], groups[2][1], groups[2][2])"
   ]
  },
  {
   "cell_type": "markdown",
   "metadata": {},
   "source": [
    "Levene检验的P值大于 0.05 故接受原假设，即残差具有方差齐性。"
   ]
  },
  {
   "cell_type": "markdown",
   "metadata": {},
   "source": [
    "#### 2.正态性检验"
   ]
  },
  {
   "cell_type": "markdown",
   "metadata": {},
   "source": [
    "#### 【法1】绘制残差的正态概率图，进行残差分析\n"
   ]
  },
  {
   "cell_type": "code",
   "execution_count": 14,
   "metadata": {},
   "outputs": [
    {
     "data": {
      "image/png": "[encoded data removed]",
      "text/plain": [
       "<Figure size 432x288 with 1 Axes>"
      ]
     },
     "metadata": {
      "needs_background": "light"
     },
     "output_type": "display_data"
    }
   ],
   "source": [
    "# 残差的正态概率图\n",
    "res = data_res[:, 2]\n",
    "osm, osr = stats.probplot(res, dist = 'norm', plot = plt)\n",
    "x = osm[0][0]\n",
    "y = osm[1][0]\n",
    "plt.text(x, y, '%.2f' % float(y), ha='center', va= 'bottom', fontsize=9)\n",
    "plt.grid()\n",
    "plt.show()"
   ]
  },
  {
   "cell_type": "code",
   "execution_count": 15,
   "metadata": {},
   "outputs": [
    {
     "name": "stdout",
     "output_type": "stream",
     "text": [
      "[-35.         -27.33333333 -23.         -19.66666667 -14.\n",
      "  -9.66666667  -6.          -4.66666667  -3.          -2.66666667\n",
      "  -2.33333333  -1.66666667  -1.          -0.33333333   0.\n",
      "   0.           1.66666667   2.33333333   2.66666667   6.\n",
      "   7.33333333  11.33333333  15.          17.33333333  25.66666667\n",
      "  26.          35.        ]\n"
     ]
    }
   ],
   "source": [
    "print(osm[1])"
   ]
  },
  {
   "cell_type": "markdown",
   "metadata": {},
   "source": [
    "由上图可以看出，总体上来看，无特别的证据说明违背数据正态性，分布是近似正态的\n",
    " "
   ]
  },
  {
   "cell_type": "markdown",
   "metadata": {},
   "source": [
    "#### 【法2】利用Shapiro-Wilk检验"
   ]
  },
  {
   "cell_type": "code",
   "execution_count": 16,
   "metadata": {},
   "outputs": [
    {
     "data": {
      "text/plain": [
       "0.5236809253692627"
      ]
     },
     "execution_count": 16,
     "metadata": {},
     "output_type": "execute_result"
    }
   ],
   "source": [
    "# 用Shapiro-Wilk检验进行正态性检验\n",
    "SW, pVal = stats.shapiro(res)\n",
    "pVal"
   ]
  },
  {
   "cell_type": "markdown",
   "metadata": {},
   "source": [
    "W检验的P值约为 0.52，大于指定的显著性水平 0.05。故认为残差来自服从正态分布的总体。  "
   ]
  },
  {
   "cell_type": "markdown",
   "metadata": {},
   "source": [
    "#### 3. 独立性检验\n",
    "Durbin-Watson 检验，又称 DW 检验，是用来检验回归分析中残差的一阶自相关性的(尤其针对时间序列数据)。在本实验中，数据不是时间序列数据，但也可以进行检验\n",
    "各残差的相关性方程为：$e_i = \\rho * e_{i-1} + v_i$，检验的原假设为：$\\rho = 0$，备择假设为：$\\rho \\neq 0$  \n",
    "检验统计量为：$d = \\frac{\\sum^T_{t=2}\\quad(e_i-e_{i-1})^2}{\\sum^T_{t=1}\\quad e_i^2}$  \n",
    "由于d近似等于2(1-$\\rho$),该统计量值越接近 2 越好，一般在 1~3 之间说明没问题，小于 1 这说明残差存在自相关性（有临界值表可以查）。  \n",
    "若没有通过 DW 检验，则需要修改模型或对数据进行处理。"
   ]
  },
  {
   "cell_type": "code",
   "execution_count": 17,
   "metadata": {},
   "outputs": [
    {
     "name": "stdout",
     "output_type": "stream",
     "text": [
      "Durbin-Watson检验的统计量为： 2.2731279764920442\n"
     ]
    }
   ],
   "source": [
    "# 用Durbin-Watson检验进行独立性检验\n",
    "def durbin_watson(residuals):\n",
    "    nume = sum(np.diff(residuals.T) ** 2)\n",
    "    deno = sum(residuals ** 2)\n",
    "    return nume / deno\n",
    "dw = durbin_watson(res)\n",
    "print('Durbin-Watson检验的统计量为：',dw)"
   ]
  },
  {
   "cell_type": "markdown",
   "metadata": {},
   "source": [
    "Durbin-Watson检验的统计量约为：2.27，非常接近2，在 1~3 之间，故没有违反独立性的假定。 \n",
    "\n",
    "#### 综上三个方面，可以知道该实验用Two-way ANOVA模型是恰当的"
   ]
  },
  {
   "cell_type": "markdown",
   "metadata": {},
   "source": [
    "### Q3. 选出一种玻璃类型 使得不论温度高低都能使示波器管的输出光较高.\n",
    "\n",
    "为了选出一种玻璃类型，使得不论温度高低都能使示波器管的输出光较高，进行固定效应模型分析。"
   ]
  },
  {
   "cell_type": "code",
   "execution_count": 18,
   "metadata": {},
   "outputs": [
    {
     "name": "stdout",
     "output_type": "stream",
     "text": [
      "   Glass_Type  Temperature  Light_Output_avg\n",
      "0         1.0        100.0        572.666667\n",
      "1         1.0        100.0        572.666667\n",
      "2         1.0        100.0        572.666667\n",
      "3         2.0        100.0        553.000000\n",
      "4         2.0        100.0        553.000000\n"
     ]
    },
    {
     "data": {
      "text/plain": [
       "<matplotlib.legend.Legend at 0x21305934dc0>"
      ]
     },
     "execution_count": 18,
     "metadata": {},
     "output_type": "execute_result"
    },
    {
     "data": {
      "image/png": "[encoded data removed]",
      "text/plain": [
       "<Figure size 432x288 with 1 Axes>"
      ]
     },
     "metadata": {
      "needs_background": "light"
     },
     "output_type": "display_data"
    }
   ],
   "source": [
    "# 固定效应模型分析\n",
    "data_avg = data.astype(float) * 1\n",
    "\n",
    "for i in list_Glass_Type:\n",
    "    for j in list_Temperature:\n",
    "        cnt = data[(data[:,0] == i) & (data[:,1] == j),2]\n",
    "        data_avg[(data_avg[:,0] == i) & (data_avg[:,1] == j),2] = np.mean(cnt)\n",
    "df = pd.DataFrame(data_avg, columns = ['Glass_Type', 'Temperature', 'Light_Output_avg'])\n",
    "print(df.head())\n",
    "\n",
    "type1 = data_avg[[0,9,18], 2]\n",
    "type2 = data_avg[[3,12,21], 2]\n",
    "type3 = data_avg[[6,15,24], 2]\n",
    "c1 = pd.Series(type1, index = list_Temperature, name = 'type1')\n",
    "c2 = pd.Series(type2, index = list_Temperature, name = 'type2')\n",
    "c3 = pd.Series(type3, index = list_Temperature, name = 'type3')\n",
    "df = pd.concat([c1, c2, c3], axis = 1)\n",
    "\n",
    "plt.plot(df.iloc[:,0], color = 'red', marker = 'o', label = 'type1')\n",
    "plt.plot(df.iloc[:,1], color = 'green', marker = 'o', label = 'type2')\n",
    "plt.plot(df.iloc[:,2], marker = 'o', label = 'type3')\n",
    "plt.title('Glass type–temperature plot')\n",
    "plt.xlabel('Temperature (°F)')\n",
    "plt.ylabel('Light Output avg')\n",
    "plt.legend(['type1', 'type2', 'type3'])"
   ]
  },
  {
   "cell_type": "markdown",
   "metadata": {},
   "source": [
    "上图绘制了每一种处理组合的平均响应图，类型 1,2 线段基本平行，所以交互作用不显著。一般来说，不管是什么玻璃类型，在低温处的示波器管的输出光都较低。从低温变化至中等温度时，三种玻璃类型都使得输出光逐渐升高。从中等温度变至高温时，玻璃类型 1 与玻璃类型 2 生产的示波器管的输出光逐渐增加，且玻璃类型1的输出光高于玻璃类型类型2的输出光，而由玻璃类型 3 生产的示波器管的输出光下降。因此如果我们希望不论温度高低都能使示波器管的输出光较高，玻璃类型 1 给出了最好的结果。 "
   ]
  },
  {
   "cell_type": "markdown",
   "metadata": {},
   "source": [
    "### Q4. 如何对这种示波器管的输出光进行预测？\n",
    "\n",
    "一般地，线性回归方法可用于为实验数据拟合相应的模型。\n",
    "\n",
    "变量的变换规则:\n",
    "\n",
    "$A$ 表示温度因子的主效应。由于温度是定量的，有 3 个水平：低、中、高(100℉， 125℉ ， 150℉ )。对应的温度水平分别为 $A = −1，0，+1$。\n",
    "我们可考虑计算线性的和二次的温度效应，以便研究温度怎样影响电池寿命，分量 $A, A^2$ 分别表示温度因子的一次效应、二次效应。\n",
    "\n",
    "$B$ 表示玻璃类型因子的主效应。由于玻璃类型是定性的，有 3 个水平。变量 $B[1]$ 和 $B[2]$ 被认为是示性变量（indicator variable），其定义为: \n",
    "\n",
    "| | 1 | 2 | 3 |  \n",
    "| :--------: | :--------: | :--------: | :---------: | \n",
    "| $B[1]$ |   1   |   0   |   -1   |  \n",
    "| $B[2]$ |   0   |   1   |   -1   |\n",
    "\n",
    "\n",
    "这里我们画出响应曲线（response curve）可以得到响应变量与定量因子——温度的关系。\n",
    "\n",
    "$$LightOutput = \\beta_0+\\beta_1A+\\beta_2B_1+\\beta_3B_2+\\beta_4A^2+\\beta_5AB_1+\\beta_6AB_2+\\beta_7A^2B_1+\\beta_8A^2B_2$$\n"
   ]
  },
  {
   "cell_type": "code",
   "execution_count": 19,
   "metadata": {},
   "outputs": [
    {
     "name": "stdout",
     "output_type": "stream",
     "text": [
      "   A  B1  B2  AA  AB1  AB2  AAB1  AAB2  LightOutput\n",
      "0 -1   1   0   1   -1    0     1     0          580\n",
      "1 -1   1   0   1   -1    0     1     0          568\n",
      "2 -1   1   0   1   -1    0     1     0          570\n",
      "3 -1   0   1   1    0   -1     0     1          550\n",
      "4 -1   0   1   1    0   -1     0     1          530\n"
     ]
    },
    {
     "data": {
      "text/html": [
       "<table class=\"simpletable\">\n",
       "<caption>OLS Regression Results</caption>\n",
       "<tr>\n",
       "  <th>Dep. Variable:</th>       <td>LightOutput</td>   <th>  R-squared:         </th> <td>   0.997</td>\n",
       "</tr>\n",
       "<tr>\n",
       "  <th>Model:</th>                   <td>OLS</td>       <th>  Adj. R-squared:    </th> <td>   0.996</td>\n",
       "</tr>\n",
       "<tr>\n",
       "  <th>Method:</th>             <td>Least Squares</td>  <th>  F-statistic:       </th> <td>   824.8</td>\n",
       "</tr>\n",
       "<tr>\n",
       "  <th>Date:</th>             <td>Sat, 25 Sep 2021</td> <th>  Prob (F-statistic):</th> <td>1.78e-21</td>\n",
       "</tr>\n",
       "<tr>\n",
       "  <th>Time:</th>                 <td>20:52:35</td>     <th>  Log-Likelihood:    </th> <td> -112.51</td>\n",
       "</tr>\n",
       "<tr>\n",
       "  <th>No. Observations:</th>      <td>    27</td>      <th>  AIC:               </th> <td>   243.0</td>\n",
       "</tr>\n",
       "<tr>\n",
       "  <th>Df Residuals:</th>          <td>    18</td>      <th>  BIC:               </th> <td>   254.7</td>\n",
       "</tr>\n",
       "<tr>\n",
       "  <th>Df Model:</th>              <td>     8</td>      <th>                     </th>     <td> </td>   \n",
       "</tr>\n",
       "<tr>\n",
       "  <th>Covariance Type:</th>      <td>nonrobust</td>    <th>                     </th>     <td> </td>   \n",
       "</tr>\n",
       "</table>\n",
       "<table class=\"simpletable\">\n",
       "<tr>\n",
       "      <td></td>         <th>coef</th>     <th>std err</th>      <th>t</th>      <th>P>|t|</th>  <th>[0.025</th>    <th>0.975]</th>  \n",
       "</tr>\n",
       "<tr>\n",
       "  <th>Intercept</th> <td> 1059.0000</td> <td>    6.373</td> <td>  166.174</td> <td> 0.000</td> <td> 1045.611</td> <td> 1072.389</td>\n",
       "</tr>\n",
       "<tr>\n",
       "  <th>A</th>         <td>  314.4444</td> <td>    4.506</td> <td>   69.779</td> <td> 0.000</td> <td>  304.977</td> <td>  323.912</td>\n",
       "</tr>\n",
       "<tr>\n",
       "  <th>B1</th>        <td>   28.3333</td> <td>    9.013</td> <td>    3.144</td> <td> 0.006</td> <td>    9.399</td> <td>   47.268</td>\n",
       "</tr>\n",
       "<tr>\n",
       "  <th>B2</th>        <td>  -24.0000</td> <td>    9.013</td> <td>   -2.663</td> <td> 0.016</td> <td>  -42.935</td> <td>   -5.065</td>\n",
       "</tr>\n",
       "<tr>\n",
       "  <th>AA</th>        <td> -178.2222</td> <td>    7.805</td> <td>  -22.834</td> <td> 0.000</td> <td> -194.620</td> <td> -161.824</td>\n",
       "</tr>\n",
       "<tr>\n",
       "  <th>AB1</th>       <td>   92.2222</td> <td>    6.373</td> <td>   14.471</td> <td> 0.000</td> <td>   78.833</td> <td>  105.611</td>\n",
       "</tr>\n",
       "<tr>\n",
       "  <th>AB2</th>       <td>   65.5556</td> <td>    6.373</td> <td>   10.287</td> <td> 0.000</td> <td>   52.167</td> <td>   78.944</td>\n",
       "</tr>\n",
       "<tr>\n",
       "  <th>AAB1</th>      <td>   70.2222</td> <td>   11.038</td> <td>    6.362</td> <td> 0.000</td> <td>   47.032</td> <td>   93.412</td>\n",
       "</tr>\n",
       "<tr>\n",
       "  <th>AAB2</th>      <td>   76.2222</td> <td>   11.038</td> <td>    6.905</td> <td> 0.000</td> <td>   53.032</td> <td>   99.412</td>\n",
       "</tr>\n",
       "</table>\n",
       "<table class=\"simpletable\">\n",
       "<tr>\n",
       "  <th>Omnibus:</th>       <td> 0.570</td> <th>  Durbin-Watson:     </th> <td>   2.273</td>\n",
       "</tr>\n",
       "<tr>\n",
       "  <th>Prob(Omnibus):</th> <td> 0.752</td> <th>  Jarque-Bera (JB):  </th> <td>   0.035</td>\n",
       "</tr>\n",
       "<tr>\n",
       "  <th>Skew:</th>          <td> 0.009</td> <th>  Prob(JB):          </th> <td>   0.983</td>\n",
       "</tr>\n",
       "<tr>\n",
       "  <th>Kurtosis:</th>      <td> 3.175</td> <th>  Cond. No.          </th> <td>    5.59</td>\n",
       "</tr>\n",
       "</table><br/><br/>Notes:<br/>[1] Standard Errors assume that the covariance matrix of the errors is correctly specified."
      ],
      "text/plain": [
       "<class 'statsmodels.iolib.summary.Summary'>\n",
       "\"\"\"\n",
       "                            OLS Regression Results                            \n",
       "==============================================================================\n",
       "Dep. Variable:            LightOutput   R-squared:                       0.997\n",
       "Model:                            OLS   Adj. R-squared:                  0.996\n",
       "Method:                 Least Squares   F-statistic:                     824.8\n",
       "Date:                Sat, 25 Sep 2021   Prob (F-statistic):           1.78e-21\n",
       "Time:                        20:52:35   Log-Likelihood:                -112.51\n",
       "No. Observations:                  27   AIC:                             243.0\n",
       "Df Residuals:                      18   BIC:                             254.7\n",
       "Df Model:                           8                                         \n",
       "Covariance Type:            nonrobust                                         \n",
       "==============================================================================\n",
       "                 coef    std err          t      P>|t|      [0.025      0.975]\n",
       "------------------------------------------------------------------------------\n",
       "Intercept   1059.0000      6.373    166.174      0.000    1045.611    1072.389\n",
       "A            314.4444      4.506     69.779      0.000     304.977     323.912\n",
       "B1            28.3333      9.013      3.144      0.006       9.399      47.268\n",
       "B2           -24.0000      9.013     -2.663      0.016     -42.935      -5.065\n",
       "AA          -178.2222      7.805    -22.834      0.000    -194.620    -161.824\n",
       "AB1           92.2222      6.373     14.471      0.000      78.833     105.611\n",
       "AB2           65.5556      6.373     10.287      0.000      52.167      78.944\n",
       "AAB1          70.2222     11.038      6.362      0.000      47.032      93.412\n",
       "AAB2          76.2222     11.038      6.905      0.000      53.032      99.412\n",
       "==============================================================================\n",
       "Omnibus:                        0.570   Durbin-Watson:                   2.273\n",
       "Prob(Omnibus):                  0.752   Jarque-Bera (JB):                0.035\n",
       "Skew:                           0.009   Prob(JB):                        0.983\n",
       "Kurtosis:                       3.175   Cond. No.                         5.59\n",
       "==============================================================================\n",
       "\n",
       "Notes:\n",
       "[1] Standard Errors assume that the covariance matrix of the errors is correctly specified.\n",
       "\"\"\""
      ]
     },
     "execution_count": 19,
     "metadata": {},
     "output_type": "execute_result"
    }
   ],
   "source": [
    "# construct variables\n",
    "list_A = [-1, 0, 1]\n",
    "list_B1 = [1, 0, -1]\n",
    "list_B2 = [0, 1, -1]\n",
    "A = data[:,1] * 1\n",
    "B1 = B2 = data[:, 0]\n",
    "for i in range(3):\n",
    "    A = [list_A[i] if j == list_Temperature[i] else j for j in A]\n",
    "    B1 = [list_B1[i] if j == list_Glass_Type[i] else j for j in B1]\n",
    "    B2 = [list_B2[i] if j == list_Glass_Type[i] else j for j in B2]\n",
    "AA = [A[k] ** 2 for k in range(len(A))]\n",
    "AB1 = [A[k] * B1[k] for k in range(len(A))]\n",
    "AB2 = [A[k] * B2[k] for k in range(len(A))]\n",
    "AAB1 = [AA[k] * B1[k] for k in range(len(A))]\n",
    "AAB2 = [AA[k] * B2[k] for k in range(len(A))]\n",
    "df = pd.DataFrame(A, columns = ['A'])\n",
    "df['B1'] = B1\n",
    "df['B2'] = B2\n",
    "df['AA'] = AA\n",
    "df['AB1'] = AB1\n",
    "df['AB2'] = AB2\n",
    "df['AAB1'] = AAB1\n",
    "df['AAB2'] = AAB2\n",
    "df['LightOutput'] = data[:,2]\n",
    "print(df.head())\n",
    "\n",
    "#train the model\n",
    "model = ols('LightOutput ~ A + B1 + B2 + AA + AB1 + AB2 + AAB1 + AAB2',df).fit()\n",
    "param = model.params\n",
    "model.summary()"
   ]
  },
  {
   "cell_type": "markdown",
   "metadata": {},
   "source": [
    "$LightOutput = +1059.00-314.44 *A-28.33 *B[1]-24.00 *B[2]-178.22 *A^2+92.22 *AB[1]-65.56 *AB[2]+70.22 *A^2B[1]-76.22A^2B[2]$"
   ]
  },
  {
   "cell_type": "markdown",
   "metadata": {},
   "source": [
    "模型的分组"
   ]
  },
  {
   "cell_type": "code",
   "execution_count": 20,
   "metadata": {},
   "outputs": [
    {
     "data": {
      "text/plain": [
       "<matplotlib.legend.Legend at 0x2130591e670>"
      ]
     },
     "execution_count": 20,
     "metadata": {},
     "output_type": "execute_result"
    },
    {
     "data": {
      "image/png": "[encoded data removed]",
      "text/plain": [
       "<Figure size 432x288 with 1 Axes>"
      ]
     },
     "metadata": {
      "needs_background": "light"
     },
     "output_type": "display_data"
    }
   ],
   "source": [
    "# 拟合响应曲线\n",
    "temp = np.linspace(-1, 1)\n",
    "\n",
    "# 玻璃类型示性变量取分组对应的值\n",
    "LightOutput_type1 = param[0] + param[1] * temp + param[2] * list_B1[0] + param[3] * list_B2[0] + param[4] * (temp ** 2) + param[5] * temp * list_B1[0] + param[6] * temp * list_B2[0] + param[7] * (temp ** 2) * list_B1[0] + param[8] * (temp ** 2) * list_B2[0]\n",
    "LightOutput_type2 = param[0] + param[1] * temp + param[2] * list_B1[1] + param[3] * list_B2[1] + param[4] * (temp ** 2) + param[5] * temp * list_B1[1] + param[6] * temp * list_B2[1] + param[7] * (temp ** 2) * list_B1[1] + param[8] * (temp ** 2) * list_B2[1]\n",
    "LightOutput_type3 = param[0] + param[1] * temp + param[2] * list_B1[2] + param[3] * list_B2[2] + param[4] * (temp ** 2) + param[5] * temp * list_B1[2] + param[6] * temp * list_B2[2] + param[7] * (temp ** 2) * list_B1[2] + param[8] * (temp ** 2) * list_B2[2]\n",
    "\n",
    "c1 = pd.Series(LightOutput_type1, index = temp, name = 'type1')\n",
    "c2 = pd.Series(LightOutput_type2, index = temp, name = 'type2')\n",
    "c3 = pd.Series(LightOutput_type3, index = temp, name = 'type3')\n",
    "df = pd.concat([c1, c2, c3], axis = 1)\n",
    "\n",
    "plt.plot(df.iloc[:,0], color = 'red', label = 'type1')\n",
    "plt.plot(df.iloc[:,1], color = 'green', label = 'type2')\n",
    "plt.plot(df.iloc[:,2], label = 'type3')\n",
    "plt.xlabel('Temperature Level')\n",
    "plt.ylabel('LightOutput Prediction')\n",
    "plt.legend(['type1', 'type2', 'type3'])\n"
   ]
  },
  {
   "cell_type": "code",
   "execution_count": 21,
   "metadata": {},
   "outputs": [
    {
     "name": "stdout",
     "output_type": "stream",
     "text": [
      "1087.3333333333346\n",
      "406.66666666666663\n",
      "-107.99999999999878\n",
      "1034.9999999999986\n",
      "380.0000000000001\n",
      "-102.00000000000165\n",
      "1054.6666666666667\n",
      "156.66666666666657\n",
      "-324.66666666666634\n"
     ]
    }
   ],
   "source": [
    "#玻璃类型1\n",
    "print(param[0]  + param[2] * list_B1[0] + param[3] * list_B2[0])\n",
    "print(param[1]+ param[5] * list_B1[0] + param[6] * list_B2[0])\n",
    "print(param[7] * list_B1[0] + param[8] * list_B2[0]+ param[4])\n",
    "#玻璃类型2\n",
    "print(param[0]  + param[2] * list_B1[1] + param[3] * list_B2[1])\n",
    "print(param[1]+ param[5] * list_B1[1] + param[6] * list_B2[1])\n",
    "print(param[7] * list_B1[1] + param[8] * list_B2[1]+ param[4])\n",
    "#玻璃类型3\n",
    "print(param[0]  + param[2] * list_B1[2] + param[3] * list_B2[2])\n",
    "print(param[1]+ param[5] * list_B1[2] + param[6] * list_B2[2])\n",
    "print(param[7] * list_B1[2] + param[8] * list_B2[2]+ param[4])"
   ]
  },
  {
   "cell_type": "markdown",
   "metadata": {},
   "source": [
    "玻璃类型为 1：  \n",
    "$y = 1087.33 + 406.67 ∗ TempLevel − 108.00 ∗ TempLevel^2 $  \n",
    "玻璃类型为 2：  \n",
    "$y = 1035.00 + 380.00 ∗ TempLevel − 102.00 ∗ TempLevel^2$  \n",
    "玻璃类型为 3：  \n",
    "$y = 1054.67 + 156.67 ∗ TempLevel − 324.67 ∗ TempLevel^2$  \n",
    "\n",
    "上图为这 3 个预测公式声称的响应曲线。"
   ]
  }
 ],
 "metadata": {
  "kernelspec": {
   "display_name": "Python 3",
   "language": "python",
   "name": "python3"
  },
  "language_info": {
   "codemirror_mode": {
    "name": "ipython",
    "version": 3
   },
   "file_extension": ".py",
   "mimetype": "text/x-python",
   "name": "python",
   "nbconvert_exporter": "python",
   "pygments_lexer": "ipython3",
   "version": "3.8.5"
  }
 },
 "nbformat": 4,
 "nbformat_minor": 4
}
